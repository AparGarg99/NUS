{
 "cells": [
  {
   "cell_type": "markdown",
   "metadata": {
    "id": "mHMK9S-5Xx5E"
   },
   "source": [
    "* Entities - names of products, services, individuals, events, \n",
    "and organizations\n",
    "* Aspects – the attributes and components of entities\n",
    "\n",
    "Example - The iPhone’s call quality is good, but its battery life is short\n",
    "1. Entities = iPhone\n",
    "2. Aspects = call quality, battery life\n",
    "3. Opinion = good, short"
   ]
  },
  {
   "cell_type": "markdown",
   "metadata": {
    "id": "MbnlShxUVq7l"
   },
   "source": [
    "3 Techniques to get aspects and opinions:\n",
    "\n",
    "1. By finding frequent nouns and noun phrases.\n",
    "2. By exploiting syntactic relations.\n",
    "3. Using supervised learning."
   ]
  },
  {
   "cell_type": "markdown",
   "metadata": {
    "id": "P5Z7oYC23nFh"
   },
   "source": [
    "## Import Libraries"
   ]
  },
  {
   "cell_type": "code",
   "execution_count": null,
   "metadata": {
    "colab": {
     "base_uri": "https://localhost:8080/"
    },
    "id": "e1EZ4ZiW3jfB",
    "outputId": "0103ccc9-9695-4b3e-ad3c-44b91620749c"
   },
   "outputs": [
    {
     "name": "stdout",
     "output_type": "stream",
     "text": [
      "Requirement already satisfied: vaderSentiment in /usr/local/lib/python3.7/dist-packages (3.3.2)\n",
      "Requirement already satisfied: requests in /usr/local/lib/python3.7/dist-packages (from vaderSentiment) (2.23.0)\n",
      "Requirement already satisfied: urllib3!=1.25.0,!=1.25.1,<1.26,>=1.21.1 in /usr/local/lib/python3.7/dist-packages (from requests->vaderSentiment) (1.24.3)\n",
      "Requirement already satisfied: chardet<4,>=3.0.2 in /usr/local/lib/python3.7/dist-packages (from requests->vaderSentiment) (3.0.4)\n",
      "Requirement already satisfied: idna<3,>=2.5 in /usr/local/lib/python3.7/dist-packages (from requests->vaderSentiment) (2.10)\n",
      "Requirement already satisfied: certifi>=2017.4.17 in /usr/local/lib/python3.7/dist-packages (from requests->vaderSentiment) (2021.10.8)\n",
      "Requirement already satisfied: squarify in /usr/local/lib/python3.7/dist-packages (0.4.3)\n"
     ]
    }
   ],
   "source": [
    "!pip install vaderSentiment\n",
    "!pip install squarify"
   ]
  },
  {
   "cell_type": "code",
   "execution_count": null,
   "metadata": {
    "id": "XN_8j-nEXx5O"
   },
   "outputs": [],
   "source": [
    "import spacy\n",
    "import numpy as np\n",
    "from spacy import displacy\n",
    "import pickle as pk\n",
    "from os import getcwd\n",
    "import pandas as pd\n",
    "import json\n",
    "from vaderSentiment.vaderSentiment import SentimentIntensityAnalyzer\n",
    "import squarify\n",
    "import matplotlib\n",
    "import matplotlib.pyplot as plt\n",
    "import pandas as pd\n",
    "from collections import Counter\n",
    "import operator"
   ]
  },
  {
   "cell_type": "markdown",
   "metadata": {
    "id": "KvUGK_5oXx5R"
   },
   "source": [
    "## Technique 1 - By exploiting syntactic relations\n",
    "\n",
    "These sample reviews were extracted from Yelp for a Chinese restaurant (only 21 of them for illustration)."
   ]
  },
  {
   "cell_type": "code",
   "execution_count": null,
   "metadata": {
    "colab": {
     "base_uri": "https://localhost:8080/",
     "height": 708
    },
    "id": "QJZNvFjDXx5S",
    "outputId": "5b5dcf3e-8d9b-4494-a33e-7de5bf1ff749"
   },
   "outputs": [
    {
     "data": {
      "text/html": [
       "\n",
       "  <div id=\"df-ea9d1050-421c-4176-af9d-b9253d4ceda9\">\n",
       "    <div class=\"colab-df-container\">\n",
       "      <div>\n",
       "<style scoped>\n",
       "    .dataframe tbody tr th:only-of-type {\n",
       "        vertical-align: middle;\n",
       "    }\n",
       "\n",
       "    .dataframe tbody tr th {\n",
       "        vertical-align: top;\n",
       "    }\n",
       "\n",
       "    .dataframe thead th {\n",
       "        text-align: right;\n",
       "    }\n",
       "</style>\n",
       "<table border=\"1\" class=\"dataframe\">\n",
       "  <thead>\n",
       "    <tr style=\"text-align: right;\">\n",
       "      <th></th>\n",
       "      <th>reviews</th>\n",
       "    </tr>\n",
       "  </thead>\n",
       "  <tbody>\n",
       "    <tr>\n",
       "      <th>0</th>\n",
       "      <td>I love this place. I visit this place (or one ...</td>\n",
       "    </tr>\n",
       "    <tr>\n",
       "      <th>1</th>\n",
       "      <td>Must try: xiao long bao, chili crab bun, fried...</td>\n",
       "    </tr>\n",
       "    <tr>\n",
       "      <th>2</th>\n",
       "      <td>Highly recommend trying the chili sauce also. ...</td>\n",
       "    </tr>\n",
       "    <tr>\n",
       "      <th>3</th>\n",
       "      <td>For those who are not familiar with asian food...</td>\n",
       "    </tr>\n",
       "    <tr>\n",
       "      <th>4</th>\n",
       "      <td>This Din Tai Fung is located on the 4th floor ...</td>\n",
       "    </tr>\n",
       "    <tr>\n",
       "      <th>5</th>\n",
       "      <td>The staff at the entrance gave me a number and...</td>\n",
       "    </tr>\n",
       "    <tr>\n",
       "      <th>6</th>\n",
       "      <td>Staffs were all friendly and attentive. I like...</td>\n",
       "    </tr>\n",
       "    <tr>\n",
       "      <th>7</th>\n",
       "      <td>FOOD 4/5 The legendary xiao long bao (steamed ...</td>\n",
       "    </tr>\n",
       "    <tr>\n",
       "      <th>8</th>\n",
       "      <td>AMBIENCE 3/5 It was noisy but I did not expect...</td>\n",
       "    </tr>\n",
       "    <tr>\n",
       "      <th>9</th>\n",
       "      <td>STAFFS 5/5 Staffs were attentive, helpful and ...</td>\n",
       "    </tr>\n",
       "    <tr>\n",
       "      <th>10</th>\n",
       "      <td>Andrew and I always wondered how Din Tai Fung ...</td>\n",
       "    </tr>\n",
       "    <tr>\n",
       "      <th>11</th>\n",
       "      <td>Two things that we always ordered in Din Tai F...</td>\n",
       "    </tr>\n",
       "    <tr>\n",
       "      <th>12</th>\n",
       "      <td>The shao mai was also always very delicious wi...</td>\n",
       "    </tr>\n",
       "    <tr>\n",
       "      <th>13</th>\n",
       "      <td>Delicious dumplings and vegetable dishes. Not ...</td>\n",
       "    </tr>\n",
       "    <tr>\n",
       "      <th>14</th>\n",
       "      <td>Love love love DTF. Go out of my way to visit ...</td>\n",
       "    </tr>\n",
       "    <tr>\n",
       "      <th>15</th>\n",
       "      <td>Very good food and efficient service. I came h...</td>\n",
       "    </tr>\n",
       "    <tr>\n",
       "      <th>16</th>\n",
       "      <td>Gah!  The taro buns from this place still haun...</td>\n",
       "    </tr>\n",
       "    <tr>\n",
       "      <th>17</th>\n",
       "      <td>Couldn't decide what to eat, and stumbled on D...</td>\n",
       "    </tr>\n",
       "    <tr>\n",
       "      <th>18</th>\n",
       "      <td>The dumplings are small and succulent.  The dr...</td>\n",
       "    </tr>\n",
       "    <tr>\n",
       "      <th>19</th>\n",
       "      <td>The food tastes really good, but the price is ...</td>\n",
       "    </tr>\n",
       "    <tr>\n",
       "      <th>20</th>\n",
       "      <td>Fantastic location and food. I heard you have ...</td>\n",
       "    </tr>\n",
       "  </tbody>\n",
       "</table>\n",
       "</div>\n",
       "      <button class=\"colab-df-convert\" onclick=\"convertToInteractive('df-ea9d1050-421c-4176-af9d-b9253d4ceda9')\"\n",
       "              title=\"Convert this dataframe to an interactive table.\"\n",
       "              style=\"display:none;\">\n",
       "        \n",
       "  <svg xmlns=\"http://www.w3.org/2000/svg\" height=\"24px\"viewBox=\"0 0 24 24\"\n",
       "       width=\"24px\">\n",
       "    <path d=\"M0 0h24v24H0V0z\" fill=\"none\"/>\n",
       "    <path d=\"M18.56 5.44l.94 2.06.94-2.06 2.06-.94-2.06-.94-.94-2.06-.94 2.06-2.06.94zm-11 1L8.5 8.5l.94-2.06 2.06-.94-2.06-.94L8.5 2.5l-.94 2.06-2.06.94zm10 10l.94 2.06.94-2.06 2.06-.94-2.06-.94-.94-2.06-.94 2.06-2.06.94z\"/><path d=\"M17.41 7.96l-1.37-1.37c-.4-.4-.92-.59-1.43-.59-.52 0-1.04.2-1.43.59L10.3 9.45l-7.72 7.72c-.78.78-.78 2.05 0 2.83L4 21.41c.39.39.9.59 1.41.59.51 0 1.02-.2 1.41-.59l7.78-7.78 2.81-2.81c.8-.78.8-2.07 0-2.86zM5.41 20L4 18.59l7.72-7.72 1.47 1.35L5.41 20z\"/>\n",
       "  </svg>\n",
       "      </button>\n",
       "      \n",
       "  <style>\n",
       "    .colab-df-container {\n",
       "      display:flex;\n",
       "      flex-wrap:wrap;\n",
       "      gap: 12px;\n",
       "    }\n",
       "\n",
       "    .colab-df-convert {\n",
       "      background-color: #E8F0FE;\n",
       "      border: none;\n",
       "      border-radius: 50%;\n",
       "      cursor: pointer;\n",
       "      display: none;\n",
       "      fill: #1967D2;\n",
       "      height: 32px;\n",
       "      padding: 0 0 0 0;\n",
       "      width: 32px;\n",
       "    }\n",
       "\n",
       "    .colab-df-convert:hover {\n",
       "      background-color: #E2EBFA;\n",
       "      box-shadow: 0px 1px 2px rgba(60, 64, 67, 0.3), 0px 1px 3px 1px rgba(60, 64, 67, 0.15);\n",
       "      fill: #174EA6;\n",
       "    }\n",
       "\n",
       "    [theme=dark] .colab-df-convert {\n",
       "      background-color: #3B4455;\n",
       "      fill: #D2E3FC;\n",
       "    }\n",
       "\n",
       "    [theme=dark] .colab-df-convert:hover {\n",
       "      background-color: #434B5C;\n",
       "      box-shadow: 0px 1px 3px 1px rgba(0, 0, 0, 0.15);\n",
       "      filter: drop-shadow(0px 1px 2px rgba(0, 0, 0, 0.3));\n",
       "      fill: #FFFFFF;\n",
       "    }\n",
       "  </style>\n",
       "\n",
       "      <script>\n",
       "        const buttonEl =\n",
       "          document.querySelector('#df-ea9d1050-421c-4176-af9d-b9253d4ceda9 button.colab-df-convert');\n",
       "        buttonEl.style.display =\n",
       "          google.colab.kernel.accessAllowed ? 'block' : 'none';\n",
       "\n",
       "        async function convertToInteractive(key) {\n",
       "          const element = document.querySelector('#df-ea9d1050-421c-4176-af9d-b9253d4ceda9');\n",
       "          const dataTable =\n",
       "            await google.colab.kernel.invokeFunction('convertToInteractive',\n",
       "                                                     [key], {});\n",
       "          if (!dataTable) return;\n",
       "\n",
       "          const docLinkHtml = 'Like what you see? Visit the ' +\n",
       "            '<a target=\"_blank\" href=https://colab.research.google.com/notebooks/data_table.ipynb>data table notebook</a>'\n",
       "            + ' to learn more about interactive tables.';\n",
       "          element.innerHTML = '';\n",
       "          dataTable['output_type'] = 'display_data';\n",
       "          await google.colab.output.renderOutput(dataTable, element);\n",
       "          const docLink = document.createElement('div');\n",
       "          docLink.innerHTML = docLinkHtml;\n",
       "          element.appendChild(docLink);\n",
       "        }\n",
       "      </script>\n",
       "    </div>\n",
       "  </div>\n",
       "  "
      ],
      "text/plain": [
       "                                              reviews\n",
       "0   I love this place. I visit this place (or one ...\n",
       "1   Must try: xiao long bao, chili crab bun, fried...\n",
       "2   Highly recommend trying the chili sauce also. ...\n",
       "3   For those who are not familiar with asian food...\n",
       "4   This Din Tai Fung is located on the 4th floor ...\n",
       "5   The staff at the entrance gave me a number and...\n",
       "6   Staffs were all friendly and attentive. I like...\n",
       "7   FOOD 4/5 The legendary xiao long bao (steamed ...\n",
       "8   AMBIENCE 3/5 It was noisy but I did not expect...\n",
       "9   STAFFS 5/5 Staffs were attentive, helpful and ...\n",
       "10  Andrew and I always wondered how Din Tai Fung ...\n",
       "11  Two things that we always ordered in Din Tai F...\n",
       "12  The shao mai was also always very delicious wi...\n",
       "13  Delicious dumplings and vegetable dishes. Not ...\n",
       "14  Love love love DTF. Go out of my way to visit ...\n",
       "15  Very good food and efficient service. I came h...\n",
       "16  Gah!  The taro buns from this place still haun...\n",
       "17  Couldn't decide what to eat, and stumbled on D...\n",
       "18  The dumplings are small and succulent.  The dr...\n",
       "19  The food tastes really good, but the price is ...\n",
       "20  Fantastic location and food. I heard you have ..."
      ]
     },
     "execution_count": 3,
     "metadata": {},
     "output_type": "execute_result"
    }
   ],
   "source": [
    "# replace the file path with one appropriate for your drive\n",
    "df_reviews = pd.read_csv('Reviews_DTF.txt', sep = '\\t', names=[\"reviews\"])\n",
    "df_reviews"
   ]
  },
  {
   "cell_type": "code",
   "execution_count": null,
   "metadata": {
    "id": "DKHxFsKXXx5U"
   },
   "outputs": [],
   "source": [
    "# !python -m spacy download en_core_web_sm\n",
    "nlp = spacy.load('en_core_web_sm')"
   ]
  },
  {
   "cell_type": "code",
   "execution_count": null,
   "metadata": {
    "colab": {
     "base_uri": "https://localhost:8080/"
    },
    "id": "5JXrhYJa4G_r",
    "outputId": "327dfe30-5d54-45fb-9984-04790ce30a35"
   },
   "outputs": [
    {
     "name": "stdout",
     "output_type": "stream",
     "text": [
      "I love this place. I visit this place (or one of the other din tai fung outlets) at least once a month. \n",
      "Sentence 1: I love this place.\n",
      "Sentence 2: I visit this place (or one of the other din tai fung outlets) at least once a month.\n"
     ]
    }
   ],
   "source": [
    "# let's pick a review\n",
    "eg=0\n",
    "print(df_reviews[\"reviews\"][eg])\n",
    "\n",
    "# process it using spacy\n",
    "doc = nlp(df_reviews[\"reviews\"][eg])\n",
    "for idno, sentence in enumerate(doc.sents):\n",
    "  print('Sentence {}:'.format(idno + 1), sentence)"
   ]
  },
  {
   "cell_type": "markdown",
   "metadata": {
    "id": "lAeJ1KLTpNum"
   },
   "source": [
    "A review has one or more sentences. It's often assumed that a sentence has one target and one sentiment, but it's not always like that.\n",
    "Let's take look at the dependency information sentence by sentence."
   ]
  },
  {
   "cell_type": "code",
   "execution_count": null,
   "metadata": {
    "colab": {
     "base_uri": "https://localhost:8080/"
    },
    "id": "Ls0OcEnGXx5U",
    "outputId": "8ea4c795-9ba8-4ff9-cf2d-bc3c456111dc"
   },
   "outputs": [
    {
     "name": "stdout",
     "output_type": "stream",
     "text": [
      "****************************************************************************************************\n",
      "I -- nsubj -- love VERB []\n",
      "love -- ROOT -- love VERB [I, place, .]\n",
      "this -- det -- place NOUN []\n",
      "place -- dobj -- love VERB [this]\n",
      ". -- punct -- love VERB []\n",
      "****************************************************************************************************\n",
      "I -- nsubj -- visit VERB []\n",
      "visit -- ROOT -- visit VERB [I, place, once, .]\n",
      "this -- det -- place NOUN []\n",
      "place -- dobj -- visit VERB [this, (, or, one]\n",
      "( -- punct -- place NOUN []\n",
      "or -- cc -- place NOUN []\n",
      "one -- conj -- place NOUN [of, )]\n",
      "of -- prep -- one NUM [din]\n",
      "the -- det -- din NOUN []\n",
      "other -- amod -- din NOUN []\n",
      "din -- pobj -- of ADP [the, other, outlets]\n",
      "tai -- compound -- outlets NOUN []\n",
      "fung -- compound -- outlets NOUN []\n",
      "outlets -- appos -- din NOUN [tai, fung]\n",
      ") -- punct -- one NUM []\n",
      "at -- advmod -- least ADJ []\n",
      "least -- advmod -- once ADV [at]\n",
      "once -- advmod -- visit VERB [least, month]\n",
      "a -- det -- month NOUN []\n",
      "month -- npadvmod -- once ADV [a]\n",
      ". -- punct -- visit VERB []\n"
     ]
    }
   ],
   "source": [
    "# ROOT is usually associated to key verb in the sentence.\n",
    "# \"I -- nsubj -- love VERB\" means I is the noun subject of verb love.\n",
    "# We are interested in nsubj,obj,iobj,nmod,amod dependencies to get the aspect and opinion.\n",
    "\n",
    "for sent in doc.sents:\n",
    "  print (\"*\"*100)\n",
    "  for token in sent:\n",
    "    print(token.text, '--', # token (also called dependent)\n",
    "          token.dep_, '--', # dependency of token with head\n",
    "          token.head.text,  # head (also called governor)\n",
    "          token.head.pos_,  # POS of head\n",
    "          [child for child in token.children]) # if given token is itself the head of other tokens, those other tokens are considered children"
   ]
  },
  {
   "cell_type": "code",
   "execution_count": null,
   "metadata": {
    "colab": {
     "base_uri": "https://localhost:8080/",
     "height": 559
    },
    "id": "7sHoteu6Xx5W",
    "outputId": "b3133f04-f7d1-4700-c98e-f694664786f6"
   },
   "outputs": [
    {
     "data": {
      "text/html": [
       "<span class=\"tex2jax_ignore\"><svg xmlns=\"http://www.w3.org/2000/svg\" xmlns:xlink=\"http://www.w3.org/1999/xlink\" xml:lang=\"en\" id=\"fab4bd20d295409898189ef442913f5c-0\" class=\"displacy\" width=\"370\" height=\"217.0\" direction=\"ltr\" style=\"max-width: none; height: 217.0px; color: #000000; background: #ffffff; font-family: Arial; direction: ltr\">\n",
       "<text class=\"displacy-token\" fill=\"currentColor\" text-anchor=\"middle\" y=\"127.0\">\n",
       "    <tspan class=\"displacy-word\" fill=\"currentColor\" x=\"50\">I</tspan>\n",
       "    <tspan class=\"displacy-tag\" dy=\"2em\" fill=\"currentColor\" x=\"50\">PRON</tspan>\n",
       "</text>\n",
       "\n",
       "<text class=\"displacy-token\" fill=\"currentColor\" text-anchor=\"middle\" y=\"127.0\">\n",
       "    <tspan class=\"displacy-word\" fill=\"currentColor\" x=\"130\">love</tspan>\n",
       "    <tspan class=\"displacy-tag\" dy=\"2em\" fill=\"currentColor\" x=\"130\">VERB</tspan>\n",
       "</text>\n",
       "\n",
       "<text class=\"displacy-token\" fill=\"currentColor\" text-anchor=\"middle\" y=\"127.0\">\n",
       "    <tspan class=\"displacy-word\" fill=\"currentColor\" x=\"210\">this</tspan>\n",
       "    <tspan class=\"displacy-tag\" dy=\"2em\" fill=\"currentColor\" x=\"210\">DET</tspan>\n",
       "</text>\n",
       "\n",
       "<text class=\"displacy-token\" fill=\"currentColor\" text-anchor=\"middle\" y=\"127.0\">\n",
       "    <tspan class=\"displacy-word\" fill=\"currentColor\" x=\"290\">place.</tspan>\n",
       "    <tspan class=\"displacy-tag\" dy=\"2em\" fill=\"currentColor\" x=\"290\">NOUN</tspan>\n",
       "</text>\n",
       "\n",
       "<g class=\"displacy-arrow\">\n",
       "    <path class=\"displacy-arc\" id=\"arrow-fab4bd20d295409898189ef442913f5c-0-0\" stroke-width=\"2px\" d=\"M70,82.0 C70,42.0 125.0,42.0 125.0,82.0\" fill=\"none\" stroke=\"currentColor\"/>\n",
       "    <text dy=\"1.25em\" style=\"font-size: 0.8em; letter-spacing: 1px\">\n",
       "        <textPath xlink:href=\"#arrow-fab4bd20d295409898189ef442913f5c-0-0\" class=\"displacy-label\" startOffset=\"50%\" side=\"left\" fill=\"currentColor\" text-anchor=\"middle\">nsubj</textPath>\n",
       "    </text>\n",
       "    <path class=\"displacy-arrowhead\" d=\"M70,84.0 L62,72.0 78,72.0\" fill=\"currentColor\"/>\n",
       "</g>\n",
       "\n",
       "<g class=\"displacy-arrow\">\n",
       "    <path class=\"displacy-arc\" id=\"arrow-fab4bd20d295409898189ef442913f5c-0-1\" stroke-width=\"2px\" d=\"M230,82.0 C230,42.0 285.0,42.0 285.0,82.0\" fill=\"none\" stroke=\"currentColor\"/>\n",
       "    <text dy=\"1.25em\" style=\"font-size: 0.8em; letter-spacing: 1px\">\n",
       "        <textPath xlink:href=\"#arrow-fab4bd20d295409898189ef442913f5c-0-1\" class=\"displacy-label\" startOffset=\"50%\" side=\"left\" fill=\"currentColor\" text-anchor=\"middle\">det</textPath>\n",
       "    </text>\n",
       "    <path class=\"displacy-arrowhead\" d=\"M230,84.0 L222,72.0 238,72.0\" fill=\"currentColor\"/>\n",
       "</g>\n",
       "\n",
       "<g class=\"displacy-arrow\">\n",
       "    <path class=\"displacy-arc\" id=\"arrow-fab4bd20d295409898189ef442913f5c-0-2\" stroke-width=\"2px\" d=\"M150,82.0 C150,2.0 290.0,2.0 290.0,82.0\" fill=\"none\" stroke=\"currentColor\"/>\n",
       "    <text dy=\"1.25em\" style=\"font-size: 0.8em; letter-spacing: 1px\">\n",
       "        <textPath xlink:href=\"#arrow-fab4bd20d295409898189ef442913f5c-0-2\" class=\"displacy-label\" startOffset=\"50%\" side=\"left\" fill=\"currentColor\" text-anchor=\"middle\">dobj</textPath>\n",
       "    </text>\n",
       "    <path class=\"displacy-arrowhead\" d=\"M290.0,84.0 L298.0,72.0 282.0,72.0\" fill=\"currentColor\"/>\n",
       "</g>\n",
       "</svg>\n",
       "\n",
       "<svg xmlns=\"http://www.w3.org/2000/svg\" xmlns:xlink=\"http://www.w3.org/1999/xlink\" xml:lang=\"en\" id=\"fab4bd20d295409898189ef442913f5c-1\" class=\"displacy\" width=\"1490\" height=\"297.0\" direction=\"ltr\" style=\"max-width: none; height: 297.0px; color: #000000; background: #ffffff; font-family: Arial; direction: ltr\">\n",
       "<text class=\"displacy-token\" fill=\"currentColor\" text-anchor=\"middle\" y=\"207.0\">\n",
       "    <tspan class=\"displacy-word\" fill=\"currentColor\" x=\"50\">I</tspan>\n",
       "    <tspan class=\"displacy-tag\" dy=\"2em\" fill=\"currentColor\" x=\"50\">PRON</tspan>\n",
       "</text>\n",
       "\n",
       "<text class=\"displacy-token\" fill=\"currentColor\" text-anchor=\"middle\" y=\"207.0\">\n",
       "    <tspan class=\"displacy-word\" fill=\"currentColor\" x=\"130\">visit</tspan>\n",
       "    <tspan class=\"displacy-tag\" dy=\"2em\" fill=\"currentColor\" x=\"130\">VERB</tspan>\n",
       "</text>\n",
       "\n",
       "<text class=\"displacy-token\" fill=\"currentColor\" text-anchor=\"middle\" y=\"207.0\">\n",
       "    <tspan class=\"displacy-word\" fill=\"currentColor\" x=\"210\">this</tspan>\n",
       "    <tspan class=\"displacy-tag\" dy=\"2em\" fill=\"currentColor\" x=\"210\">DET</tspan>\n",
       "</text>\n",
       "\n",
       "<text class=\"displacy-token\" fill=\"currentColor\" text-anchor=\"middle\" y=\"207.0\">\n",
       "    <tspan class=\"displacy-word\" fill=\"currentColor\" x=\"290\">place (</tspan>\n",
       "    <tspan class=\"displacy-tag\" dy=\"2em\" fill=\"currentColor\" x=\"290\">NOUN</tspan>\n",
       "</text>\n",
       "\n",
       "<text class=\"displacy-token\" fill=\"currentColor\" text-anchor=\"middle\" y=\"207.0\">\n",
       "    <tspan class=\"displacy-word\" fill=\"currentColor\" x=\"370\">or</tspan>\n",
       "    <tspan class=\"displacy-tag\" dy=\"2em\" fill=\"currentColor\" x=\"370\">CCONJ</tspan>\n",
       "</text>\n",
       "\n",
       "<text class=\"displacy-token\" fill=\"currentColor\" text-anchor=\"middle\" y=\"207.0\">\n",
       "    <tspan class=\"displacy-word\" fill=\"currentColor\" x=\"450\">one</tspan>\n",
       "    <tspan class=\"displacy-tag\" dy=\"2em\" fill=\"currentColor\" x=\"450\">NUM</tspan>\n",
       "</text>\n",
       "\n",
       "<text class=\"displacy-token\" fill=\"currentColor\" text-anchor=\"middle\" y=\"207.0\">\n",
       "    <tspan class=\"displacy-word\" fill=\"currentColor\" x=\"530\">of</tspan>\n",
       "    <tspan class=\"displacy-tag\" dy=\"2em\" fill=\"currentColor\" x=\"530\">ADP</tspan>\n",
       "</text>\n",
       "\n",
       "<text class=\"displacy-token\" fill=\"currentColor\" text-anchor=\"middle\" y=\"207.0\">\n",
       "    <tspan class=\"displacy-word\" fill=\"currentColor\" x=\"610\">the</tspan>\n",
       "    <tspan class=\"displacy-tag\" dy=\"2em\" fill=\"currentColor\" x=\"610\">DET</tspan>\n",
       "</text>\n",
       "\n",
       "<text class=\"displacy-token\" fill=\"currentColor\" text-anchor=\"middle\" y=\"207.0\">\n",
       "    <tspan class=\"displacy-word\" fill=\"currentColor\" x=\"690\">other</tspan>\n",
       "    <tspan class=\"displacy-tag\" dy=\"2em\" fill=\"currentColor\" x=\"690\">ADJ</tspan>\n",
       "</text>\n",
       "\n",
       "<text class=\"displacy-token\" fill=\"currentColor\" text-anchor=\"middle\" y=\"207.0\">\n",
       "    <tspan class=\"displacy-word\" fill=\"currentColor\" x=\"770\">din</tspan>\n",
       "    <tspan class=\"displacy-tag\" dy=\"2em\" fill=\"currentColor\" x=\"770\">NOUN</tspan>\n",
       "</text>\n",
       "\n",
       "<text class=\"displacy-token\" fill=\"currentColor\" text-anchor=\"middle\" y=\"207.0\">\n",
       "    <tspan class=\"displacy-word\" fill=\"currentColor\" x=\"850\">tai</tspan>\n",
       "    <tspan class=\"displacy-tag\" dy=\"2em\" fill=\"currentColor\" x=\"850\">DET</tspan>\n",
       "</text>\n",
       "\n",
       "<text class=\"displacy-token\" fill=\"currentColor\" text-anchor=\"middle\" y=\"207.0\">\n",
       "    <tspan class=\"displacy-word\" fill=\"currentColor\" x=\"930\">fung</tspan>\n",
       "    <tspan class=\"displacy-tag\" dy=\"2em\" fill=\"currentColor\" x=\"930\">NOUN</tspan>\n",
       "</text>\n",
       "\n",
       "<text class=\"displacy-token\" fill=\"currentColor\" text-anchor=\"middle\" y=\"207.0\">\n",
       "    <tspan class=\"displacy-word\" fill=\"currentColor\" x=\"1010\">outlets)</tspan>\n",
       "    <tspan class=\"displacy-tag\" dy=\"2em\" fill=\"currentColor\" x=\"1010\">NOUN</tspan>\n",
       "</text>\n",
       "\n",
       "<text class=\"displacy-token\" fill=\"currentColor\" text-anchor=\"middle\" y=\"207.0\">\n",
       "    <tspan class=\"displacy-word\" fill=\"currentColor\" x=\"1090\">at</tspan>\n",
       "    <tspan class=\"displacy-tag\" dy=\"2em\" fill=\"currentColor\" x=\"1090\">ADP</tspan>\n",
       "</text>\n",
       "\n",
       "<text class=\"displacy-token\" fill=\"currentColor\" text-anchor=\"middle\" y=\"207.0\">\n",
       "    <tspan class=\"displacy-word\" fill=\"currentColor\" x=\"1170\">least</tspan>\n",
       "    <tspan class=\"displacy-tag\" dy=\"2em\" fill=\"currentColor\" x=\"1170\">ADJ</tspan>\n",
       "</text>\n",
       "\n",
       "<text class=\"displacy-token\" fill=\"currentColor\" text-anchor=\"middle\" y=\"207.0\">\n",
       "    <tspan class=\"displacy-word\" fill=\"currentColor\" x=\"1250\">once</tspan>\n",
       "    <tspan class=\"displacy-tag\" dy=\"2em\" fill=\"currentColor\" x=\"1250\">ADV</tspan>\n",
       "</text>\n",
       "\n",
       "<text class=\"displacy-token\" fill=\"currentColor\" text-anchor=\"middle\" y=\"207.0\">\n",
       "    <tspan class=\"displacy-word\" fill=\"currentColor\" x=\"1330\">a</tspan>\n",
       "    <tspan class=\"displacy-tag\" dy=\"2em\" fill=\"currentColor\" x=\"1330\">DET</tspan>\n",
       "</text>\n",
       "\n",
       "<text class=\"displacy-token\" fill=\"currentColor\" text-anchor=\"middle\" y=\"207.0\">\n",
       "    <tspan class=\"displacy-word\" fill=\"currentColor\" x=\"1410\">month.</tspan>\n",
       "    <tspan class=\"displacy-tag\" dy=\"2em\" fill=\"currentColor\" x=\"1410\">NOUN</tspan>\n",
       "</text>\n",
       "\n",
       "<g class=\"displacy-arrow\">\n",
       "    <path class=\"displacy-arc\" id=\"arrow-fab4bd20d295409898189ef442913f5c-1-0\" stroke-width=\"2px\" d=\"M70,162.0 C70,122.0 115.0,122.0 115.0,162.0\" fill=\"none\" stroke=\"currentColor\"/>\n",
       "    <text dy=\"1.25em\" style=\"font-size: 0.8em; letter-spacing: 1px\">\n",
       "        <textPath xlink:href=\"#arrow-fab4bd20d295409898189ef442913f5c-1-0\" class=\"displacy-label\" startOffset=\"50%\" side=\"left\" fill=\"currentColor\" text-anchor=\"middle\">nsubj</textPath>\n",
       "    </text>\n",
       "    <path class=\"displacy-arrowhead\" d=\"M70,164.0 L62,152.0 78,152.0\" fill=\"currentColor\"/>\n",
       "</g>\n",
       "\n",
       "<g class=\"displacy-arrow\">\n",
       "    <path class=\"displacy-arc\" id=\"arrow-fab4bd20d295409898189ef442913f5c-1-1\" stroke-width=\"2px\" d=\"M230,162.0 C230,122.0 275.0,122.0 275.0,162.0\" fill=\"none\" stroke=\"currentColor\"/>\n",
       "    <text dy=\"1.25em\" style=\"font-size: 0.8em; letter-spacing: 1px\">\n",
       "        <textPath xlink:href=\"#arrow-fab4bd20d295409898189ef442913f5c-1-1\" class=\"displacy-label\" startOffset=\"50%\" side=\"left\" fill=\"currentColor\" text-anchor=\"middle\">det</textPath>\n",
       "    </text>\n",
       "    <path class=\"displacy-arrowhead\" d=\"M230,164.0 L222,152.0 238,152.0\" fill=\"currentColor\"/>\n",
       "</g>\n",
       "\n",
       "<g class=\"displacy-arrow\">\n",
       "    <path class=\"displacy-arc\" id=\"arrow-fab4bd20d295409898189ef442913f5c-1-2\" stroke-width=\"2px\" d=\"M150,162.0 C150,82.0 280.0,82.0 280.0,162.0\" fill=\"none\" stroke=\"currentColor\"/>\n",
       "    <text dy=\"1.25em\" style=\"font-size: 0.8em; letter-spacing: 1px\">\n",
       "        <textPath xlink:href=\"#arrow-fab4bd20d295409898189ef442913f5c-1-2\" class=\"displacy-label\" startOffset=\"50%\" side=\"left\" fill=\"currentColor\" text-anchor=\"middle\">dobj</textPath>\n",
       "    </text>\n",
       "    <path class=\"displacy-arrowhead\" d=\"M280.0,164.0 L288.0,152.0 272.0,152.0\" fill=\"currentColor\"/>\n",
       "</g>\n",
       "\n",
       "<g class=\"displacy-arrow\">\n",
       "    <path class=\"displacy-arc\" id=\"arrow-fab4bd20d295409898189ef442913f5c-1-3\" stroke-width=\"2px\" d=\"M310,162.0 C310,122.0 355.0,122.0 355.0,162.0\" fill=\"none\" stroke=\"currentColor\"/>\n",
       "    <text dy=\"1.25em\" style=\"font-size: 0.8em; letter-spacing: 1px\">\n",
       "        <textPath xlink:href=\"#arrow-fab4bd20d295409898189ef442913f5c-1-3\" class=\"displacy-label\" startOffset=\"50%\" side=\"left\" fill=\"currentColor\" text-anchor=\"middle\">cc</textPath>\n",
       "    </text>\n",
       "    <path class=\"displacy-arrowhead\" d=\"M355.0,164.0 L363.0,152.0 347.0,152.0\" fill=\"currentColor\"/>\n",
       "</g>\n",
       "\n",
       "<g class=\"displacy-arrow\">\n",
       "    <path class=\"displacy-arc\" id=\"arrow-fab4bd20d295409898189ef442913f5c-1-4\" stroke-width=\"2px\" d=\"M310,162.0 C310,82.0 440.0,82.0 440.0,162.0\" fill=\"none\" stroke=\"currentColor\"/>\n",
       "    <text dy=\"1.25em\" style=\"font-size: 0.8em; letter-spacing: 1px\">\n",
       "        <textPath xlink:href=\"#arrow-fab4bd20d295409898189ef442913f5c-1-4\" class=\"displacy-label\" startOffset=\"50%\" side=\"left\" fill=\"currentColor\" text-anchor=\"middle\">conj</textPath>\n",
       "    </text>\n",
       "    <path class=\"displacy-arrowhead\" d=\"M440.0,164.0 L448.0,152.0 432.0,152.0\" fill=\"currentColor\"/>\n",
       "</g>\n",
       "\n",
       "<g class=\"displacy-arrow\">\n",
       "    <path class=\"displacy-arc\" id=\"arrow-fab4bd20d295409898189ef442913f5c-1-5\" stroke-width=\"2px\" d=\"M470,162.0 C470,122.0 515.0,122.0 515.0,162.0\" fill=\"none\" stroke=\"currentColor\"/>\n",
       "    <text dy=\"1.25em\" style=\"font-size: 0.8em; letter-spacing: 1px\">\n",
       "        <textPath xlink:href=\"#arrow-fab4bd20d295409898189ef442913f5c-1-5\" class=\"displacy-label\" startOffset=\"50%\" side=\"left\" fill=\"currentColor\" text-anchor=\"middle\">prep</textPath>\n",
       "    </text>\n",
       "    <path class=\"displacy-arrowhead\" d=\"M515.0,164.0 L523.0,152.0 507.0,152.0\" fill=\"currentColor\"/>\n",
       "</g>\n",
       "\n",
       "<g class=\"displacy-arrow\">\n",
       "    <path class=\"displacy-arc\" id=\"arrow-fab4bd20d295409898189ef442913f5c-1-6\" stroke-width=\"2px\" d=\"M630,162.0 C630,82.0 760.0,82.0 760.0,162.0\" fill=\"none\" stroke=\"currentColor\"/>\n",
       "    <text dy=\"1.25em\" style=\"font-size: 0.8em; letter-spacing: 1px\">\n",
       "        <textPath xlink:href=\"#arrow-fab4bd20d295409898189ef442913f5c-1-6\" class=\"displacy-label\" startOffset=\"50%\" side=\"left\" fill=\"currentColor\" text-anchor=\"middle\">det</textPath>\n",
       "    </text>\n",
       "    <path class=\"displacy-arrowhead\" d=\"M630,164.0 L622,152.0 638,152.0\" fill=\"currentColor\"/>\n",
       "</g>\n",
       "\n",
       "<g class=\"displacy-arrow\">\n",
       "    <path class=\"displacy-arc\" id=\"arrow-fab4bd20d295409898189ef442913f5c-1-7\" stroke-width=\"2px\" d=\"M710,162.0 C710,122.0 755.0,122.0 755.0,162.0\" fill=\"none\" stroke=\"currentColor\"/>\n",
       "    <text dy=\"1.25em\" style=\"font-size: 0.8em; letter-spacing: 1px\">\n",
       "        <textPath xlink:href=\"#arrow-fab4bd20d295409898189ef442913f5c-1-7\" class=\"displacy-label\" startOffset=\"50%\" side=\"left\" fill=\"currentColor\" text-anchor=\"middle\">amod</textPath>\n",
       "    </text>\n",
       "    <path class=\"displacy-arrowhead\" d=\"M710,164.0 L702,152.0 718,152.0\" fill=\"currentColor\"/>\n",
       "</g>\n",
       "\n",
       "<g class=\"displacy-arrow\">\n",
       "    <path class=\"displacy-arc\" id=\"arrow-fab4bd20d295409898189ef442913f5c-1-8\" stroke-width=\"2px\" d=\"M550,162.0 C550,42.0 765.0,42.0 765.0,162.0\" fill=\"none\" stroke=\"currentColor\"/>\n",
       "    <text dy=\"1.25em\" style=\"font-size: 0.8em; letter-spacing: 1px\">\n",
       "        <textPath xlink:href=\"#arrow-fab4bd20d295409898189ef442913f5c-1-8\" class=\"displacy-label\" startOffset=\"50%\" side=\"left\" fill=\"currentColor\" text-anchor=\"middle\">pobj</textPath>\n",
       "    </text>\n",
       "    <path class=\"displacy-arrowhead\" d=\"M765.0,164.0 L773.0,152.0 757.0,152.0\" fill=\"currentColor\"/>\n",
       "</g>\n",
       "\n",
       "<g class=\"displacy-arrow\">\n",
       "    <path class=\"displacy-arc\" id=\"arrow-fab4bd20d295409898189ef442913f5c-1-9\" stroke-width=\"2px\" d=\"M870,162.0 C870,82.0 1000.0,82.0 1000.0,162.0\" fill=\"none\" stroke=\"currentColor\"/>\n",
       "    <text dy=\"1.25em\" style=\"font-size: 0.8em; letter-spacing: 1px\">\n",
       "        <textPath xlink:href=\"#arrow-fab4bd20d295409898189ef442913f5c-1-9\" class=\"displacy-label\" startOffset=\"50%\" side=\"left\" fill=\"currentColor\" text-anchor=\"middle\">compound</textPath>\n",
       "    </text>\n",
       "    <path class=\"displacy-arrowhead\" d=\"M870,164.0 L862,152.0 878,152.0\" fill=\"currentColor\"/>\n",
       "</g>\n",
       "\n",
       "<g class=\"displacy-arrow\">\n",
       "    <path class=\"displacy-arc\" id=\"arrow-fab4bd20d295409898189ef442913f5c-1-10\" stroke-width=\"2px\" d=\"M950,162.0 C950,122.0 995.0,122.0 995.0,162.0\" fill=\"none\" stroke=\"currentColor\"/>\n",
       "    <text dy=\"1.25em\" style=\"font-size: 0.8em; letter-spacing: 1px\">\n",
       "        <textPath xlink:href=\"#arrow-fab4bd20d295409898189ef442913f5c-1-10\" class=\"displacy-label\" startOffset=\"50%\" side=\"left\" fill=\"currentColor\" text-anchor=\"middle\">compound</textPath>\n",
       "    </text>\n",
       "    <path class=\"displacy-arrowhead\" d=\"M950,164.0 L942,152.0 958,152.0\" fill=\"currentColor\"/>\n",
       "</g>\n",
       "\n",
       "<g class=\"displacy-arrow\">\n",
       "    <path class=\"displacy-arc\" id=\"arrow-fab4bd20d295409898189ef442913f5c-1-11\" stroke-width=\"2px\" d=\"M790,162.0 C790,42.0 1005.0,42.0 1005.0,162.0\" fill=\"none\" stroke=\"currentColor\"/>\n",
       "    <text dy=\"1.25em\" style=\"font-size: 0.8em; letter-spacing: 1px\">\n",
       "        <textPath xlink:href=\"#arrow-fab4bd20d295409898189ef442913f5c-1-11\" class=\"displacy-label\" startOffset=\"50%\" side=\"left\" fill=\"currentColor\" text-anchor=\"middle\">appos</textPath>\n",
       "    </text>\n",
       "    <path class=\"displacy-arrowhead\" d=\"M1005.0,164.0 L1013.0,152.0 997.0,152.0\" fill=\"currentColor\"/>\n",
       "</g>\n",
       "\n",
       "<g class=\"displacy-arrow\">\n",
       "    <path class=\"displacy-arc\" id=\"arrow-fab4bd20d295409898189ef442913f5c-1-12\" stroke-width=\"2px\" d=\"M1110,162.0 C1110,122.0 1155.0,122.0 1155.0,162.0\" fill=\"none\" stroke=\"currentColor\"/>\n",
       "    <text dy=\"1.25em\" style=\"font-size: 0.8em; letter-spacing: 1px\">\n",
       "        <textPath xlink:href=\"#arrow-fab4bd20d295409898189ef442913f5c-1-12\" class=\"displacy-label\" startOffset=\"50%\" side=\"left\" fill=\"currentColor\" text-anchor=\"middle\">advmod</textPath>\n",
       "    </text>\n",
       "    <path class=\"displacy-arrowhead\" d=\"M1110,164.0 L1102,152.0 1118,152.0\" fill=\"currentColor\"/>\n",
       "</g>\n",
       "\n",
       "<g class=\"displacy-arrow\">\n",
       "    <path class=\"displacy-arc\" id=\"arrow-fab4bd20d295409898189ef442913f5c-1-13\" stroke-width=\"2px\" d=\"M1190,162.0 C1190,122.0 1235.0,122.0 1235.0,162.0\" fill=\"none\" stroke=\"currentColor\"/>\n",
       "    <text dy=\"1.25em\" style=\"font-size: 0.8em; letter-spacing: 1px\">\n",
       "        <textPath xlink:href=\"#arrow-fab4bd20d295409898189ef442913f5c-1-13\" class=\"displacy-label\" startOffset=\"50%\" side=\"left\" fill=\"currentColor\" text-anchor=\"middle\">advmod</textPath>\n",
       "    </text>\n",
       "    <path class=\"displacy-arrowhead\" d=\"M1190,164.0 L1182,152.0 1198,152.0\" fill=\"currentColor\"/>\n",
       "</g>\n",
       "\n",
       "<g class=\"displacy-arrow\">\n",
       "    <path class=\"displacy-arc\" id=\"arrow-fab4bd20d295409898189ef442913f5c-1-14\" stroke-width=\"2px\" d=\"M150,162.0 C150,2.0 1250.0,2.0 1250.0,162.0\" fill=\"none\" stroke=\"currentColor\"/>\n",
       "    <text dy=\"1.25em\" style=\"font-size: 0.8em; letter-spacing: 1px\">\n",
       "        <textPath xlink:href=\"#arrow-fab4bd20d295409898189ef442913f5c-1-14\" class=\"displacy-label\" startOffset=\"50%\" side=\"left\" fill=\"currentColor\" text-anchor=\"middle\">advmod</textPath>\n",
       "    </text>\n",
       "    <path class=\"displacy-arrowhead\" d=\"M1250.0,164.0 L1258.0,152.0 1242.0,152.0\" fill=\"currentColor\"/>\n",
       "</g>\n",
       "\n",
       "<g class=\"displacy-arrow\">\n",
       "    <path class=\"displacy-arc\" id=\"arrow-fab4bd20d295409898189ef442913f5c-1-15\" stroke-width=\"2px\" d=\"M1350,162.0 C1350,122.0 1395.0,122.0 1395.0,162.0\" fill=\"none\" stroke=\"currentColor\"/>\n",
       "    <text dy=\"1.25em\" style=\"font-size: 0.8em; letter-spacing: 1px\">\n",
       "        <textPath xlink:href=\"#arrow-fab4bd20d295409898189ef442913f5c-1-15\" class=\"displacy-label\" startOffset=\"50%\" side=\"left\" fill=\"currentColor\" text-anchor=\"middle\">det</textPath>\n",
       "    </text>\n",
       "    <path class=\"displacy-arrowhead\" d=\"M1350,164.0 L1342,152.0 1358,152.0\" fill=\"currentColor\"/>\n",
       "</g>\n",
       "\n",
       "<g class=\"displacy-arrow\">\n",
       "    <path class=\"displacy-arc\" id=\"arrow-fab4bd20d295409898189ef442913f5c-1-16\" stroke-width=\"2px\" d=\"M1270,162.0 C1270,82.0 1400.0,82.0 1400.0,162.0\" fill=\"none\" stroke=\"currentColor\"/>\n",
       "    <text dy=\"1.25em\" style=\"font-size: 0.8em; letter-spacing: 1px\">\n",
       "        <textPath xlink:href=\"#arrow-fab4bd20d295409898189ef442913f5c-1-16\" class=\"displacy-label\" startOffset=\"50%\" side=\"left\" fill=\"currentColor\" text-anchor=\"middle\">npadvmod</textPath>\n",
       "    </text>\n",
       "    <path class=\"displacy-arrowhead\" d=\"M1400.0,164.0 L1408.0,152.0 1392.0,152.0\" fill=\"currentColor\"/>\n",
       "</g>\n",
       "</svg></span>"
      ],
      "text/plain": [
       "<IPython.core.display.HTML object>"
      ]
     },
     "metadata": {},
     "output_type": "display_data"
    }
   ],
   "source": [
    "# visualize the dependencies.\n",
    "displacy.render(doc.sents, style='dep', jupyter=True, options = {'distance':80})"
   ]
  },
  {
   "cell_type": "markdown",
   "metadata": {
    "id": "p3j0Lj-QXx5Z"
   },
   "source": [
    "Let's look at the breakdown of a sentence in detail. In this sentence, where is the root of the sentence, where everything is joined together? However, it is possible that sometimes due to the sentence structure there may be no root in the results.\n",
    "We can filter for specific dependencies in the result."
   ]
  },
  {
   "cell_type": "code",
   "execution_count": null,
   "metadata": {
    "id": "Nxj8dzl6_Vgp"
   },
   "outputs": [],
   "source": [
    "def getDep(sentence, rel):\n",
    "    deps=[]\n",
    "    print(\"Input sentence is: \" + str(sentence))\n",
    "    print('-'*50)\n",
    "\n",
    "    for tok in sentence:\n",
    "        dep =  (tok.text, tok.dep_, \"---> \", tok.head.text)\n",
    "        print(dep)\n",
    "        deps.append(dep)\n",
    "\n",
    "    result = list(filter(lambda x : x[1]==rel or x[1].find(rel)!=-1, deps))\n",
    "\n",
    "    if len(result) == 0:\n",
    "      return 999\n",
    "\n",
    "    return result"
   ]
  },
  {
   "cell_type": "code",
   "execution_count": null,
   "metadata": {
    "colab": {
     "base_uri": "https://localhost:8080/"
    },
    "id": "NSC-UNhWXx5Z",
    "outputId": "bfb617c2-f8ea-4531-f210-34801db3bd5c"
   },
   "outputs": [
    {
     "name": "stdout",
     "output_type": "stream",
     "text": [
      "Input sentence is: John likes big apple.\n",
      "--------------------------------------------------\n",
      "('John', 'nsubj', '---> ', 'likes')\n",
      "('likes', 'ROOT', '---> ', 'likes')\n",
      "('big', 'amod', '---> ', 'apple')\n",
      "('apple', 'dobj', '---> ', 'likes')\n",
      "('.', 'punct', '---> ', 'likes')\n",
      "The result is :[('apple', 'dobj', '---> ', 'likes')]\n"
     ]
    }
   ],
   "source": [
    "# let's extract the obj relation from a sentence\n",
    "\n",
    "sentence = \"John likes big apple.\"\n",
    "found = getDep(nlp(sentence), \"obj\")\n",
    "print(\"The result is :\" + str(found))"
   ]
  },
  {
   "cell_type": "markdown",
   "metadata": {
    "id": "zkFW2i8MXx5a"
   },
   "source": [
    "We can also use the dependency information to extract 'triples'. The predicate can come from the root or a clause without its own object/subject. The noun subject would be 'nsubj', and the object usually follow as 'dobj'. Putting it altogether, and we get a triple."
   ]
  },
  {
   "cell_type": "code",
   "execution_count": null,
   "metadata": {
    "id": "lnelqk8nAHLw"
   },
   "outputs": [],
   "source": [
    "def getTriple(sentence):\n",
    "    deps=[]\n",
    "    print(\"Input sentence is: \" + str(sentence))\n",
    "    print('-'*50)\n",
    "\n",
    "    for tok in sentence:  \n",
    "        dep =  (tok.text, tok.dep_, \"---> \", tok.head.text)\n",
    "        deps.append(dep)\n",
    "\n",
    "    subj = list(filter(lambda x : x[1]==\"nsubj\", deps))\n",
    "    obj = list(filter(lambda x : x[1]==\"dobj\", deps))\n",
    "    root = list(filter(lambda x : x[1]==\"ROOT\" , deps))\n",
    "\n",
    "    try: \n",
    "        triple = (subj[0][0], root[0][0], obj[0][0])\n",
    "        print(subj)\n",
    "        print(obj)\n",
    "        print(root)\n",
    "        return triple\n",
    "\n",
    "    except IndexError:\n",
    "        print (\"Pattern incorrect. No triples for \" + str(sentence)) # rules needed to be written to extract some triples\n",
    "        return None"
   ]
  },
  {
   "cell_type": "code",
   "execution_count": null,
   "metadata": {
    "colab": {
     "base_uri": "https://localhost:8080/"
    },
    "id": "UBbkVFriXx5b",
    "outputId": "02894279-7b14-4e0b-934a-77b6a08325e1"
   },
   "outputs": [
    {
     "name": "stdout",
     "output_type": "stream",
     "text": [
      "Input sentence is: John likes big apple.\n",
      "--------------------------------------------------\n",
      "[('John', 'nsubj', '---> ', 'likes')]\n",
      "[('apple', 'dobj', '---> ', 'likes')]\n",
      "[('likes', 'ROOT', '---> ', 'likes')]\n",
      "Triple is ('John', 'likes', 'apple')\n",
      "****************************************************************************************************\n",
      "Input sentence is: The apple tastes delicious.\n",
      "--------------------------------------------------\n",
      "Pattern incorrect. No triples for The apple tastes delicious.\n",
      "Triple is None\n",
      "****************************************************************************************************\n"
     ]
    }
   ],
   "source": [
    "triples=[]\n",
    "s = \"John likes big apple. The apple tastes delicious.\"\n",
    "\n",
    "#doing it sentence by sentence\n",
    "for sentence in nlp(s).sents:\n",
    "  triple = getTriple(sentence)  # obtain triples in that sentence\n",
    "  print (\"Triple is \" + str(triple))\n",
    "  triples.append(triple)\n",
    "  print('*'*100)"
   ]
  },
  {
   "cell_type": "markdown",
   "metadata": {
    "id": "O9_-t89RXx5c"
   },
   "source": [
    "## Technique 2 - By finding frequent nouns and noun phrases\n"
   ]
  },
  {
   "cell_type": "markdown",
   "metadata": {
    "id": "-eoPIAbDWbCd"
   },
   "source": [
    "* Find nouns and noun phrases using a POS tagger\n",
    "* Count their occurrence frequencies\n",
    "* Keep only the frequent ones above a experimentally \n",
    "determined threshold"
   ]
  },
  {
   "cell_type": "code",
   "execution_count": null,
   "metadata": {
    "id": "IhpFg702Wuqd"
   },
   "outputs": [],
   "source": [
    "l=[]\n",
    "for sentence in df_reviews[\"reviews\"]:\n",
    "  doc = nlp(sentence)\n",
    "  for i in doc.sents:\n",
    "    for tok in i:\n",
    "      if(tok.is_alpha==True and tok.is_stop==False and tok.pos_=='NOUN'):\n",
    "        l.append(tok.text.lower())\n",
    "d = dict(Counter(l))\n",
    "print(dict(sorted(d.items(), key=operator.itemgetter(1),reverse=True)))"
   ]
  },
  {
   "cell_type": "code",
   "execution_count": null,
   "metadata": {
    "id": "lSC3rq7CW8nU"
   },
   "outputs": [],
   "source": [
    "c=0\n",
    "for i in list(df_reviews['text']):\n",
    "  if(i.lower().find('seat')!= -1):\n",
    "    print(i)\n",
    "    c=c+1\n",
    "    if(c==10):\n",
    "      break"
   ]
  },
  {
   "cell_type": "code",
   "execution_count": null,
   "metadata": {
    "id": "9UEv4yg2Efk3"
   },
   "outputs": [],
   "source": [
    "# Prepare a mapping function\n",
    "# Get list for each category using Frequency approach (if a word has high frequency, then it is possibly an entity/aspect)\n",
    "# Define categories manually = food, service and price\n",
    "\n",
    "aspect = {\"food\": [\"xiao long bao\", \"noodles\", \"food\", \"dumplings\", \"pork\", \"flavour\", \"chili\", \n",
    "                   \"dishes\", \"lunch\", \"bun\", \"shrimp\", \"dimsum\", \"rice\", \"chicken\"],\n",
    "        \"service\" : [\"staff\", \"wait\", \"water\", \"queue\" ],\n",
    "        \"price\" : [\"price\", \"cost\"]  }"
   ]
  },
  {
   "cell_type": "code",
   "execution_count": null,
   "metadata": {
    "id": "PgIWTSE3Xx5d"
   },
   "outputs": [],
   "source": [
    "# Classify each sentence into the given 3 categories\n",
    "# Use a category 'overall' to cover all other sentences   \n",
    "\n",
    "def aspectCat(sentence):\n",
    "    category=[]\n",
    "    for tok in sentence:\n",
    "        tok = tok.text.lower()\n",
    "        for key, val in aspect.items():\n",
    "            if tok in val: category.append(key)\n",
    "    if len(category) == 0 : category.append(\"overall\")\n",
    "    return category"
   ]
  },
  {
   "cell_type": "markdown",
   "metadata": {
    "id": "LGeRYz-QXx5e"
   },
   "source": [
    "Till now we have mapped a category (entity/aspect) to every sentence. We still need to give a sentiment to the aspect. Next, we'll use Vader to do sentiment classification of sentences."
   ]
  },
  {
   "cell_type": "code",
   "execution_count": null,
   "metadata": {
    "id": "xjoHGYX9Uuq7"
   },
   "outputs": [],
   "source": [
    "analyzer = SentimentIntensityAnalyzer()"
   ]
  },
  {
   "cell_type": "code",
   "execution_count": null,
   "metadata": {
    "colab": {
     "base_uri": "https://localhost:8080/"
    },
    "id": "-cdrZ15OYuxQ",
    "outputId": "75fb52e8-1f5a-410f-8f68-c25b3fc27b7b"
   },
   "outputs": [
    {
     "data": {
      "text/plain": [
       "{'compound': 0.0, 'neg': 0.0, 'neu': 1.0, 'pos': 0.0}"
      ]
     },
     "execution_count": 16,
     "metadata": {},
     "output_type": "execute_result"
    }
   ],
   "source": [
    "# Vader returns 4 scores. We take the 'compound' score as overall sentiment for the sentence.\n",
    "res = analyzer.polarity_scores(\"but the price is expensive.\")\n",
    "res"
   ]
  },
  {
   "cell_type": "markdown",
   "metadata": {
    "id": "VmNZ1zcEgAa7"
   },
   "source": [
    "Given a review, for each sentence, we get its sentiment score and aspect category."
   ]
  },
  {
   "cell_type": "code",
   "execution_count": null,
   "metadata": {
    "id": "itpHdv6cGwX9"
   },
   "outputs": [],
   "source": [
    "def getSentiment(span):\n",
    "  res = analyzer.polarity_scores(span.text)\n",
    "  senti = np.round(res['compound'],2)\n",
    "  return (senti)"
   ]
  },
  {
   "cell_type": "code",
   "execution_count": null,
   "metadata": {
    "colab": {
     "base_uri": "https://localhost:8080/"
    },
    "id": "6gbY1q71Xx5f",
    "outputId": "6ab691fa-f1a3-447d-a3c9-4d4349c7c630"
   },
   "outputs": [
    {
     "name": "stdout",
     "output_type": "stream",
     "text": [
      "{'scores': 0.64, 'text': I love this place., 'category': ['overall']}\n",
      "{'scores': 0.0, 'text': I visit this place (or one of the other din tai fung outlets) at least once a month., 'category': ['overall']}\n"
     ]
    }
   ],
   "source": [
    "result_sents =[] \n",
    "ex=0\n",
    "doc = nlp(df_reviews[\"reviews\"][ex])\n",
    "\n",
    "for idx, sentence in enumerate(doc.sents):\n",
    "  res = getSentiment(sentence)\n",
    "\n",
    "  try:\n",
    "    cat = aspectCat(sentence)      \n",
    "    result_sents.append({\"scores\":res, \"text\":sentence, \"category\":cat})\n",
    "\n",
    "  except IndexError:\n",
    "    result_sents.append({\"scores\":res, \"text\":sentence, \"category\":\"overall\"})\n",
    "\n",
    "for s in result_sents:\n",
    "  print(s)"
   ]
  },
  {
   "cell_type": "markdown",
   "metadata": {
    "id": "hEoO5foUXx5j"
   },
   "source": [
    "Let's do it for the whole set of reviews and do a summarisation. "
   ]
  },
  {
   "cell_type": "code",
   "execution_count": null,
   "metadata": {
    "colab": {
     "base_uri": "https://localhost:8080/"
    },
    "id": "VrBRimr0HAdV",
    "outputId": "79f68b6b-ee02-4040-e286-271194544913"
   },
   "outputs": [
    {
     "data": {
      "text/plain": [
       "{0: [{'category': ['overall'], 'scores': 0.64, 'text': 'I love this place.'},\n",
       "  {'category': ['overall'],\n",
       "   'scores': 0.0,\n",
       "   'text': 'I visit this place (or one of the other din tai fung outlets) at least once a month.'}],\n",
       " 1: [{'category': ['food', 'food', 'food', 'food', 'food'],\n",
       "   'scores': 0.0,\n",
       "   'text': 'Must try: xiao long bao, chili crab bun, fried rice with pork, braised beef noodles.'}],\n",
       " 2: [{'category': ['food'],\n",
       "   'scores': 0.42,\n",
       "   'text': 'Highly recommend trying the chili sauce also.'},\n",
       "  {'category': ['service'],\n",
       "   'scores': 0.47,\n",
       "   'text': 'This place can get crowded, so i recommend that you get a queue number early.'},\n",
       "  {'category': ['overall'],\n",
       "   'scores': -0.04,\n",
       "   'text': 'No reservations unfortunately.'}],\n",
       " 3: [{'category': ['food', 'food', 'food'],\n",
       "   'scores': 0.61,\n",
       "   'text': 'For those who are not familiar with asian food, I recommend that your group orders a number of dishes and shares everything (asian way) rather than each person ordering your own dishes.'},\n",
       "  {'category': ['food'],\n",
       "   'scores': 0.0,\n",
       "   'text': 'You will get to try alot more food this way!'}],\n",
       " 4: [{'category': ['food'],\n",
       "   'scores': 0.0,\n",
       "   'text': 'This Din Tai Fung is located on the 4th floor next to Japan Food Town.'},\n",
       "  {'category': ['food'],\n",
       "   'scores': 0.0,\n",
       "   'text': 'Was there on a Saturday for late lunch.'}],\n",
       " 5: [{'category': ['service'],\n",
       "   'scores': 0.08,\n",
       "   'text': 'The staff at the entrance gave me a number and a paper & pen'},\n",
       "  {'category': ['overall'],\n",
       "   'scores': 0.42,\n",
       "   'text': 'so I could check what I liked to order while waiting.'},\n",
       "  {'category': ['service'],\n",
       "   'scores': 0.43,\n",
       "   'text': 'The wait was not bad at all.'},\n",
       "  {'category': ['overall'],\n",
       "   'scores': 0.44,\n",
       "   'text': 'Good thing I did not have to stand in line.'},\n",
       "  {'category': ['overall'],\n",
       "   'scores': -0.34,\n",
       "   'text': 'Think I ever mentioned in my other post, I do not like to stand in line, period!'}],\n",
       " 6: [{'category': ['overall'],\n",
       "   'scores': 0.49,\n",
       "   'text': 'Staffs were all friendly and attentive.'},\n",
       "  {'category': ['overall'],\n",
       "   'scores': 0.36,\n",
       "   'text': 'I like that the restaurant has those bag holders/'},\n",
       "  {'category': ['overall'],\n",
       "   'scores': 0.82,\n",
       "   'text': 'stands, like those in Taste Paradise, which allow female customers to store their purses or bags.'},\n",
       "  {'category': ['overall'],\n",
       "   'scores': 0.88,\n",
       "   'text': 'Of cos those at Taste Paradise were a lot better since they came with a flap attached to secure the top.'},\n",
       "  {'category': ['service'],\n",
       "   'scores': 0.0,\n",
       "   'text': 'The ones at Din Tai Feng were open bag holders which the staff would just put a cloth over it.'},\n",
       "  {'category': ['overall'], 'scores': 0.3, 'text': 'Ok'},\n",
       "  {'category': ['overall'],\n",
       "   'scores': 0.0,\n",
       "   'text': 'I know, I can be so nitpicking.'}],\n",
       " 7: [{'category': ['food'], 'scores': 0.0, 'text': 'FOOD 4/5'},\n",
       "  {'category': ['food'],\n",
       "   'scores': 0.48,\n",
       "   'text': 'The legendary xiao long bao (steamed dumplings) were yummy as expected.'},\n",
       "  {'category': ['food'],\n",
       "   'scores': 0.0,\n",
       "   'text': 'I also ordered one red bean bun and one meat'},\n",
       "  {'category': ['food'], 'scores': 0.0, 'text': 'bun just to try.'},\n",
       "  {'category': ['overall'],\n",
       "   'scores': 0.59,\n",
       "   'text': 'They were tiny but were good.'}],\n",
       " 8: [{'category': ['overall'], 'scores': 0.0, 'text': 'AMBIENCE 3/5'},\n",
       "  {'category': ['overall'], 'scores': -0.18, 'text': 'It was noisy'},\n",
       "  {'category': ['overall'],\n",
       "   'scores': 0.45,\n",
       "   'text': 'but I did not expect it to be calm and quiet.'},\n",
       "  {'category': ['overall'],\n",
       "   'scores': 0.0,\n",
       "   'text': 'It was not a place I would suggest for a first date.'},\n",
       "  {'category': ['food'],\n",
       "   'scores': 0.71,\n",
       "   'text': 'More like a place for friends to catch up or family lunch.'}],\n",
       " 9: [{'category': ['overall'],\n",
       "   'scores': 0.42,\n",
       "   'text': 'STAFFS 5/5 Staffs were attentive, helpful and polite.'},\n",
       "  {'category': ['service'],\n",
       "   'scores': 0.0,\n",
       "   'text': 'Water was filled up constantly.'}],\n",
       " 10: [{'category': ['food'],\n",
       "   'scores': 0.56,\n",
       "   'text': 'Andrew and I always wondered how Din Tai Fung (DTF) can consistently keep their rich flavour after opening many branches around the world.'},\n",
       "  {'category': ['overall'],\n",
       "   'scores': 0.44,\n",
       "   'text': 'We visited a few Din Tai Fung restaurants when we were in Singapore and were blown away at their good quality control.'},\n",
       "  {'category': ['overall'],\n",
       "   'scores': 0.42,\n",
       "   'text': 'At the same time we also thought that we were just lucky...'},\n",
       "  {'category': ['overall'], 'scores': 0.25, 'text': ';-)'}],\n",
       " 11: [{'category': ['food', 'food'],\n",
       "   'scores': 0.32,\n",
       "   'text': 'Two things that we always ordered in Din Tai Fung were their shrimp & pork shao mai and of course the 18 folds original Xiao Long Bao.'},\n",
       "  {'category': ['overall'],\n",
       "   'scores': 0.0,\n",
       "   'text': \"DTF's xiao long bao is really in the league of their own.\"},\n",
       "  {'category': ['overall'],\n",
       "   'scores': 0.79,\n",
       "   'text': 'Honestly we never found any broken dumpling skin although I never really counted the number of folds on their dumpling.'}],\n",
       " 12: [{'category': ['food'],\n",
       "   'scores': 0.61,\n",
       "   'text': 'The shao mai was also always very delicious with plenty of pork meats inside.'},\n",
       "  {'category': ['food'],\n",
       "   'scores': 0.64,\n",
       "   'text': 'I always add vinegar to shao mai and the xiao long bao as I love the additional sour flavour on the meat.'},\n",
       "  {'category': ['price', 'food'],\n",
       "   'scores': 0.42,\n",
       "   'text': 'Of course the price of their dishes are more than the other Chinese restaurants but the quality never disappoints us.'}],\n",
       " 13: [{'category': ['food', 'food'],\n",
       "   'scores': 0.53,\n",
       "   'text': 'Delicious dumplings and vegetable dishes.'},\n",
       "  {'category': ['food'],\n",
       "   'scores': 0.0,\n",
       "   'text': 'Not too many options for pork allergies.'},\n",
       "  {'category': ['food'],\n",
       "   'scores': 0.03,\n",
       "   'text': 'Almost every dumpling has pork alongside the other protein.'}],\n",
       " 14: [{'category': ['overall'], 'scores': 0.93, 'text': 'Love love love DTF.'},\n",
       "  {'category': ['overall'],\n",
       "   'scores': 0.36,\n",
       "   'text': 'Go out of my way to visit in other locations when I travel like San Francisco and Seattle.'},\n",
       "  {'category': ['price', 'food'],\n",
       "   'scores': 0.62,\n",
       "   'text': 'Reasonable price, fast service and great tasting food.'},\n",
       "  {'category': ['food'],\n",
       "   'scores': 0.0,\n",
       "   'text': 'They are not known for their customer service, but the food makes up for it.'},\n",
       "  {'category': ['food', 'food'],\n",
       "   'scores': 0.48,\n",
       "   'text': 'I will never have pork dumplings better than at DTF.'}],\n",
       " 15: [{'category': ['food'],\n",
       "   'scores': 0.72,\n",
       "   'text': 'Very good food and efficient service.'},\n",
       "  {'category': ['food'],\n",
       "   'scores': 0.48,\n",
       "   'text': 'I came here for the dimsum and was beyond satisfied!'},\n",
       "  {'category': ['overall'], 'scores': 0.62, 'text': 'Great restaurant.'},\n",
       "  {'category': ['food'],\n",
       "   'scores': 0.77,\n",
       "   'text': 'Good baos and great dumplings.'},\n",
       "  {'category': ['overall'],\n",
       "   'scores': 0.0,\n",
       "   'text': 'Must try if in Singapore!'}],\n",
       " 16: [{'category': ['overall'], 'scores': 0.0, 'text': 'Gah!  '},\n",
       "  {'category': ['overall'],\n",
       "   'scores': 0.0,\n",
       "   'text': 'The taro buns from this place still haunt my dreams.  '},\n",
       "  {'category': ['overall'],\n",
       "   'scores': 0.46,\n",
       "   'text': 'I had no idea how delightful taro could possibly be, but this is over the top.  '},\n",
       "  {'category': ['overall'],\n",
       "   'scores': 0.0,\n",
       "   'text': \"It's a staple item for me to look for now on every menu of DTF and the second item\"},\n",
       "  {'category': ['food'],\n",
       "   'scores': -0.08,\n",
       "   'text': 'I order after the soup dumplings.  '},\n",
       "  {'category': ['overall'],\n",
       "   'scores': 0.64,\n",
       "   'text': 'Din Tai Fung does it to me every time with their perfectly steamed items.  '},\n",
       "  {'category': ['food'],\n",
       "   'scores': -0.08,\n",
       "   'text': 'One you understand how to eat the steamed soup dumplings you will look for this place in every city you visit.  '},\n",
       "  {'category': ['food', 'food'],\n",
       "   'scores': 0.79,\n",
       "   'text': 'The soup dumplings are absolutely incredible, but there are a few surprise dishes that are nearly as impressive.  '},\n",
       "  {'category': ['food', 'food'],\n",
       "   'scores': 0.74,\n",
       "   'text': 'The fried rice is absolutely delightful and there is a rice dish for dessert that looks like it has some melted jelly beans in it, but I promise you is incredible.  '},\n",
       "  {'category': ['overall'],\n",
       "   'scores': 0.64,\n",
       "   'text': 'The service is always prompt and efficient and the value for the quality you receive is impeccable.'}],\n",
       " 17: [{'category': ['overall'],\n",
       "   'scores': 0.0,\n",
       "   'text': \"Couldn't decide what to eat, and stumbled on DTF.  \"},\n",
       "  {'category': ['food'],\n",
       "   'scores': -0.48,\n",
       "   'text': \"I've had such high expectations for their soup dumplings that when they came out, I was a little disappointed.  \"},\n",
       "  {'category': ['overall'],\n",
       "   'scores': -0.18,\n",
       "   'text': \"Not to say they weren't good or anything, because they were but just overly hyped.  \"}],\n",
       " 18: [{'category': ['food'],\n",
       "   'scores': -0.08,\n",
       "   'text': 'The dumplings are small and succulent.  '},\n",
       "  {'category': ['food'],\n",
       "   'scores': 0.0,\n",
       "   'text': 'The drunken chicken was moist and full of alcohol.'},\n",
       "  {'category': ['overall'],\n",
       "   'scores': 0.0,\n",
       "   'text': \"I don't think it's a 5 star restaurant\"},\n",
       "  {'category': ['overall'], 'scores': 0.59, 'text': \"but it's good.\"}],\n",
       " 19: [{'category': ['food', 'price'],\n",
       "   'scores': 0.27,\n",
       "   'text': 'The food tastes really good, but the price is too expensive.'}],\n",
       " 20: [{'category': ['food'],\n",
       "   'scores': 0.56,\n",
       "   'text': 'Fantastic location and food.'},\n",
       "  {'category': ['food'],\n",
       "   'scores': 0.0,\n",
       "   'text': 'I heard you have to practice for 1 year before they let you prepare food for customers.'}]}"
      ]
     },
     "execution_count": 19,
     "metadata": {},
     "output_type": "execute_result"
    }
   ],
   "source": [
    "reviews = {}\n",
    "for i in range(len(df_reviews[\"reviews\"])):\n",
    "  doc = nlp(df_reviews[\"reviews\"][i])\n",
    "  review_sents =[] \n",
    "  for idx, sentence in enumerate(doc.sents):\n",
    "    res = getSentiment(sentence)\n",
    "\n",
    "    try:\n",
    "      cat = aspectCat(sentence)      \n",
    "      review_sents.append({\"scores\":res, \"text\":sentence.text, \"category\":cat})\n",
    "\n",
    "    except IndexError:\n",
    "      review_sents.append({\"scores\":res, \"text\":sentence.text, \"category\":\"overall\"})\n",
    "\n",
    "  reviews[i]=review_sents\n",
    "\n",
    "reviews"
   ]
  },
  {
   "cell_type": "code",
   "execution_count": null,
   "metadata": {
    "colab": {
     "base_uri": "https://localhost:8080/"
    },
    "id": "vS9Mla4xIamu",
    "outputId": "1193dddf-dea5-45f0-918f-ac1892451723"
   },
   "outputs": [
    {
     "data": {
      "text/plain": [
       "{'food': [0.0,\n",
       "  0.0,\n",
       "  0.0,\n",
       "  0.0,\n",
       "  0.0,\n",
       "  0.42,\n",
       "  0.61,\n",
       "  0.61,\n",
       "  0.61,\n",
       "  0.0,\n",
       "  0.0,\n",
       "  0.0,\n",
       "  0.0,\n",
       "  0.48,\n",
       "  0.0,\n",
       "  0.0,\n",
       "  0.71,\n",
       "  0.56,\n",
       "  0.32,\n",
       "  0.32,\n",
       "  0.61,\n",
       "  0.64,\n",
       "  0.42,\n",
       "  0.53,\n",
       "  0.53,\n",
       "  0.0,\n",
       "  0.03,\n",
       "  0.62,\n",
       "  0.0,\n",
       "  0.48,\n",
       "  0.48,\n",
       "  0.72,\n",
       "  0.48,\n",
       "  0.77,\n",
       "  -0.08,\n",
       "  -0.08,\n",
       "  0.79,\n",
       "  0.79,\n",
       "  0.74,\n",
       "  0.74,\n",
       "  -0.48,\n",
       "  -0.08,\n",
       "  0.0,\n",
       "  0.27,\n",
       "  0.56,\n",
       "  0.0],\n",
       " 'overall': [0.64,\n",
       "  0.0,\n",
       "  -0.04,\n",
       "  0.42,\n",
       "  0.44,\n",
       "  -0.34,\n",
       "  0.49,\n",
       "  0.36,\n",
       "  0.82,\n",
       "  0.88,\n",
       "  0.3,\n",
       "  0.0,\n",
       "  0.59,\n",
       "  0.0,\n",
       "  -0.18,\n",
       "  0.45,\n",
       "  0.0,\n",
       "  0.42,\n",
       "  0.44,\n",
       "  0.42,\n",
       "  0.25,\n",
       "  0.0,\n",
       "  0.79,\n",
       "  0.93,\n",
       "  0.36,\n",
       "  0.62,\n",
       "  0.0,\n",
       "  0.0,\n",
       "  0.0,\n",
       "  0.46,\n",
       "  0.0,\n",
       "  0.64,\n",
       "  0.64,\n",
       "  0.0,\n",
       "  -0.18,\n",
       "  0.0,\n",
       "  0.59],\n",
       " 'price': [0.42, 0.62, 0.27],\n",
       " 'service': [0.47, 0.08, 0.43, 0.0, 0.0]}"
      ]
     },
     "execution_count": 20,
     "metadata": {},
     "output_type": "execute_result"
    }
   ],
   "source": [
    "# summarise all reviews\n",
    "summary_scores = {\"overall\":[], \"service\":[], \"price\":[], \"food\":[]}\n",
    "\n",
    "# count total no of \n",
    "for key,value in reviews.items():\n",
    "  for ResultList in value:\n",
    "    score = ResultList[\"scores\"]\n",
    "    for CatList in ResultList[\"category\"]:\n",
    "      summary_scores[CatList].append(score)\n",
    "\n",
    "# for each category, summarize how many reviews are positive, negative respectively\n",
    "summary_scores"
   ]
  },
  {
   "cell_type": "code",
   "execution_count": null,
   "metadata": {
    "colab": {
     "base_uri": "https://localhost:8080/"
    },
    "id": "C_3r2SMYXx5l",
    "outputId": "5ba219c2-9147-4b12-9a44-34254a109467"
   },
   "outputs": [
    {
     "data": {
      "text/plain": [
       "{'food': {'neg': 4, 'pos': 42},\n",
       " 'overall': {'neg': 4, 'pos': 33},\n",
       " 'price': {'neg': 0, 'pos': 3},\n",
       " 'service': {'neg': 0, 'pos': 5}}"
      ]
     },
     "execution_count": 21,
     "metadata": {},
     "output_type": "execute_result"
    }
   ],
   "source": [
    "for key, val in summary_scores.items():\n",
    "\n",
    "    #avg = round(np.mean(val),2)\n",
    "    pos = np.sum(np.array(val) >= 0, axis=0)\n",
    "    neg = np.sum(np.array(val) < 0, axis=0)\n",
    "\n",
    "    summary_scores[key]={\"pos\":pos,\"neg\": neg}\n",
    "\n",
    "summary_scores"
   ]
  },
  {
   "cell_type": "code",
   "execution_count": null,
   "metadata": {
    "colab": {
     "base_uri": "https://localhost:8080/",
     "height": 112
    },
    "id": "RdfTY1zkJ7u8",
    "outputId": "93feefc5-ec72-433e-dce4-f35f057d6f86"
   },
   "outputs": [
    {
     "data": {
      "text/html": [
       "\n",
       "  <div id=\"df-a43b5d12-e1c6-4dff-8b02-b49e1824cb82\">\n",
       "    <div class=\"colab-df-container\">\n",
       "      <div>\n",
       "<style scoped>\n",
       "    .dataframe tbody tr th:only-of-type {\n",
       "        vertical-align: middle;\n",
       "    }\n",
       "\n",
       "    .dataframe tbody tr th {\n",
       "        vertical-align: top;\n",
       "    }\n",
       "\n",
       "    .dataframe thead th {\n",
       "        text-align: right;\n",
       "    }\n",
       "</style>\n",
       "<table border=\"1\" class=\"dataframe\">\n",
       "  <thead>\n",
       "    <tr style=\"text-align: right;\">\n",
       "      <th></th>\n",
       "      <th>overall</th>\n",
       "      <th>service</th>\n",
       "      <th>price</th>\n",
       "      <th>food</th>\n",
       "    </tr>\n",
       "  </thead>\n",
       "  <tbody>\n",
       "    <tr>\n",
       "      <th>pos</th>\n",
       "      <td>33</td>\n",
       "      <td>5</td>\n",
       "      <td>3</td>\n",
       "      <td>42</td>\n",
       "    </tr>\n",
       "    <tr>\n",
       "      <th>neg</th>\n",
       "      <td>4</td>\n",
       "      <td>0</td>\n",
       "      <td>0</td>\n",
       "      <td>4</td>\n",
       "    </tr>\n",
       "  </tbody>\n",
       "</table>\n",
       "</div>\n",
       "      <button class=\"colab-df-convert\" onclick=\"convertToInteractive('df-a43b5d12-e1c6-4dff-8b02-b49e1824cb82')\"\n",
       "              title=\"Convert this dataframe to an interactive table.\"\n",
       "              style=\"display:none;\">\n",
       "        \n",
       "  <svg xmlns=\"http://www.w3.org/2000/svg\" height=\"24px\"viewBox=\"0 0 24 24\"\n",
       "       width=\"24px\">\n",
       "    <path d=\"M0 0h24v24H0V0z\" fill=\"none\"/>\n",
       "    <path d=\"M18.56 5.44l.94 2.06.94-2.06 2.06-.94-2.06-.94-.94-2.06-.94 2.06-2.06.94zm-11 1L8.5 8.5l.94-2.06 2.06-.94-2.06-.94L8.5 2.5l-.94 2.06-2.06.94zm10 10l.94 2.06.94-2.06 2.06-.94-2.06-.94-.94-2.06-.94 2.06-2.06.94z\"/><path d=\"M17.41 7.96l-1.37-1.37c-.4-.4-.92-.59-1.43-.59-.52 0-1.04.2-1.43.59L10.3 9.45l-7.72 7.72c-.78.78-.78 2.05 0 2.83L4 21.41c.39.39.9.59 1.41.59.51 0 1.02-.2 1.41-.59l7.78-7.78 2.81-2.81c.8-.78.8-2.07 0-2.86zM5.41 20L4 18.59l7.72-7.72 1.47 1.35L5.41 20z\"/>\n",
       "  </svg>\n",
       "      </button>\n",
       "      \n",
       "  <style>\n",
       "    .colab-df-container {\n",
       "      display:flex;\n",
       "      flex-wrap:wrap;\n",
       "      gap: 12px;\n",
       "    }\n",
       "\n",
       "    .colab-df-convert {\n",
       "      background-color: #E8F0FE;\n",
       "      border: none;\n",
       "      border-radius: 50%;\n",
       "      cursor: pointer;\n",
       "      display: none;\n",
       "      fill: #1967D2;\n",
       "      height: 32px;\n",
       "      padding: 0 0 0 0;\n",
       "      width: 32px;\n",
       "    }\n",
       "\n",
       "    .colab-df-convert:hover {\n",
       "      background-color: #E2EBFA;\n",
       "      box-shadow: 0px 1px 2px rgba(60, 64, 67, 0.3), 0px 1px 3px 1px rgba(60, 64, 67, 0.15);\n",
       "      fill: #174EA6;\n",
       "    }\n",
       "\n",
       "    [theme=dark] .colab-df-convert {\n",
       "      background-color: #3B4455;\n",
       "      fill: #D2E3FC;\n",
       "    }\n",
       "\n",
       "    [theme=dark] .colab-df-convert:hover {\n",
       "      background-color: #434B5C;\n",
       "      box-shadow: 0px 1px 3px 1px rgba(0, 0, 0, 0.15);\n",
       "      filter: drop-shadow(0px 1px 2px rgba(0, 0, 0, 0.3));\n",
       "      fill: #FFFFFF;\n",
       "    }\n",
       "  </style>\n",
       "\n",
       "      <script>\n",
       "        const buttonEl =\n",
       "          document.querySelector('#df-a43b5d12-e1c6-4dff-8b02-b49e1824cb82 button.colab-df-convert');\n",
       "        buttonEl.style.display =\n",
       "          google.colab.kernel.accessAllowed ? 'block' : 'none';\n",
       "\n",
       "        async function convertToInteractive(key) {\n",
       "          const element = document.querySelector('#df-a43b5d12-e1c6-4dff-8b02-b49e1824cb82');\n",
       "          const dataTable =\n",
       "            await google.colab.kernel.invokeFunction('convertToInteractive',\n",
       "                                                     [key], {});\n",
       "          if (!dataTable) return;\n",
       "\n",
       "          const docLinkHtml = 'Like what you see? Visit the ' +\n",
       "            '<a target=\"_blank\" href=https://colab.research.google.com/notebooks/data_table.ipynb>data table notebook</a>'\n",
       "            + ' to learn more about interactive tables.';\n",
       "          element.innerHTML = '';\n",
       "          dataTable['output_type'] = 'display_data';\n",
       "          await google.colab.output.renderOutput(dataTable, element);\n",
       "          const docLink = document.createElement('div');\n",
       "          docLink.innerHTML = docLinkHtml;\n",
       "          element.appendChild(docLink);\n",
       "        }\n",
       "      </script>\n",
       "    </div>\n",
       "  </div>\n",
       "  "
      ],
      "text/plain": [
       "     overall  service  price  food\n",
       "pos       33        5      3    42\n",
       "neg        4        0      0     4"
      ]
     },
     "execution_count": 22,
     "metadata": {},
     "output_type": "execute_result"
    }
   ],
   "source": [
    "df_summary = pd.DataFrame(summary_scores)\n",
    "df_summary"
   ]
  },
  {
   "cell_type": "code",
   "execution_count": null,
   "metadata": {
    "colab": {
     "base_uri": "https://localhost:8080/",
     "height": 175
    },
    "id": "AIHnY2KVJ9fc",
    "outputId": "71cea992-c114-4878-a575-1203bce700af"
   },
   "outputs": [
    {
     "data": {
      "text/html": [
       "\n",
       "  <div id=\"df-d903c023-0c33-46eb-8bed-5670b588b11d\">\n",
       "    <div class=\"colab-df-container\">\n",
       "      <div>\n",
       "<style scoped>\n",
       "    .dataframe tbody tr th:only-of-type {\n",
       "        vertical-align: middle;\n",
       "    }\n",
       "\n",
       "    .dataframe tbody tr th {\n",
       "        vertical-align: top;\n",
       "    }\n",
       "\n",
       "    .dataframe thead th {\n",
       "        text-align: right;\n",
       "    }\n",
       "</style>\n",
       "<table border=\"1\" class=\"dataframe\">\n",
       "  <thead>\n",
       "    <tr style=\"text-align: right;\">\n",
       "      <th></th>\n",
       "      <th>pos</th>\n",
       "      <th>neg</th>\n",
       "    </tr>\n",
       "  </thead>\n",
       "  <tbody>\n",
       "    <tr>\n",
       "      <th>overall</th>\n",
       "      <td>33</td>\n",
       "      <td>4</td>\n",
       "    </tr>\n",
       "    <tr>\n",
       "      <th>service</th>\n",
       "      <td>5</td>\n",
       "      <td>0</td>\n",
       "    </tr>\n",
       "    <tr>\n",
       "      <th>price</th>\n",
       "      <td>3</td>\n",
       "      <td>0</td>\n",
       "    </tr>\n",
       "    <tr>\n",
       "      <th>food</th>\n",
       "      <td>42</td>\n",
       "      <td>4</td>\n",
       "    </tr>\n",
       "  </tbody>\n",
       "</table>\n",
       "</div>\n",
       "      <button class=\"colab-df-convert\" onclick=\"convertToInteractive('df-d903c023-0c33-46eb-8bed-5670b588b11d')\"\n",
       "              title=\"Convert this dataframe to an interactive table.\"\n",
       "              style=\"display:none;\">\n",
       "        \n",
       "  <svg xmlns=\"http://www.w3.org/2000/svg\" height=\"24px\"viewBox=\"0 0 24 24\"\n",
       "       width=\"24px\">\n",
       "    <path d=\"M0 0h24v24H0V0z\" fill=\"none\"/>\n",
       "    <path d=\"M18.56 5.44l.94 2.06.94-2.06 2.06-.94-2.06-.94-.94-2.06-.94 2.06-2.06.94zm-11 1L8.5 8.5l.94-2.06 2.06-.94-2.06-.94L8.5 2.5l-.94 2.06-2.06.94zm10 10l.94 2.06.94-2.06 2.06-.94-2.06-.94-.94-2.06-.94 2.06-2.06.94z\"/><path d=\"M17.41 7.96l-1.37-1.37c-.4-.4-.92-.59-1.43-.59-.52 0-1.04.2-1.43.59L10.3 9.45l-7.72 7.72c-.78.78-.78 2.05 0 2.83L4 21.41c.39.39.9.59 1.41.59.51 0 1.02-.2 1.41-.59l7.78-7.78 2.81-2.81c.8-.78.8-2.07 0-2.86zM5.41 20L4 18.59l7.72-7.72 1.47 1.35L5.41 20z\"/>\n",
       "  </svg>\n",
       "      </button>\n",
       "      \n",
       "  <style>\n",
       "    .colab-df-container {\n",
       "      display:flex;\n",
       "      flex-wrap:wrap;\n",
       "      gap: 12px;\n",
       "    }\n",
       "\n",
       "    .colab-df-convert {\n",
       "      background-color: #E8F0FE;\n",
       "      border: none;\n",
       "      border-radius: 50%;\n",
       "      cursor: pointer;\n",
       "      display: none;\n",
       "      fill: #1967D2;\n",
       "      height: 32px;\n",
       "      padding: 0 0 0 0;\n",
       "      width: 32px;\n",
       "    }\n",
       "\n",
       "    .colab-df-convert:hover {\n",
       "      background-color: #E2EBFA;\n",
       "      box-shadow: 0px 1px 2px rgba(60, 64, 67, 0.3), 0px 1px 3px 1px rgba(60, 64, 67, 0.15);\n",
       "      fill: #174EA6;\n",
       "    }\n",
       "\n",
       "    [theme=dark] .colab-df-convert {\n",
       "      background-color: #3B4455;\n",
       "      fill: #D2E3FC;\n",
       "    }\n",
       "\n",
       "    [theme=dark] .colab-df-convert:hover {\n",
       "      background-color: #434B5C;\n",
       "      box-shadow: 0px 1px 3px 1px rgba(0, 0, 0, 0.15);\n",
       "      filter: drop-shadow(0px 1px 2px rgba(0, 0, 0, 0.3));\n",
       "      fill: #FFFFFF;\n",
       "    }\n",
       "  </style>\n",
       "\n",
       "      <script>\n",
       "        const buttonEl =\n",
       "          document.querySelector('#df-d903c023-0c33-46eb-8bed-5670b588b11d button.colab-df-convert');\n",
       "        buttonEl.style.display =\n",
       "          google.colab.kernel.accessAllowed ? 'block' : 'none';\n",
       "\n",
       "        async function convertToInteractive(key) {\n",
       "          const element = document.querySelector('#df-d903c023-0c33-46eb-8bed-5670b588b11d');\n",
       "          const dataTable =\n",
       "            await google.colab.kernel.invokeFunction('convertToInteractive',\n",
       "                                                     [key], {});\n",
       "          if (!dataTable) return;\n",
       "\n",
       "          const docLinkHtml = 'Like what you see? Visit the ' +\n",
       "            '<a target=\"_blank\" href=https://colab.research.google.com/notebooks/data_table.ipynb>data table notebook</a>'\n",
       "            + ' to learn more about interactive tables.';\n",
       "          element.innerHTML = '';\n",
       "          dataTable['output_type'] = 'display_data';\n",
       "          await google.colab.output.renderOutput(dataTable, element);\n",
       "          const docLink = document.createElement('div');\n",
       "          docLink.innerHTML = docLinkHtml;\n",
       "          element.appendChild(docLink);\n",
       "        }\n",
       "      </script>\n",
       "    </div>\n",
       "  </div>\n",
       "  "
      ],
      "text/plain": [
       "         pos  neg\n",
       "overall   33    4\n",
       "service    5    0\n",
       "price      3    0\n",
       "food      42    4"
      ]
     },
     "execution_count": 23,
     "metadata": {},
     "output_type": "execute_result"
    }
   ],
   "source": [
    "df_summary = df_summary.transpose()\n",
    "df_summary"
   ]
  },
  {
   "cell_type": "code",
   "execution_count": null,
   "metadata": {
    "colab": {
     "base_uri": "https://localhost:8080/",
     "height": 175
    },
    "id": "O26CJ56HXx5m",
    "outputId": "2a041024-9a65-413c-ac29-fb07ebb4b710"
   },
   "outputs": [
    {
     "data": {
      "text/html": [
       "\n",
       "  <div id=\"df-eef0261f-ac37-4bc3-8004-e2d37e8542df\">\n",
       "    <div class=\"colab-df-container\">\n",
       "      <div>\n",
       "<style scoped>\n",
       "    .dataframe tbody tr th:only-of-type {\n",
       "        vertical-align: middle;\n",
       "    }\n",
       "\n",
       "    .dataframe tbody tr th {\n",
       "        vertical-align: top;\n",
       "    }\n",
       "\n",
       "    .dataframe thead th {\n",
       "        text-align: right;\n",
       "    }\n",
       "</style>\n",
       "<table border=\"1\" class=\"dataframe\">\n",
       "  <thead>\n",
       "    <tr style=\"text-align: right;\">\n",
       "      <th></th>\n",
       "      <th>pos</th>\n",
       "      <th>neg</th>\n",
       "      <th>sentiment</th>\n",
       "    </tr>\n",
       "  </thead>\n",
       "  <tbody>\n",
       "    <tr>\n",
       "      <th>overall</th>\n",
       "      <td>33</td>\n",
       "      <td>4</td>\n",
       "      <td>0.78</td>\n",
       "    </tr>\n",
       "    <tr>\n",
       "      <th>service</th>\n",
       "      <td>5</td>\n",
       "      <td>0</td>\n",
       "      <td>1.00</td>\n",
       "    </tr>\n",
       "    <tr>\n",
       "      <th>price</th>\n",
       "      <td>3</td>\n",
       "      <td>0</td>\n",
       "      <td>1.00</td>\n",
       "    </tr>\n",
       "    <tr>\n",
       "      <th>food</th>\n",
       "      <td>42</td>\n",
       "      <td>4</td>\n",
       "      <td>0.83</td>\n",
       "    </tr>\n",
       "  </tbody>\n",
       "</table>\n",
       "</div>\n",
       "      <button class=\"colab-df-convert\" onclick=\"convertToInteractive('df-eef0261f-ac37-4bc3-8004-e2d37e8542df')\"\n",
       "              title=\"Convert this dataframe to an interactive table.\"\n",
       "              style=\"display:none;\">\n",
       "        \n",
       "  <svg xmlns=\"http://www.w3.org/2000/svg\" height=\"24px\"viewBox=\"0 0 24 24\"\n",
       "       width=\"24px\">\n",
       "    <path d=\"M0 0h24v24H0V0z\" fill=\"none\"/>\n",
       "    <path d=\"M18.56 5.44l.94 2.06.94-2.06 2.06-.94-2.06-.94-.94-2.06-.94 2.06-2.06.94zm-11 1L8.5 8.5l.94-2.06 2.06-.94-2.06-.94L8.5 2.5l-.94 2.06-2.06.94zm10 10l.94 2.06.94-2.06 2.06-.94-2.06-.94-.94-2.06-.94 2.06-2.06.94z\"/><path d=\"M17.41 7.96l-1.37-1.37c-.4-.4-.92-.59-1.43-.59-.52 0-1.04.2-1.43.59L10.3 9.45l-7.72 7.72c-.78.78-.78 2.05 0 2.83L4 21.41c.39.39.9.59 1.41.59.51 0 1.02-.2 1.41-.59l7.78-7.78 2.81-2.81c.8-.78.8-2.07 0-2.86zM5.41 20L4 18.59l7.72-7.72 1.47 1.35L5.41 20z\"/>\n",
       "  </svg>\n",
       "      </button>\n",
       "      \n",
       "  <style>\n",
       "    .colab-df-container {\n",
       "      display:flex;\n",
       "      flex-wrap:wrap;\n",
       "      gap: 12px;\n",
       "    }\n",
       "\n",
       "    .colab-df-convert {\n",
       "      background-color: #E8F0FE;\n",
       "      border: none;\n",
       "      border-radius: 50%;\n",
       "      cursor: pointer;\n",
       "      display: none;\n",
       "      fill: #1967D2;\n",
       "      height: 32px;\n",
       "      padding: 0 0 0 0;\n",
       "      width: 32px;\n",
       "    }\n",
       "\n",
       "    .colab-df-convert:hover {\n",
       "      background-color: #E2EBFA;\n",
       "      box-shadow: 0px 1px 2px rgba(60, 64, 67, 0.3), 0px 1px 3px 1px rgba(60, 64, 67, 0.15);\n",
       "      fill: #174EA6;\n",
       "    }\n",
       "\n",
       "    [theme=dark] .colab-df-convert {\n",
       "      background-color: #3B4455;\n",
       "      fill: #D2E3FC;\n",
       "    }\n",
       "\n",
       "    [theme=dark] .colab-df-convert:hover {\n",
       "      background-color: #434B5C;\n",
       "      box-shadow: 0px 1px 3px 1px rgba(0, 0, 0, 0.15);\n",
       "      filter: drop-shadow(0px 1px 2px rgba(0, 0, 0, 0.3));\n",
       "      fill: #FFFFFF;\n",
       "    }\n",
       "  </style>\n",
       "\n",
       "      <script>\n",
       "        const buttonEl =\n",
       "          document.querySelector('#df-eef0261f-ac37-4bc3-8004-e2d37e8542df button.colab-df-convert');\n",
       "        buttonEl.style.display =\n",
       "          google.colab.kernel.accessAllowed ? 'block' : 'none';\n",
       "\n",
       "        async function convertToInteractive(key) {\n",
       "          const element = document.querySelector('#df-eef0261f-ac37-4bc3-8004-e2d37e8542df');\n",
       "          const dataTable =\n",
       "            await google.colab.kernel.invokeFunction('convertToInteractive',\n",
       "                                                     [key], {});\n",
       "          if (!dataTable) return;\n",
       "\n",
       "          const docLinkHtml = 'Like what you see? Visit the ' +\n",
       "            '<a target=\"_blank\" href=https://colab.research.google.com/notebooks/data_table.ipynb>data table notebook</a>'\n",
       "            + ' to learn more about interactive tables.';\n",
       "          element.innerHTML = '';\n",
       "          dataTable['output_type'] = 'display_data';\n",
       "          await google.colab.output.renderOutput(dataTable, element);\n",
       "          const docLink = document.createElement('div');\n",
       "          docLink.innerHTML = docLinkHtml;\n",
       "          element.appendChild(docLink);\n",
       "        }\n",
       "      </script>\n",
       "    </div>\n",
       "  </div>\n",
       "  "
      ],
      "text/plain": [
       "         pos  neg  sentiment\n",
       "overall   33    4       0.78\n",
       "service    5    0       1.00\n",
       "price      3    0       1.00\n",
       "food      42    4       0.83"
      ]
     },
     "execution_count": 24,
     "metadata": {},
     "output_type": "execute_result"
    }
   ],
   "source": [
    "# Represent overall sentiment for the categary, sentiment score = (Pos-Neg)/Total\n",
    "# sentiment score <1 means neg>0 (there is some negativity in the reviews)\n",
    "Diff = df_summary[\"pos\"]-df_summary[\"neg\"]\n",
    "Total = df_summary[\"neg\"]+df_summary[\"pos\"]\n",
    "df_summary[\"sentiment\"] = np.round((Diff/Total),2)\n",
    "df_summary"
   ]
  },
  {
   "cell_type": "markdown",
   "metadata": {
    "id": "Pixk7yGaPGOK"
   },
   "source": [
    "Treemap for Visualization"
   ]
  },
  {
   "cell_type": "code",
   "execution_count": null,
   "metadata": {
    "id": "6Gg7xLEtNT87"
   },
   "outputs": [],
   "source": [
    "# For each category we produce a square\n",
    "# Size of the square = how many sentences are there (larger square means more sentences are there for that category)\n",
    "# Color of the square = overall sentiment (darker means more positive)"
   ]
  },
  {
   "cell_type": "code",
   "execution_count": null,
   "metadata": {
    "colab": {
     "base_uri": "https://localhost:8080/",
     "height": 523
    },
    "id": "Qtp3AHx-Xx5r",
    "outputId": "cbef19eb-6aee-495b-f2f8-3007b528638d"
   },
   "outputs": [
    {
     "data": {
      "text/plain": [
       "Text(0.5, 1.0, 'Sentiment Heat Map of Restaurant Aspects')"
      ]
     },
     "execution_count": 26,
     "metadata": {},
     "output_type": "execute_result"
    },
    {
     "data": {
      "image/png": "[encoded data removed]",
      "text/plain": [
       "<Figure size 864x576 with 1 Axes>"
      ]
     },
     "metadata": {
      "needs_background": "light"
     },
     "output_type": "display_data"
    }
   ],
   "source": [
    "norm = matplotlib.colors.Normalize(vmin=min(df_summary['sentiment']), vmax=max(df_summary['sentiment']))\n",
    "colors = [matplotlib.cm.Reds(norm(value)) for value in df_summary['sentiment']]\n",
    "\n",
    "fig = plt.gcf()\n",
    "fig.set_size_inches(12, 8)\n",
    "\n",
    "squarify.plot(label=df_summary.index,\n",
    "              sizes=Total, \n",
    "              value = df_summary['sentiment'],\n",
    "              color = colors, \n",
    "              alpha=.5, \n",
    "              pad =True)\n",
    "\n",
    "plt.title(\"Sentiment Heat Map of Restaurant Aspects\",fontsize=20,fontweight=\"bold\")"
   ]
  },
  {
   "cell_type": "markdown",
   "metadata": {
    "id": "RR4AJyzTXx5r"
   },
   "source": [
    "### Conclusion\n",
    "This example illustrates how the reviews are categorised and sentiment classified based on 3 aspect categories - food, price and service, with the rest as overall.\n",
    "\n",
    "There are many ways to improve on it. This includes:\n",
    " - using lemmatization to identify mapped words\n",
    " - integrating with consistuency parsing to obtain NP chunks\n",
    " - using customized sentiment classifier\n",
    " - using co-reference resolution. The latter is useful as many of the pronouns like 'it', 'they'  have no identified targets in the subsequent sentences. They should similarly be mapped to the relevant entities and aspects."
   ]
  },
  {
   "cell_type": "markdown",
   "metadata": {
    "id": "Xu9iSrG9Xx5s"
   },
   "source": [
    "### Exercise\n",
    "\n",
    "- Perform the same exercise on another set of data - this time for rows of the airline sentiment data. What are the difficulties that you face? What aspects (and groups) do you consider in this case (heuristically)?"
   ]
  }
 ],
 "metadata": {
  "colab": {
   "collapsed_sections": [],
   "name": "1_Entity_and_Aspect_Mining_with_Heuristics.ipynb",
   "provenance": []
  },
  "kernelspec": {
   "display_name": "Python 3",
   "language": "python",
   "name": "python3"
  },
  "language_info": {
   "codemirror_mode": {
    "name": "ipython",
    "version": 3
   },
   "file_extension": ".py",
   "mimetype": "text/x-python",
   "name": "python",
   "nbconvert_exporter": "python",
   "pygments_lexer": "ipython3",
   "version": "3.8.8"
  }
 },
 "nbformat": 4,
 "nbformat_minor": 1
}
