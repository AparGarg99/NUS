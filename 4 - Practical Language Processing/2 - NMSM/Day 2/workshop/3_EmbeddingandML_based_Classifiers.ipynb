{
  "nbformat": 4,
  "nbformat_minor": 0,
  "metadata": {
    "colab": {
      "name": "3_EmbeddingandML-based_Classifiers.ipynb",
      "provenance": [],
      "collapsed_sections": []
    },
    "kernelspec": {
      "name": "python3",
      "display_name": "Python 3"
    },
    "language_info": {
      "name": "python"
    }
  },
  "cells": [
    {
      "cell_type": "markdown",
      "source": [
        "# Import Libraries"
      ],
      "metadata": {
        "id": "8VecLtANMWpQ"
      }
    },
    {
      "cell_type": "code",
      "execution_count": 1,
      "metadata": {
        "id": "hQ2JgHcQ9vq6"
      },
      "outputs": [],
      "source": [
        "# feature extraction\n",
        "from sklearn.feature_extraction.text import TfidfVectorizer\n",
        "\n",
        "# feature selection\n",
        "from sklearn.feature_selection import SelectKBest\n",
        "from sklearn.feature_selection import chi2\n",
        "\n",
        "# models\n",
        "from sklearn.svm import LinearSVC\n",
        "from sklearn.tree import DecisionTreeClassifier\n",
        "from sklearn.neighbors import KNeighborsClassifier\n",
        "from sklearn.naive_bayes import MultinomialNB\n",
        "from sklearn.linear_model import LogisticRegression\n",
        "from sklearn.pipeline import Pipeline\n",
        "from sklearn.model_selection import StratifiedShuffleSplit\n",
        "\n",
        "# evaluation metrics\n",
        "from sklearn.metrics import confusion_matrix\n",
        "from sklearn.metrics import classification_report\n",
        "from sklearn.metrics import accuracy_score\n",
        "from sklearn.metrics import precision_score\n",
        "from sklearn.metrics import recall_score\n",
        "from sklearn.metrics import f1_score\n",
        "\n",
        "# visualization\n",
        "import matplotlib.pyplot as plt\n",
        "import seaborn as sns\n",
        "\n",
        "# embeddings\n",
        "from gensim.models.word2vec import Word2Vec \n",
        "\n",
        "# others\n",
        "import nltk\n",
        "import re \n",
        "import pandas as pd\n",
        "import numpy as np\n",
        "import pickle as pk\n",
        "import struct\n",
        "import warnings\n",
        "warnings.filterwarnings(\"ignore\")"
      ]
    },
    {
      "cell_type": "markdown",
      "source": [
        "# Read Dataset"
      ],
      "metadata": {
        "id": "hcBXc9XSBtaZ"
      }
    },
    {
      "cell_type": "code",
      "source": [
        "training = pd.read_csv('train.csv', encoding=\"utf-8\").iloc[:,-2:]\n",
        "training.head()"
      ],
      "metadata": {
        "colab": {
          "base_uri": "https://localhost:8080/",
          "height": 206
        },
        "id": "DxS4glk1975t",
        "outputId": "ad32ca6e-c079-4791-fb21-7eea6a05b557"
      },
      "execution_count": 2,
      "outputs": [
        {
          "output_type": "execute_result",
          "data": {
            "text/html": [
              "\n",
              "  <div id=\"df-8ffb0fb7-6fea-47ac-9b29-29161dac9ed0\">\n",
              "    <div class=\"colab-df-container\">\n",
              "      <div>\n",
              "<style scoped>\n",
              "    .dataframe tbody tr th:only-of-type {\n",
              "        vertical-align: middle;\n",
              "    }\n",
              "\n",
              "    .dataframe tbody tr th {\n",
              "        vertical-align: top;\n",
              "    }\n",
              "\n",
              "    .dataframe thead th {\n",
              "        text-align: right;\n",
              "    }\n",
              "</style>\n",
              "<table border=\"1\" class=\"dataframe\">\n",
              "  <thead>\n",
              "    <tr style=\"text-align: right;\">\n",
              "      <th></th>\n",
              "      <th>text</th>\n",
              "      <th>Sentiment</th>\n",
              "    </tr>\n",
              "  </thead>\n",
              "  <tbody>\n",
              "    <tr>\n",
              "      <th>0</th>\n",
              "      <td>I've been here many many times and have never ...</td>\n",
              "      <td>positive</td>\n",
              "    </tr>\n",
              "    <tr>\n",
              "      <th>1</th>\n",
              "      <td>I was actually really impressed, even though I...</td>\n",
              "      <td>positive</td>\n",
              "    </tr>\n",
              "    <tr>\n",
              "      <th>2</th>\n",
              "      <td>Excellent.  Can't say enough about the sampler...</td>\n",
              "      <td>positive</td>\n",
              "    </tr>\n",
              "    <tr>\n",
              "      <th>3</th>\n",
              "      <td>This was my first time here, a fellow yelper r...</td>\n",
              "      <td>positive</td>\n",
              "    </tr>\n",
              "    <tr>\n",
              "      <th>4</th>\n",
              "      <td>I went to BJ's when I lived in California.  Th...</td>\n",
              "      <td>positive</td>\n",
              "    </tr>\n",
              "  </tbody>\n",
              "</table>\n",
              "</div>\n",
              "      <button class=\"colab-df-convert\" onclick=\"convertToInteractive('df-8ffb0fb7-6fea-47ac-9b29-29161dac9ed0')\"\n",
              "              title=\"Convert this dataframe to an interactive table.\"\n",
              "              style=\"display:none;\">\n",
              "        \n",
              "  <svg xmlns=\"http://www.w3.org/2000/svg\" height=\"24px\"viewBox=\"0 0 24 24\"\n",
              "       width=\"24px\">\n",
              "    <path d=\"M0 0h24v24H0V0z\" fill=\"none\"/>\n",
              "    <path d=\"M18.56 5.44l.94 2.06.94-2.06 2.06-.94-2.06-.94-.94-2.06-.94 2.06-2.06.94zm-11 1L8.5 8.5l.94-2.06 2.06-.94-2.06-.94L8.5 2.5l-.94 2.06-2.06.94zm10 10l.94 2.06.94-2.06 2.06-.94-2.06-.94-.94-2.06-.94 2.06-2.06.94z\"/><path d=\"M17.41 7.96l-1.37-1.37c-.4-.4-.92-.59-1.43-.59-.52 0-1.04.2-1.43.59L10.3 9.45l-7.72 7.72c-.78.78-.78 2.05 0 2.83L4 21.41c.39.39.9.59 1.41.59.51 0 1.02-.2 1.41-.59l7.78-7.78 2.81-2.81c.8-.78.8-2.07 0-2.86zM5.41 20L4 18.59l7.72-7.72 1.47 1.35L5.41 20z\"/>\n",
              "  </svg>\n",
              "      </button>\n",
              "      \n",
              "  <style>\n",
              "    .colab-df-container {\n",
              "      display:flex;\n",
              "      flex-wrap:wrap;\n",
              "      gap: 12px;\n",
              "    }\n",
              "\n",
              "    .colab-df-convert {\n",
              "      background-color: #E8F0FE;\n",
              "      border: none;\n",
              "      border-radius: 50%;\n",
              "      cursor: pointer;\n",
              "      display: none;\n",
              "      fill: #1967D2;\n",
              "      height: 32px;\n",
              "      padding: 0 0 0 0;\n",
              "      width: 32px;\n",
              "    }\n",
              "\n",
              "    .colab-df-convert:hover {\n",
              "      background-color: #E2EBFA;\n",
              "      box-shadow: 0px 1px 2px rgba(60, 64, 67, 0.3), 0px 1px 3px 1px rgba(60, 64, 67, 0.15);\n",
              "      fill: #174EA6;\n",
              "    }\n",
              "\n",
              "    [theme=dark] .colab-df-convert {\n",
              "      background-color: #3B4455;\n",
              "      fill: #D2E3FC;\n",
              "    }\n",
              "\n",
              "    [theme=dark] .colab-df-convert:hover {\n",
              "      background-color: #434B5C;\n",
              "      box-shadow: 0px 1px 3px 1px rgba(0, 0, 0, 0.15);\n",
              "      filter: drop-shadow(0px 1px 2px rgba(0, 0, 0, 0.3));\n",
              "      fill: #FFFFFF;\n",
              "    }\n",
              "  </style>\n",
              "\n",
              "      <script>\n",
              "        const buttonEl =\n",
              "          document.querySelector('#df-8ffb0fb7-6fea-47ac-9b29-29161dac9ed0 button.colab-df-convert');\n",
              "        buttonEl.style.display =\n",
              "          google.colab.kernel.accessAllowed ? 'block' : 'none';\n",
              "\n",
              "        async function convertToInteractive(key) {\n",
              "          const element = document.querySelector('#df-8ffb0fb7-6fea-47ac-9b29-29161dac9ed0');\n",
              "          const dataTable =\n",
              "            await google.colab.kernel.invokeFunction('convertToInteractive',\n",
              "                                                     [key], {});\n",
              "          if (!dataTable) return;\n",
              "\n",
              "          const docLinkHtml = 'Like what you see? Visit the ' +\n",
              "            '<a target=\"_blank\" href=https://colab.research.google.com/notebooks/data_table.ipynb>data table notebook</a>'\n",
              "            + ' to learn more about interactive tables.';\n",
              "          element.innerHTML = '';\n",
              "          dataTable['output_type'] = 'display_data';\n",
              "          await google.colab.output.renderOutput(dataTable, element);\n",
              "          const docLink = document.createElement('div');\n",
              "          docLink.innerHTML = docLinkHtml;\n",
              "          element.appendChild(docLink);\n",
              "        }\n",
              "      </script>\n",
              "    </div>\n",
              "  </div>\n",
              "  "
            ],
            "text/plain": [
              "                                                text Sentiment\n",
              "0  I've been here many many times and have never ...  positive\n",
              "1  I was actually really impressed, even though I...  positive\n",
              "2  Excellent.  Can't say enough about the sampler...  positive\n",
              "3  This was my first time here, a fellow yelper r...  positive\n",
              "4  I went to BJ's when I lived in California.  Th...  positive"
            ]
          },
          "metadata": {},
          "execution_count": 2
        }
      ]
    },
    {
      "cell_type": "code",
      "source": [
        "testing  = pd.read_csv('test.csv', encoding=\"utf-8\").iloc[:,-2:]\n",
        "testing.head()"
      ],
      "metadata": {
        "colab": {
          "base_uri": "https://localhost:8080/",
          "height": 206
        },
        "id": "pnBeCWq3-3jZ",
        "outputId": "01e8cf33-bff6-43a5-e05d-5f2fe4aeae20"
      },
      "execution_count": 3,
      "outputs": [
        {
          "output_type": "execute_result",
          "data": {
            "text/html": [
              "\n",
              "  <div id=\"df-c1e59968-6c22-451b-b346-89a27dace32a\">\n",
              "    <div class=\"colab-df-container\">\n",
              "      <div>\n",
              "<style scoped>\n",
              "    .dataframe tbody tr th:only-of-type {\n",
              "        vertical-align: middle;\n",
              "    }\n",
              "\n",
              "    .dataframe tbody tr th {\n",
              "        vertical-align: top;\n",
              "    }\n",
              "\n",
              "    .dataframe thead th {\n",
              "        text-align: right;\n",
              "    }\n",
              "</style>\n",
              "<table border=\"1\" class=\"dataframe\">\n",
              "  <thead>\n",
              "    <tr style=\"text-align: right;\">\n",
              "      <th></th>\n",
              "      <th>text</th>\n",
              "      <th>Sentiment</th>\n",
              "    </tr>\n",
              "  </thead>\n",
              "  <tbody>\n",
              "    <tr>\n",
              "      <th>0</th>\n",
              "      <td>This place = Failtown, USA.\\n\\n\\n\\nMy friends ...</td>\n",
              "      <td>negative</td>\n",
              "    </tr>\n",
              "    <tr>\n",
              "      <th>1</th>\n",
              "      <td>Yes, as someone stated before, this place make...</td>\n",
              "      <td>negative</td>\n",
              "    </tr>\n",
              "    <tr>\n",
              "      <th>2</th>\n",
              "      <td>Ahhh the infamous Heart Attack Grill. \\n\\nList...</td>\n",
              "      <td>negative</td>\n",
              "    </tr>\n",
              "    <tr>\n",
              "      <th>3</th>\n",
              "      <td>One of the WORST experiences of my life.  My f...</td>\n",
              "      <td>negative</td>\n",
              "    </tr>\n",
              "    <tr>\n",
              "      <th>4</th>\n",
              "      <td>I saw the Heart Attack Grill on television and...</td>\n",
              "      <td>negative</td>\n",
              "    </tr>\n",
              "  </tbody>\n",
              "</table>\n",
              "</div>\n",
              "      <button class=\"colab-df-convert\" onclick=\"convertToInteractive('df-c1e59968-6c22-451b-b346-89a27dace32a')\"\n",
              "              title=\"Convert this dataframe to an interactive table.\"\n",
              "              style=\"display:none;\">\n",
              "        \n",
              "  <svg xmlns=\"http://www.w3.org/2000/svg\" height=\"24px\"viewBox=\"0 0 24 24\"\n",
              "       width=\"24px\">\n",
              "    <path d=\"M0 0h24v24H0V0z\" fill=\"none\"/>\n",
              "    <path d=\"M18.56 5.44l.94 2.06.94-2.06 2.06-.94-2.06-.94-.94-2.06-.94 2.06-2.06.94zm-11 1L8.5 8.5l.94-2.06 2.06-.94-2.06-.94L8.5 2.5l-.94 2.06-2.06.94zm10 10l.94 2.06.94-2.06 2.06-.94-2.06-.94-.94-2.06-.94 2.06-2.06.94z\"/><path d=\"M17.41 7.96l-1.37-1.37c-.4-.4-.92-.59-1.43-.59-.52 0-1.04.2-1.43.59L10.3 9.45l-7.72 7.72c-.78.78-.78 2.05 0 2.83L4 21.41c.39.39.9.59 1.41.59.51 0 1.02-.2 1.41-.59l7.78-7.78 2.81-2.81c.8-.78.8-2.07 0-2.86zM5.41 20L4 18.59l7.72-7.72 1.47 1.35L5.41 20z\"/>\n",
              "  </svg>\n",
              "      </button>\n",
              "      \n",
              "  <style>\n",
              "    .colab-df-container {\n",
              "      display:flex;\n",
              "      flex-wrap:wrap;\n",
              "      gap: 12px;\n",
              "    }\n",
              "\n",
              "    .colab-df-convert {\n",
              "      background-color: #E8F0FE;\n",
              "      border: none;\n",
              "      border-radius: 50%;\n",
              "      cursor: pointer;\n",
              "      display: none;\n",
              "      fill: #1967D2;\n",
              "      height: 32px;\n",
              "      padding: 0 0 0 0;\n",
              "      width: 32px;\n",
              "    }\n",
              "\n",
              "    .colab-df-convert:hover {\n",
              "      background-color: #E2EBFA;\n",
              "      box-shadow: 0px 1px 2px rgba(60, 64, 67, 0.3), 0px 1px 3px 1px rgba(60, 64, 67, 0.15);\n",
              "      fill: #174EA6;\n",
              "    }\n",
              "\n",
              "    [theme=dark] .colab-df-convert {\n",
              "      background-color: #3B4455;\n",
              "      fill: #D2E3FC;\n",
              "    }\n",
              "\n",
              "    [theme=dark] .colab-df-convert:hover {\n",
              "      background-color: #434B5C;\n",
              "      box-shadow: 0px 1px 3px 1px rgba(0, 0, 0, 0.15);\n",
              "      filter: drop-shadow(0px 1px 2px rgba(0, 0, 0, 0.3));\n",
              "      fill: #FFFFFF;\n",
              "    }\n",
              "  </style>\n",
              "\n",
              "      <script>\n",
              "        const buttonEl =\n",
              "          document.querySelector('#df-c1e59968-6c22-451b-b346-89a27dace32a button.colab-df-convert');\n",
              "        buttonEl.style.display =\n",
              "          google.colab.kernel.accessAllowed ? 'block' : 'none';\n",
              "\n",
              "        async function convertToInteractive(key) {\n",
              "          const element = document.querySelector('#df-c1e59968-6c22-451b-b346-89a27dace32a');\n",
              "          const dataTable =\n",
              "            await google.colab.kernel.invokeFunction('convertToInteractive',\n",
              "                                                     [key], {});\n",
              "          if (!dataTable) return;\n",
              "\n",
              "          const docLinkHtml = 'Like what you see? Visit the ' +\n",
              "            '<a target=\"_blank\" href=https://colab.research.google.com/notebooks/data_table.ipynb>data table notebook</a>'\n",
              "            + ' to learn more about interactive tables.';\n",
              "          element.innerHTML = '';\n",
              "          dataTable['output_type'] = 'display_data';\n",
              "          await google.colab.output.renderOutput(dataTable, element);\n",
              "          const docLink = document.createElement('div');\n",
              "          docLink.innerHTML = docLinkHtml;\n",
              "          element.appendChild(docLink);\n",
              "        }\n",
              "      </script>\n",
              "    </div>\n",
              "  </div>\n",
              "  "
            ],
            "text/plain": [
              "                                                text Sentiment\n",
              "0  This place = Failtown, USA.\\n\\n\\n\\nMy friends ...  negative\n",
              "1  Yes, as someone stated before, this place make...  negative\n",
              "2  Ahhh the infamous Heart Attack Grill. \\n\\nList...  negative\n",
              "3  One of the WORST experiences of my life.  My f...  negative\n",
              "4  I saw the Heart Attack Grill on television and...  negative"
            ]
          },
          "metadata": {},
          "execution_count": 3
        }
      ]
    },
    {
      "cell_type": "markdown",
      "source": [
        "# Lowercase Text"
      ],
      "metadata": {
        "id": "iWGHMc7ZASl4"
      }
    },
    {
      "cell_type": "code",
      "source": [
        "training['text'] = training['text'].apply(lambda x:x.lower())\n",
        "testing['text'] = testing['text'].apply(lambda x:x.lower())"
      ],
      "metadata": {
        "id": "CgGwKWUzAXqZ"
      },
      "execution_count": 4,
      "outputs": []
    },
    {
      "cell_type": "markdown",
      "source": [
        "# Label Encoding\n",
        "Positive to 1,Negative to -1 "
      ],
      "metadata": {
        "id": "UXI2mB2T_QZB"
      }
    },
    {
      "cell_type": "code",
      "source": [
        "map = {'positive':1, 'negative':-1}\n",
        "\n",
        "training['Sentiment'] = training['Sentiment'].replace(map)\n",
        "testing['Sentiment'] = testing['Sentiment'].replace(map)"
      ],
      "metadata": {
        "id": "dHNvCc_mA9WZ"
      },
      "execution_count": 5,
      "outputs": []
    },
    {
      "cell_type": "code",
      "source": [
        "training.head()"
      ],
      "metadata": {
        "colab": {
          "base_uri": "https://localhost:8080/",
          "height": 206
        },
        "id": "cfbHzVofBV55",
        "outputId": "94a4c187-5960-4e79-a9e2-209c9fef9e87"
      },
      "execution_count": 6,
      "outputs": [
        {
          "output_type": "execute_result",
          "data": {
            "text/html": [
              "\n",
              "  <div id=\"df-e9537268-a52b-4f4c-8c0b-75b8a8a61f69\">\n",
              "    <div class=\"colab-df-container\">\n",
              "      <div>\n",
              "<style scoped>\n",
              "    .dataframe tbody tr th:only-of-type {\n",
              "        vertical-align: middle;\n",
              "    }\n",
              "\n",
              "    .dataframe tbody tr th {\n",
              "        vertical-align: top;\n",
              "    }\n",
              "\n",
              "    .dataframe thead th {\n",
              "        text-align: right;\n",
              "    }\n",
              "</style>\n",
              "<table border=\"1\" class=\"dataframe\">\n",
              "  <thead>\n",
              "    <tr style=\"text-align: right;\">\n",
              "      <th></th>\n",
              "      <th>text</th>\n",
              "      <th>Sentiment</th>\n",
              "    </tr>\n",
              "  </thead>\n",
              "  <tbody>\n",
              "    <tr>\n",
              "      <th>0</th>\n",
              "      <td>i've been here many many times and have never ...</td>\n",
              "      <td>1</td>\n",
              "    </tr>\n",
              "    <tr>\n",
              "      <th>1</th>\n",
              "      <td>i was actually really impressed, even though i...</td>\n",
              "      <td>1</td>\n",
              "    </tr>\n",
              "    <tr>\n",
              "      <th>2</th>\n",
              "      <td>excellent.  can't say enough about the sampler...</td>\n",
              "      <td>1</td>\n",
              "    </tr>\n",
              "    <tr>\n",
              "      <th>3</th>\n",
              "      <td>this was my first time here, a fellow yelper r...</td>\n",
              "      <td>1</td>\n",
              "    </tr>\n",
              "    <tr>\n",
              "      <th>4</th>\n",
              "      <td>i went to bj's when i lived in california.  th...</td>\n",
              "      <td>1</td>\n",
              "    </tr>\n",
              "  </tbody>\n",
              "</table>\n",
              "</div>\n",
              "      <button class=\"colab-df-convert\" onclick=\"convertToInteractive('df-e9537268-a52b-4f4c-8c0b-75b8a8a61f69')\"\n",
              "              title=\"Convert this dataframe to an interactive table.\"\n",
              "              style=\"display:none;\">\n",
              "        \n",
              "  <svg xmlns=\"http://www.w3.org/2000/svg\" height=\"24px\"viewBox=\"0 0 24 24\"\n",
              "       width=\"24px\">\n",
              "    <path d=\"M0 0h24v24H0V0z\" fill=\"none\"/>\n",
              "    <path d=\"M18.56 5.44l.94 2.06.94-2.06 2.06-.94-2.06-.94-.94-2.06-.94 2.06-2.06.94zm-11 1L8.5 8.5l.94-2.06 2.06-.94-2.06-.94L8.5 2.5l-.94 2.06-2.06.94zm10 10l.94 2.06.94-2.06 2.06-.94-2.06-.94-.94-2.06-.94 2.06-2.06.94z\"/><path d=\"M17.41 7.96l-1.37-1.37c-.4-.4-.92-.59-1.43-.59-.52 0-1.04.2-1.43.59L10.3 9.45l-7.72 7.72c-.78.78-.78 2.05 0 2.83L4 21.41c.39.39.9.59 1.41.59.51 0 1.02-.2 1.41-.59l7.78-7.78 2.81-2.81c.8-.78.8-2.07 0-2.86zM5.41 20L4 18.59l7.72-7.72 1.47 1.35L5.41 20z\"/>\n",
              "  </svg>\n",
              "      </button>\n",
              "      \n",
              "  <style>\n",
              "    .colab-df-container {\n",
              "      display:flex;\n",
              "      flex-wrap:wrap;\n",
              "      gap: 12px;\n",
              "    }\n",
              "\n",
              "    .colab-df-convert {\n",
              "      background-color: #E8F0FE;\n",
              "      border: none;\n",
              "      border-radius: 50%;\n",
              "      cursor: pointer;\n",
              "      display: none;\n",
              "      fill: #1967D2;\n",
              "      height: 32px;\n",
              "      padding: 0 0 0 0;\n",
              "      width: 32px;\n",
              "    }\n",
              "\n",
              "    .colab-df-convert:hover {\n",
              "      background-color: #E2EBFA;\n",
              "      box-shadow: 0px 1px 2px rgba(60, 64, 67, 0.3), 0px 1px 3px 1px rgba(60, 64, 67, 0.15);\n",
              "      fill: #174EA6;\n",
              "    }\n",
              "\n",
              "    [theme=dark] .colab-df-convert {\n",
              "      background-color: #3B4455;\n",
              "      fill: #D2E3FC;\n",
              "    }\n",
              "\n",
              "    [theme=dark] .colab-df-convert:hover {\n",
              "      background-color: #434B5C;\n",
              "      box-shadow: 0px 1px 3px 1px rgba(0, 0, 0, 0.15);\n",
              "      filter: drop-shadow(0px 1px 2px rgba(0, 0, 0, 0.3));\n",
              "      fill: #FFFFFF;\n",
              "    }\n",
              "  </style>\n",
              "\n",
              "      <script>\n",
              "        const buttonEl =\n",
              "          document.querySelector('#df-e9537268-a52b-4f4c-8c0b-75b8a8a61f69 button.colab-df-convert');\n",
              "        buttonEl.style.display =\n",
              "          google.colab.kernel.accessAllowed ? 'block' : 'none';\n",
              "\n",
              "        async function convertToInteractive(key) {\n",
              "          const element = document.querySelector('#df-e9537268-a52b-4f4c-8c0b-75b8a8a61f69');\n",
              "          const dataTable =\n",
              "            await google.colab.kernel.invokeFunction('convertToInteractive',\n",
              "                                                     [key], {});\n",
              "          if (!dataTable) return;\n",
              "\n",
              "          const docLinkHtml = 'Like what you see? Visit the ' +\n",
              "            '<a target=\"_blank\" href=https://colab.research.google.com/notebooks/data_table.ipynb>data table notebook</a>'\n",
              "            + ' to learn more about interactive tables.';\n",
              "          element.innerHTML = '';\n",
              "          dataTable['output_type'] = 'display_data';\n",
              "          await google.colab.output.renderOutput(dataTable, element);\n",
              "          const docLink = document.createElement('div');\n",
              "          docLink.innerHTML = docLinkHtml;\n",
              "          element.appendChild(docLink);\n",
              "        }\n",
              "      </script>\n",
              "    </div>\n",
              "  </div>\n",
              "  "
            ],
            "text/plain": [
              "                                                text  Sentiment\n",
              "0  i've been here many many times and have never ...          1\n",
              "1  i was actually really impressed, even though i...          1\n",
              "2  excellent.  can't say enough about the sampler...          1\n",
              "3  this was my first time here, a fellow yelper r...          1\n",
              "4  i went to bj's when i lived in california.  th...          1"
            ]
          },
          "metadata": {},
          "execution_count": 6
        }
      ]
    },
    {
      "cell_type": "code",
      "source": [
        "testing.head()"
      ],
      "metadata": {
        "colab": {
          "base_uri": "https://localhost:8080/",
          "height": 206
        },
        "id": "zKroK-xOBY54",
        "outputId": "ed00c9fd-b503-45b1-c85f-1b6474e849df"
      },
      "execution_count": 7,
      "outputs": [
        {
          "output_type": "execute_result",
          "data": {
            "text/html": [
              "\n",
              "  <div id=\"df-7895d803-016a-44f0-90b5-4c1177982cd5\">\n",
              "    <div class=\"colab-df-container\">\n",
              "      <div>\n",
              "<style scoped>\n",
              "    .dataframe tbody tr th:only-of-type {\n",
              "        vertical-align: middle;\n",
              "    }\n",
              "\n",
              "    .dataframe tbody tr th {\n",
              "        vertical-align: top;\n",
              "    }\n",
              "\n",
              "    .dataframe thead th {\n",
              "        text-align: right;\n",
              "    }\n",
              "</style>\n",
              "<table border=\"1\" class=\"dataframe\">\n",
              "  <thead>\n",
              "    <tr style=\"text-align: right;\">\n",
              "      <th></th>\n",
              "      <th>text</th>\n",
              "      <th>Sentiment</th>\n",
              "    </tr>\n",
              "  </thead>\n",
              "  <tbody>\n",
              "    <tr>\n",
              "      <th>0</th>\n",
              "      <td>this place = failtown, usa.\\n\\n\\n\\nmy friends ...</td>\n",
              "      <td>-1</td>\n",
              "    </tr>\n",
              "    <tr>\n",
              "      <th>1</th>\n",
              "      <td>yes, as someone stated before, this place make...</td>\n",
              "      <td>-1</td>\n",
              "    </tr>\n",
              "    <tr>\n",
              "      <th>2</th>\n",
              "      <td>ahhh the infamous heart attack grill. \\n\\nlist...</td>\n",
              "      <td>-1</td>\n",
              "    </tr>\n",
              "    <tr>\n",
              "      <th>3</th>\n",
              "      <td>one of the worst experiences of my life.  my f...</td>\n",
              "      <td>-1</td>\n",
              "    </tr>\n",
              "    <tr>\n",
              "      <th>4</th>\n",
              "      <td>i saw the heart attack grill on television and...</td>\n",
              "      <td>-1</td>\n",
              "    </tr>\n",
              "  </tbody>\n",
              "</table>\n",
              "</div>\n",
              "      <button class=\"colab-df-convert\" onclick=\"convertToInteractive('df-7895d803-016a-44f0-90b5-4c1177982cd5')\"\n",
              "              title=\"Convert this dataframe to an interactive table.\"\n",
              "              style=\"display:none;\">\n",
              "        \n",
              "  <svg xmlns=\"http://www.w3.org/2000/svg\" height=\"24px\"viewBox=\"0 0 24 24\"\n",
              "       width=\"24px\">\n",
              "    <path d=\"M0 0h24v24H0V0z\" fill=\"none\"/>\n",
              "    <path d=\"M18.56 5.44l.94 2.06.94-2.06 2.06-.94-2.06-.94-.94-2.06-.94 2.06-2.06.94zm-11 1L8.5 8.5l.94-2.06 2.06-.94-2.06-.94L8.5 2.5l-.94 2.06-2.06.94zm10 10l.94 2.06.94-2.06 2.06-.94-2.06-.94-.94-2.06-.94 2.06-2.06.94z\"/><path d=\"M17.41 7.96l-1.37-1.37c-.4-.4-.92-.59-1.43-.59-.52 0-1.04.2-1.43.59L10.3 9.45l-7.72 7.72c-.78.78-.78 2.05 0 2.83L4 21.41c.39.39.9.59 1.41.59.51 0 1.02-.2 1.41-.59l7.78-7.78 2.81-2.81c.8-.78.8-2.07 0-2.86zM5.41 20L4 18.59l7.72-7.72 1.47 1.35L5.41 20z\"/>\n",
              "  </svg>\n",
              "      </button>\n",
              "      \n",
              "  <style>\n",
              "    .colab-df-container {\n",
              "      display:flex;\n",
              "      flex-wrap:wrap;\n",
              "      gap: 12px;\n",
              "    }\n",
              "\n",
              "    .colab-df-convert {\n",
              "      background-color: #E8F0FE;\n",
              "      border: none;\n",
              "      border-radius: 50%;\n",
              "      cursor: pointer;\n",
              "      display: none;\n",
              "      fill: #1967D2;\n",
              "      height: 32px;\n",
              "      padding: 0 0 0 0;\n",
              "      width: 32px;\n",
              "    }\n",
              "\n",
              "    .colab-df-convert:hover {\n",
              "      background-color: #E2EBFA;\n",
              "      box-shadow: 0px 1px 2px rgba(60, 64, 67, 0.3), 0px 1px 3px 1px rgba(60, 64, 67, 0.15);\n",
              "      fill: #174EA6;\n",
              "    }\n",
              "\n",
              "    [theme=dark] .colab-df-convert {\n",
              "      background-color: #3B4455;\n",
              "      fill: #D2E3FC;\n",
              "    }\n",
              "\n",
              "    [theme=dark] .colab-df-convert:hover {\n",
              "      background-color: #434B5C;\n",
              "      box-shadow: 0px 1px 3px 1px rgba(0, 0, 0, 0.15);\n",
              "      filter: drop-shadow(0px 1px 2px rgba(0, 0, 0, 0.3));\n",
              "      fill: #FFFFFF;\n",
              "    }\n",
              "  </style>\n",
              "\n",
              "      <script>\n",
              "        const buttonEl =\n",
              "          document.querySelector('#df-7895d803-016a-44f0-90b5-4c1177982cd5 button.colab-df-convert');\n",
              "        buttonEl.style.display =\n",
              "          google.colab.kernel.accessAllowed ? 'block' : 'none';\n",
              "\n",
              "        async function convertToInteractive(key) {\n",
              "          const element = document.querySelector('#df-7895d803-016a-44f0-90b5-4c1177982cd5');\n",
              "          const dataTable =\n",
              "            await google.colab.kernel.invokeFunction('convertToInteractive',\n",
              "                                                     [key], {});\n",
              "          if (!dataTable) return;\n",
              "\n",
              "          const docLinkHtml = 'Like what you see? Visit the ' +\n",
              "            '<a target=\"_blank\" href=https://colab.research.google.com/notebooks/data_table.ipynb>data table notebook</a>'\n",
              "            + ' to learn more about interactive tables.';\n",
              "          element.innerHTML = '';\n",
              "          dataTable['output_type'] = 'display_data';\n",
              "          await google.colab.output.renderOutput(dataTable, element);\n",
              "          const docLink = document.createElement('div');\n",
              "          docLink.innerHTML = docLinkHtml;\n",
              "          element.appendChild(docLink);\n",
              "        }\n",
              "      </script>\n",
              "    </div>\n",
              "  </div>\n",
              "  "
            ],
            "text/plain": [
              "                                                text  Sentiment\n",
              "0  this place = failtown, usa.\\n\\n\\n\\nmy friends ...         -1\n",
              "1  yes, as someone stated before, this place make...         -1\n",
              "2  ahhh the infamous heart attack grill. \\n\\nlist...         -1\n",
              "3  one of the worst experiences of my life.  my f...         -1\n",
              "4  i saw the heart attack grill on television and...         -1"
            ]
          },
          "metadata": {},
          "execution_count": 7
        }
      ]
    },
    {
      "cell_type": "markdown",
      "source": [
        "# Train-test split"
      ],
      "metadata": {
        "id": "YBZ_SzpKBqaB"
      }
    },
    {
      "cell_type": "code",
      "source": [
        "X_train = training.iloc[:,0]\n",
        "y_train = training.iloc[:,1]\n",
        "\n",
        "X_test = testing.iloc[:,0]\n",
        "y_test = testing.iloc[:,1]"
      ],
      "metadata": {
        "id": "0T_69xDNB57y"
      },
      "execution_count": 8,
      "outputs": []
    },
    {
      "cell_type": "markdown",
      "source": [
        "# Functions"
      ],
      "metadata": {
        "id": "UfAzjRMFem0f"
      }
    },
    {
      "cell_type": "code",
      "source": [
        "def modeling(vectorizer,X_train,y_train):\n",
        "  names = ['Max Entropy/Logistic Regression model',\n",
        "           'KNN model',\n",
        "           'SVM model']\n",
        "\n",
        "  models = [\n",
        "            Pipeline([(\"vectorizer\", vectorizer), (\"LR\",LogisticRegression(random_state=0, solver='lbfgs'))]),\n",
        "            Pipeline([(\"vectorizer\",vectorizer), (\"KNN\",KNeighborsClassifier(n_neighbors = 3, weights = 'distance', metric = 'cosine', algorithm = 'brute'))]),\n",
        "            Pipeline([(\"vectorizer\",vectorizer ), (\"SVM\",LinearSVC(C=100))])\n",
        "            ]\n",
        "\n",
        "  for model,name in zip(models,names):\n",
        "    print(name)\n",
        "    print('-'*30)\n",
        "    model = model.fit(X_train, y_train)\n",
        "    y_pred = model.predict(X_test)\n",
        "    print(confusion_matrix(y_test, y_pred))\n",
        "    print(classification_report(y_test, y_pred))\n",
        "    print('*'*100)"
      ],
      "metadata": {
        "id": "Ke2T2U86elve"
      },
      "execution_count": 9,
      "outputs": []
    },
    {
      "cell_type": "code",
      "source": [
        "class MeanEmbeddingVectorizer(object):\n",
        "    def __init__(self, word2vec):\n",
        "        self.word2vec = word2vec\n",
        "        # if a text is empty we should return a vector of zeros\n",
        "        # with the same dimensionality as all the other vectors\n",
        "        if len(word2vec)>0:\n",
        "            self.dim=len(word2vec[next(iter(glove_small))])\n",
        "        else:\n",
        "            self.dim=0\n",
        "            \n",
        "    def fit(self, X,y):\n",
        "        return self \n",
        "\n",
        "    def transform(self, X):\n",
        "        return np.array([\n",
        "            np.mean([self.word2vec[w] for w in words if w in self.word2vec] \n",
        "                    or [np.zeros(self.dim)], axis=0)\n",
        "            for words in X\n",
        "        ])"
      ],
      "metadata": {
        "id": "UWQ9DxCFfGvm"
      },
      "execution_count": 10,
      "outputs": []
    },
    {
      "cell_type": "markdown",
      "source": [
        "# Create Word to Vector dictionary using Glove"
      ],
      "metadata": {
        "id": "r7WIbT2sXmL_"
      }
    },
    {
      "cell_type": "code",
      "source": [
        "GLOVE_6B_100D_PATH = '/content/drive/MyDrive/glove.6B.100d.txt'"
      ],
      "metadata": {
        "id": "LShro9wSTBXX"
      },
      "execution_count": 11,
      "outputs": []
    },
    {
      "cell_type": "code",
      "source": [
        "encoding=\"utf-8\"\n",
        "glove = {}\n",
        "with open(GLOVE_6B_100D_PATH, \"rb\") as infile:\n",
        "  for line in infile:\n",
        "    parts = line.split()\n",
        "    word = parts[0].decode(encoding)\n",
        "    nums=np.array(parts[1:], dtype=np.float32)\n",
        "    glove[word] = nums"
      ],
      "metadata": {
        "id": "2HVrYd0VS59N"
      },
      "execution_count": 12,
      "outputs": []
    },
    {
      "cell_type": "code",
      "source": [
        "glove['feel']"
      ],
      "metadata": {
        "colab": {
          "base_uri": "https://localhost:8080/"
        },
        "id": "U3lsnBtqUC-2",
        "outputId": "4d36e0c9-25d2-423d-940f-0efcce4bf2ad"
      },
      "execution_count": 13,
      "outputs": [
        {
          "output_type": "execute_result",
          "data": {
            "text/plain": [
              "array([-4.2895e-02,  7.0671e-01,  7.5316e-01, -5.9963e-01, -8.0169e-01,\n",
              "        6.0094e-01, -6.7419e-01,  2.3592e-01,  2.4005e-01, -3.6372e-01,\n",
              "       -2.2720e-01,  3.6026e-02,  4.6591e-01, -3.6233e-01, -3.1325e-01,\n",
              "       -3.6757e-01, -5.7255e-01,  3.0661e-01, -4.8606e-01,  6.3214e-01,\n",
              "        2.8931e-01,  6.0741e-01, -8.6788e-03, -6.8206e-01, -1.8410e-01,\n",
              "        2.4847e-01,  9.5902e-02, -6.9108e-01,  9.0869e-01, -3.9224e-01,\n",
              "        1.4345e-01,  7.8112e-01, -1.1601e-01,  6.0312e-02,  4.6300e-01,\n",
              "       -4.4191e-02,  1.4284e-01,  6.2234e-01,  2.3943e-01, -4.6815e-01,\n",
              "       -2.2553e-01, -3.1920e-01,  3.1397e-01, -4.2308e-01, -4.0827e-01,\n",
              "       -2.4659e-01,  5.1572e-01,  3.5494e-01,  3.1545e-01, -1.4043e+00,\n",
              "       -1.6486e-01, -5.5508e-02,  1.0260e-01,  6.1515e-01,  1.2691e-01,\n",
              "       -2.2379e+00,  6.9510e-01,  1.2609e-01,  1.0901e+00,  2.5953e-01,\n",
              "        2.2974e-01,  1.1125e+00, -1.0156e+00, -4.1881e-01,  3.8853e-01,\n",
              "       -4.8856e-02,  9.1775e-01,  1.9732e-03, -6.9162e-01, -5.8945e-01,\n",
              "        3.5722e-01, -5.2180e-01, -1.2020e-01, -1.3826e-01,  2.1568e-01,\n",
              "        5.7880e-01,  3.7060e-02, -5.7264e-02, -2.7097e-02, -2.5526e-01,\n",
              "       -3.9219e-01,  3.7948e-02, -8.5041e-01,  4.6354e-01, -1.6462e+00,\n",
              "       -2.7176e-01, -1.8171e-01, -3.8026e-02, -9.7623e-01, -5.1404e-01,\n",
              "        6.9445e-02, -4.6013e-01,  2.5073e-01, -5.0782e-01, -1.5645e-01,\n",
              "        1.2076e-01, -5.5868e-02, -5.4230e-01,  1.1809e-01,  3.9974e-01],\n",
              "      dtype=float32)"
            ]
          },
          "metadata": {},
          "execution_count": 13
        }
      ]
    },
    {
      "cell_type": "code",
      "source": [
        "print(len(glove))"
      ],
      "metadata": {
        "colab": {
          "base_uri": "https://localhost:8080/"
        },
        "id": "IeLZSU-vUe-H",
        "outputId": "6473c698-8b72-4057-8896-bebe511abf38"
      },
      "execution_count": 14,
      "outputs": [
        {
          "output_type": "stream",
          "name": "stdout",
          "text": [
            "400000\n"
          ]
        }
      ]
    },
    {
      "cell_type": "markdown",
      "source": [
        "Create Smaller Word to Vector dictionary"
      ],
      "metadata": {
        "id": "DUdOGleZez4-"
      }
    },
    {
      "cell_type": "code",
      "source": [
        "X = list(X_train)+list(X_test)\n",
        "X = [i.split() for i in X]\n",
        "all_words = set([item for sublist in X for item in sublist])\n",
        "\n",
        "print(len(list(all_words)))"
      ],
      "metadata": {
        "colab": {
          "base_uri": "https://localhost:8080/"
        },
        "id": "YL5XKUt_UmKw",
        "outputId": "799f0503-1df1-4bca-a2c6-b808aa416899"
      },
      "execution_count": 15,
      "outputs": [
        {
          "output_type": "stream",
          "name": "stdout",
          "text": [
            "95586\n"
          ]
        }
      ]
    },
    {
      "cell_type": "code",
      "source": [
        "glove_small = {}\n",
        "with open(GLOVE_6B_100D_PATH, \"rb\") as infile:\n",
        "  for line in infile:\n",
        "    parts = line.split()\n",
        "    word = parts[0].decode(encoding)\n",
        "    if (word in all_words):\n",
        "      nums=np.array(parts[1:], dtype=np.float32)\n",
        "      glove_small[word] = nums"
      ],
      "metadata": {
        "id": "CnH-_TSQUir_"
      },
      "execution_count": 16,
      "outputs": []
    },
    {
      "cell_type": "code",
      "source": [
        "print(len(glove_small))"
      ],
      "metadata": {
        "colab": {
          "base_uri": "https://localhost:8080/"
        },
        "id": "38xf3DHZWfbX",
        "outputId": "1aa36902-101c-40ab-b745-81d7cd52482f"
      },
      "execution_count": 17,
      "outputs": [
        {
          "output_type": "stream",
          "name": "stdout",
          "text": [
            "25804\n"
          ]
        }
      ]
    },
    {
      "cell_type": "code",
      "source": [
        "vectorizer1 = MeanEmbeddingVectorizer(glove_small)\n",
        "modeling(vectorizer1,X_train,y_train)"
      ],
      "metadata": {
        "colab": {
          "base_uri": "https://localhost:8080/"
        },
        "id": "mi5IGmxRz65U",
        "outputId": "01ff3f02-3bb4-494a-a10a-8a1023b5df85"
      },
      "execution_count": 18,
      "outputs": [
        {
          "output_type": "stream",
          "name": "stdout",
          "text": [
            "Max Entropy/Logistic Regression model\n",
            "------------------------------\n",
            "[[1492  305]\n",
            " [1038  962]]\n",
            "              precision    recall  f1-score   support\n",
            "\n",
            "          -1       0.59      0.83      0.69      1797\n",
            "           1       0.76      0.48      0.59      2000\n",
            "\n",
            "    accuracy                           0.65      3797\n",
            "   macro avg       0.67      0.66      0.64      3797\n",
            "weighted avg       0.68      0.65      0.64      3797\n",
            "\n",
            "****************************************************************************************************\n",
            "KNN model\n",
            "------------------------------\n",
            "[[1204  593]\n",
            " [ 806 1194]]\n",
            "              precision    recall  f1-score   support\n",
            "\n",
            "          -1       0.60      0.67      0.63      1797\n",
            "           1       0.67      0.60      0.63      2000\n",
            "\n",
            "    accuracy                           0.63      3797\n",
            "   macro avg       0.63      0.63      0.63      3797\n",
            "weighted avg       0.64      0.63      0.63      3797\n",
            "\n",
            "****************************************************************************************************\n",
            "SVM model\n",
            "------------------------------\n",
            "[[ 156 1641]\n",
            " [  37 1963]]\n",
            "              precision    recall  f1-score   support\n",
            "\n",
            "          -1       0.81      0.09      0.16      1797\n",
            "           1       0.54      0.98      0.70      2000\n",
            "\n",
            "    accuracy                           0.56      3797\n",
            "   macro avg       0.68      0.53      0.43      3797\n",
            "weighted avg       0.67      0.56      0.44      3797\n",
            "\n",
            "****************************************************************************************************\n"
          ]
        }
      ]
    },
    {
      "cell_type": "markdown",
      "source": [
        "# Custom Word2Vec embeddings"
      ],
      "metadata": {
        "id": "mFAdKHaIeLE-"
      }
    },
    {
      "cell_type": "code",
      "source": [
        "model = Word2Vec(X, size=100, window=5, min_count=2, workers=2)\n",
        "w2v = {w: vec for w, vec in zip(model.wv.index2word, model.wv.syn0)}"
      ],
      "metadata": {
        "id": "hLPA-LZpZ7Fm"
      },
      "execution_count": 19,
      "outputs": []
    },
    {
      "cell_type": "code",
      "source": [
        "print(len(w2v))"
      ],
      "metadata": {
        "colab": {
          "base_uri": "https://localhost:8080/"
        },
        "id": "tNDmLX0jcoiW",
        "outputId": "8a9df41c-ac78-4fd5-bba0-06aa7f6a1735"
      },
      "execution_count": 20,
      "outputs": [
        {
          "output_type": "stream",
          "name": "stdout",
          "text": [
            "41892\n"
          ]
        }
      ]
    },
    {
      "cell_type": "code",
      "source": [
        "w2v['hash']"
      ],
      "metadata": {
        "colab": {
          "base_uri": "https://localhost:8080/"
        },
        "id": "DA1Jo84NdZin",
        "outputId": "cab36631-2bda-416a-b855-d5dd7e73d032"
      },
      "execution_count": 21,
      "outputs": [
        {
          "output_type": "execute_result",
          "data": {
            "text/plain": [
              "array([ 2.1810286e-01, -4.2338952e-01,  1.1922845e-01,  4.3781570e-01,\n",
              "       -1.0294294e+00, -1.9843459e+00,  9.1950320e-02, -4.7009540e-01,\n",
              "        5.0429773e-01, -2.1811996e-01,  2.9978237e-01,  4.7604352e-01,\n",
              "       -4.7936612e-01, -6.3335083e-02,  2.0788278e-01,  1.3412334e-01,\n",
              "        1.1814268e-02,  6.6635972e-01,  3.8056520e-01,  1.5901063e-02,\n",
              "        4.4774124e-01, -3.5930613e-01, -1.2763381e+00, -3.9287828e-02,\n",
              "        3.4656867e-01, -1.8739043e+00, -5.0062895e-01,  3.9708126e-01,\n",
              "        6.9141388e-01,  4.3232524e-01, -2.2058699e-01, -4.5003691e-01,\n",
              "       -5.5519789e-01,  1.8154200e+00,  2.6911110e-01, -2.4108827e-04,\n",
              "        2.9143986e-01, -6.0309285e-01,  8.9620554e-01, -9.2829263e-01,\n",
              "        1.1838235e+00, -2.3746103e-01,  1.1494856e+00, -5.6245661e-01,\n",
              "       -4.9866426e-01, -5.5814618e-01,  5.8655357e-01,  1.3115320e-01,\n",
              "       -3.8981754e-01, -1.8178450e-01,  6.8551445e-01, -1.4277525e+00,\n",
              "        3.1813869e-01, -1.4764047e+00,  1.0634351e+00, -7.3247755e-01,\n",
              "        1.7239019e-01, -4.4637629e-01,  3.5520488e-01,  1.5390529e-01,\n",
              "        5.9275937e-01,  5.9621805e-01,  7.7784497e-01,  1.8648256e-01,\n",
              "       -2.6984218e-01, -1.2793801e+00,  8.7343389e-01, -3.5467085e-01,\n",
              "        1.9652669e-01, -6.9684583e-01,  1.6501175e+00, -5.1337445e-01,\n",
              "        1.1017090e-01, -2.6013696e-01,  4.4110797e-02,  6.3379985e-01,\n",
              "        1.3990231e-01,  7.7831835e-01, -2.4966252e-01,  7.8813416e-01,\n",
              "        3.8362637e-01, -6.7127156e-01, -6.9623023e-01, -4.5130244e-01,\n",
              "       -2.3488136e-01, -4.3282887e-01, -6.5560472e-01, -1.1637217e+00,\n",
              "        2.0436358e-01,  5.3161073e-01,  8.7735757e-02,  3.7724674e-01,\n",
              "        9.4679648e-01,  5.2492332e-01,  2.8861085e-01,  5.2699053e-01,\n",
              "       -1.7297025e-01, -3.5604626e-01,  1.3286524e-01, -3.5428759e-02],\n",
              "      dtype=float32)"
            ]
          },
          "metadata": {},
          "execution_count": 21
        }
      ]
    },
    {
      "cell_type": "code",
      "source": [
        "vectorizer2 = MeanEmbeddingVectorizer(w2v)\n",
        "modeling(vectorizer2,X_train,y_train)"
      ],
      "metadata": {
        "colab": {
          "base_uri": "https://localhost:8080/"
        },
        "id": "5w6gehGIgMo2",
        "outputId": "4d7554e6-b0b8-4a04-d8d4-6f795927ca11"
      },
      "execution_count": 22,
      "outputs": [
        {
          "output_type": "stream",
          "name": "stdout",
          "text": [
            "Max Entropy/Logistic Regression model\n",
            "------------------------------\n",
            "[[1493  304]\n",
            " [1109  891]]\n",
            "              precision    recall  f1-score   support\n",
            "\n",
            "          -1       0.57      0.83      0.68      1797\n",
            "           1       0.75      0.45      0.56      2000\n",
            "\n",
            "    accuracy                           0.63      3797\n",
            "   macro avg       0.66      0.64      0.62      3797\n",
            "weighted avg       0.66      0.63      0.62      3797\n",
            "\n",
            "****************************************************************************************************\n",
            "KNN model\n",
            "------------------------------\n",
            "[[1159  638]\n",
            " [ 792 1208]]\n",
            "              precision    recall  f1-score   support\n",
            "\n",
            "          -1       0.59      0.64      0.62      1797\n",
            "           1       0.65      0.60      0.63      2000\n",
            "\n",
            "    accuracy                           0.62      3797\n",
            "   macro avg       0.62      0.62      0.62      3797\n",
            "weighted avg       0.63      0.62      0.62      3797\n",
            "\n",
            "****************************************************************************************************\n",
            "SVM model\n",
            "------------------------------\n",
            "[[1711   86]\n",
            " [1530  470]]\n",
            "              precision    recall  f1-score   support\n",
            "\n",
            "          -1       0.53      0.95      0.68      1797\n",
            "           1       0.85      0.23      0.37      2000\n",
            "\n",
            "    accuracy                           0.57      3797\n",
            "   macro avg       0.69      0.59      0.52      3797\n",
            "weighted avg       0.70      0.57      0.52      3797\n",
            "\n",
            "****************************************************************************************************\n"
          ]
        }
      ]
    },
    {
      "cell_type": "markdown",
      "source": [
        "# TFIDF Embeddings"
      ],
      "metadata": {
        "id": "6qrJuma9eQEP"
      }
    },
    {
      "cell_type": "code",
      "source": [
        "vectorizer3 = TfidfVectorizer(analyzer=lambda x: x)\n",
        "modeling(vectorizer3,X_train,y_train)"
      ],
      "metadata": {
        "colab": {
          "base_uri": "https://localhost:8080/"
        },
        "id": "20Uo-_57dyon",
        "outputId": "3843e9a8-5360-4cec-9e25-6a363938c3c5"
      },
      "execution_count": 23,
      "outputs": [
        {
          "output_type": "stream",
          "name": "stdout",
          "text": [
            "Max Entropy/Logistic Regression model\n",
            "------------------------------\n",
            "[[1624  173]\n",
            " [1291  709]]\n",
            "              precision    recall  f1-score   support\n",
            "\n",
            "          -1       0.56      0.90      0.69      1797\n",
            "           1       0.80      0.35      0.49      2000\n",
            "\n",
            "    accuracy                           0.61      3797\n",
            "   macro avg       0.68      0.63      0.59      3797\n",
            "weighted avg       0.69      0.61      0.59      3797\n",
            "\n",
            "****************************************************************************************************\n",
            "KNN model\n",
            "------------------------------\n",
            "[[1451  346]\n",
            " [ 999 1001]]\n",
            "              precision    recall  f1-score   support\n",
            "\n",
            "          -1       0.59      0.81      0.68      1797\n",
            "           1       0.74      0.50      0.60      2000\n",
            "\n",
            "    accuracy                           0.65      3797\n",
            "   macro avg       0.67      0.65      0.64      3797\n",
            "weighted avg       0.67      0.65      0.64      3797\n",
            "\n",
            "****************************************************************************************************\n",
            "SVM model\n",
            "------------------------------\n",
            "[[1646  151]\n",
            " [1438  562]]\n",
            "              precision    recall  f1-score   support\n",
            "\n",
            "          -1       0.53      0.92      0.67      1797\n",
            "           1       0.79      0.28      0.41      2000\n",
            "\n",
            "    accuracy                           0.58      3797\n",
            "   macro avg       0.66      0.60      0.54      3797\n",
            "weighted avg       0.67      0.58      0.54      3797\n",
            "\n",
            "****************************************************************************************************\n"
          ]
        }
      ]
    },
    {
      "cell_type": "markdown",
      "source": [
        "# How the ranking depends on the amount of training data"
      ],
      "metadata": {
        "id": "dTc1qGEC5V6t"
      }
    },
    {
      "cell_type": "code",
      "source": [
        "data = pd.concat([training,testing])\n",
        "X = data.iloc[:,0].reset_index(drop=True)\n",
        "y = data.iloc[:,1].reset_index(drop=True)"
      ],
      "metadata": {
        "id": "ewxeFyYJtYfv"
      },
      "execution_count": 24,
      "outputs": []
    },
    {
      "cell_type": "code",
      "source": [
        "lr_tfidf = Pipeline([(\"tfidf_vectorizer\", TfidfVectorizer(analyzer=lambda x: x)), (\"LR\",LogisticRegression(random_state=0, solver='lbfgs'))])\n",
        "lr_w2v = Pipeline([(\"word2vec vectorizer\", MeanEmbeddingVectorizer(w2v)), (\"LR\",LogisticRegression(random_state=0, solver='lbfgs'))])\n",
        "lr_glove_small = Pipeline([(\"glove vectorizer\", MeanEmbeddingVectorizer(glove_small)), (\"LR\",LogisticRegression(random_state=0, solver='lbfgs'))])"
      ],
      "metadata": {
        "id": "VB_DU0rS337k"
      },
      "execution_count": 25,
      "outputs": []
    },
    {
      "cell_type": "code",
      "source": [
        "all_models = [\n",
        "    (\"lr_tfidf\", lr_tfidf),\n",
        "    (\"lr_w2v\", lr_w2v),\n",
        "    (\"lr_glove_small\",lr_glove_small)\n",
        "]"
      ],
      "metadata": {
        "id": "edEqwxmy4Dgs"
      },
      "execution_count": 26,
      "outputs": []
    },
    {
      "cell_type": "code",
      "source": [
        "def call(model,train_size):\n",
        "  sss=StratifiedShuffleSplit(n_splits = 5, \n",
        "                             train_size = train_size, \n",
        "                             test_size = len(y)-train_size)\n",
        "  \n",
        "  scores=[]\n",
        "  for train, test in sss.split(X, y):\n",
        "    X_train = X[train]\n",
        "    y_train = y[train]\n",
        "    model = model.fit(X_train, y_train)\n",
        "    y_pred = model.predict(X_test)\n",
        "\n",
        "    scores.append(accuracy_score(y_pred, y_test))\n",
        "      \n",
        "  return np.mean(scores)"
      ],
      "metadata": {
        "id": "1gOUgLxItYcl"
      },
      "execution_count": 27,
      "outputs": []
    },
    {
      "cell_type": "code",
      "source": [
        "train_sizes = [1000,5000,10000,15000,17900]\n",
        "table=[]\n",
        "for name, model in all_models:\n",
        "    for n in train_sizes:\n",
        "        table.append({'model': name, \n",
        "                      'accuracy': call(model,n), \n",
        "                      'train_size': n})\n",
        "df = pd.DataFrame(table)"
      ],
      "metadata": {
        "id": "0gLv2CH_wnhG"
      },
      "execution_count": 28,
      "outputs": []
    },
    {
      "cell_type": "code",
      "source": [
        "df"
      ],
      "metadata": {
        "colab": {
          "base_uri": "https://localhost:8080/",
          "height": 520
        },
        "id": "hep4rU_o9Z9z",
        "outputId": "2170d6df-9966-45b1-ae8c-fd7908e3f745"
      },
      "execution_count": 29,
      "outputs": [
        {
          "output_type": "execute_result",
          "data": {
            "text/html": [
              "\n",
              "  <div id=\"df-ad5e6547-304c-4b08-b037-7679987925b3\">\n",
              "    <div class=\"colab-df-container\">\n",
              "      <div>\n",
              "<style scoped>\n",
              "    .dataframe tbody tr th:only-of-type {\n",
              "        vertical-align: middle;\n",
              "    }\n",
              "\n",
              "    .dataframe tbody tr th {\n",
              "        vertical-align: top;\n",
              "    }\n",
              "\n",
              "    .dataframe thead th {\n",
              "        text-align: right;\n",
              "    }\n",
              "</style>\n",
              "<table border=\"1\" class=\"dataframe\">\n",
              "  <thead>\n",
              "    <tr style=\"text-align: right;\">\n",
              "      <th></th>\n",
              "      <th>model</th>\n",
              "      <th>accuracy</th>\n",
              "      <th>train_size</th>\n",
              "    </tr>\n",
              "  </thead>\n",
              "  <tbody>\n",
              "    <tr>\n",
              "      <th>0</th>\n",
              "      <td>lr_tfidf</td>\n",
              "      <td>0.589887</td>\n",
              "      <td>1000</td>\n",
              "    </tr>\n",
              "    <tr>\n",
              "      <th>1</th>\n",
              "      <td>lr_tfidf</td>\n",
              "      <td>0.651409</td>\n",
              "      <td>5000</td>\n",
              "    </tr>\n",
              "    <tr>\n",
              "      <th>2</th>\n",
              "      <td>lr_tfidf</td>\n",
              "      <td>0.663313</td>\n",
              "      <td>10000</td>\n",
              "    </tr>\n",
              "    <tr>\n",
              "      <th>3</th>\n",
              "      <td>lr_tfidf</td>\n",
              "      <td>0.665841</td>\n",
              "      <td>15000</td>\n",
              "    </tr>\n",
              "    <tr>\n",
              "      <th>4</th>\n",
              "      <td>lr_tfidf</td>\n",
              "      <td>0.665473</td>\n",
              "      <td>17900</td>\n",
              "    </tr>\n",
              "    <tr>\n",
              "      <th>5</th>\n",
              "      <td>lr_w2v</td>\n",
              "      <td>0.570450</td>\n",
              "      <td>1000</td>\n",
              "    </tr>\n",
              "    <tr>\n",
              "      <th>6</th>\n",
              "      <td>lr_w2v</td>\n",
              "      <td>0.611535</td>\n",
              "      <td>5000</td>\n",
              "    </tr>\n",
              "    <tr>\n",
              "      <th>7</th>\n",
              "      <td>lr_w2v</td>\n",
              "      <td>0.629076</td>\n",
              "      <td>10000</td>\n",
              "    </tr>\n",
              "    <tr>\n",
              "      <th>8</th>\n",
              "      <td>lr_w2v</td>\n",
              "      <td>0.642402</td>\n",
              "      <td>15000</td>\n",
              "    </tr>\n",
              "    <tr>\n",
              "      <th>9</th>\n",
              "      <td>lr_w2v</td>\n",
              "      <td>0.647248</td>\n",
              "      <td>17900</td>\n",
              "    </tr>\n",
              "    <tr>\n",
              "      <th>10</th>\n",
              "      <td>lr_glove_small</td>\n",
              "      <td>0.587938</td>\n",
              "      <td>1000</td>\n",
              "    </tr>\n",
              "    <tr>\n",
              "      <th>11</th>\n",
              "      <td>lr_glove_small</td>\n",
              "      <td>0.647037</td>\n",
              "      <td>5000</td>\n",
              "    </tr>\n",
              "    <tr>\n",
              "      <th>12</th>\n",
              "      <td>lr_glove_small</td>\n",
              "      <td>0.660679</td>\n",
              "      <td>10000</td>\n",
              "    </tr>\n",
              "    <tr>\n",
              "      <th>13</th>\n",
              "      <td>lr_glove_small</td>\n",
              "      <td>0.669423</td>\n",
              "      <td>15000</td>\n",
              "    </tr>\n",
              "    <tr>\n",
              "      <th>14</th>\n",
              "      <td>lr_glove_small</td>\n",
              "      <td>0.671477</td>\n",
              "      <td>17900</td>\n",
              "    </tr>\n",
              "  </tbody>\n",
              "</table>\n",
              "</div>\n",
              "      <button class=\"colab-df-convert\" onclick=\"convertToInteractive('df-ad5e6547-304c-4b08-b037-7679987925b3')\"\n",
              "              title=\"Convert this dataframe to an interactive table.\"\n",
              "              style=\"display:none;\">\n",
              "        \n",
              "  <svg xmlns=\"http://www.w3.org/2000/svg\" height=\"24px\"viewBox=\"0 0 24 24\"\n",
              "       width=\"24px\">\n",
              "    <path d=\"M0 0h24v24H0V0z\" fill=\"none\"/>\n",
              "    <path d=\"M18.56 5.44l.94 2.06.94-2.06 2.06-.94-2.06-.94-.94-2.06-.94 2.06-2.06.94zm-11 1L8.5 8.5l.94-2.06 2.06-.94-2.06-.94L8.5 2.5l-.94 2.06-2.06.94zm10 10l.94 2.06.94-2.06 2.06-.94-2.06-.94-.94-2.06-.94 2.06-2.06.94z\"/><path d=\"M17.41 7.96l-1.37-1.37c-.4-.4-.92-.59-1.43-.59-.52 0-1.04.2-1.43.59L10.3 9.45l-7.72 7.72c-.78.78-.78 2.05 0 2.83L4 21.41c.39.39.9.59 1.41.59.51 0 1.02-.2 1.41-.59l7.78-7.78 2.81-2.81c.8-.78.8-2.07 0-2.86zM5.41 20L4 18.59l7.72-7.72 1.47 1.35L5.41 20z\"/>\n",
              "  </svg>\n",
              "      </button>\n",
              "      \n",
              "  <style>\n",
              "    .colab-df-container {\n",
              "      display:flex;\n",
              "      flex-wrap:wrap;\n",
              "      gap: 12px;\n",
              "    }\n",
              "\n",
              "    .colab-df-convert {\n",
              "      background-color: #E8F0FE;\n",
              "      border: none;\n",
              "      border-radius: 50%;\n",
              "      cursor: pointer;\n",
              "      display: none;\n",
              "      fill: #1967D2;\n",
              "      height: 32px;\n",
              "      padding: 0 0 0 0;\n",
              "      width: 32px;\n",
              "    }\n",
              "\n",
              "    .colab-df-convert:hover {\n",
              "      background-color: #E2EBFA;\n",
              "      box-shadow: 0px 1px 2px rgba(60, 64, 67, 0.3), 0px 1px 3px 1px rgba(60, 64, 67, 0.15);\n",
              "      fill: #174EA6;\n",
              "    }\n",
              "\n",
              "    [theme=dark] .colab-df-convert {\n",
              "      background-color: #3B4455;\n",
              "      fill: #D2E3FC;\n",
              "    }\n",
              "\n",
              "    [theme=dark] .colab-df-convert:hover {\n",
              "      background-color: #434B5C;\n",
              "      box-shadow: 0px 1px 3px 1px rgba(0, 0, 0, 0.15);\n",
              "      filter: drop-shadow(0px 1px 2px rgba(0, 0, 0, 0.3));\n",
              "      fill: #FFFFFF;\n",
              "    }\n",
              "  </style>\n",
              "\n",
              "      <script>\n",
              "        const buttonEl =\n",
              "          document.querySelector('#df-ad5e6547-304c-4b08-b037-7679987925b3 button.colab-df-convert');\n",
              "        buttonEl.style.display =\n",
              "          google.colab.kernel.accessAllowed ? 'block' : 'none';\n",
              "\n",
              "        async function convertToInteractive(key) {\n",
              "          const element = document.querySelector('#df-ad5e6547-304c-4b08-b037-7679987925b3');\n",
              "          const dataTable =\n",
              "            await google.colab.kernel.invokeFunction('convertToInteractive',\n",
              "                                                     [key], {});\n",
              "          if (!dataTable) return;\n",
              "\n",
              "          const docLinkHtml = 'Like what you see? Visit the ' +\n",
              "            '<a target=\"_blank\" href=https://colab.research.google.com/notebooks/data_table.ipynb>data table notebook</a>'\n",
              "            + ' to learn more about interactive tables.';\n",
              "          element.innerHTML = '';\n",
              "          dataTable['output_type'] = 'display_data';\n",
              "          await google.colab.output.renderOutput(dataTable, element);\n",
              "          const docLink = document.createElement('div');\n",
              "          docLink.innerHTML = docLinkHtml;\n",
              "          element.appendChild(docLink);\n",
              "        }\n",
              "      </script>\n",
              "    </div>\n",
              "  </div>\n",
              "  "
            ],
            "text/plain": [
              "             model  accuracy  train_size\n",
              "0         lr_tfidf  0.589887        1000\n",
              "1         lr_tfidf  0.651409        5000\n",
              "2         lr_tfidf  0.663313       10000\n",
              "3         lr_tfidf  0.665841       15000\n",
              "4         lr_tfidf  0.665473       17900\n",
              "5           lr_w2v  0.570450        1000\n",
              "6           lr_w2v  0.611535        5000\n",
              "7           lr_w2v  0.629076       10000\n",
              "8           lr_w2v  0.642402       15000\n",
              "9           lr_w2v  0.647248       17900\n",
              "10  lr_glove_small  0.587938        1000\n",
              "11  lr_glove_small  0.647037        5000\n",
              "12  lr_glove_small  0.660679       10000\n",
              "13  lr_glove_small  0.669423       15000\n",
              "14  lr_glove_small  0.671477       17900"
            ]
          },
          "metadata": {},
          "execution_count": 29
        }
      ]
    },
    {
      "cell_type": "code",
      "source": [
        "plt.figure(figsize=(15, 6))\n",
        "fig = sns.pointplot(x='train_size', y='accuracy', hue='model', \n",
        "                    data=df[df.model.map(lambda x: x in [\"lr_tfidf\", \"lr_w2v\", \"lr_glove_small\"])])\n",
        "sns.set_context(\"notebook\", font_scale=1.5)\n",
        "fig.set(ylabel=\"accuracy\")\n",
        "fig.set(xlabel=\"labeled training examples\")\n",
        "fig.set(title=\"R8 benchmark\")\n",
        "fig.set(ylabel=\"accuracy\")"
      ],
      "metadata": {
        "colab": {
          "base_uri": "https://localhost:8080/",
          "height": 427
        },
        "id": "hAZb7mKawKhh",
        "outputId": "bc39c04e-16c3-44c2-b5fb-2dfda95a1958"
      },
      "execution_count": 31,
      "outputs": [
        {
          "output_type": "execute_result",
          "data": {
            "text/plain": [
              "[Text(0, 0.5, 'accuracy')]"
            ]
          },
          "metadata": {},
          "execution_count": 31
        },
        {
          "output_type": "display_data",
          "data": {
            "image/png": "[encoded data removed]",
            "text/plain": [
              "<Figure size 1080x432 with 1 Axes>"
            ]
          },
          "metadata": {
            "needs_background": "light"
          }
        }
      ]
    },
    {
      "cell_type": "code",
      "source": [
        ""
      ],
      "metadata": {
        "id": "wUGctP6C64r9"
      },
      "execution_count": null,
      "outputs": []
    },
    {
      "cell_type": "code",
      "source": [
        ""
      ],
      "metadata": {
        "id": "gHgowVSS_bo2"
      },
      "execution_count": null,
      "outputs": []
    },
    {
      "cell_type": "code",
      "source": [
        ""
      ],
      "metadata": {
        "id": "iWGpXkMw9gPg"
      },
      "execution_count": null,
      "outputs": []
    }
  ]
}