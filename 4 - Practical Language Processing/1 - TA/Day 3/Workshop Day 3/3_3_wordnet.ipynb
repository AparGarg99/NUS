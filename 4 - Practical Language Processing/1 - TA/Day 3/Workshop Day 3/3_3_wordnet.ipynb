{
 "cells": [
  {
   "cell_type": "code",
   "execution_count": 1,
   "metadata": {
    "colab": {
     "base_uri": "https://localhost:8080/"
    },
    "id": "VGiImZN5xsNH",
    "outputId": "8db694a3-c3a4-4019-ec42-6730f5819867"
   },
   "outputs": [
    {
     "name": "stdout",
     "output_type": "stream",
     "text": [
      "[nltk_data] Downloading package wordnet to /root/nltk_data...\n",
      "[nltk_data]   Unzipping corpora/wordnet.zip.\n"
     ]
    }
   ],
   "source": [
    "\"\"\"\n",
    "Workshop: IE - WordNet as lexical resource\n",
    "@author: issfz\n",
    "\"\"\"\n",
    "import nltk\n",
    "nltk.download('wordnet')\n",
    "\n",
    "from nltk.corpus import wordnet as wn"
   ]
  },
  {
   "cell_type": "code",
   "execution_count": 2,
   "metadata": {
    "colab": {
     "base_uri": "https://localhost:8080/"
    },
    "id": "lDZmYPwgxsNT",
    "outputId": "020c1e5d-1740-4e49-9f21-24798a0d15d5"
   },
   "outputs": [
    {
     "name": "stdout",
     "output_type": "stream",
     "text": [
      "[Synset('book.n.01'), Synset('book.n.02'), Synset('record.n.05'), Synset('script.n.01'), Synset('ledger.n.01'), Synset('book.n.06'), Synset('book.n.07'), Synset('koran.n.01'), Synset('bible.n.01'), Synset('book.n.10'), Synset('book.n.11'), Synset('book.v.01'), Synset('reserve.v.04'), Synset('book.v.03'), Synset('book.v.04')]\n"
     ]
    }
   ],
   "source": [
    "# To look up a word\n",
    "wn.synsets('book')\n",
    "print(wn.synsets('book'))"
   ]
  },
  {
   "cell_type": "code",
   "execution_count": 3,
   "metadata": {
    "colab": {
     "base_uri": "https://localhost:8080/"
    },
    "id": "KzEXWkzPxsNV",
    "outputId": "3e5ffdf3-9639-4fbf-f2a4-a05f4c50dcd3"
   },
   "outputs": [
    {
     "name": "stdout",
     "output_type": "stream",
     "text": [
      "[Synset('book.v.01'), Synset('reserve.v.04'), Synset('book.v.03'), Synset('book.v.04')]\n"
     ]
    }
   ],
   "source": [
    "# Look up with specified POS - NOUN, VERB, ADJ, ADV\n",
    "print (wn.synsets('book', pos = wn.VERB))"
   ]
  },
  {
   "cell_type": "code",
   "execution_count": 5,
   "metadata": {
    "colab": {
     "base_uri": "https://localhost:8080/"
    },
    "id": "gmjRzVZGxsNW",
    "outputId": "4f079837-c7d0-495e-d0e4-99388b03d79a"
   },
   "outputs": [
    {
     "name": "stdout",
     "output_type": "stream",
     "text": [
      "arrange for and reserve (something for someone else) in advance\n",
      "['reserve me a seat on a flight', 'The agent booked tickets to the show for the whole family', \"please hold a table at Maxim's\"]\n"
     ]
    }
   ],
   "source": [
    "# Let's examine a synset in more details: its definition, examples, lemma\n",
    "ss = wn.synsets('book', pos = wn.VERB)[1]\n",
    "print(ss.definition())\n",
    "print(ss.examples())"
   ]
  },
  {
   "cell_type": "code",
   "execution_count": 6,
   "metadata": {
    "colab": {
     "base_uri": "https://localhost:8080/"
    },
    "id": "UG3IlhQ0xsNW",
    "outputId": "20aaa640-931e-4ec8-fefd-3e0b17228c9e"
   },
   "outputs": [
    {
     "name": "stdout",
     "output_type": "stream",
     "text": [
      "[Lemma('reserve.v.04.reserve'), Lemma('reserve.v.04.hold'), Lemma('reserve.v.04.book')]\n",
      "reserve\n",
      "['reserve', 'hold', 'book']\n"
     ]
    }
   ],
   "source": [
    "# one or more lemmas may be available\n",
    "print(ss.lemmas())\n",
    "\n",
    "# to get the first lemma of this synset\n",
    "lem = ss.lemmas()[0]\n",
    "print(lem.name())\n",
    "\n",
    "# to get all lemmas of this synset\n",
    "print(ss.lemma_names()) ##useful!"
   ]
  },
  {
   "cell_type": "code",
   "execution_count": 7,
   "metadata": {
    "colab": {
     "base_uri": "https://localhost:8080/"
    },
    "id": "F_OMjrtIxsNX",
    "outputId": "fbbf346e-9b26-4bab-bdc6-dae0f96e5048"
   },
   "outputs": [
    {
     "name": "stdout",
     "output_type": "stream",
     "text": [
      "Synset('worker.n.01')\n"
     ]
    },
    {
     "data": {
      "text/plain": [
       "[Synset('person.n.01')]"
      ]
     },
     "execution_count": 7,
     "metadata": {
      "tags": []
     },
     "output_type": "execute_result"
    }
   ],
   "source": [
    "# A synset has related synsets, for example, its hypernyms, hyponyms\n",
    "ss = wn.synsets('worker')[0]\n",
    "print(ss)\n",
    "ss.hypernyms()\n"
   ]
  },
  {
   "cell_type": "code",
   "execution_count": 8,
   "metadata": {
    "colab": {
     "base_uri": "https://localhost:8080/"
    },
    "id": "MWHTTqzWxsNY",
    "outputId": "3818893d-a582-41ba-ec24-3b25150a5f39"
   },
   "outputs": [
    {
     "data": {
      "text/plain": [
       "[Synset('assistant.n.01'),\n",
       " Synset('beater.n.01'),\n",
       " Synset('bill_poster.n.01'),\n",
       " Synset('bleacher.n.01'),\n",
       " Synset('boatman.n.01'),\n",
       " Synset('carter.n.03'),\n",
       " Synset('caster.n.01'),\n",
       " Synset('charcoal_burner.n.01'),\n",
       " Synset('collector.n.02'),\n",
       " Synset('comber.n.01'),\n",
       " Synset('cornhusker.n.01'),\n",
       " Synset('driver.n.02'),\n",
       " Synset('employable.n.01'),\n",
       " Synset('employee.n.01'),\n",
       " Synset('finisher.n.04'),\n",
       " Synset('freelancer.n.01'),\n",
       " Synset('gutter.n.03'),\n",
       " Synset('hanger.n.01'),\n",
       " Synset('lamplighter.n.01'),\n",
       " Synset('melter.n.01'),\n",
       " Synset('moonlighter.n.01'),\n",
       " Synset('mopper.n.01'),\n",
       " Synset('muzzler.n.01'),\n",
       " Synset('nailer.n.01'),\n",
       " Synset('oiler.n.01'),\n",
       " Synset('part-timer.n.01'),\n",
       " Synset('peeler.n.02'),\n",
       " Synset('planter.n.02'),\n",
       " Synset('plier.n.01'),\n",
       " Synset('processor.n.02'),\n",
       " Synset('pruner.n.01'),\n",
       " Synset('puller.n.02'),\n",
       " Synset('quarryman.n.01'),\n",
       " Synset('ragsorter.n.01'),\n",
       " Synset('scab.n.01'),\n",
       " Synset('scrubber.n.01'),\n",
       " Synset('seasonal_worker.n.01'),\n",
       " Synset('servant.n.01'),\n",
       " Synset('sheller.n.01'),\n",
       " Synset('shelver.n.01'),\n",
       " Synset('shingler.n.01'),\n",
       " Synset('shoveler.n.01'),\n",
       " Synset('skidder.n.02'),\n",
       " Synset('skilled_worker.n.01'),\n",
       " Synset('slave.n.02'),\n",
       " Synset('solderer.n.01'),\n",
       " Synset('splicer.n.02'),\n",
       " Synset('splitter.n.01'),\n",
       " Synset('stainer.n.01'),\n",
       " Synset('stemmer.n.02'),\n",
       " Synset('stringer.n.02'),\n",
       " Synset('stripper.n.02'),\n",
       " Synset('tacker.n.01'),\n",
       " Synset('tapper.n.03'),\n",
       " Synset('teaser.n.01'),\n",
       " Synset('temp.n.01'),\n",
       " Synset('throwster.n.01'),\n",
       " Synset('tier.n.03'),\n",
       " Synset('tiler.n.01'),\n",
       " Synset('toiler.n.01'),\n",
       " Synset('topper.n.01'),\n",
       " Synset('topper.n.02'),\n",
       " Synset('trade_unionist.n.01'),\n",
       " Synset('twiner.n.01'),\n",
       " Synset('volunteer.n.02'),\n",
       " Synset('wallah.n.01'),\n",
       " Synset('washer.n.01'),\n",
       " Synset('winder.n.01'),\n",
       " Synset('wiper.n.01'),\n",
       " Synset('working_girl.n.01'),\n",
       " Synset('workmate.n.01')]"
      ]
     },
     "execution_count": 8,
     "metadata": {
      "tags": []
     },
     "output_type": "execute_result"
    }
   ],
   "source": [
    "ss.hyponyms()"
   ]
  },
  {
   "cell_type": "code",
   "execution_count": 9,
   "metadata": {
    "colab": {
     "base_uri": "https://localhost:8080/"
    },
    "id": "ANWVtkNKxsNZ",
    "outputId": "f6c551a8-068e-4843-960e-bb6ffca590e1"
   },
   "outputs": [
    {
     "data": {
      "text/plain": [
       "['assistant', 'helper', 'help', 'supporter']"
      ]
     },
     "execution_count": 9,
     "metadata": {
      "tags": []
     },
     "output_type": "execute_result"
    }
   ],
   "source": [
    "ss.hyponyms()[0].lemma_names()"
   ]
  },
  {
   "cell_type": "code",
   "execution_count": null,
   "metadata": {
    "id": "SWAM4yUXxsNa"
   },
   "outputs": [],
   "source": [
    "hyps = list(set(\n",
    "                [w for s in ss.closure(lambda s:s.hyponyms())\n",
    "                        for w in s.lemma_names()]))\n",
    "sorted(hyps)"
   ]
  },
  {
   "cell_type": "code",
   "execution_count": null,
   "metadata": {
    "colab": {
     "base_uri": "https://localhost:8080/"
    },
    "id": "AmWm5s33xsNa",
    "outputId": "0dfd8f13-b16c-4ff3-e15f-1eeb92ac2a35"
   },
   "outputs": [
    {
     "data": {
      "text/plain": [
       "1418"
      ]
     },
     "execution_count": 17,
     "metadata": {
      "tags": []
     },
     "output_type": "execute_result"
    }
   ],
   "source": [
    "len(hyps)"
   ]
  }
 ],
 "metadata": {
  "colab": {
   "collapsed_sections": [],
   "name": "3.1-wordnet.ipynb",
   "provenance": []
  },
  "kernelspec": {
   "display_name": "Python 3",
   "language": "python",
   "name": "python3"
  },
  "language_info": {
   "codemirror_mode": {
    "name": "ipython",
    "version": 3
   },
   "file_extension": ".py",
   "mimetype": "text/x-python",
   "name": "python",
   "nbconvert_exporter": "python",
   "pygments_lexer": "ipython3",
   "version": "3.8.8"
  }
 },
 "nbformat": 4,
 "nbformat_minor": 1
}
