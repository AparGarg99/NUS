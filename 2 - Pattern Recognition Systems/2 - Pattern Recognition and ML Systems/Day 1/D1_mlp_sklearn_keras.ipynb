{
  "nbformat": 4,
  "nbformat_minor": 0,
  "metadata": {
    "kernelspec": {
      "display_name": "Python 3",
      "language": "python",
      "name": "python3"
    },
    "language_info": {
      "codemirror_mode": {
        "name": "ipython",
        "version": 3
      },
      "file_extension": ".py",
      "mimetype": "text/x-python",
      "name": "python",
      "nbconvert_exporter": "python",
      "pygments_lexer": "ipython3",
      "version": "3.8.8"
    },
    "colab": {
      "name": "D1_mlp_sklearn_keras.ipynb",
      "provenance": [],
      "collapsed_sections": []
    }
  },
  "cells": [
    {
      "cell_type": "markdown",
      "metadata": {
        "id": "DkiCU0EY3Q20"
      },
      "source": [
        "## MLP using Sklearn"
      ]
    },
    {
      "cell_type": "code",
      "metadata": {
        "id": "BeVDZqhS3Q22"
      },
      "source": [
        "from sklearn.preprocessing import StandardScaler\n",
        "from sklearn import metrics \n",
        "from sklearn.metrics import classification_report, confusion_matrix \n",
        "from sklearn.model_selection import train_test_split\n",
        "import numpy\n",
        "from sklearn.neural_network import MLPClassifier\n",
        "from keras.models import Sequential\n",
        "from keras.layers import Dense\n",
        "from keras.utils.vis_utils import plot_model\n",
        "import IPython\n",
        "import matplotlib.pyplot as plt\n",
        "%matplotlib inline"
      ],
      "execution_count": 18,
      "outputs": []
    },
    {
      "cell_type": "code",
      "metadata": {
        "id": "PHfCbGWh3Q25"
      },
      "source": [
        "# fix random seed for reproducibility\n",
        "seed = 7\n",
        "numpy.random.seed(seed)"
      ],
      "execution_count": 7,
      "outputs": []
    },
    {
      "cell_type": "code",
      "metadata": {
        "colab": {
          "base_uri": "https://localhost:8080/"
        },
        "id": "8qryxQGN3Q26",
        "outputId": "bc040784-3f43-4b2e-dde5-f633379dbad2"
      },
      "source": [
        "# load pima indians dataset\n",
        "dataset = numpy.loadtxt(\"pima-indians-diabetes.csv\", delimiter=\",\")\n",
        "\n",
        "dataset"
      ],
      "execution_count": 8,
      "outputs": [
        {
          "output_type": "execute_result",
          "data": {
            "text/plain": [
              "array([[  6.   , 148.   ,  72.   , ...,   0.627,  50.   ,   1.   ],\n",
              "       [  1.   ,  85.   ,  66.   , ...,   0.351,  31.   ,   0.   ],\n",
              "       [  8.   , 183.   ,  64.   , ...,   0.672,  32.   ,   1.   ],\n",
              "       ...,\n",
              "       [  5.   , 121.   ,  72.   , ...,   0.245,  30.   ,   0.   ],\n",
              "       [  1.   , 126.   ,  60.   , ...,   0.349,  47.   ,   1.   ],\n",
              "       [  1.   ,  93.   ,  70.   , ...,   0.315,  23.   ,   0.   ]])"
            ]
          },
          "metadata": {
            "tags": []
          },
          "execution_count": 8
        }
      ]
    },
    {
      "cell_type": "code",
      "metadata": {
        "id": "1E84KgwJ3Q26"
      },
      "source": [
        "# split into input (X) and output (Y) variables\n",
        "X = dataset[:,0:8]\n",
        "y = dataset[:,8]\n",
        "\n",
        "# train_test_split\n",
        "\n",
        "X_train,X_test,y_train,y_test = train_test_split(X,y,test_size=1/3,random_state=42, stratify=y)"
      ],
      "execution_count": 9,
      "outputs": []
    },
    {
      "cell_type": "code",
      "metadata": {
        "id": "eFFmb2L23Q27"
      },
      "source": [
        "# Normalization\n",
        "\n",
        "scaler = StandardScaler()  \n",
        "scaler.fit(X_train)\n",
        "\n",
        "X_train = scaler.transform(X_train)  \n",
        "X_test = scaler.transform(X_test)  "
      ],
      "execution_count": 10,
      "outputs": []
    },
    {
      "cell_type": "code",
      "metadata": {
        "colab": {
          "base_uri": "https://localhost:8080/"
        },
        "id": "-r8znSoe3Q27",
        "outputId": "6d2a2111-3d09-4e0c-b85b-e9aad38e5bc2"
      },
      "source": [
        "mlp = MLPClassifier(hidden_layer_sizes=(10,10),\n",
        "                    max_iter=1000, \n",
        "                    verbose=0,\n",
        "                    batch_size=100)\n",
        "\n",
        "mlp.fit(X_train, y_train)  "
      ],
      "execution_count": 11,
      "outputs": [
        {
          "output_type": "stream",
          "text": [
            "/usr/local/lib/python3.7/dist-packages/sklearn/neural_network/_multilayer_perceptron.py:571: ConvergenceWarning: Stochastic Optimizer: Maximum iterations (1000) reached and the optimization hasn't converged yet.\n",
            "  % self.max_iter, ConvergenceWarning)\n"
          ],
          "name": "stderr"
        },
        {
          "output_type": "execute_result",
          "data": {
            "text/plain": [
              "MLPClassifier(activation='relu', alpha=0.0001, batch_size=100, beta_1=0.9,\n",
              "              beta_2=0.999, early_stopping=False, epsilon=1e-08,\n",
              "              hidden_layer_sizes=(10, 10), learning_rate='constant',\n",
              "              learning_rate_init=0.001, max_fun=15000, max_iter=1000,\n",
              "              momentum=0.9, n_iter_no_change=10, nesterovs_momentum=True,\n",
              "              power_t=0.5, random_state=None, shuffle=True, solver='adam',\n",
              "              tol=0.0001, validation_fraction=0.1, verbose=0, warm_start=False)"
            ]
          },
          "metadata": {
            "tags": []
          },
          "execution_count": 11
        }
      ]
    },
    {
      "cell_type": "code",
      "metadata": {
        "colab": {
          "base_uri": "https://localhost:8080/"
        },
        "id": "5xaOAD5L3Q28",
        "outputId": "7b6666c7-3508-442c-c211-d881c520f9f5"
      },
      "source": [
        "predictions = mlp.predict(X_test)  \n",
        "\n",
        "\n",
        "print(\"Accuracy\", metrics.accuracy_score(y_test, predictions))\n",
        "print(confusion_matrix(y_test,predictions))  \n",
        "print(classification_report(y_test,predictions))  "
      ],
      "execution_count": 12,
      "outputs": [
        {
          "output_type": "stream",
          "text": [
            "Accuracy 0.73828125\n",
            "[[139  28]\n",
            " [ 39  50]]\n",
            "              precision    recall  f1-score   support\n",
            "\n",
            "         0.0       0.78      0.83      0.81       167\n",
            "         1.0       0.64      0.56      0.60        89\n",
            "\n",
            "    accuracy                           0.74       256\n",
            "   macro avg       0.71      0.70      0.70       256\n",
            "weighted avg       0.73      0.74      0.73       256\n",
            "\n"
          ],
          "name": "stdout"
        }
      ]
    },
    {
      "cell_type": "code",
      "metadata": {
        "colab": {
          "base_uri": "https://localhost:8080/",
          "height": 295
        },
        "id": "-9_jVrMi3Q29",
        "outputId": "7af59e9b-6f59-41e7-f844-9987a7507a22"
      },
      "source": [
        "plt.plot(mlp.loss_curve_)\n",
        "plt.title(\"NN Loss Curve\")\n",
        "plt.xlabel(\"number of steps\")\n",
        "plt.ylabel(\"loss function\")\n",
        "plt.show()"
      ],
      "execution_count": 13,
      "outputs": [
        {
          "output_type": "display_data",
          "data": {
            "image/png": "[encoded data removed]",
            "text/plain": [
              "<Figure size 432x288 with 1 Axes>"
            ]
          },
          "metadata": {
            "tags": [],
            "needs_background": "light"
          }
        }
      ]
    },
    {
      "cell_type": "code",
      "metadata": {
        "colab": {
          "base_uri": "https://localhost:8080/"
        },
        "id": "B_1ei2Cl3Q2-",
        "outputId": "96065ac7-85a6-431f-bced-edb24ab54eff"
      },
      "source": [
        "mlp.intercepts_[0]"
      ],
      "execution_count": 14,
      "outputs": [
        {
          "output_type": "execute_result",
          "data": {
            "text/plain": [
              "array([-0.58392737,  0.1177551 , -0.21731727,  0.45480559,  0.69487303,\n",
              "       -0.67481645, -0.33766931,  0.15824506,  0.47809894,  0.63057117])"
            ]
          },
          "metadata": {
            "tags": []
          },
          "execution_count": 14
        }
      ]
    },
    {
      "cell_type": "code",
      "metadata": {
        "colab": {
          "base_uri": "https://localhost:8080/"
        },
        "id": "lmwA0XXX3Q2-",
        "outputId": "fff28793-72de-4650-9bad-682a2bbc5faa"
      },
      "source": [
        "mlp.coefs_[0]"
      ],
      "execution_count": 15,
      "outputs": [
        {
          "output_type": "execute_result",
          "data": {
            "text/plain": [
              "array([[-0.70502844,  0.78713809, -0.16104415,  0.3556704 ,  0.64559519,\n",
              "         0.21211159,  0.08758923, -0.77332581, -0.39497254, -0.19971285],\n",
              "       [ 0.20493948,  0.47013485, -0.10914465, -0.76574407, -0.50331258,\n",
              "         0.6785499 ,  0.01467052, -0.11790981,  0.80029818, -0.85204976],\n",
              "       [-0.30611196,  0.27697492, -1.00370229,  0.04985472, -0.08757646,\n",
              "        -0.4692314 ,  0.13897051,  0.31636336, -0.48744252,  0.31572272],\n",
              "       [-0.13785464,  0.12785528, -0.0379257 , -0.09211097,  0.11937955,\n",
              "        -0.40338677,  0.41962694, -0.63614566,  0.08623591,  0.01901726],\n",
              "       [-0.15659178, -0.16126534,  0.43870613, -0.34707907, -0.44815636,\n",
              "         0.54137115, -0.0439324 ,  0.6001218 , -0.21152992,  0.03423356],\n",
              "       [-0.30711369, -0.23232608,  0.07489448, -0.19816283, -0.07669955,\n",
              "        -0.82017582, -0.41964446, -0.71156239,  0.81609966, -0.20367816],\n",
              "       [ 0.95890333,  0.3240364 , -0.79384975, -0.10578041, -0.38676252,\n",
              "        -0.0860085 ,  0.91705492,  0.57356826,  0.53980214, -0.07304911],\n",
              "       [ 0.73005054, -0.09490654, -0.43010008, -0.19255025,  0.38474159,\n",
              "         0.13887179, -0.62287579, -1.09074209,  0.37450763, -0.84275009]])"
            ]
          },
          "metadata": {
            "tags": []
          },
          "execution_count": 15
        }
      ]
    },
    {
      "cell_type": "markdown",
      "metadata": {
        "id": "Jgtgy8p63Q2_"
      },
      "source": [
        "## MLP using keras"
      ]
    },
    {
      "cell_type": "code",
      "metadata": {
        "colab": {
          "base_uri": "https://localhost:8080/"
        },
        "id": "jzNXFwoa3Q2_",
        "outputId": "f1db1a35-d30b-427a-bdd6-7de70b482fcb"
      },
      "source": [
        "# create keras model\n",
        "model = Sequential()\n",
        "model.add(Dense(12, input_dim=8, kernel_initializer='uniform', activation='relu'))\n",
        "model.add(Dense(8, kernel_initializer='uniform', activation='relu'))\n",
        "model.add(Dense(1, kernel_initializer='uniform', activation='sigmoid'))\n",
        "\n",
        "print(model.summary())"
      ],
      "execution_count": 16,
      "outputs": [
        {
          "output_type": "stream",
          "text": [
            "Model: \"sequential\"\n",
            "_________________________________________________________________\n",
            "Layer (type)                 Output Shape              Param #   \n",
            "=================================================================\n",
            "dense (Dense)                (None, 12)                108       \n",
            "_________________________________________________________________\n",
            "dense_1 (Dense)              (None, 8)                 104       \n",
            "_________________________________________________________________\n",
            "dense_2 (Dense)              (None, 1)                 9         \n",
            "=================================================================\n",
            "Total params: 221\n",
            "Trainable params: 221\n",
            "Non-trainable params: 0\n",
            "_________________________________________________________________\n",
            "None\n"
          ],
          "name": "stdout"
        }
      ]
    },
    {
      "cell_type": "code",
      "metadata": {
        "colab": {
          "base_uri": "https://localhost:8080/",
          "height": 422
        },
        "id": "FxWbMoNB3Q3A",
        "outputId": "152e19f1-1d65-4bd1-ea8c-3007766b40ba"
      },
      "source": [
        "#conda install pydot pydotplus\n",
        "\n",
        "plot_model(model, to_file='model.png',show_shapes=True)\n",
        "IPython.display.Image(\"model.png\")"
      ],
      "execution_count": 19,
      "outputs": [
        {
          "output_type": "execute_result",
          "data": {
            "image/png": "[encoded data removed]",
            "text/plain": [
              "<IPython.core.display.Image object>"
            ]
          },
          "metadata": {
            "tags": []
          },
          "execution_count": 19
        }
      ]
    },
    {
      "cell_type": "code",
      "metadata": {
        "colab": {
          "base_uri": "https://localhost:8080/"
        },
        "id": "EjHJ8vSx3Q3A",
        "outputId": "2d10567e-6b84-43b6-b512-d87f06f86aea"
      },
      "source": [
        "# Compile model\n",
        "model.compile(loss='binary_crossentropy', optimizer='adam', metrics=['acc'])\n",
        "\n",
        "# Fit the model\n",
        "\n",
        "history=model.fit(X_train, y_train, validation_split=0.25, epochs=80, batch_size=100)\n",
        "# calculate predictions"
      ],
      "execution_count": 21,
      "outputs": [
        {
          "output_type": "stream",
          "text": [
            "Epoch 1/80\n",
            "4/4 [==============================] - 14s 169ms/step - loss: 0.6930 - acc: 0.5243 - val_loss: 0.6926 - val_acc: 0.6172\n",
            "Epoch 2/80\n",
            "4/4 [==============================] - 0s 11ms/step - loss: 0.6923 - acc: 0.6659 - val_loss: 0.6921 - val_acc: 0.6172\n",
            "Epoch 3/80\n",
            "4/4 [==============================] - 0s 9ms/step - loss: 0.6915 - acc: 0.6699 - val_loss: 0.6915 - val_acc: 0.6172\n",
            "Epoch 4/80\n",
            "4/4 [==============================] - 0s 9ms/step - loss: 0.6910 - acc: 0.6479 - val_loss: 0.6909 - val_acc: 0.6172\n",
            "Epoch 5/80\n",
            "4/4 [==============================] - 0s 8ms/step - loss: 0.6901 - acc: 0.6569 - val_loss: 0.6903 - val_acc: 0.6172\n",
            "Epoch 6/80\n",
            "4/4 [==============================] - 0s 9ms/step - loss: 0.6896 - acc: 0.6366 - val_loss: 0.6896 - val_acc: 0.6172\n",
            "Epoch 7/80\n",
            "4/4 [==============================] - 0s 8ms/step - loss: 0.6885 - acc: 0.6482 - val_loss: 0.6888 - val_acc: 0.6172\n",
            "Epoch 8/80\n",
            "4/4 [==============================] - 0s 9ms/step - loss: 0.6865 - acc: 0.6849 - val_loss: 0.6879 - val_acc: 0.6172\n",
            "Epoch 9/80\n",
            "4/4 [==============================] - 0s 9ms/step - loss: 0.6864 - acc: 0.6519 - val_loss: 0.6869 - val_acc: 0.6172\n",
            "Epoch 10/80\n",
            "4/4 [==============================] - 0s 9ms/step - loss: 0.6856 - acc: 0.6422 - val_loss: 0.6858 - val_acc: 0.6172\n",
            "Epoch 11/80\n",
            "4/4 [==============================] - 0s 9ms/step - loss: 0.6842 - acc: 0.6462 - val_loss: 0.6845 - val_acc: 0.6172\n",
            "Epoch 12/80\n",
            "4/4 [==============================] - 0s 9ms/step - loss: 0.6813 - acc: 0.6699 - val_loss: 0.6830 - val_acc: 0.6172\n",
            "Epoch 13/80\n",
            "4/4 [==============================] - 0s 8ms/step - loss: 0.6808 - acc: 0.6442 - val_loss: 0.6812 - val_acc: 0.6172\n",
            "Epoch 14/80\n",
            "4/4 [==============================] - 0s 11ms/step - loss: 0.6794 - acc: 0.6399 - val_loss: 0.6791 - val_acc: 0.6406\n",
            "Epoch 15/80\n",
            "4/4 [==============================] - 0s 9ms/step - loss: 0.6757 - acc: 0.6617 - val_loss: 0.6767 - val_acc: 0.6562\n",
            "Epoch 16/80\n",
            "4/4 [==============================] - 0s 9ms/step - loss: 0.6723 - acc: 0.6865 - val_loss: 0.6740 - val_acc: 0.6641\n",
            "Epoch 17/80\n",
            "4/4 [==============================] - 0s 9ms/step - loss: 0.6678 - acc: 0.7210 - val_loss: 0.6709 - val_acc: 0.6797\n",
            "Epoch 18/80\n",
            "4/4 [==============================] - 0s 9ms/step - loss: 0.6648 - acc: 0.7368 - val_loss: 0.6674 - val_acc: 0.7109\n",
            "Epoch 19/80\n",
            "4/4 [==============================] - 0s 9ms/step - loss: 0.6626 - acc: 0.7438 - val_loss: 0.6635 - val_acc: 0.7031\n",
            "Epoch 20/80\n",
            "4/4 [==============================] - 0s 8ms/step - loss: 0.6553 - acc: 0.7733 - val_loss: 0.6591 - val_acc: 0.7266\n",
            "Epoch 21/80\n",
            "4/4 [==============================] - 0s 9ms/step - loss: 0.6540 - acc: 0.7641 - val_loss: 0.6543 - val_acc: 0.7422\n",
            "Epoch 22/80\n",
            "4/4 [==============================] - 0s 8ms/step - loss: 0.6474 - acc: 0.7672 - val_loss: 0.6490 - val_acc: 0.7656\n",
            "Epoch 23/80\n",
            "4/4 [==============================] - 0s 9ms/step - loss: 0.6392 - acc: 0.7747 - val_loss: 0.6432 - val_acc: 0.7734\n",
            "Epoch 24/80\n",
            "4/4 [==============================] - 0s 11ms/step - loss: 0.6328 - acc: 0.7853 - val_loss: 0.6371 - val_acc: 0.7812\n",
            "Epoch 25/80\n",
            "4/4 [==============================] - 0s 10ms/step - loss: 0.6282 - acc: 0.7797 - val_loss: 0.6307 - val_acc: 0.7734\n",
            "Epoch 26/80\n",
            "4/4 [==============================] - 0s 9ms/step - loss: 0.6196 - acc: 0.7683 - val_loss: 0.6238 - val_acc: 0.7734\n",
            "Epoch 27/80\n",
            "4/4 [==============================] - 0s 9ms/step - loss: 0.6065 - acc: 0.7833 - val_loss: 0.6166 - val_acc: 0.7734\n",
            "Epoch 28/80\n",
            "4/4 [==============================] - 0s 8ms/step - loss: 0.5994 - acc: 0.7853 - val_loss: 0.6092 - val_acc: 0.7734\n",
            "Epoch 29/80\n",
            "4/4 [==============================] - 0s 9ms/step - loss: 0.5998 - acc: 0.7618 - val_loss: 0.6016 - val_acc: 0.7734\n",
            "Epoch 30/80\n",
            "4/4 [==============================] - 0s 9ms/step - loss: 0.5790 - acc: 0.7918 - val_loss: 0.5939 - val_acc: 0.7734\n",
            "Epoch 31/80\n",
            "4/4 [==============================] - 0s 9ms/step - loss: 0.5748 - acc: 0.7841 - val_loss: 0.5860 - val_acc: 0.7734\n",
            "Epoch 32/80\n",
            "4/4 [==============================] - 0s 9ms/step - loss: 0.5661 - acc: 0.7882 - val_loss: 0.5782 - val_acc: 0.7656\n",
            "Epoch 33/80\n",
            "4/4 [==============================] - 0s 9ms/step - loss: 0.5550 - acc: 0.7770 - val_loss: 0.5705 - val_acc: 0.7656\n",
            "Epoch 34/80\n",
            "4/4 [==============================] - 0s 10ms/step - loss: 0.5453 - acc: 0.7857 - val_loss: 0.5631 - val_acc: 0.7578\n",
            "Epoch 35/80\n",
            "4/4 [==============================] - 0s 11ms/step - loss: 0.5381 - acc: 0.7677 - val_loss: 0.5562 - val_acc: 0.7656\n",
            "Epoch 36/80\n",
            "4/4 [==============================] - 0s 11ms/step - loss: 0.5355 - acc: 0.7700 - val_loss: 0.5496 - val_acc: 0.7656\n",
            "Epoch 37/80\n",
            "4/4 [==============================] - 0s 12ms/step - loss: 0.5361 - acc: 0.7607 - val_loss: 0.5433 - val_acc: 0.7656\n",
            "Epoch 38/80\n",
            "4/4 [==============================] - 0s 11ms/step - loss: 0.5337 - acc: 0.7644 - val_loss: 0.5371 - val_acc: 0.7656\n",
            "Epoch 39/80\n",
            "4/4 [==============================] - 0s 9ms/step - loss: 0.5191 - acc: 0.7587 - val_loss: 0.5314 - val_acc: 0.7656\n",
            "Epoch 40/80\n",
            "4/4 [==============================] - 0s 9ms/step - loss: 0.5214 - acc: 0.7694 - val_loss: 0.5261 - val_acc: 0.7656\n",
            "Epoch 41/80\n",
            "4/4 [==============================] - 0s 9ms/step - loss: 0.4985 - acc: 0.7775 - val_loss: 0.5211 - val_acc: 0.7734\n",
            "Epoch 42/80\n",
            "4/4 [==============================] - 0s 10ms/step - loss: 0.4944 - acc: 0.7878 - val_loss: 0.5163 - val_acc: 0.7734\n",
            "Epoch 43/80\n",
            "4/4 [==============================] - 0s 10ms/step - loss: 0.4874 - acc: 0.7895 - val_loss: 0.5120 - val_acc: 0.7734\n",
            "Epoch 44/80\n",
            "4/4 [==============================] - 0s 9ms/step - loss: 0.5061 - acc: 0.7680 - val_loss: 0.5087 - val_acc: 0.7656\n",
            "Epoch 45/80\n",
            "4/4 [==============================] - 0s 12ms/step - loss: 0.4731 - acc: 0.8104 - val_loss: 0.5054 - val_acc: 0.7656\n",
            "Epoch 46/80\n",
            "4/4 [==============================] - 0s 10ms/step - loss: 0.4838 - acc: 0.8001 - val_loss: 0.5023 - val_acc: 0.7734\n",
            "Epoch 47/80\n",
            "4/4 [==============================] - 0s 9ms/step - loss: 0.4711 - acc: 0.7947 - val_loss: 0.4993 - val_acc: 0.7734\n",
            "Epoch 48/80\n",
            "4/4 [==============================] - 0s 9ms/step - loss: 0.4691 - acc: 0.7931 - val_loss: 0.4972 - val_acc: 0.7734\n",
            "Epoch 49/80\n",
            "4/4 [==============================] - 0s 8ms/step - loss: 0.4772 - acc: 0.7883 - val_loss: 0.4950 - val_acc: 0.7734\n",
            "Epoch 50/80\n",
            "4/4 [==============================] - 0s 8ms/step - loss: 0.4610 - acc: 0.8004 - val_loss: 0.4937 - val_acc: 0.7734\n",
            "Epoch 51/80\n",
            "4/4 [==============================] - 0s 9ms/step - loss: 0.4559 - acc: 0.8024 - val_loss: 0.4919 - val_acc: 0.7734\n",
            "Epoch 52/80\n",
            "4/4 [==============================] - 0s 10ms/step - loss: 0.4896 - acc: 0.7793 - val_loss: 0.4901 - val_acc: 0.7734\n",
            "Epoch 53/80\n",
            "4/4 [==============================] - 0s 10ms/step - loss: 0.4621 - acc: 0.7923 - val_loss: 0.4888 - val_acc: 0.7812\n",
            "Epoch 54/80\n",
            "4/4 [==============================] - 0s 12ms/step - loss: 0.4727 - acc: 0.7857 - val_loss: 0.4879 - val_acc: 0.7812\n",
            "Epoch 55/80\n",
            "4/4 [==============================] - 0s 10ms/step - loss: 0.4666 - acc: 0.7877 - val_loss: 0.4870 - val_acc: 0.7812\n",
            "Epoch 56/80\n",
            "4/4 [==============================] - 0s 9ms/step - loss: 0.4676 - acc: 0.7893 - val_loss: 0.4862 - val_acc: 0.7812\n",
            "Epoch 57/80\n",
            "4/4 [==============================] - 0s 9ms/step - loss: 0.4736 - acc: 0.7746 - val_loss: 0.4856 - val_acc: 0.7812\n",
            "Epoch 58/80\n",
            "4/4 [==============================] - 0s 10ms/step - loss: 0.4409 - acc: 0.7960 - val_loss: 0.4847 - val_acc: 0.7812\n",
            "Epoch 59/80\n",
            "4/4 [==============================] - 0s 8ms/step - loss: 0.4308 - acc: 0.8013 - val_loss: 0.4839 - val_acc: 0.7812\n",
            "Epoch 60/80\n",
            "4/4 [==============================] - 0s 9ms/step - loss: 0.4444 - acc: 0.7963 - val_loss: 0.4826 - val_acc: 0.7812\n",
            "Epoch 61/80\n",
            "4/4 [==============================] - 0s 9ms/step - loss: 0.4625 - acc: 0.7816 - val_loss: 0.4824 - val_acc: 0.7812\n",
            "Epoch 62/80\n",
            "4/4 [==============================] - 0s 9ms/step - loss: 0.4737 - acc: 0.7783 - val_loss: 0.4811 - val_acc: 0.7734\n",
            "Epoch 63/80\n",
            "4/4 [==============================] - 0s 15ms/step - loss: 0.4538 - acc: 0.7930 - val_loss: 0.4805 - val_acc: 0.7812\n",
            "Epoch 64/80\n",
            "4/4 [==============================] - 0s 9ms/step - loss: 0.4571 - acc: 0.7836 - val_loss: 0.4803 - val_acc: 0.7812\n",
            "Epoch 65/80\n",
            "4/4 [==============================] - 0s 9ms/step - loss: 0.4506 - acc: 0.7920 - val_loss: 0.4802 - val_acc: 0.7812\n",
            "Epoch 66/80\n",
            "4/4 [==============================] - 0s 11ms/step - loss: 0.4554 - acc: 0.7843 - val_loss: 0.4802 - val_acc: 0.7812\n",
            "Epoch 67/80\n",
            "4/4 [==============================] - 0s 11ms/step - loss: 0.4659 - acc: 0.7816 - val_loss: 0.4799 - val_acc: 0.7812\n",
            "Epoch 68/80\n",
            "4/4 [==============================] - 0s 11ms/step - loss: 0.4559 - acc: 0.7766 - val_loss: 0.4793 - val_acc: 0.7812\n",
            "Epoch 69/80\n",
            "4/4 [==============================] - 0s 10ms/step - loss: 0.4415 - acc: 0.8043 - val_loss: 0.4791 - val_acc: 0.7812\n",
            "Epoch 70/80\n",
            "4/4 [==============================] - 0s 9ms/step - loss: 0.4480 - acc: 0.7980 - val_loss: 0.4786 - val_acc: 0.7891\n",
            "Epoch 71/80\n",
            "4/4 [==============================] - 0s 10ms/step - loss: 0.4609 - acc: 0.7783 - val_loss: 0.4785 - val_acc: 0.7891\n",
            "Epoch 72/80\n",
            "4/4 [==============================] - 0s 9ms/step - loss: 0.4385 - acc: 0.7923 - val_loss: 0.4783 - val_acc: 0.7891\n",
            "Epoch 73/80\n",
            "4/4 [==============================] - 0s 9ms/step - loss: 0.4646 - acc: 0.7750 - val_loss: 0.4781 - val_acc: 0.7812\n",
            "Epoch 74/80\n",
            "4/4 [==============================] - 0s 9ms/step - loss: 0.4539 - acc: 0.7819 - val_loss: 0.4781 - val_acc: 0.7812\n",
            "Epoch 75/80\n",
            "4/4 [==============================] - 0s 10ms/step - loss: 0.4569 - acc: 0.7769 - val_loss: 0.4781 - val_acc: 0.7812\n",
            "Epoch 76/80\n",
            "4/4 [==============================] - 0s 10ms/step - loss: 0.4388 - acc: 0.7966 - val_loss: 0.4782 - val_acc: 0.7812\n",
            "Epoch 77/80\n",
            "4/4 [==============================] - 0s 9ms/step - loss: 0.4506 - acc: 0.7836 - val_loss: 0.4783 - val_acc: 0.7734\n",
            "Epoch 78/80\n",
            "4/4 [==============================] - 0s 16ms/step - loss: 0.4479 - acc: 0.7762 - val_loss: 0.4779 - val_acc: 0.7734\n",
            "Epoch 79/80\n",
            "4/4 [==============================] - 0s 11ms/step - loss: 0.4471 - acc: 0.7762 - val_loss: 0.4778 - val_acc: 0.7734\n",
            "Epoch 80/80\n",
            "4/4 [==============================] - 0s 9ms/step - loss: 0.4340 - acc: 0.7908 - val_loss: 0.4776 - val_acc: 0.7734\n"
          ],
          "name": "stdout"
        }
      ]
    },
    {
      "cell_type": "code",
      "metadata": {
        "colab": {
          "base_uri": "https://localhost:8080/",
          "height": 573
        },
        "id": "-6r4pxs23Q3A",
        "outputId": "8dc6322c-d669-47d3-cbd3-5a508ef035d4"
      },
      "source": [
        "# Plot training & validation accuracy values\n",
        "plt.plot(history.history['acc'])\n",
        "plt.plot(history.history['val_acc'])\n",
        "plt.title('Model accuracy')\n",
        "plt.ylabel('Accuracy')\n",
        "plt.xlabel('Epoch')\n",
        "plt.legend(['Train', 'Val'], loc='upper left')\n",
        "plt.show()\n",
        "\n",
        "# Plot training & validation loss values\n",
        "plt.plot(history.history['loss'])\n",
        "plt.plot(history.history['val_loss'])\n",
        "plt.title('Model loss')\n",
        "plt.ylabel('Loss')\n",
        "plt.xlabel('Epoch')\n",
        "plt.legend(['Train', 'Val'], loc='upper left')\n",
        "plt.show()"
      ],
      "execution_count": 22,
      "outputs": [
        {
          "output_type": "display_data",
          "data": {
            "image/png": "[encoded data removed]",
            "text/plain": [
              "<Figure size 432x288 with 1 Axes>"
            ]
          },
          "metadata": {
            "tags": [],
            "needs_background": "light"
          }
        },
        {
          "output_type": "display_data",
          "data": {
            "image/png": "[encoded data removed]",
            "text/plain": [
              "<Figure size 432x288 with 1 Axes>"
            ]
          },
          "metadata": {
            "tags": [],
            "needs_background": "light"
          }
        }
      ]
    },
    {
      "cell_type": "code",
      "metadata": {
        "colab": {
          "base_uri": "https://localhost:8080/"
        },
        "id": "MxMdj3Gl3Q3B",
        "outputId": "aab0c3cd-6043-476c-8efa-698912547c4c"
      },
      "source": [
        "for layer in model.layers:\n",
        "    weights = layer.get_weights()\n",
        "    print(weights)"
      ],
      "execution_count": 23,
      "outputs": [
        {
          "output_type": "stream",
          "text": [
            "[array([[-0.26757416,  0.15358804, -0.06068128, -0.2649011 , -0.15410304,\n",
            "         0.15295765, -0.04570947,  0.1447634 ,  0.12956055, -0.17442568,\n",
            "        -0.23751009,  0.19087443],\n",
            "       [-0.305411  ,  0.35174376, -0.3631368 , -0.3400286 , -0.36629838,\n",
            "         0.35024112, -0.3501676 ,  0.32235393,  0.35435694, -0.35373804,\n",
            "        -0.3037655 ,  0.30681133],\n",
            "       [-0.08243053, -0.10235246, -0.02058882,  0.09503436,  0.04671215,\n",
            "        -0.13738747,  0.01924309, -0.13599946, -0.1291728 , -0.02651839,\n",
            "         0.04192321, -0.13645484],\n",
            "       [ 0.01851084,  0.01675061, -0.16176552,  0.1858314 , -0.08964789,\n",
            "        -0.01886376, -0.08635856, -0.04218011, -0.02403625, -0.15669857,\n",
            "         0.05171534,  0.04657638],\n",
            "       [ 0.01411443, -0.04059646, -0.22088891,  0.01899365, -0.18283975,\n",
            "        -0.04122522, -0.30709913, -0.04111297, -0.02736277, -0.03007042,\n",
            "        -0.2513891 , -0.00989889],\n",
            "       [-0.15234198,  0.1857503 , -0.25731936, -0.14808431, -0.24525853,\n",
            "         0.21920104, -0.24109635,  0.20526968,  0.23601031, -0.25886524,\n",
            "        -0.17170838,  0.2316855 ],\n",
            "       [-0.1418144 ,  0.01126187, -0.2818656 , -0.0288513 , -0.27956977,\n",
            "         0.02575029, -0.2810373 ,  0.0026835 ,  0.01826577, -0.30772093,\n",
            "        -0.25223586, -0.00629121],\n",
            "       [-0.31813595, -0.04940943, -0.16617079, -0.25516158, -0.32229868,\n",
            "        -0.06445958,  0.04014161, -0.05992645, -0.05512193, -0.29458797,\n",
            "        -0.31583464, -0.04894485]], dtype=float32), array([0.31149137, 0.09541962, 0.2748232 , 0.24313672, 0.22348285,\n",
            "       0.09327807, 0.32798135, 0.07995486, 0.10991834, 0.24197774,\n",
            "       0.23449285, 0.16763644], dtype=float32)]\n",
            "[array([[ 0.3124211 ,  0.27174294,  0.03701338,  0.04131013, -0.02155958,\n",
            "         0.027351  ,  0.04466772,  0.30405688],\n",
            "       [-0.11020708, -0.10545763,  0.30044144,  0.24175799, -0.05264574,\n",
            "         0.2528942 ,  0.3154994 , -0.1231003 ],\n",
            "       [ 0.26633942,  0.33901432,  0.01894924,  0.01620693, -0.0540281 ,\n",
            "         0.03337087,  0.03505625,  0.31143168],\n",
            "       [ 0.2923804 ,  0.30080175, -0.19006577, -0.17662875,  0.00722088,\n",
            "        -0.25299346, -0.2361334 ,  0.3603906 ],\n",
            "       [ 0.3522627 ,  0.34373185, -0.09577807, -0.07955189, -0.04855701,\n",
            "         0.00497506, -0.00082816,  0.35340968],\n",
            "       [-0.12901773, -0.14509284,  0.3253266 ,  0.25595576, -0.01336072,\n",
            "         0.2822616 ,  0.281405  , -0.13631305],\n",
            "       [ 0.28592935,  0.34790322, -0.2453026 , -0.2331226 , -0.01831777,\n",
            "        -0.20487197, -0.19400412,  0.34196883],\n",
            "       [-0.19263494, -0.13751866,  0.2870659 ,  0.31347743,  0.0017634 ,\n",
            "         0.31226242,  0.28311896, -0.15320663],\n",
            "       [-0.08639221, -0.14020737,  0.32666272,  0.31189018, -0.04834621,\n",
            "         0.33372816,  0.26324302, -0.09427578],\n",
            "       [ 0.3441305 ,  0.3265502 , -0.1138851 , -0.11510627, -0.01921852,\n",
            "        -0.06579772, -0.07574145,  0.28528658],\n",
            "       [ 0.2944858 ,  0.26646602, -0.05988638, -0.05960259,  0.00823211,\n",
            "        -0.01244193, -0.03682501,  0.3459839 ],\n",
            "       [ 0.02672837,  0.03175237,  0.30345944,  0.2721598 ,  0.0102917 ,\n",
            "         0.28613532,  0.30757135, -0.00869034]], dtype=float32), array([ 0.267356  ,  0.2756207 ,  0.08932454,  0.09029356, -0.00599448,\n",
            "        0.08664223,  0.08037314,  0.2909627 ], dtype=float32)]\n",
            "[array([[-0.35199675],\n",
            "       [-0.33812615],\n",
            "       [ 0.31892776],\n",
            "       [ 0.3243372 ],\n",
            "       [ 0.0328091 ],\n",
            "       [ 0.32486638],\n",
            "       [ 0.3142754 ],\n",
            "       [-0.32386297]], dtype=float32), array([-0.16330267], dtype=float32)]\n"
          ],
          "name": "stdout"
        }
      ]
    },
    {
      "cell_type": "code",
      "metadata": {
        "id": "bLdYQ0QV3Q3B"
      },
      "source": [
        "predictions = model.predict(X_test)  \n",
        "p_labels = [round(x[0]) for x in predictions]"
      ],
      "execution_count": 27,
      "outputs": []
    },
    {
      "cell_type": "code",
      "metadata": {
        "colab": {
          "base_uri": "https://localhost:8080/"
        },
        "id": "bruOS_k33Q3B",
        "outputId": "0302d326-5bbb-40b4-eee5-43c0f49fcec0"
      },
      "source": [
        "print(\"Accuracy\", metrics.accuracy_score(y_test, p_labels))\n",
        "print(confusion_matrix(y_test,p_labels))  \n",
        "print(classification_report(y_test,p_labels))  "
      ],
      "execution_count": 28,
      "outputs": [
        {
          "output_type": "stream",
          "text": [
            "Accuracy 0.75\n",
            "[[142  25]\n",
            " [ 39  50]]\n",
            "              precision    recall  f1-score   support\n",
            "\n",
            "         0.0       0.78      0.85      0.82       167\n",
            "         1.0       0.67      0.56      0.61        89\n",
            "\n",
            "    accuracy                           0.75       256\n",
            "   macro avg       0.73      0.71      0.71       256\n",
            "weighted avg       0.74      0.75      0.74       256\n",
            "\n"
          ],
          "name": "stdout"
        }
      ]
    }
  ]
}