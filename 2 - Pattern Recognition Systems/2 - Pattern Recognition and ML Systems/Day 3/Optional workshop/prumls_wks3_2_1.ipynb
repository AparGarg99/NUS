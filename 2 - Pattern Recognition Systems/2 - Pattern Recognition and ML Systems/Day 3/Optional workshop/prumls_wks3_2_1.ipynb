{
  "nbformat": 4,
  "nbformat_minor": 0,
  "metadata": {
    "colab": {
      "name": "prumls-wks3-2-1.ipynb",
      "provenance": [],
      "collapsed_sections": [],
      "toc_visible": true
    },
    "kernelspec": {
      "name": "python3",
      "display_name": "Python 3"
    }
  },
  "cells": [
    {
      "cell_type": "markdown",
      "metadata": {
        "id": "CRNVzhoo1clG",
        "colab_type": "text"
      },
      "source": [
        "## **1. Mount google drive**\n",
        "---"
      ]
    },
    {
      "cell_type": "code",
      "metadata": {
        "id": "5W39GXyk1hME",
        "colab_type": "code",
        "outputId": "36045071-debe-4bd1-8562-e67664819675",
        "colab": {
          "base_uri": "https://localhost:8080/",
          "height": 34
        }
      },
      "source": [
        "from google.colab import drive\n",
        "drive.mount('/content/gdrive')"
      ],
      "execution_count": 1,
      "outputs": [
        {
          "output_type": "stream",
          "text": [
            "Drive already mounted at /content/gdrive; to attempt to forcibly remount, call drive.mount(\"/content/gdrive\", force_remount=True).\n"
          ],
          "name": "stdout"
        }
      ]
    },
    {
      "cell_type": "markdown",
      "metadata": {
        "id": "dOQ-2xS_MYHi",
        "colab_type": "text"
      },
      "source": [
        "## **2. Import the necessary libraries**\n",
        "---"
      ]
    },
    {
      "cell_type": "code",
      "metadata": {
        "id": "yoi4gWDELtek",
        "colab_type": "code",
        "colab": {
          "base_uri": "https://localhost:8080/",
          "height": 119
        },
        "outputId": "8e00f8b8-4340-4311-8ac6-b0f8a5e29fe6"
      },
      "source": [
        "import h5py\n",
        "import matplotlib\n",
        "import sklearn\n",
        "import numpy as np\n",
        "import pandas as pd\n",
        "import sklearn.metrics as metrics\n",
        "import matplotlib.pyplot as plt\n",
        "import tensorflow as tf\n",
        "\n",
        "from tensorflow.keras.callbacks import ModelCheckpoint,CSVLogger\n",
        "from tensorflow.keras.models import Model\n",
        "from tensorflow.keras.layers import Input\n",
        "from tensorflow.keras.layers import LSTM\n",
        "from tensorflow.keras.layers import Dense\n",
        "from tensorflow.keras.utils import plot_model\n",
        "\n",
        "\n",
        "print(\"Versions of key libraries\")\n",
        "print(\"---\")\n",
        "print(\"tensorflow: \", tf.__version__)\n",
        "print(\"numpy:      \", np.__version__)\n",
        "print(\"matplotlib: \", matplotlib.__version__)\n",
        "print(\"sklearn:    \", sklearn.__version__)"
      ],
      "execution_count": 2,
      "outputs": [
        {
          "output_type": "stream",
          "text": [
            "Versions of key libraries\n",
            "---\n",
            "tensorflow:  2.2.0\n",
            "numpy:       1.18.4\n",
            "matplotlib:  3.2.1\n",
            "sklearn:     0.22.2.post1\n"
          ],
          "name": "stdout"
        }
      ]
    },
    {
      "cell_type": "markdown",
      "metadata": {
        "id": "X3N41iixORPz",
        "colab_type": "text"
      },
      "source": [
        "## **3. Set matplotlib to have seaborn plot style**\n",
        "---"
      ]
    },
    {
      "cell_type": "code",
      "metadata": {
        "id": "OyO5OsUrOYNQ",
        "colab_type": "code",
        "colab": {
          "base_uri": "https://localhost:8080/",
          "height": 34
        },
        "outputId": "3ac80df4-e481-4950-9e1b-b50d8fa2e11f"
      },
      "source": [
        "plt.style.use('seaborn')                   # if want to use the default style, set 'classic'\n",
        "plt.rcParams['ytick.right']     = True\n",
        "plt.rcParams['ytick.labelright']= True\n",
        "plt.rcParams['ytick.left']      = False\n",
        "plt.rcParams['ytick.labelleft'] = False\n",
        "plt.rcParams['figure.figsize']  = [7,7]   # Set the figure size to be 7 inch for (width,height)\n",
        "\n",
        "print(\"Matplotlib setup completes.\")"
      ],
      "execution_count": 3,
      "outputs": [
        {
          "output_type": "stream",
          "text": [
            "Matplotlib setup completes.\n"
          ],
          "name": "stdout"
        }
      ]
    },
    {
      "cell_type": "markdown",
      "metadata": {
        "id": "HpYSSJuASvM0",
        "colab_type": "text"
      },
      "source": [
        "## **4. Load ECG data**\n",
        "---\n",
        "* Step 1: Load the h5py file and extract the values\n",
        "* Step 2: Convert the data and label into numpy arrays\n",
        "* Step 3: Tranpose the data and label\n",
        "* Step 4: Make separate arrays for Normal and CAD ECG signals\n",
        "* Step 5: Inspect the shape and data type of the 'nor' and 'cad' arrays"
      ]
    },
    {
      "cell_type": "code",
      "metadata": {
        "id": "6QAC7FbmTYKv",
        "colab_type": "code",
        "colab": {
          "base_uri": "https://localhost:8080/",
          "height": 51
        },
        "outputId": "e7d5acf4-6c24-48c3-c614-69062e68dca0"
      },
      "source": [
        "f        = h5py.File('/content/gdrive/My Drive/iss/prumls/data/cad5sec.mat','r')# Step 1\n",
        "X        = f[\"data\"]\n",
        "Y        = f[\"classLabel\"]\n",
        "\n",
        "                                                                                # Step 2\n",
        "data     = np.array(X)                                                          \n",
        "label    = np.array(Y)\n",
        "\n",
        "                                                                                # Step 3\n",
        "data     = np.transpose(data)                                                   \n",
        "label    = np.transpose(label)\n",
        "\n",
        "                                                                                # Step 4\n",
        "nor      = data[0:32000]\n",
        "cad      = data[32000:38120]\n",
        "\n",
        "                                                                                # Step 5\n",
        "print('The shape of nor is', nor.shape, 'and the data type is', nor.dtype)\n",
        "print('The shape of cad is', cad.shape, 'and the data type is', cad.dtype)"
      ],
      "execution_count": 4,
      "outputs": [
        {
          "output_type": "stream",
          "text": [
            "The shape of nor is (32000, 1285) and the data type is float64\n",
            "The shape of cad is (6120, 1285) and the data type is float64\n"
          ],
          "name": "stdout"
        }
      ]
    },
    {
      "cell_type": "markdown",
      "metadata": {
        "id": "IpjXV5T4WAoL",
        "colab_type": "text"
      },
      "source": [
        "## **6. Create makeSteps function**\n",
        "---"
      ]
    },
    {
      "cell_type": "code",
      "metadata": {
        "id": "S_EFoTlIWHm5",
        "colab_type": "code",
        "colab": {
          "base_uri": "https://localhost:8080/",
          "height": 34
        },
        "outputId": "1b7b3472-62f1-4b0f-ef6b-c34832755165"
      },
      "source": [
        "def makeSteps(dat, length, dist):\n",
        "    width           = dat.shape[1]\n",
        "    numOfSteps      = int(np.floor((width-length)/dist)+1)\n",
        "    \n",
        "                                        # Initialize the output\n",
        "    segments        = np.zeros([dat.shape[0],numOfSteps,length],\n",
        "                               dtype=dat.dtype)\n",
        "    \n",
        "    for l in range(numOfSteps):\n",
        "        segments[:,l,:]     = dat[:,(l*dist):(l*dist+length)]\n",
        "        \n",
        "    return segments\n",
        "\n",
        "print(makeSteps)"
      ],
      "execution_count": 5,
      "outputs": [
        {
          "output_type": "stream",
          "text": [
            "<function makeSteps at 0x7fd57bb7b2f0>\n"
          ],
          "name": "stdout"
        }
      ]
    },
    {
      "cell_type": "markdown",
      "metadata": {
        "id": "5w2jAiKZOmgP",
        "colab_type": "text"
      },
      "source": [
        "## **7. Prepare data for training and testing**\n",
        "---\n",
        "* Step 1: Split the dataset into training and testing\n",
        "* Step 2: Generate segments for each signal\n",
        "* Step 3: Consolidate the arrays\n",
        "* Step 4: Inspect the data shape and type"
      ]
    },
    {
      "cell_type": "code",
      "metadata": {
        "id": "v3Ad2V0pO1TX",
        "colab_type": "code",
        "outputId": "a223d029-c059-41b8-b594-c1bc8d79b929",
        "colab": {
          "base_uri": "https://localhost:8080/",
          "height": 102
        }
      },
      "source": [
        "                                                                                # Step 1\n",
        "trNor        = nor[0:28800].copy()\n",
        "tsNor        = nor[28800:32000].copy()\n",
        "trCad        = cad[0:5000].copy()\n",
        "tsCad        = cad[5000:6120].copy()\n",
        "\n",
        "                                                                                # Step 2\n",
        "length       = 36\n",
        "dist         = 24\n",
        "trNorS       = makeSteps(trNor, length, dist)\n",
        "tsNorS       = makeSteps(tsNor, length, dist)\n",
        "trCadS       = makeSteps(trCad, length, dist)\n",
        "tsCadS       = makeSteps(tsCad, length, dist)\n",
        "\n",
        "                                                                                # Step 3\n",
        "trDat        = np.vstack([trNorS,trCadS])\n",
        "tsDat        = np.vstack([tsNorS,tsCadS])\n",
        "\n",
        "trLbl        = np.vstack([np.zeros([trNorS.shape[0],1]),\n",
        "                          np.ones([trCadS.shape[0],1])])\n",
        "tsLbl        = np.vstack([np.zeros([tsNorS.shape[0],1]),\n",
        "                          np.ones([tsCadS.shape[0],1])])\n",
        "\n",
        "                                                                                # Step 4\n",
        "print('The shape of trDat is', trDat.shape, \"and the type is\", trDat.dtype)\n",
        "print('The shape of trLbl is', trLbl.shape, \"and the type is\", trLbl.dtype)\n",
        "print('')\n",
        "print('The shape of tsDat is', tsDat.shape, \"and the type is\", tsDat.dtype)\n",
        "print('The shape of tsLbl is', tsLbl.shape, \"and the type is\", tsLbl.dtype)"
      ],
      "execution_count": 6,
      "outputs": [
        {
          "output_type": "stream",
          "text": [
            "The shape of trDat is (33800, 53, 36) and the type is float64\n",
            "The shape of trLbl is (33800, 1) and the type is float64\n",
            "\n",
            "The shape of tsDat is (4320, 53, 36) and the type is float64\n",
            "The shape of tsLbl is (4320, 1) and the type is float64\n"
          ],
          "name": "stdout"
        }
      ]
    },
    {
      "cell_type": "markdown",
      "metadata": {
        "id": "DoP3WcoJW-jZ",
        "colab_type": "text"
      },
      "source": [
        "## **8. Define the LSTM model**\n",
        "___\n",
        "* Step 1: Set a name for the coming model (required for saving)\n",
        "* Step 2: Define the LSTM model\n",
        "* Step 3: Create models for training and testing\n",
        "* Step 4: Display the summary of the model of interest "
      ]
    },
    {
      "cell_type": "code",
      "metadata": {
        "id": "0HMOes0kXCPd",
        "colab_type": "code",
        "outputId": "7c9fc145-dfbe-40e4-8f3b-6d4a4807bdac",
        "colab": {
          "base_uri": "https://localhost:8080/",
          "height": 357
        }
      },
      "source": [
        "modelname   = 'wks3_2_1'                                                        # Step 1\n",
        "\n",
        "                                                                                # Step 2\n",
        "def createModel():        \n",
        "    inputs      = Input(shape=(trDat.shape[1],length))\n",
        "    y           = LSTM(32, \n",
        "                       return_sequences=True, \n",
        "                       dropout=0.25, \n",
        "                       recurrent_dropout=0.25)(inputs)\n",
        "    y           = LSTM(32, \n",
        "                       return_sequences=True, \n",
        "                       dropout=0.5, \n",
        "                       recurrent_dropout=0.25)(y)\n",
        "    y           = LSTM(32, \n",
        "                       return_sequences=True, \n",
        "                       dropout=0.25)(y)\n",
        "    y           = LSTM(64, \n",
        "                       dropout=0.25)(y)\n",
        "    y           = Dense(1, activation='sigmoid')(y)\n",
        "    \n",
        "    model       = Model(inputs=inputs,outputs=y)\n",
        "    model.compile(loss='binary_crossentropy', \n",
        "                  optimizer='adam', \n",
        "                  metrics=['accuracy'])\n",
        "\n",
        "    return model\n",
        "\n",
        "                                                                                # Step 3\n",
        "model       = createModel() # This is meant for training\n",
        "modelGo     = createModel() # This is used for final testing\n",
        "\n",
        "model.summary()                                                                 # Step 4"
      ],
      "execution_count": 7,
      "outputs": [
        {
          "output_type": "stream",
          "text": [
            "Model: \"model\"\n",
            "_________________________________________________________________\n",
            "Layer (type)                 Output Shape              Param #   \n",
            "=================================================================\n",
            "input_1 (InputLayer)         [(None, 53, 36)]          0         \n",
            "_________________________________________________________________\n",
            "lstm (LSTM)                  (None, 53, 32)            8832      \n",
            "_________________________________________________________________\n",
            "lstm_1 (LSTM)                (None, 53, 32)            8320      \n",
            "_________________________________________________________________\n",
            "lstm_2 (LSTM)                (None, 53, 32)            8320      \n",
            "_________________________________________________________________\n",
            "lstm_3 (LSTM)                (None, 64)                24832     \n",
            "_________________________________________________________________\n",
            "dense (Dense)                (None, 1)                 65        \n",
            "=================================================================\n",
            "Total params: 50,369\n",
            "Trainable params: 50,369\n",
            "Non-trainable params: 0\n",
            "_________________________________________________________________\n"
          ],
          "name": "stdout"
        }
      ]
    },
    {
      "cell_type": "markdown",
      "metadata": {
        "id": "DlquJEaFZxV9",
        "colab_type": "text"
      },
      "source": [
        "## **9. Create the callbacks to be applied during training**\n",
        "---\n",
        "* Step 1: Create a callback to save the model from an epoch when validation accuracy is the highest\n",
        "* Step 2: Create a callback to save the training loss, training accuracy, validation loss and validation accuracy of each epoch into a csv file\n",
        "* Step 3: Put the two callback objects into a list"
      ]
    },
    {
      "cell_type": "code",
      "metadata": {
        "id": "9-a1LSCbahKy",
        "colab_type": "code",
        "colab": {
          "base_uri": "https://localhost:8080/",
          "height": 119
        },
        "outputId": "e2f738b5-843e-4512-928f-3005b1715ddc"
      },
      "source": [
        "                                                                                # Step 1\n",
        "folderpath      = '/content/gdrive/My Drive/iss/prumls/colab/'\n",
        "filepath        = folderpath + modelname + \".hdf5\"\n",
        "checkpoint      = ModelCheckpoint(filepath, \n",
        "                                  monitor='val_accuracy', \n",
        "                                  verbose=0, \n",
        "                                  save_best_only=True, \n",
        "                                  mode='max')\n",
        "\n",
        "csv_logger      = CSVLogger(folderpath+modelname +'.csv')                       # Step 2\n",
        "callbacks_list  = [checkpoint,csv_logger]                                       # Step 3\n",
        "\n",
        "print(\"Callbacks created:\")\n",
        "print(callbacks_list[0])\n",
        "print(callbacks_list[1])\n",
        "print('')\n",
        "print(\"Path to model:\", filepath)\n",
        "print(\"Path to log:  \", folderpath+modelname+'.csv')\n"
      ],
      "execution_count": 8,
      "outputs": [
        {
          "output_type": "stream",
          "text": [
            "Callbacks created:\n",
            "<tensorflow.python.keras.callbacks.ModelCheckpoint object at 0x7fd5c4f7e7f0>\n",
            "<tensorflow.python.keras.callbacks.CSVLogger object at 0x7fd5c4f7eb38>\n",
            "\n",
            "Path to model: /content/gdrive/My Drive/iss/prumls/colab/wks3_2_1.hdf5\n",
            "Path to log:   /content/gdrive/My Drive/iss/prumls/colab/wks3_2_1.csv\n"
          ],
          "name": "stdout"
        }
      ]
    },
    {
      "cell_type": "markdown",
      "metadata": {
        "id": "1mKgjQsmfOBz",
        "colab_type": "text"
      },
      "source": [
        "## **10. Train the deep learning model**\n",
        "___"
      ]
    },
    {
      "cell_type": "code",
      "metadata": {
        "id": "23lUNwpGfV0A",
        "colab_type": "code",
        "outputId": "ca036aea-e22c-43b1-a97f-9b32bc8be565",
        "colab": {
          "base_uri": "https://localhost:8080/",
          "height": 1000
        }
      },
      "source": [
        "model.fit(trDat, \n",
        "          trLbl, \n",
        "          validation_data=(tsDat, tsLbl), \n",
        "          epochs=40, \n",
        "          batch_size=128,\n",
        "          shuffle=True,\n",
        "          callbacks=callbacks_list)"
      ],
      "execution_count": 9,
      "outputs": [
        {
          "output_type": "stream",
          "text": [
            "Epoch 1/40\n",
            "265/265 [==============================] - 73s 277ms/step - loss: 0.1859 - accuracy: 0.9316 - val_loss: 0.8299 - val_accuracy: 0.7597\n",
            "Epoch 2/40\n",
            "265/265 [==============================] - 74s 278ms/step - loss: 0.0852 - accuracy: 0.9728 - val_loss: 0.6487 - val_accuracy: 0.8023\n",
            "Epoch 3/40\n",
            "265/265 [==============================] - 74s 278ms/step - loss: 0.0602 - accuracy: 0.9799 - val_loss: 0.5257 - val_accuracy: 0.8590\n",
            "Epoch 4/40\n",
            "265/265 [==============================] - 78s 294ms/step - loss: 0.0489 - accuracy: 0.9827 - val_loss: 0.6623 - val_accuracy: 0.8731\n",
            "Epoch 5/40\n",
            "265/265 [==============================] - 74s 279ms/step - loss: 0.0408 - accuracy: 0.9848 - val_loss: 0.6172 - val_accuracy: 0.8743\n",
            "Epoch 6/40\n",
            "265/265 [==============================] - 74s 280ms/step - loss: 0.0323 - accuracy: 0.9878 - val_loss: 0.4092 - val_accuracy: 0.9035\n",
            "Epoch 7/40\n",
            "265/265 [==============================] - 74s 278ms/step - loss: 0.0264 - accuracy: 0.9904 - val_loss: 0.7280 - val_accuracy: 0.8789\n",
            "Epoch 8/40\n",
            "265/265 [==============================] - 73s 275ms/step - loss: 0.0249 - accuracy: 0.9909 - val_loss: 0.4504 - val_accuracy: 0.8880\n",
            "Epoch 9/40\n",
            "265/265 [==============================] - 73s 275ms/step - loss: 0.0226 - accuracy: 0.9922 - val_loss: 0.6724 - val_accuracy: 0.8789\n",
            "Epoch 10/40\n",
            "265/265 [==============================] - 72s 273ms/step - loss: 0.0197 - accuracy: 0.9931 - val_loss: 0.6626 - val_accuracy: 0.8748\n",
            "Epoch 11/40\n",
            "265/265 [==============================] - 73s 275ms/step - loss: 0.0183 - accuracy: 0.9933 - val_loss: 0.4499 - val_accuracy: 0.8912\n",
            "Epoch 12/40\n",
            "265/265 [==============================] - 73s 274ms/step - loss: 0.0161 - accuracy: 0.9941 - val_loss: 0.4859 - val_accuracy: 0.8738\n",
            "Epoch 13/40\n",
            "265/265 [==============================] - 76s 285ms/step - loss: 0.0138 - accuracy: 0.9948 - val_loss: 0.7001 - val_accuracy: 0.8859\n",
            "Epoch 14/40\n",
            "265/265 [==============================] - 73s 274ms/step - loss: 0.0142 - accuracy: 0.9948 - val_loss: 0.7667 - val_accuracy: 0.8771\n",
            "Epoch 15/40\n",
            "265/265 [==============================] - 73s 275ms/step - loss: 0.0126 - accuracy: 0.9955 - val_loss: 1.0980 - val_accuracy: 0.8660\n",
            "Epoch 16/40\n",
            "265/265 [==============================] - 73s 274ms/step - loss: 0.0145 - accuracy: 0.9948 - val_loss: 0.6047 - val_accuracy: 0.8785\n",
            "Epoch 17/40\n",
            "265/265 [==============================] - 73s 275ms/step - loss: 0.0121 - accuracy: 0.9956 - val_loss: 0.6712 - val_accuracy: 0.8817\n",
            "Epoch 18/40\n",
            "265/265 [==============================] - 72s 273ms/step - loss: 0.0099 - accuracy: 0.9964 - val_loss: 0.6494 - val_accuracy: 0.8745\n",
            "Epoch 19/40\n",
            "265/265 [==============================] - 73s 276ms/step - loss: 0.0093 - accuracy: 0.9964 - val_loss: 0.6363 - val_accuracy: 0.8910\n",
            "Epoch 20/40\n",
            "265/265 [==============================] - 73s 277ms/step - loss: 0.0108 - accuracy: 0.9961 - val_loss: 0.8171 - val_accuracy: 0.8838\n",
            "Epoch 21/40\n",
            "265/265 [==============================] - 76s 287ms/step - loss: 0.0101 - accuracy: 0.9962 - val_loss: 0.9339 - val_accuracy: 0.8773\n",
            "Epoch 22/40\n",
            "265/265 [==============================] - 73s 274ms/step - loss: 0.0113 - accuracy: 0.9959 - val_loss: 0.8038 - val_accuracy: 0.8847\n",
            "Epoch 23/40\n",
            "265/265 [==============================] - 73s 274ms/step - loss: 0.0103 - accuracy: 0.9966 - val_loss: 0.9324 - val_accuracy: 0.8720\n",
            "Epoch 24/40\n",
            "265/265 [==============================] - 73s 274ms/step - loss: 0.0085 - accuracy: 0.9969 - val_loss: 0.7593 - val_accuracy: 0.8803\n",
            "Epoch 25/40\n",
            "265/265 [==============================] - 73s 276ms/step - loss: 0.0073 - accuracy: 0.9975 - val_loss: 0.9159 - val_accuracy: 0.8771\n",
            "Epoch 26/40\n",
            "265/265 [==============================] - 73s 277ms/step - loss: 0.0088 - accuracy: 0.9971 - val_loss: 0.6193 - val_accuracy: 0.8921\n",
            "Epoch 27/40\n",
            "265/265 [==============================] - 73s 277ms/step - loss: 0.0076 - accuracy: 0.9970 - val_loss: 1.0147 - val_accuracy: 0.8674\n",
            "Epoch 28/40\n",
            "265/265 [==============================] - 75s 282ms/step - loss: 0.0119 - accuracy: 0.9962 - val_loss: 1.0218 - val_accuracy: 0.8752\n",
            "Epoch 29/40\n",
            "265/265 [==============================] - 80s 300ms/step - loss: 0.0057 - accuracy: 0.9977 - val_loss: 0.6968 - val_accuracy: 0.8914\n",
            "Epoch 30/40\n",
            "265/265 [==============================] - 75s 282ms/step - loss: 0.0086 - accuracy: 0.9970 - val_loss: 0.7293 - val_accuracy: 0.8799\n",
            "Epoch 31/40\n",
            "265/265 [==============================] - 74s 280ms/step - loss: 0.0067 - accuracy: 0.9977 - val_loss: 1.2679 - val_accuracy: 0.8725\n",
            "Epoch 32/40\n",
            "265/265 [==============================] - 74s 277ms/step - loss: 0.0080 - accuracy: 0.9970 - val_loss: 0.7394 - val_accuracy: 0.8861\n",
            "Epoch 33/40\n",
            "265/265 [==============================] - 73s 275ms/step - loss: 0.0064 - accuracy: 0.9979 - val_loss: 0.8986 - val_accuracy: 0.8870\n",
            "Epoch 34/40\n",
            "265/265 [==============================] - 73s 276ms/step - loss: 0.0061 - accuracy: 0.9977 - val_loss: 0.8612 - val_accuracy: 0.8764\n",
            "Epoch 35/40\n",
            "265/265 [==============================] - 73s 275ms/step - loss: 0.0056 - accuracy: 0.9981 - val_loss: 0.8359 - val_accuracy: 0.8789\n",
            "Epoch 36/40\n",
            "265/265 [==============================] - 73s 275ms/step - loss: 0.0069 - accuracy: 0.9978 - val_loss: 0.7142 - val_accuracy: 0.8843\n",
            "Epoch 37/40\n",
            "265/265 [==============================] - 76s 286ms/step - loss: 0.0082 - accuracy: 0.9971 - val_loss: 0.7005 - val_accuracy: 0.8866\n",
            "Epoch 38/40\n",
            "265/265 [==============================] - 73s 274ms/step - loss: 0.0105 - accuracy: 0.9962 - val_loss: 0.8332 - val_accuracy: 0.8748\n",
            "Epoch 39/40\n",
            "265/265 [==============================] - 73s 275ms/step - loss: 0.0075 - accuracy: 0.9975 - val_loss: 0.9008 - val_accuracy: 0.8704\n",
            "Epoch 40/40\n",
            "265/265 [==============================] - 73s 274ms/step - loss: 0.0064 - accuracy: 0.9980 - val_loss: 0.9891 - val_accuracy: 0.8822\n"
          ],
          "name": "stdout"
        },
        {
          "output_type": "execute_result",
          "data": {
            "text/plain": [
              "<tensorflow.python.keras.callbacks.History at 0x7fd574fd4198>"
            ]
          },
          "metadata": {
            "tags": []
          },
          "execution_count": 9
        }
      ]
    },
    {
      "cell_type": "markdown",
      "metadata": {
        "id": "TevfJTd-s0nk",
        "colab_type": "text"
      },
      "source": [
        "## **11. Validate the deep learning model**\n",
        "---\n",
        "* Step 1: Load the trained weights and compile the model\n",
        "* Step 2: Make prediction\n"
      ]
    },
    {
      "cell_type": "code",
      "metadata": {
        "id": "2sVtWmcVtiV5",
        "colab_type": "code",
        "colab": {
          "base_uri": "https://localhost:8080/",
          "height": 51
        },
        "outputId": "3f20cd42-7864-4c58-f7c8-ac2dd230a2fb"
      },
      "source": [
        "                                                                                # Step 1\n",
        "modelGo.load_weights(filepath)\n",
        "print(\"Model weights loaded from:\", filepath)\n",
        "\n",
        "modelGo.compile(loss='binary_crossentropy', \n",
        "                optimizer='adam', \n",
        "                metrics=['accuracy'])\n",
        "\n",
        "predicts    = modelGo.predict(tsDat)                                           # Step 2\n",
        "print(\"Prediction completes.\")"
      ],
      "execution_count": 10,
      "outputs": [
        {
          "output_type": "stream",
          "text": [
            "Model weights loaded from: /content/gdrive/My Drive/iss/prumls/colab/wks3_2_1.hdf5\n",
            "Prediction completes.\n"
          ],
          "name": "stdout"
        }
      ]
    },
    {
      "cell_type": "markdown",
      "metadata": {
        "id": "0aOCUljp5qq4",
        "colab_type": "text"
      },
      "source": [
        "## **12. Report classification metrics**\n",
        "---\n",
        "* Step 1: Setup the label\n",
        "* Step 2: Calculate the accuracy score\n",
        "* Step 3: Generate classification report"
      ]
    },
    {
      "cell_type": "code",
      "metadata": {
        "id": "2tI4hBmk5uRh",
        "colab_type": "code",
        "outputId": "2cbca905-e043-4dd1-d49e-82fab3fd5ece",
        "colab": {
          "base_uri": "https://localhost:8080/",
          "height": 187
        }
      },
      "source": [
        "                                                                                # Step 1\n",
        "labelname   = ['Normal',          # The label for reporting metrics\n",
        "               'CAD']\n",
        "                                                                                \n",
        "testScores  = metrics.accuracy_score(tsLbl,predicts.round())                    # Step 2\n",
        "              \n",
        "                                                                                # Step 3\n",
        "print(\"Best accuracy (on testing dataset): %.2f%%\" % (testScores*100))\n",
        "print(metrics.classification_report(tsLbl,\n",
        "                                    predicts.round(),\n",
        "                                    target_names=labelname,\n",
        "                                    digits=4))\n",
        "\n"
      ],
      "execution_count": 11,
      "outputs": [
        {
          "output_type": "stream",
          "text": [
            "Best accuracy (on testing dataset): 90.35%\n",
            "              precision    recall  f1-score   support\n",
            "\n",
            "      Normal     0.9000    0.9784    0.9376      3200\n",
            "         CAD     0.9180    0.6893    0.7874      1120\n",
            "\n",
            "    accuracy                         0.9035      4320\n",
            "   macro avg     0.9090    0.8339    0.8625      4320\n",
            "weighted avg     0.9046    0.9035    0.8986      4320\n",
            "\n"
          ],
          "name": "stdout"
        }
      ]
    },
    {
      "cell_type": "markdown",
      "metadata": {
        "id": "gEK_4UXN6IVa",
        "colab_type": "text"
      },
      "source": [
        "## **13. Print confusion matrix**\n",
        "---"
      ]
    },
    {
      "cell_type": "code",
      "metadata": {
        "id": "UCBJCYp26L1t",
        "colab_type": "code",
        "outputId": "efd4e142-924b-4b6f-bf77-7d231d2232c1",
        "colab": {
          "base_uri": "https://localhost:8080/",
          "height": 51
        }
      },
      "source": [
        "confusion   = metrics.confusion_matrix(tsLbl,predicts.round())    \n",
        "print(confusion)"
      ],
      "execution_count": 12,
      "outputs": [
        {
          "output_type": "stream",
          "text": [
            "[[3131   69]\n",
            " [ 348  772]]\n"
          ],
          "name": "stdout"
        }
      ]
    },
    {
      "cell_type": "markdown",
      "metadata": {
        "id": "2QMIDPD46UGT",
        "colab_type": "text"
      },
      "source": [
        "## **14. Plot curves on validation loss and accuracy**\n",
        "---"
      ]
    },
    {
      "cell_type": "code",
      "metadata": {
        "id": "qr2ZbvUi6YHf",
        "colab_type": "code",
        "outputId": "08f947b1-b7f0-47e9-856e-07ade9628d62",
        "colab": {
          "base_uri": "https://localhost:8080/",
          "height": 443
        }
      },
      "source": [
        "records     = pd.read_csv(folderpath+modelname +'.csv')\n",
        "plt.figure()\n",
        "plt.subplot(211)\n",
        "plt.plot(records['val_loss'], label=\"validation\")\n",
        "plt.plot(records['loss'],label=\"training\")\n",
        "plt.yticks([0.00,0.50,1.00,1.50])\n",
        "plt.title('Loss value',fontsize=12)\n",
        "\n",
        "ax          = plt.gca()\n",
        "ax.set_xticklabels([])\n",
        "\n",
        "plt.subplot(212)\n",
        "plt.plot(records['val_accuracy'],label=\"validation\")\n",
        "plt.plot(records['accuracy'],label=\"training\")\n",
        "plt.yticks([0.5,0.6,0.7,0.8])\n",
        "plt.title('Accuracy',fontsize=12)\n",
        "ax.legend()\n",
        "plt.show()"
      ],
      "execution_count": 13,
      "outputs": [
        {
          "output_type": "display_data",
          "data": {
            "image/png": "[encoded data removed]",
            "text/plain": [
              "<Figure size 504x504 with 2 Axes>"
            ]
          },
          "metadata": {
            "tags": []
          }
        }
      ]
    },
    {
      "cell_type": "markdown",
      "metadata": {
        "id": "PWoTz-bLug3X",
        "colab_type": "text"
      },
      "source": [
        "## **15. Save the model plot**\n",
        "---"
      ]
    },
    {
      "cell_type": "code",
      "metadata": {
        "id": "Tz1YfuV1ujcE",
        "colab_type": "code",
        "outputId": "2c43ec0b-fc8e-49e8-f7d1-925711937f52",
        "colab": {
          "base_uri": "https://localhost:8080/",
          "height": 34
        }
      },
      "source": [
        "plotpath  = folderpath+modelname+'_plot.png'\n",
        "plot_model(model, \n",
        "           to_file=plotpath, \n",
        "           show_shapes=True, \n",
        "           show_layer_names=False,\n",
        "           rankdir='TB')\n",
        "\n",
        "print(\"Path to plot:\", plotpath)"
      ],
      "execution_count": 14,
      "outputs": [
        {
          "output_type": "stream",
          "text": [
            "Path to plot: /content/gdrive/My Drive/iss/prumls/colab/wks3_2_1_plot.png\n"
          ],
          "name": "stdout"
        }
      ]
    }
  ]
}