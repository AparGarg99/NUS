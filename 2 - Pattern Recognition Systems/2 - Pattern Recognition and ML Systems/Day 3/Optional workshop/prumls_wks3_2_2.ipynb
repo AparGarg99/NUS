{
  "nbformat": 4,
  "nbformat_minor": 0,
  "metadata": {
    "colab": {
      "name": "prumls-wks3-2-2.ipynb",
      "provenance": [],
      "collapsed_sections": [],
      "toc_visible": true
    },
    "kernelspec": {
      "name": "python3",
      "display_name": "Python 3"
    },
    "accelerator": "GPU"
  },
  "cells": [
    {
      "cell_type": "markdown",
      "metadata": {
        "id": "CRNVzhoo1clG",
        "colab_type": "text"
      },
      "source": [
        "## **1. Mount google drive**\n",
        "---"
      ]
    },
    {
      "cell_type": "code",
      "metadata": {
        "id": "5W39GXyk1hME",
        "colab_type": "code",
        "outputId": "f3cef38d-ea94-482e-da90-018d4ca27673",
        "colab": {
          "base_uri": "https://localhost:8080/"
        }
      },
      "source": [
        "from google.colab import drive\n",
        "drive.mount('/content/gdrive')"
      ],
      "execution_count": 1,
      "outputs": [
        {
          "output_type": "stream",
          "text": [
            "Drive already mounted at /content/gdrive; to attempt to forcibly remount, call drive.mount(\"/content/gdrive\", force_remount=True).\n"
          ],
          "name": "stdout"
        }
      ]
    },
    {
      "cell_type": "markdown",
      "metadata": {
        "id": "dOQ-2xS_MYHi",
        "colab_type": "text"
      },
      "source": [
        "## **2. Import the necessary libraries**\n",
        "---"
      ]
    },
    {
      "cell_type": "code",
      "metadata": {
        "id": "yoi4gWDELtek",
        "colab_type": "code",
        "outputId": "51e3be85-6f3e-40d7-b848-3cb104ee605e",
        "colab": {
          "base_uri": "https://localhost:8080/",
          "height": 119
        }
      },
      "source": [
        "import h5py\n",
        "import matplotlib\n",
        "import sklearn\n",
        "import numpy as np\n",
        "import pandas as pd\n",
        "import sklearn.metrics as metrics\n",
        "import matplotlib.pyplot as plt\n",
        "import tensorflow as tf\n",
        "\n",
        "from tensorflow.keras.callbacks import ModelCheckpoint,CSVLogger\n",
        "from tensorflow.keras.models import Model\n",
        "from tensorflow.keras.layers import Input\n",
        "from tensorflow.keras.layers import Conv1D\n",
        "from tensorflow.keras.layers import Dropout\n",
        "from tensorflow.keras.layers import MaxPooling1D\n",
        "from tensorflow.keras.layers import LSTM\n",
        "from tensorflow.keras.layers import Dense\n",
        "from tensorflow.keras.utils import plot_model\n",
        "\n",
        "\n",
        "print(\"Versions of key libraries\")\n",
        "print(\"---\")\n",
        "print(\"tensorflow: \", tf.__version__)\n",
        "print(\"numpy:      \", np.__version__)\n",
        "print(\"matplotlib: \", matplotlib.__version__)\n",
        "print(\"sklearn:    \", sklearn.__version__)"
      ],
      "execution_count": 2,
      "outputs": [
        {
          "output_type": "stream",
          "text": [
            "Versions of key libraries\n",
            "---\n",
            "tensorflow:  2.2.0\n",
            "numpy:       1.18.4\n",
            "matplotlib:  3.2.1\n",
            "sklearn:     0.22.2.post1\n"
          ],
          "name": "stdout"
        }
      ]
    },
    {
      "cell_type": "markdown",
      "metadata": {
        "id": "X3N41iixORPz",
        "colab_type": "text"
      },
      "source": [
        "## **3. Set matplotlib to have seaborn plot style**\n",
        "---"
      ]
    },
    {
      "cell_type": "code",
      "metadata": {
        "id": "OyO5OsUrOYNQ",
        "colab_type": "code",
        "outputId": "1f7152ab-bd4d-4492-8640-d2b6c33d5df0",
        "colab": {
          "base_uri": "https://localhost:8080/",
          "height": 34
        }
      },
      "source": [
        "plt.style.use('seaborn')                   # if want to use the default style, set 'classic'\n",
        "plt.rcParams['ytick.right']     = True\n",
        "plt.rcParams['ytick.labelright']= True\n",
        "plt.rcParams['ytick.left']      = False\n",
        "plt.rcParams['ytick.labelleft'] = False\n",
        "plt.rcParams['figure.figsize']  = [7,7]   # Set the figure size to be 7 inch for (width,height)\n",
        "\n",
        "print(\"Matplotlib setup completes.\")"
      ],
      "execution_count": 3,
      "outputs": [
        {
          "output_type": "stream",
          "text": [
            "Matplotlib setup completes.\n"
          ],
          "name": "stdout"
        }
      ]
    },
    {
      "cell_type": "markdown",
      "metadata": {
        "id": "HpYSSJuASvM0",
        "colab_type": "text"
      },
      "source": [
        "## **4. Load ECG data**\n",
        "---\n",
        "* Step 1: Load the h5py file and extract the values\n",
        "* Step 2: Convert the data and label into numpy arrays\n",
        "* Step 3: Tranpose the data and label\n",
        "* Step 4: Make separate arrays for Normal and CAD ECG signals\n",
        "* Step 5: Inspect the shape and data type of the 'nor' and 'cad' arrays"
      ]
    },
    {
      "cell_type": "code",
      "metadata": {
        "id": "6QAC7FbmTYKv",
        "colab_type": "code",
        "outputId": "e495cc9e-2e8b-4cbe-f307-521310750d3d",
        "colab": {
          "base_uri": "https://localhost:8080/",
          "height": 51
        }
      },
      "source": [
        "f        = h5py.File('/content/gdrive/My Drive/iss/prumls/data/cad5sec.mat','r')# Step 1\n",
        "X        = f[\"data\"]\n",
        "Y        = f[\"classLabel\"]\n",
        "\n",
        "                                                                                # Step 2\n",
        "data     = np.array(X)                                                          \n",
        "label    = np.array(Y)\n",
        "\n",
        "                                                                                # Step 3\n",
        "data     = np.transpose(data)                                                   \n",
        "label    = np.transpose(label)\n",
        "\n",
        "                                                                                # Step 4\n",
        "nor      = data[0:32000]\n",
        "cad      = data[32000:38120]\n",
        "\n",
        "                                                                                # Step 5\n",
        "print('The shape of nor is', nor.shape, 'and the data type is', nor.dtype)\n",
        "print('The shape of cad is', cad.shape, 'and the data type is', cad.dtype)"
      ],
      "execution_count": 4,
      "outputs": [
        {
          "output_type": "stream",
          "text": [
            "The shape of nor is (32000, 1285) and the data type is float64\n",
            "The shape of cad is (6120, 1285) and the data type is float64\n"
          ],
          "name": "stdout"
        }
      ]
    },
    {
      "cell_type": "markdown",
      "metadata": {
        "id": "IpjXV5T4WAoL",
        "colab_type": "text"
      },
      "source": [
        "## **6. Create makeSteps function**\n",
        "---"
      ]
    },
    {
      "cell_type": "code",
      "metadata": {
        "id": "S_EFoTlIWHm5",
        "colab_type": "code",
        "outputId": "32d505c6-c2b7-4d27-9c99-b5f7cc2d548f",
        "colab": {
          "base_uri": "https://localhost:8080/",
          "height": 34
        }
      },
      "source": [
        "def makeSteps(dat, length, dist):\n",
        "    width           = dat.shape[1]\n",
        "    numOfSteps      = int(np.floor((width-length)/dist)+1)\n",
        "    \n",
        "                                        # Initialize the output\n",
        "    segments        = np.zeros([dat.shape[0],numOfSteps,length],\n",
        "                               dtype=dat.dtype)\n",
        "    \n",
        "    for l in range(numOfSteps):\n",
        "        segments[:,l,:]     = dat[:,(l*dist):(l*dist+length)]\n",
        "        \n",
        "    return segments\n",
        "\n",
        "print(makeSteps)"
      ],
      "execution_count": 5,
      "outputs": [
        {
          "output_type": "stream",
          "text": [
            "<function makeSteps at 0x7fddaec37378>\n"
          ],
          "name": "stdout"
        }
      ]
    },
    {
      "cell_type": "markdown",
      "metadata": {
        "id": "5w2jAiKZOmgP",
        "colab_type": "text"
      },
      "source": [
        "## **7. Prepare data for training and testing**\n",
        "---\n",
        "* Step 1: Split the dataset into training and testing\n",
        "* Step 2: Generate segments for each signal\n",
        "* Step 3: Consolidate the arrays\n",
        "* Step 4: Inspect the data shape and type"
      ]
    },
    {
      "cell_type": "code",
      "metadata": {
        "id": "v3Ad2V0pO1TX",
        "colab_type": "code",
        "outputId": "2e0f42d6-32da-499a-879d-a45ff420810a",
        "colab": {
          "base_uri": "https://localhost:8080/",
          "height": 102
        }
      },
      "source": [
        "                                                                                # Step 1\n",
        "trNor        = nor[0:28800].copy()\n",
        "tsNor        = nor[28800:32000].copy()\n",
        "trCad        = cad[0:5000].copy()\n",
        "tsCad        = cad[5000:6120].copy()\n",
        "\n",
        "                                                                                # Step 2\n",
        "length       = 24\n",
        "dist         = 6\n",
        "trNorS       = makeSteps(trNor, length, dist)\n",
        "tsNorS       = makeSteps(tsNor, length, dist)\n",
        "trCadS       = makeSteps(trCad, length, dist)\n",
        "tsCadS       = makeSteps(tsCad, length, dist)\n",
        "\n",
        "                                                                                # Step 3\n",
        "trDat        = np.vstack([trNorS,trCadS])\n",
        "tsDat        = np.vstack([tsNorS,tsCadS])\n",
        "\n",
        "trLbl        = np.vstack([np.zeros([trNorS.shape[0],1]),\n",
        "                          np.ones([trCadS.shape[0],1])])\n",
        "tsLbl        = np.vstack([np.zeros([tsNorS.shape[0],1]),\n",
        "                          np.ones([tsCadS.shape[0],1])])\n",
        "\n",
        "                                                                                # Step 4\n",
        "print('The shape of trDat is', trDat.shape, \"and the type is\", trDat.dtype)\n",
        "print('The shape of trLbl is', trLbl.shape, \"and the type is\", trLbl.dtype)\n",
        "print('')\n",
        "print('The shape of tsDat is', tsDat.shape, \"and the type is\", tsDat.dtype)\n",
        "print('The shape of tsLbl is', tsLbl.shape, \"and the type is\", tsLbl.dtype)"
      ],
      "execution_count": 6,
      "outputs": [
        {
          "output_type": "stream",
          "text": [
            "The shape of trDat is (33800, 211, 24) and the type is float64\n",
            "The shape of trLbl is (33800, 1) and the type is float64\n",
            "\n",
            "The shape of tsDat is (4320, 211, 24) and the type is float64\n",
            "The shape of tsLbl is (4320, 1) and the type is float64\n"
          ],
          "name": "stdout"
        }
      ]
    },
    {
      "cell_type": "markdown",
      "metadata": {
        "id": "DoP3WcoJW-jZ",
        "colab_type": "text"
      },
      "source": [
        "## **8. Define the CNN-LSTM model**\n",
        "___\n",
        "* Step 1: Set a name for the coming model (required for saving)\n",
        "* Step 2: Define the CNN-LSTM model\n",
        "* Step 3: Create models for training and testing\n",
        "* Step 4: Display the summary of the model of interest "
      ]
    },
    {
      "cell_type": "code",
      "metadata": {
        "id": "0HMOes0kXCPd",
        "colab_type": "code",
        "outputId": "e966ebf3-53bc-4db2-98bb-c98a74596764",
        "colab": {
          "base_uri": "https://localhost:8080/",
          "height": 819
        }
      },
      "source": [
        "modelname   = 'wks3_2_2'                                                        # Step 1\n",
        "\n",
        "                                                                                # Step 2\n",
        "def createModel():        \n",
        "    inputs      = Input(shape=(trDat.shape[1],length))\n",
        "    y           = Conv1D(32, 5, activation='relu')(inputs)\n",
        "    y           = Dropout(0.25)(y)\n",
        "    y           = Conv1D(32, 5, activation='relu')(y)\n",
        "    y           = MaxPooling1D(2)(y)\n",
        "    y           = Conv1D(48, 5, activation='relu')(y)\n",
        "    y           = Dropout(0.5)(y)\n",
        "    y           = Conv1D(48, 5, activation='relu')(y)\n",
        "    y           = MaxPooling1D(2)(y)\n",
        "    y           = Conv1D(64, 5, activation='relu')(y)\n",
        "    y           = Dropout(0.5)(y)\n",
        "    y           = Conv1D(64, 5, activation='relu')(y)\n",
        "    y           = MaxPooling1D(2)(y)\n",
        "    \n",
        "    y           = LSTM(8, \n",
        "                       return_sequences=True, \n",
        "                       dropout=0.5, \n",
        "                       recurrent_dropout=0.5)(y)\n",
        "    y           = LSTM(4, \n",
        "                       return_sequences=True, \n",
        "                       dropout=0.5, \n",
        "                       recurrent_dropout=0.5)(y)\n",
        "    y           = LSTM(2)(y)\n",
        "    y           = Dense(1, activation='sigmoid')(y)\n",
        "    \n",
        "    model       = Model(inputs=inputs,outputs=y)\n",
        "    \n",
        "    model.compile(loss='binary_crossentropy', \n",
        "                  optimizer='adam', \n",
        "                  metrics=['accuracy'])\n",
        "\n",
        "    return model\n",
        "\n",
        "                                                                                # Step 3\n",
        "model       = createModel() # This is meant for training\n",
        "modelGo     = createModel() # This is used for final testing\n",
        "\n",
        "model.summary()                                                                 # Step 4"
      ],
      "execution_count": 7,
      "outputs": [
        {
          "output_type": "stream",
          "text": [
            "WARNING:tensorflow:Layer lstm will not use cuDNN kernel since it doesn't meet the cuDNN kernel criteria. It will use generic GPU kernel as fallback when running on GPU\n",
            "WARNING:tensorflow:Layer lstm_1 will not use cuDNN kernel since it doesn't meet the cuDNN kernel criteria. It will use generic GPU kernel as fallback when running on GPU\n",
            "WARNING:tensorflow:Layer lstm_3 will not use cuDNN kernel since it doesn't meet the cuDNN kernel criteria. It will use generic GPU kernel as fallback when running on GPU\n",
            "WARNING:tensorflow:Layer lstm_4 will not use cuDNN kernel since it doesn't meet the cuDNN kernel criteria. It will use generic GPU kernel as fallback when running on GPU\n",
            "Model: \"model\"\n",
            "_________________________________________________________________\n",
            "Layer (type)                 Output Shape              Param #   \n",
            "=================================================================\n",
            "input_1 (InputLayer)         [(None, 211, 24)]         0         \n",
            "_________________________________________________________________\n",
            "conv1d (Conv1D)              (None, 207, 32)           3872      \n",
            "_________________________________________________________________\n",
            "dropout (Dropout)            (None, 207, 32)           0         \n",
            "_________________________________________________________________\n",
            "conv1d_1 (Conv1D)            (None, 203, 32)           5152      \n",
            "_________________________________________________________________\n",
            "max_pooling1d (MaxPooling1D) (None, 101, 32)           0         \n",
            "_________________________________________________________________\n",
            "conv1d_2 (Conv1D)            (None, 97, 48)            7728      \n",
            "_________________________________________________________________\n",
            "dropout_1 (Dropout)          (None, 97, 48)            0         \n",
            "_________________________________________________________________\n",
            "conv1d_3 (Conv1D)            (None, 93, 48)            11568     \n",
            "_________________________________________________________________\n",
            "max_pooling1d_1 (MaxPooling1 (None, 46, 48)            0         \n",
            "_________________________________________________________________\n",
            "conv1d_4 (Conv1D)            (None, 42, 64)            15424     \n",
            "_________________________________________________________________\n",
            "dropout_2 (Dropout)          (None, 42, 64)            0         \n",
            "_________________________________________________________________\n",
            "conv1d_5 (Conv1D)            (None, 38, 64)            20544     \n",
            "_________________________________________________________________\n",
            "max_pooling1d_2 (MaxPooling1 (None, 19, 64)            0         \n",
            "_________________________________________________________________\n",
            "lstm (LSTM)                  (None, 19, 8)             2336      \n",
            "_________________________________________________________________\n",
            "lstm_1 (LSTM)                (None, 19, 4)             208       \n",
            "_________________________________________________________________\n",
            "lstm_2 (LSTM)                (None, 2)                 56        \n",
            "_________________________________________________________________\n",
            "dense (Dense)                (None, 1)                 3         \n",
            "=================================================================\n",
            "Total params: 66,891\n",
            "Trainable params: 66,891\n",
            "Non-trainable params: 0\n",
            "_________________________________________________________________\n"
          ],
          "name": "stdout"
        }
      ]
    },
    {
      "cell_type": "markdown",
      "metadata": {
        "id": "DlquJEaFZxV9",
        "colab_type": "text"
      },
      "source": [
        "## **9. Create the callbacks to be applied during training**\n",
        "---\n",
        "* Step 1: Create a callback to save the model from an epoch when validation accuracy is the highest\n",
        "* Step 2: Create a callback to save the training loss, training accuracy, validation loss and validation accuracy of each epoch into a csv file\n",
        "* Step 3: Put the two callback objects into a list"
      ]
    },
    {
      "cell_type": "code",
      "metadata": {
        "id": "9-a1LSCbahKy",
        "colab_type": "code",
        "outputId": "d9532af7-0d5f-4051-eec4-536f2f7435ac",
        "colab": {
          "base_uri": "https://localhost:8080/",
          "height": 119
        }
      },
      "source": [
        "                                                                                # Step 1\n",
        "folderpath      = '/content/gdrive/My Drive/iss/prumls/colab/'\n",
        "filepath        = folderpath + modelname + \".hdf5\"\n",
        "checkpoint      = ModelCheckpoint(filepath, \n",
        "                                  monitor='val_accuracy', \n",
        "                                  verbose=0, \n",
        "                                  save_best_only=True, \n",
        "                                  mode='max')\n",
        "\n",
        "csv_logger      = CSVLogger(folderpath+modelname +'.csv')                       # Step 2\n",
        "callbacks_list  = [checkpoint,csv_logger]                                       # Step 3\n",
        "\n",
        "print(\"Callbacks created:\")\n",
        "print(callbacks_list[0])\n",
        "print(callbacks_list[1])\n",
        "print('')\n",
        "print(\"Path to model:\", filepath)\n",
        "print(\"Path to log:  \", folderpath+modelname+'.csv')\n"
      ],
      "execution_count": 8,
      "outputs": [
        {
          "output_type": "stream",
          "text": [
            "Callbacks created:\n",
            "<tensorflow.python.keras.callbacks.ModelCheckpoint object at 0x7fddf80494a8>\n",
            "<tensorflow.python.keras.callbacks.CSVLogger object at 0x7fddf8049518>\n",
            "\n",
            "Path to model: /content/gdrive/My Drive/iss/prumls/colab/wks3_2_2.hdf5\n",
            "Path to log:   /content/gdrive/My Drive/iss/prumls/colab/wks3_2_2.csv\n"
          ],
          "name": "stdout"
        }
      ]
    },
    {
      "cell_type": "markdown",
      "metadata": {
        "id": "1mKgjQsmfOBz",
        "colab_type": "text"
      },
      "source": [
        "## **10. Train the deep learning model**\n",
        "___"
      ]
    },
    {
      "cell_type": "code",
      "metadata": {
        "id": "23lUNwpGfV0A",
        "colab_type": "code",
        "outputId": "ead5bdad-b40d-402e-8661-55d47a31dda5",
        "colab": {
          "base_uri": "https://localhost:8080/",
          "height": 1000
        }
      },
      "source": [
        "model.fit(trDat, \n",
        "          trLbl, \n",
        "          validation_data=(tsDat, tsLbl), \n",
        "          epochs=40, \n",
        "          batch_size=128,\n",
        "          shuffle=True,\n",
        "          callbacks=callbacks_list)"
      ],
      "execution_count": 9,
      "outputs": [
        {
          "output_type": "stream",
          "text": [
            "Epoch 1/40\n",
            "265/265 [==============================] - 67s 251ms/step - loss: 0.5735 - accuracy: 0.8502 - val_loss: 0.5733 - val_accuracy: 0.7407\n",
            "Epoch 2/40\n",
            "265/265 [==============================] - 66s 249ms/step - loss: 0.4319 - accuracy: 0.8521 - val_loss: 0.5175 - val_accuracy: 0.7407\n",
            "Epoch 3/40\n",
            "265/265 [==============================] - 67s 253ms/step - loss: 0.2845 - accuracy: 0.9020 - val_loss: 0.4462 - val_accuracy: 0.8377\n",
            "Epoch 4/40\n",
            "265/265 [==============================] - 67s 254ms/step - loss: 0.1717 - accuracy: 0.9681 - val_loss: 0.4366 - val_accuracy: 0.8435\n",
            "Epoch 5/40\n",
            "265/265 [==============================] - 68s 257ms/step - loss: 0.1201 - accuracy: 0.9786 - val_loss: 0.4344 - val_accuracy: 0.8648\n",
            "Epoch 6/40\n",
            "265/265 [==============================] - 67s 253ms/step - loss: 0.1016 - accuracy: 0.9803 - val_loss: 0.4105 - val_accuracy: 0.8741\n",
            "Epoch 7/40\n",
            "265/265 [==============================] - 67s 255ms/step - loss: 0.0853 - accuracy: 0.9833 - val_loss: 0.4206 - val_accuracy: 0.8759\n",
            "Epoch 8/40\n",
            "265/265 [==============================] - 68s 255ms/step - loss: 0.0754 - accuracy: 0.9845 - val_loss: 0.4532 - val_accuracy: 0.8792\n",
            "Epoch 9/40\n",
            "265/265 [==============================] - 67s 252ms/step - loss: 0.0850 - accuracy: 0.9792 - val_loss: 0.4286 - val_accuracy: 0.8831\n",
            "Epoch 10/40\n",
            "265/265 [==============================] - 68s 257ms/step - loss: 0.0613 - accuracy: 0.9870 - val_loss: 0.4478 - val_accuracy: 0.8833\n",
            "Epoch 11/40\n",
            "265/265 [==============================] - 67s 252ms/step - loss: 0.0561 - accuracy: 0.9875 - val_loss: 0.4791 - val_accuracy: 0.8769\n",
            "Epoch 12/40\n",
            "265/265 [==============================] - 68s 255ms/step - loss: 0.0509 - accuracy: 0.9887 - val_loss: 0.4816 - val_accuracy: 0.8792\n",
            "Epoch 13/40\n",
            "265/265 [==============================] - 66s 250ms/step - loss: 0.0514 - accuracy: 0.9873 - val_loss: 0.5271 - val_accuracy: 0.8646\n",
            "Epoch 14/40\n",
            "265/265 [==============================] - 67s 252ms/step - loss: 0.0484 - accuracy: 0.9882 - val_loss: 0.5411 - val_accuracy: 0.8604\n",
            "Epoch 15/40\n",
            "265/265 [==============================] - 66s 250ms/step - loss: 0.0421 - accuracy: 0.9892 - val_loss: 0.5497 - val_accuracy: 0.8644\n",
            "Epoch 16/40\n",
            "265/265 [==============================] - 67s 253ms/step - loss: 0.0467 - accuracy: 0.9869 - val_loss: 0.5362 - val_accuracy: 0.8808\n",
            "Epoch 17/40\n",
            "265/265 [==============================] - 67s 252ms/step - loss: 0.0365 - accuracy: 0.9890 - val_loss: 0.6017 - val_accuracy: 0.8602\n",
            "Epoch 18/40\n",
            "265/265 [==============================] - 68s 255ms/step - loss: 0.0327 - accuracy: 0.9904 - val_loss: 0.5915 - val_accuracy: 0.8625\n",
            "Epoch 19/40\n",
            "265/265 [==============================] - 67s 254ms/step - loss: 0.0259 - accuracy: 0.9928 - val_loss: 0.5998 - val_accuracy: 0.8745\n",
            "Epoch 20/40\n",
            "265/265 [==============================] - 68s 258ms/step - loss: 0.0225 - accuracy: 0.9931 - val_loss: 0.6867 - val_accuracy: 0.8243\n",
            "Epoch 21/40\n",
            "265/265 [==============================] - 67s 252ms/step - loss: 0.0211 - accuracy: 0.9938 - val_loss: 0.6273 - val_accuracy: 0.8727\n",
            "Epoch 22/40\n",
            "265/265 [==============================] - 67s 253ms/step - loss: 0.0210 - accuracy: 0.9938 - val_loss: 0.7119 - val_accuracy: 0.8299\n",
            "Epoch 23/40\n",
            "265/265 [==============================] - 67s 251ms/step - loss: 0.0175 - accuracy: 0.9947 - val_loss: 0.7554 - val_accuracy: 0.8329\n",
            "Epoch 24/40\n",
            "265/265 [==============================] - 67s 251ms/step - loss: 0.0181 - accuracy: 0.9945 - val_loss: 0.7160 - val_accuracy: 0.8549\n",
            "Epoch 25/40\n",
            "265/265 [==============================] - 67s 253ms/step - loss: 0.0170 - accuracy: 0.9948 - val_loss: 0.7335 - val_accuracy: 0.8692\n",
            "Epoch 26/40\n",
            "265/265 [==============================] - 67s 251ms/step - loss: 0.0164 - accuracy: 0.9947 - val_loss: 0.6708 - val_accuracy: 0.8632\n",
            "Epoch 27/40\n",
            "265/265 [==============================] - 67s 254ms/step - loss: 0.0167 - accuracy: 0.9947 - val_loss: 0.7460 - val_accuracy: 0.8611\n",
            "Epoch 28/40\n",
            "265/265 [==============================] - 68s 256ms/step - loss: 0.0141 - accuracy: 0.9957 - val_loss: 0.6980 - val_accuracy: 0.8697\n",
            "Epoch 29/40\n",
            "265/265 [==============================] - 67s 253ms/step - loss: 0.0133 - accuracy: 0.9957 - val_loss: 0.7263 - val_accuracy: 0.8678\n",
            "Epoch 30/40\n",
            "265/265 [==============================] - 67s 253ms/step - loss: 0.0128 - accuracy: 0.9959 - val_loss: 0.8817 - val_accuracy: 0.8250\n",
            "Epoch 31/40\n",
            "265/265 [==============================] - 67s 253ms/step - loss: 0.0124 - accuracy: 0.9960 - val_loss: 0.7735 - val_accuracy: 0.8595\n",
            "Epoch 32/40\n",
            "265/265 [==============================] - 67s 254ms/step - loss: 0.0127 - accuracy: 0.9960 - val_loss: 0.8245 - val_accuracy: 0.8502\n",
            "Epoch 33/40\n",
            "265/265 [==============================] - 66s 249ms/step - loss: 0.0112 - accuracy: 0.9968 - val_loss: 0.8146 - val_accuracy: 0.8625\n",
            "Epoch 34/40\n",
            "265/265 [==============================] - 66s 249ms/step - loss: 0.0093 - accuracy: 0.9970 - val_loss: 0.9092 - val_accuracy: 0.8477\n",
            "Epoch 35/40\n",
            "265/265 [==============================] - 67s 254ms/step - loss: 0.0096 - accuracy: 0.9973 - val_loss: 0.8461 - val_accuracy: 0.8662\n",
            "Epoch 36/40\n",
            "265/265 [==============================] - 66s 248ms/step - loss: 0.0091 - accuracy: 0.9970 - val_loss: 0.8707 - val_accuracy: 0.8583\n",
            "Epoch 37/40\n",
            "265/265 [==============================] - 66s 249ms/step - loss: 0.0086 - accuracy: 0.9975 - val_loss: 0.8812 - val_accuracy: 0.8683\n",
            "Epoch 38/40\n",
            "265/265 [==============================] - 66s 248ms/step - loss: 0.0095 - accuracy: 0.9971 - val_loss: 0.8580 - val_accuracy: 0.8715\n",
            "Epoch 39/40\n",
            "265/265 [==============================] - 67s 251ms/step - loss: 0.0084 - accuracy: 0.9975 - val_loss: 0.9881 - val_accuracy: 0.8294\n",
            "Epoch 40/40\n",
            "265/265 [==============================] - 68s 257ms/step - loss: 0.0109 - accuracy: 0.9963 - val_loss: 0.9020 - val_accuracy: 0.8706\n"
          ],
          "name": "stdout"
        },
        {
          "output_type": "execute_result",
          "data": {
            "text/plain": [
              "<tensorflow.python.keras.callbacks.History at 0x7fdd5747a860>"
            ]
          },
          "metadata": {
            "tags": []
          },
          "execution_count": 9
        }
      ]
    },
    {
      "cell_type": "markdown",
      "metadata": {
        "id": "TevfJTd-s0nk",
        "colab_type": "text"
      },
      "source": [
        "## **11. Validate the deep learning model**\n",
        "---\n",
        "* Step 1: Load the trained weights and compile the model\n",
        "* Step 2: Make prediction\n"
      ]
    },
    {
      "cell_type": "code",
      "metadata": {
        "id": "2sVtWmcVtiV5",
        "colab_type": "code",
        "outputId": "dec7e2d2-d759-4979-855f-edadcace3a7c",
        "colab": {
          "base_uri": "https://localhost:8080/",
          "height": 51
        }
      },
      "source": [
        "                                                                                # Step 1\n",
        "modelGo.load_weights(filepath)\n",
        "print(\"Model weights loaded from:\", filepath)\n",
        "\n",
        "modelGo.compile(loss='binary_crossentropy', \n",
        "                optimizer='adam', \n",
        "                metrics=['accuracy'])\n",
        "\n",
        "predicts    = modelGo.predict(tsDat)                                            # Step 2\n",
        "print(\"Prediction completes.\")"
      ],
      "execution_count": 10,
      "outputs": [
        {
          "output_type": "stream",
          "text": [
            "Model weights loaded from: /content/gdrive/My Drive/iss/prumls/colab/wks3_2_2.hdf5\n",
            "Prediction completes.\n"
          ],
          "name": "stdout"
        }
      ]
    },
    {
      "cell_type": "markdown",
      "metadata": {
        "id": "0aOCUljp5qq4",
        "colab_type": "text"
      },
      "source": [
        "## **12. Report classification metrics**\n",
        "---\n",
        "* Step 1: Setup the label\n",
        "* Step 2: Calculate the accuracy score\n",
        "* Step 3: Generate classification report"
      ]
    },
    {
      "cell_type": "code",
      "metadata": {
        "id": "2tI4hBmk5uRh",
        "colab_type": "code",
        "outputId": "412c3e58-901b-46a7-d16f-9215c3e43e5f",
        "colab": {
          "base_uri": "https://localhost:8080/",
          "height": 187
        }
      },
      "source": [
        "                                                                                # Step 1\n",
        "labelname   = ['Normal',          # The label for reporting metrics\n",
        "               'CAD']\n",
        "                                                                                \n",
        "testScores  = metrics.accuracy_score(tsLbl,predicts.round())                    # Step 2\n",
        "              \n",
        "                                                                                # Step 3\n",
        "print(\"Best accuracy (on testing dataset): %.2f%%\" % (testScores*100))\n",
        "print(metrics.classification_report(tsLbl,\n",
        "                                    predicts.round(),\n",
        "                                    target_names=labelname,\n",
        "                                    digits=4))\n",
        "\n"
      ],
      "execution_count": 11,
      "outputs": [
        {
          "output_type": "stream",
          "text": [
            "Best accuracy (on testing dataset): 88.33%\n",
            "              precision    recall  f1-score   support\n",
            "\n",
            "      Normal     0.8742    0.9841    0.9259      3200\n",
            "         CAD     0.9290    0.5955    0.7258      1120\n",
            "\n",
            "    accuracy                         0.8833      4320\n",
            "   macro avg     0.9016    0.7898    0.8258      4320\n",
            "weighted avg     0.8884    0.8833    0.8740      4320\n",
            "\n"
          ],
          "name": "stdout"
        }
      ]
    },
    {
      "cell_type": "markdown",
      "metadata": {
        "id": "gEK_4UXN6IVa",
        "colab_type": "text"
      },
      "source": [
        "## **13. Print confusion matrix**\n",
        "---"
      ]
    },
    {
      "cell_type": "code",
      "metadata": {
        "id": "UCBJCYp26L1t",
        "colab_type": "code",
        "outputId": "34d937b0-7458-4379-ae5c-49b2e62b25b2",
        "colab": {
          "base_uri": "https://localhost:8080/",
          "height": 51
        }
      },
      "source": [
        "confusion   = metrics.confusion_matrix(tsLbl,predicts.round())    \n",
        "print(confusion)"
      ],
      "execution_count": 12,
      "outputs": [
        {
          "output_type": "stream",
          "text": [
            "[[3149   51]\n",
            " [ 453  667]]\n"
          ],
          "name": "stdout"
        }
      ]
    },
    {
      "cell_type": "markdown",
      "metadata": {
        "id": "2QMIDPD46UGT",
        "colab_type": "text"
      },
      "source": [
        "## **14. Plot curves on validation loss and accuracy**\n",
        "---"
      ]
    },
    {
      "cell_type": "code",
      "metadata": {
        "id": "qr2ZbvUi6YHf",
        "colab_type": "code",
        "outputId": "45631283-5d26-4d66-bed1-ab4fe96e8ff6",
        "colab": {
          "base_uri": "https://localhost:8080/",
          "height": 443
        }
      },
      "source": [
        "records     = pd.read_csv(folderpath+modelname +'.csv')\n",
        "plt.figure()\n",
        "plt.subplot(211)\n",
        "plt.plot(records['val_loss'], label=\"validation\")\n",
        "plt.plot(records['loss'],label=\"training\")\n",
        "plt.yticks([0.00,0.50,1.00,1.50])\n",
        "plt.title('Loss value',fontsize=12)\n",
        "\n",
        "ax          = plt.gca()\n",
        "ax.set_xticklabels([])\n",
        "\n",
        "plt.subplot(212)\n",
        "plt.plot(records['val_accuracy'],label=\"validation\")\n",
        "plt.plot(records['accuracy'],label=\"training\")\n",
        "plt.yticks([0.5,0.6,0.7,0.8])\n",
        "plt.title('Accuracy',fontsize=12)\n",
        "ax.legend()\n",
        "plt.show()"
      ],
      "execution_count": 13,
      "outputs": [
        {
          "output_type": "display_data",
          "data": {
            "image/png": "[encoded data removed]",
            "text/plain": [
              "<Figure size 504x504 with 2 Axes>"
            ]
          },
          "metadata": {
            "tags": []
          }
        }
      ]
    },
    {
      "cell_type": "markdown",
      "metadata": {
        "id": "PWoTz-bLug3X",
        "colab_type": "text"
      },
      "source": [
        "## **15. Save the model plot**\n",
        "---"
      ]
    },
    {
      "cell_type": "code",
      "metadata": {
        "id": "Tz1YfuV1ujcE",
        "colab_type": "code",
        "outputId": "2292c3eb-42df-4a37-ff52-e87908ac594d",
        "colab": {
          "base_uri": "https://localhost:8080/",
          "height": 34
        }
      },
      "source": [
        "plotpath  = folderpath+modelname+'_plot.png'\n",
        "plot_model(model, \n",
        "           to_file=plotpath, \n",
        "           show_shapes=True, \n",
        "           show_layer_names=False,\n",
        "           rankdir='TB')\n",
        "\n",
        "print(\"Path to plot:\", plotpath)"
      ],
      "execution_count": 14,
      "outputs": [
        {
          "output_type": "stream",
          "text": [
            "Path to plot: /content/gdrive/My Drive/iss/prumls/colab/wks3_2_2_plot.png\n"
          ],
          "name": "stdout"
        }
      ]
    }
  ]
}