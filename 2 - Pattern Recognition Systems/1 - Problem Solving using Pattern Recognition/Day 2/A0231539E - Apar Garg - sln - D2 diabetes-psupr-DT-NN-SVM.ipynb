{
 "cells": [
  {
   "cell_type": "markdown",
   "metadata": {},
   "source": [
    "# Import Libraries"
   ]
  },
  {
   "cell_type": "code",
   "execution_count": 1,
   "metadata": {},
   "outputs": [],
   "source": [
    "# Data Manipulation\n",
    "import numpy as np\n",
    "import pandas as pd\n",
    "\n",
    "# Visualization\n",
    "import matplotlib.pyplot as plt\n",
    "import matplotlib\n",
    "%matplotlib inline\n",
    "\n",
    "# Modeling\n",
    "from sklearn.preprocessing import StandardScaler\n",
    "from sklearn.model_selection import train_test_split,RandomizedSearchCV\n",
    "from sklearn.tree import DecisionTreeClassifier\n",
    "from sklearn.neural_network import MLPClassifier  \n",
    "from sklearn.svm import SVC\n",
    "from sklearn.metrics import classification_report, confusion_matrix,accuracy_score,roc_curve,roc_auc_score\n",
    "import pickle\n",
    "\n",
    "# Other\n",
    "import warnings\n",
    "warnings.filterwarnings('ignore')"
   ]
  },
  {
   "cell_type": "markdown",
   "metadata": {},
   "source": [
    "# Read Data"
   ]
  },
  {
   "cell_type": "code",
   "execution_count": 2,
   "metadata": {
    "_uuid": "3977359aa7f65cc9d96fdf0ede4e99116fb314c6"
   },
   "outputs": [
    {
     "data": {
      "text/html": [
       "<div>\n",
       "<style scoped>\n",
       "    .dataframe tbody tr th:only-of-type {\n",
       "        vertical-align: middle;\n",
       "    }\n",
       "\n",
       "    .dataframe tbody tr th {\n",
       "        vertical-align: top;\n",
       "    }\n",
       "\n",
       "    .dataframe thead th {\n",
       "        text-align: right;\n",
       "    }\n",
       "</style>\n",
       "<table border=\"1\" class=\"dataframe\">\n",
       "  <thead>\n",
       "    <tr style=\"text-align: right;\">\n",
       "      <th></th>\n",
       "      <th>Pregnancies</th>\n",
       "      <th>Glucose</th>\n",
       "      <th>BloodPressure</th>\n",
       "      <th>SkinThickness</th>\n",
       "      <th>Insulin</th>\n",
       "      <th>BMI</th>\n",
       "      <th>DiabetesPedigreeFunction</th>\n",
       "      <th>Age</th>\n",
       "      <th>Outcome</th>\n",
       "    </tr>\n",
       "  </thead>\n",
       "  <tbody>\n",
       "    <tr>\n",
       "      <th>0</th>\n",
       "      <td>6</td>\n",
       "      <td>148</td>\n",
       "      <td>72</td>\n",
       "      <td>35</td>\n",
       "      <td>0</td>\n",
       "      <td>33.6</td>\n",
       "      <td>0.627</td>\n",
       "      <td>50</td>\n",
       "      <td>1</td>\n",
       "    </tr>\n",
       "    <tr>\n",
       "      <th>1</th>\n",
       "      <td>1</td>\n",
       "      <td>85</td>\n",
       "      <td>66</td>\n",
       "      <td>29</td>\n",
       "      <td>0</td>\n",
       "      <td>26.6</td>\n",
       "      <td>0.351</td>\n",
       "      <td>31</td>\n",
       "      <td>0</td>\n",
       "    </tr>\n",
       "    <tr>\n",
       "      <th>2</th>\n",
       "      <td>8</td>\n",
       "      <td>183</td>\n",
       "      <td>64</td>\n",
       "      <td>0</td>\n",
       "      <td>0</td>\n",
       "      <td>23.3</td>\n",
       "      <td>0.672</td>\n",
       "      <td>32</td>\n",
       "      <td>1</td>\n",
       "    </tr>\n",
       "    <tr>\n",
       "      <th>3</th>\n",
       "      <td>1</td>\n",
       "      <td>89</td>\n",
       "      <td>66</td>\n",
       "      <td>23</td>\n",
       "      <td>94</td>\n",
       "      <td>28.1</td>\n",
       "      <td>0.167</td>\n",
       "      <td>21</td>\n",
       "      <td>0</td>\n",
       "    </tr>\n",
       "    <tr>\n",
       "      <th>4</th>\n",
       "      <td>0</td>\n",
       "      <td>137</td>\n",
       "      <td>40</td>\n",
       "      <td>35</td>\n",
       "      <td>168</td>\n",
       "      <td>43.1</td>\n",
       "      <td>2.288</td>\n",
       "      <td>33</td>\n",
       "      <td>1</td>\n",
       "    </tr>\n",
       "  </tbody>\n",
       "</table>\n",
       "</div>"
      ],
      "text/plain": [
       "   Pregnancies  Glucose  BloodPressure  SkinThickness  Insulin   BMI  \\\n",
       "0            6      148             72             35        0  33.6   \n",
       "1            1       85             66             29        0  26.6   \n",
       "2            8      183             64              0        0  23.3   \n",
       "3            1       89             66             23       94  28.1   \n",
       "4            0      137             40             35      168  43.1   \n",
       "\n",
       "   DiabetesPedigreeFunction  Age  Outcome  \n",
       "0                     0.627   50        1  \n",
       "1                     0.351   31        0  \n",
       "2                     0.672   32        1  \n",
       "3                     0.167   21        0  \n",
       "4                     2.288   33        1  "
      ]
     },
     "execution_count": 2,
     "metadata": {},
     "output_type": "execute_result"
    }
   ],
   "source": [
    "diabetes_data = pd.read_csv('diabetes.csv')\n",
    "diabetes_data.head()"
   ]
  },
  {
   "cell_type": "code",
   "execution_count": 3,
   "metadata": {
    "_uuid": "8322614f5de4888d713c0468a43ae2a3eb1b8862"
   },
   "outputs": [
    {
     "data": {
      "text/plain": [
       "(768, 9)"
      ]
     },
     "execution_count": 3,
     "metadata": {},
     "output_type": "execute_result"
    }
   ],
   "source": [
    "diabetes_data.shape"
   ]
  },
  {
   "cell_type": "markdown",
   "metadata": {},
   "source": [
    "# Train-test split"
   ]
  },
  {
   "cell_type": "code",
   "execution_count": 4,
   "metadata": {
    "_uuid": "9d9bd9ecd9612fb32f0629a8a3c0a85a14b034cf"
   },
   "outputs": [],
   "source": [
    "X = diabetes_data.drop(\"Outcome\",axis = 1)\n",
    "y = diabetes_data.Outcome"
   ]
  },
  {
   "cell_type": "code",
   "execution_count": 5,
   "metadata": {
    "_uuid": "f14c88ae0a061de30566d336608d195ba89993d9"
   },
   "outputs": [],
   "source": [
    "X_train,X_test,y_train,y_test = train_test_split(X,y,test_size=1/3,random_state=42, stratify=y)"
   ]
  },
  {
   "cell_type": "markdown",
   "metadata": {},
   "source": [
    "# Decision Tree"
   ]
  },
  {
   "cell_type": "code",
   "execution_count": 6,
   "metadata": {
    "scrolled": true
   },
   "outputs": [
    {
     "data": {
      "text/plain": [
       "DecisionTreeClassifier(criterion='entropy', random_state=0)"
      ]
     },
     "execution_count": 6,
     "metadata": {},
     "output_type": "execute_result"
    }
   ],
   "source": [
    "dt1 = DecisionTreeClassifier(criterion='entropy',random_state=0)\n",
    "dt1.fit(X_train, y_train)"
   ]
  },
  {
   "cell_type": "code",
   "execution_count": 7,
   "metadata": {},
   "outputs": [
    {
     "name": "stdout",
     "output_type": "stream",
     "text": [
      "Accuracy on training set: 1.000\n",
      "Accuracy on test set: 0.703\n"
     ]
    }
   ],
   "source": [
    "print(\"Accuracy on training set: {:.3f}\".format(dt1.score(X_train, y_train)))\n",
    "print(\"Accuracy on test set: {:.3f}\".format(dt1.score(X_test, y_test)))"
   ]
  },
  {
   "cell_type": "markdown",
   "metadata": {},
   "source": [
    "The accuracy on the training set is 100%, while the test set accuracy is much worse. This is an indicative that the tree is overfitting and not generalizing well to new data. Therefore, we need to apply pre-pruning to the tree.\n",
    "\n",
    "We set max_depth=3, limiting the depth of the tree decreases overfitting. This leads to a lower accuracy on the training set, but an improvement on the test set."
   ]
  },
  {
   "cell_type": "code",
   "execution_count": 8,
   "metadata": {},
   "outputs": [
    {
     "data": {
      "text/plain": [
       "DecisionTreeClassifier(criterion='entropy', max_depth=3, random_state=0)"
      ]
     },
     "execution_count": 8,
     "metadata": {},
     "output_type": "execute_result"
    }
   ],
   "source": [
    "dt2 = DecisionTreeClassifier(criterion='entropy',max_depth=3, random_state=0)\n",
    "dt2.fit(X_train, y_train)"
   ]
  },
  {
   "cell_type": "code",
   "execution_count": 9,
   "metadata": {},
   "outputs": [
    {
     "name": "stdout",
     "output_type": "stream",
     "text": [
      "Accuracy on training set: 0.793\n",
      "Accuracy on test set: 0.730\n"
     ]
    }
   ],
   "source": [
    "print(\"Accuracy on training set: {:.3f}\".format(dt2.score(X_train, y_train)))\n",
    "print(\"Accuracy on test set: {:.3f}\".format(dt2.score(X_test, y_test)))"
   ]
  },
  {
   "cell_type": "code",
   "execution_count": 10,
   "metadata": {},
   "outputs": [
    {
     "name": "stdout",
     "output_type": "stream",
     "text": [
      "Accuracy 0.73046875\n",
      "[[145  22]\n",
      " [ 47  42]]\n",
      "              precision    recall  f1-score   support\n",
      "\n",
      "           0       0.76      0.87      0.81       167\n",
      "           1       0.66      0.47      0.55        89\n",
      "\n",
      "    accuracy                           0.73       256\n",
      "   macro avg       0.71      0.67      0.68       256\n",
      "weighted avg       0.72      0.73      0.72       256\n",
      "\n"
     ]
    }
   ],
   "source": [
    "y_pred = dt2.predict(X_test)\n",
    "print(\"Accuracy\", accuracy_score(y_test, y_pred))\n",
    "print(confusion_matrix(y_test, y_pred))  \n",
    "print(classification_report(y_test, y_pred)) "
   ]
  },
  {
   "cell_type": "code",
   "execution_count": 11,
   "metadata": {},
   "outputs": [
    {
     "data": {
      "image/png": "[encoded data removed]",
      "text/plain": [
       "<Figure size 432x288 with 1 Axes>"
      ]
     },
     "metadata": {
      "needs_background": "light"
     },
     "output_type": "display_data"
    }
   ],
   "source": [
    "# Plot ROC chart for DT.Write your code below.\n",
    "def roc(clf):\n",
    "    y_pred_proba = clf.predict_proba(X_test)[::,1]\n",
    "    fpr, tpr, _ = roc_curve(y_test,  y_pred_proba)\n",
    "    auc = roc_auc_score(y_test, y_pred_proba)\n",
    "\n",
    "    plt.plot(fpr,tpr,label=\"auc=\"+str(auc))\n",
    "    plt.xlabel('fpr')\n",
    "    plt.ylabel('tpr')\n",
    "    plt.plot([0,1],[0,1],'k--')\n",
    "    plt.legend(loc=4)\n",
    "    plt.show()\n",
    "\n",
    "roc(dt2)"
   ]
  },
  {
   "cell_type": "code",
   "execution_count": 12,
   "metadata": {},
   "outputs": [
    {
     "data": {
      "text/plain": [
       "RandomizedSearchCV(cv=4, estimator=DecisionTreeClassifier(), n_iter=200,\n",
       "                   n_jobs=-1,\n",
       "                   param_distributions={'criterion': ['entropy', 'gini'],\n",
       "                                        'max_depth': [1, 2, 3, 4, 5, 6, 7, 8, 9,\n",
       "                                                      10, 11, 12, 13, 14, 15,\n",
       "                                                      16, 17, 18, 19, 20, 21,\n",
       "                                                      22, 23, 24, 25, 26, 27,\n",
       "                                                      28, 29, 30, ...],\n",
       "                                        'max_features': ['auto', 'sqrt', 'log2',\n",
       "                                                         None],\n",
       "                                        'min_samples_leaf': [1, 2, 3, 4, 5, 6,\n",
       "                                                             7, 8, 9, 10, 11,\n",
       "                                                             12, 13, 14, 15, 16,\n",
       "                                                             17, 18, 19, 20, 21,\n",
       "                                                             22, 23, 24, 25, 26,\n",
       "                                                             27, 28, 29, 30, ...],\n",
       "                                        'min_samples_split': [1, 2, 3, 4, 5, 6,\n",
       "                                                              7, 8, 9, 10, 11,\n",
       "                                                              12, 13, 14, 15,\n",
       "                                                              16, 17, 18, 19,\n",
       "                                                              20, 21, 22, 23,\n",
       "                                                              24, 25, 26, 27,\n",
       "                                                              28, 29, 30, ...]},\n",
       "                   random_state=101)"
      ]
     },
     "execution_count": 12,
     "metadata": {},
     "output_type": "execute_result"
    }
   ],
   "source": [
    "# Adjust the decision tree parameters to improve the performance. Write your code below.\n",
    "\n",
    "# Domain/Search Space\n",
    "random_search = {\n",
    "               'criterion': ['entropy', 'gini'],\n",
    "               'max_depth': list(range(1,50)) + [None],\n",
    "               'max_features': ['auto','sqrt','log2',None],\n",
    "               'min_samples_leaf': list(range(1,50)),\n",
    "               'min_samples_split': list(range(1,50))\n",
    "                }\n",
    "\n",
    "\n",
    "# training\n",
    "clf = DecisionTreeClassifier()\n",
    "\n",
    "dt3 = RandomizedSearchCV(estimator = clf, param_distributions = random_search, n_iter = 200, \n",
    "                               cv = 4, verbose= 0, random_state= 101, n_jobs = -1)\n",
    "\n",
    "dt3.fit(X_train,y_train)"
   ]
  },
  {
   "cell_type": "code",
   "execution_count": 13,
   "metadata": {},
   "outputs": [
    {
     "data": {
      "text/plain": [
       "{'min_samples_split': 42,\n",
       " 'min_samples_leaf': 20,\n",
       " 'max_features': None,\n",
       " 'max_depth': 38,\n",
       " 'criterion': 'gini'}"
      ]
     },
     "execution_count": 13,
     "metadata": {},
     "output_type": "execute_result"
    }
   ],
   "source": [
    "dt3.best_params_"
   ]
  },
  {
   "cell_type": "code",
   "execution_count": 14,
   "metadata": {},
   "outputs": [
    {
     "name": "stdout",
     "output_type": "stream",
     "text": [
      "Accuracy on training set: 0.793\n",
      "Accuracy on test set: 0.758\n"
     ]
    }
   ],
   "source": [
    "print(\"Accuracy on training set: {:.3f}\".format(dt3.score(X_train, y_train)))\n",
    "print(\"Accuracy on test set: {:.3f}\".format(dt3.score(X_test, y_test)))"
   ]
  },
  {
   "cell_type": "code",
   "execution_count": 15,
   "metadata": {},
   "outputs": [
    {
     "name": "stdout",
     "output_type": "stream",
     "text": [
      "Accuracy 0.7578125\n",
      "[[144  23]\n",
      " [ 39  50]]\n",
      "              precision    recall  f1-score   support\n",
      "\n",
      "           0       0.79      0.86      0.82       167\n",
      "           1       0.68      0.56      0.62        89\n",
      "\n",
      "    accuracy                           0.76       256\n",
      "   macro avg       0.74      0.71      0.72       256\n",
      "weighted avg       0.75      0.76      0.75       256\n",
      "\n"
     ]
    }
   ],
   "source": [
    "y_pred = dt3.predict(X_test)\n",
    "print(\"Accuracy\", accuracy_score(y_test, y_pred))\n",
    "print(confusion_matrix(y_test, y_pred))  \n",
    "print(classification_report(y_test, y_pred)) "
   ]
  },
  {
   "cell_type": "code",
   "execution_count": 16,
   "metadata": {},
   "outputs": [
    {
     "data": {
      "image/png": "[encoded data removed]",
      "text/plain": [
       "<Figure size 432x288 with 1 Axes>"
      ]
     },
     "metadata": {
      "needs_background": "light"
     },
     "output_type": "display_data"
    }
   ],
   "source": [
    "roc(dt3)"
   ]
  },
  {
   "cell_type": "code",
   "execution_count": 18,
   "metadata": {},
   "outputs": [
    {
     "data": {
      "text/plain": [
       "{'Pregnancies': 0.000739820075757569,\n",
       " 'Glucose': 0.10453319712257564,\n",
       " 'BloodPressure': 0.0,\n",
       " 'SkinThickness': 0.0,\n",
       " 'Insulin': 0.0,\n",
       " 'BMI': 0.03475260063774668,\n",
       " 'DiabetesPedigreeFunction': 0.01917684174865404,\n",
       " 'Age': 0.018895311903148557}"
      ]
     },
     "execution_count": 18,
     "metadata": {},
     "output_type": "execute_result"
    }
   ],
   "source": [
    "# get feature importance scores\n",
    "clf = DecisionTreeClassifier(min_samples_split = dt3.best_params_['min_samples_split'] ,\n",
    "                             min_samples_leaf = dt3.best_params_['min_samples_leaf'],\n",
    "                             max_features = dt3.best_params_['max_features'],\n",
    "                             max_depth = dt3.best_params_['max_depth'],\n",
    "                             criterion = dt3.best_params_['criterion'])\n",
    "clf.fit(X_train, y_train)\n",
    "\n",
    "feat_importance = clf.tree_.compute_feature_importances(normalize=False)\n",
    "\n",
    "d={}\n",
    "\n",
    "for i,j in zip(X_train.columns,feat_importance):\n",
    "    d[i]=j\n",
    "d"
   ]
  },
  {
   "cell_type": "markdown",
   "metadata": {},
   "source": [
    "# NN"
   ]
  },
  {
   "cell_type": "code",
   "execution_count": 19,
   "metadata": {},
   "outputs": [],
   "source": [
    "# Feature Scaling\n",
    "scaler = StandardScaler()  \n",
    "scaler.fit(X_train)\n",
    "\n",
    "X_train = scaler.transform(X_train)  \n",
    "X_test = scaler.transform(X_test)  "
   ]
  },
  {
   "cell_type": "code",
   "execution_count": 20,
   "metadata": {},
   "outputs": [
    {
     "data": {
      "text/plain": [
       "MLPClassifier(hidden_layer_sizes=(10, 10), max_iter=1000, verbose=0)"
      ]
     },
     "execution_count": 20,
     "metadata": {},
     "output_type": "execute_result"
    }
   ],
   "source": [
    "mlp1 = MLPClassifier(hidden_layer_sizes=(10,10), max_iter=1000,verbose=0)  \n",
    "mlp1.fit(X_train, y_train)  "
   ]
  },
  {
   "cell_type": "code",
   "execution_count": 21,
   "metadata": {},
   "outputs": [
    {
     "name": "stdout",
     "output_type": "stream",
     "text": [
      "Accuracy on training set: 0.869\n",
      "Accuracy on test set: 0.727\n"
     ]
    }
   ],
   "source": [
    "print(\"Accuracy on training set: {:.3f}\".format(mlp1.score(X_train, y_train)))\n",
    "print(\"Accuracy on test set: {:.3f}\".format(mlp1.score(X_test, y_test)))"
   ]
  },
  {
   "cell_type": "code",
   "execution_count": 22,
   "metadata": {
    "scrolled": true
   },
   "outputs": [
    {
     "name": "stdout",
     "output_type": "stream",
     "text": [
      "Accuracy 0.7265625\n",
      "[[135  32]\n",
      " [ 38  51]]\n",
      "              precision    recall  f1-score   support\n",
      "\n",
      "           0       0.78      0.81      0.79       167\n",
      "           1       0.61      0.57      0.59        89\n",
      "\n",
      "    accuracy                           0.73       256\n",
      "   macro avg       0.70      0.69      0.69       256\n",
      "weighted avg       0.72      0.73      0.72       256\n",
      "\n"
     ]
    }
   ],
   "source": [
    "y_pred = mlp1.predict(X_test)\n",
    "print(\"Accuracy\", accuracy_score(y_test, y_pred))\n",
    "print(confusion_matrix(y_test, y_pred))  \n",
    "print(classification_report(y_test, y_pred)) "
   ]
  },
  {
   "cell_type": "code",
   "execution_count": 23,
   "metadata": {},
   "outputs": [
    {
     "data": {
      "image/png": "[encoded data removed]",
      "text/plain": [
       "<Figure size 432x288 with 1 Axes>"
      ]
     },
     "metadata": {
      "needs_background": "light"
     },
     "output_type": "display_data"
    }
   ],
   "source": [
    "roc(mlp1)"
   ]
  },
  {
   "cell_type": "code",
   "execution_count": 24,
   "metadata": {},
   "outputs": [
    {
     "data": {
      "image/png": "[encoded data removed]",
      "text/plain": [
       "<Figure size 432x288 with 1 Axes>"
      ]
     },
     "metadata": {
      "needs_background": "light"
     },
     "output_type": "display_data"
    }
   ],
   "source": [
    "plt.plot(mlp1.loss_curve_)\n",
    "plt.title(\"NN Loss Curve\")\n",
    "plt.xlabel(\"number of steps\")\n",
    "plt.ylabel(\"loss function\")\n",
    "plt.show()"
   ]
  },
  {
   "cell_type": "code",
   "execution_count": 25,
   "metadata": {},
   "outputs": [
    {
     "data": {
      "text/plain": [
       "RandomizedSearchCV(cv=4, estimator=MLPClassifier(), n_iter=1000, n_jobs=-1,\n",
       "                   param_distributions={'hidden_layer_sizes': [(7, 7), (15, 15),\n",
       "                                                               (64, 64),\n",
       "                                                               (128, 128),\n",
       "                                                               (7, 7, 7),\n",
       "                                                               (15, 15, 15),\n",
       "                                                               (64, 64, 64),\n",
       "                                                               (128, 128,\n",
       "                                                                128)]},\n",
       "                   random_state=101)"
      ]
     },
     "execution_count": 25,
     "metadata": {},
     "output_type": "execute_result"
    }
   ],
   "source": [
    "# Adjust the number of hidde Layer/ hidden node to improve the NN performance. Write your code below.\n",
    "\n",
    "# Input layer neurons (I) = 8\n",
    "# Output layer neurons (O) = 1\n",
    "# Rule of thumb says suitable number of neurons in hidden layer are:\n",
    "# 1. H < 2*I or\n",
    "# 2. H < 0.6*I + O or\n",
    "# 3. I < H < O \n",
    "\n",
    "# Domain/Search Space\n",
    "random_search = {\n",
    "               'hidden_layer_sizes': [(7,7),(15,15),(64,64),(128,128),\n",
    "                                     (7,7,7),(15,15,15),(64,64,64),(128,128,128)]\n",
    "                }\n",
    "\n",
    "\n",
    "# training\n",
    "clf = MLPClassifier()\n",
    "\n",
    "mlp2 = RandomizedSearchCV(estimator = clf, param_distributions = random_search, n_iter = 1000, \n",
    "                               cv = 4, verbose= 0, random_state= 101, n_jobs = -1)\n",
    "\n",
    "mlp2.fit(X_train,y_train)"
   ]
  },
  {
   "cell_type": "code",
   "execution_count": 27,
   "metadata": {},
   "outputs": [
    {
     "name": "stdout",
     "output_type": "stream",
     "text": [
      "Accuracy on training set: 0.797\n",
      "Accuracy on test set: 0.738\n"
     ]
    }
   ],
   "source": [
    "print(\"Accuracy on training set: {:.3f}\".format(mlp2.score(X_train, y_train)))\n",
    "print(\"Accuracy on test set: {:.3f}\".format(mlp2.score(X_test, y_test)))"
   ]
  },
  {
   "cell_type": "code",
   "execution_count": 28,
   "metadata": {},
   "outputs": [
    {
     "name": "stdout",
     "output_type": "stream",
     "text": [
      "Accuracy 0.73828125\n",
      "[[139  28]\n",
      " [ 39  50]]\n",
      "              precision    recall  f1-score   support\n",
      "\n",
      "           0       0.78      0.83      0.81       167\n",
      "           1       0.64      0.56      0.60        89\n",
      "\n",
      "    accuracy                           0.74       256\n",
      "   macro avg       0.71      0.70      0.70       256\n",
      "weighted avg       0.73      0.74      0.73       256\n",
      "\n"
     ]
    }
   ],
   "source": [
    "y_pred = mlp2.predict(X_test)\n",
    "print(\"Accuracy\", accuracy_score(y_test, y_pred))\n",
    "print(confusion_matrix(y_test, y_pred))  \n",
    "print(classification_report(y_test, y_pred)) "
   ]
  },
  {
   "cell_type": "code",
   "execution_count": 29,
   "metadata": {},
   "outputs": [
    {
     "data": {
      "image/png": "[encoded data removed]",
      "text/plain": [
       "<Figure size 432x288 with 1 Axes>"
      ]
     },
     "metadata": {
      "needs_background": "light"
     },
     "output_type": "display_data"
    }
   ],
   "source": [
    "roc(mlp2)"
   ]
  },
  {
   "cell_type": "code",
   "execution_count": 30,
   "metadata": {},
   "outputs": [
    {
     "data": {
      "text/plain": [
       "MLPClassifier(hidden_layer_sizes=(7, 7), max_iter=1000, verbose=0)"
      ]
     },
     "execution_count": 30,
     "metadata": {},
     "output_type": "execute_result"
    }
   ],
   "source": [
    "clf = MLPClassifier(hidden_layer_sizes=mlp2.best_params_['hidden_layer_sizes'], max_iter=1000,verbose=0)  \n",
    "clf.fit(X_train, y_train)  "
   ]
  },
  {
   "cell_type": "code",
   "execution_count": 31,
   "metadata": {},
   "outputs": [
    {
     "data": {
      "image/png": "[encoded data removed]",
      "text/plain": [
       "<Figure size 432x288 with 1 Axes>"
      ]
     },
     "metadata": {
      "needs_background": "light"
     },
     "output_type": "display_data"
    }
   ],
   "source": [
    "plt.plot(clf.loss_curve_)\n",
    "plt.title(\"NN Loss Curve\")\n",
    "plt.xlabel(\"number of steps\")\n",
    "plt.ylabel(\"loss function\")\n",
    "plt.show()"
   ]
  },
  {
   "cell_type": "markdown",
   "metadata": {},
   "source": [
    "# SVM"
   ]
  },
  {
   "cell_type": "code",
   "execution_count": 38,
   "metadata": {},
   "outputs": [
    {
     "name": "stdout",
     "output_type": "stream",
     "text": [
      "r= 0.1 C= 10\n",
      "Accuracy= 0.7109375\n",
      "[[134  33]\n",
      " [ 41  48]]\n",
      "              precision    recall  f1-score   support\n",
      "\n",
      "           0       0.77      0.80      0.78       167\n",
      "           1       0.59      0.54      0.56        89\n",
      "\n",
      "    accuracy                           0.71       256\n",
      "   macro avg       0.68      0.67      0.67       256\n",
      "weighted avg       0.71      0.71      0.71       256\n",
      "\n",
      "r= 0.1 C= 100\n",
      "Accuracy= 0.6953125\n",
      "[[130  37]\n",
      " [ 41  48]]\n",
      "              precision    recall  f1-score   support\n",
      "\n",
      "           0       0.76      0.78      0.77       167\n",
      "           1       0.56      0.54      0.55        89\n",
      "\n",
      "    accuracy                           0.70       256\n",
      "   macro avg       0.66      0.66      0.66       256\n",
      "weighted avg       0.69      0.70      0.69       256\n",
      "\n",
      "r= 1 C= 10\n",
      "Accuracy= 0.69921875\n",
      "[[137  30]\n",
      " [ 47  42]]\n",
      "              precision    recall  f1-score   support\n",
      "\n",
      "           0       0.74      0.82      0.78       167\n",
      "           1       0.58      0.47      0.52        89\n",
      "\n",
      "    accuracy                           0.70       256\n",
      "   macro avg       0.66      0.65      0.65       256\n",
      "weighted avg       0.69      0.70      0.69       256\n",
      "\n",
      "r= 1 C= 100\n",
      "Accuracy= 0.69921875\n",
      "[[137  30]\n",
      " [ 47  42]]\n",
      "              precision    recall  f1-score   support\n",
      "\n",
      "           0       0.74      0.82      0.78       167\n",
      "           1       0.58      0.47      0.52        89\n",
      "\n",
      "    accuracy                           0.70       256\n",
      "   macro avg       0.66      0.65      0.65       256\n",
      "weighted avg       0.69      0.70      0.69       256\n",
      "\n"
     ]
    }
   ],
   "source": [
    "gamma1, gamma2 = 0.1, 1\n",
    "C1, C2 = 10, 100\n",
    "hyperparams = (gamma1, C1), (gamma1, C2), (gamma2, C1), (gamma2, C2)\n",
    "\n",
    "svm_clfs = []\n",
    "for gamma, C in hyperparams:\n",
    "    svm_clf=SVC(kernel=\"rbf\",gamma=gamma, C=C) \n",
    "    svm_clf.fit(X_train,y_train)\n",
    "    svm_clfs.append(svm_clf)\n",
    "\n",
    "\n",
    "for i, svm_clf in enumerate(svm_clfs):\n",
    "    predictions = svm_clf.predict(X_test)  \n",
    "    gamma, C = hyperparams[i]\n",
    "    print(\"r=\", gamma, \"C=\", C)\n",
    "    print(\"Accuracy=\", accuracy_score(y_test, predictions))\n",
    "    print(confusion_matrix(y_test,predictions))  \n",
    "    print(classification_report(y_test,predictions))  "
   ]
  },
  {
   "cell_type": "markdown",
   "metadata": {},
   "source": [
    "# Deployment "
   ]
  },
  {
   "cell_type": "code",
   "execution_count": 37,
   "metadata": {},
   "outputs": [
    {
     "name": "stdout",
     "output_type": "stream",
     "text": [
      "[0 0 0 0 0 1 1 1 0 0 1 0 0 1 1 1 0 0 0 1 0 0 0 0 0 0 1 0 0 0 0 0 0 0 0 0 0\n",
      " 0 0 0 1 0 0 0 1 0 1 1 1 0 1 0 0 0 0 0 0 1 0 0 0 1 0 0 0 0 1 0 0 1 0 0 0 1\n",
      " 1 1 0 0 0 0 0 0 0 1 0 0 1 0 0 0 0 0 1 0 1 0 0 0 1 0 1 0 1 1 1 0 0 0 0 0 1\n",
      " 1 0 0 0 0 1 0 0 0 1 1 1 0 0 0 1 0 1 0 1 0 0 1 0 0 1 0 0 1 0 1 0 1 0 1 0 0\n",
      " 0 1 0 0 0 0 0 0 0 1 0 0 0 1 0 0 1 1 0 0 0 0 0 0 0 0 1 0 0 1 0 0 0 0 0 1 1\n",
      " 0 1 1 0 0 0 0 0 0 0 0 0 1 0 0 0 0 0 0 1 0 0 1 0 1 0 0 0 0 1 1 1 1 1 0 0 1\n",
      " 0 0 1 1 1 0 0 0 0 1 0 0 0 1 1 0 1 0 1 0 0 1 0 0 0 0 0 0 1 0 0 1 0 0]\n"
     ]
    }
   ],
   "source": [
    "# save the model to disk\n",
    "filename = 'finalized_model.sav'\n",
    "pickle.dump(mlp2, open(filename, 'wb'))\n",
    " \n",
    "# some time later...\n",
    " \n",
    "# load the model from disk\n",
    "loaded_model = pickle.load(open(filename, 'rb'))\n",
    "#result = loaded_model.score(X_test, y_test)\n",
    "#print(result)\n",
    "\n",
    "pred = loaded_model.predict(X_test)\n",
    "print(pred)"
   ]
  },
  {
   "cell_type": "markdown",
   "metadata": {},
   "source": [
    "# Additional code for your reference: \n",
    "https://scikit-learn.org/stable/auto_examples/classification/plot_classifier_comparison.html"
   ]
  }
 ],
 "metadata": {
  "kernelspec": {
   "display_name": "Python 3",
   "language": "python",
   "name": "python3"
  },
  "language_info": {
   "codemirror_mode": {
    "name": "ipython",
    "version": 3
   },
   "file_extension": ".py",
   "mimetype": "text/x-python",
   "name": "python",
   "nbconvert_exporter": "python",
   "pygments_lexer": "ipython3",
   "version": "3.8.8"
  }
 },
 "nbformat": 4,
 "nbformat_minor": 1
}
