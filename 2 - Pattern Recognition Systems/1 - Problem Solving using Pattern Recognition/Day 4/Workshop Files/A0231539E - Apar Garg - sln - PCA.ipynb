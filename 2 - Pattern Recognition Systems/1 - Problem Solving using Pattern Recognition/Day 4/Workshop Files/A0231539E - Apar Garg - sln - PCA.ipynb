{
 "cells": [
  {
   "cell_type": "markdown",
   "metadata": {},
   "source": [
    "* If Feature Selection techniques (Filter, Wrapper, Embedded) don't improve model performance, try Feature Extraction techniques (PCA, LDA).\n",
    "* PCA is used only for Dimensionality Reduction (Unsupervised Learning)\n",
    "* LDA is used for both Dimensionality Reduction and Classification (Supervised Learning)"
   ]
  },
  {
   "cell_type": "markdown",
   "metadata": {},
   "source": [
    "# 1. Basic Data Understanding"
   ]
  },
  {
   "cell_type": "code",
   "execution_count": 1,
   "metadata": {},
   "outputs": [],
   "source": [
    "import pandas as pd \n",
    "import numpy as np\n",
    "import matplotlib.pyplot as plt\n",
    "import warnings\n",
    "warnings.filterwarnings('ignore')\n",
    "%matplotlib inline"
   ]
  },
  {
   "cell_type": "markdown",
   "metadata": {},
   "source": [
    "### 1.1. Read Data"
   ]
  },
  {
   "cell_type": "code",
   "execution_count": 2,
   "metadata": {
    "_uuid": "3977359aa7f65cc9d96fdf0ede4e99116fb314c6"
   },
   "outputs": [
    {
     "data": {
      "text/html": [
       "<div>\n",
       "<style scoped>\n",
       "    .dataframe tbody tr th:only-of-type {\n",
       "        vertical-align: middle;\n",
       "    }\n",
       "\n",
       "    .dataframe tbody tr th {\n",
       "        vertical-align: top;\n",
       "    }\n",
       "\n",
       "    .dataframe thead th {\n",
       "        text-align: right;\n",
       "    }\n",
       "</style>\n",
       "<table border=\"1\" class=\"dataframe\">\n",
       "  <thead>\n",
       "    <tr style=\"text-align: right;\">\n",
       "      <th></th>\n",
       "      <th>Pregnancies</th>\n",
       "      <th>Glucose</th>\n",
       "      <th>BloodPressure</th>\n",
       "      <th>SkinThickness</th>\n",
       "      <th>Insulin</th>\n",
       "      <th>BMI</th>\n",
       "      <th>DiabetesPedigreeFunction</th>\n",
       "      <th>Age</th>\n",
       "    </tr>\n",
       "  </thead>\n",
       "  <tbody>\n",
       "    <tr>\n",
       "      <th>0</th>\n",
       "      <td>6</td>\n",
       "      <td>148</td>\n",
       "      <td>72</td>\n",
       "      <td>35</td>\n",
       "      <td>0</td>\n",
       "      <td>33.6</td>\n",
       "      <td>0.627</td>\n",
       "      <td>50</td>\n",
       "    </tr>\n",
       "    <tr>\n",
       "      <th>1</th>\n",
       "      <td>1</td>\n",
       "      <td>85</td>\n",
       "      <td>66</td>\n",
       "      <td>29</td>\n",
       "      <td>0</td>\n",
       "      <td>26.6</td>\n",
       "      <td>0.351</td>\n",
       "      <td>31</td>\n",
       "    </tr>\n",
       "    <tr>\n",
       "      <th>2</th>\n",
       "      <td>8</td>\n",
       "      <td>183</td>\n",
       "      <td>64</td>\n",
       "      <td>0</td>\n",
       "      <td>0</td>\n",
       "      <td>23.3</td>\n",
       "      <td>0.672</td>\n",
       "      <td>32</td>\n",
       "    </tr>\n",
       "    <tr>\n",
       "      <th>3</th>\n",
       "      <td>1</td>\n",
       "      <td>89</td>\n",
       "      <td>66</td>\n",
       "      <td>23</td>\n",
       "      <td>94</td>\n",
       "      <td>28.1</td>\n",
       "      <td>0.167</td>\n",
       "      <td>21</td>\n",
       "    </tr>\n",
       "    <tr>\n",
       "      <th>4</th>\n",
       "      <td>0</td>\n",
       "      <td>137</td>\n",
       "      <td>40</td>\n",
       "      <td>35</td>\n",
       "      <td>168</td>\n",
       "      <td>43.1</td>\n",
       "      <td>2.288</td>\n",
       "      <td>33</td>\n",
       "    </tr>\n",
       "  </tbody>\n",
       "</table>\n",
       "</div>"
      ],
      "text/plain": [
       "   Pregnancies  Glucose  BloodPressure  SkinThickness  Insulin   BMI  \\\n",
       "0            6      148             72             35        0  33.6   \n",
       "1            1       85             66             29        0  26.6   \n",
       "2            8      183             64              0        0  23.3   \n",
       "3            1       89             66             23       94  28.1   \n",
       "4            0      137             40             35      168  43.1   \n",
       "\n",
       "   DiabetesPedigreeFunction  Age  \n",
       "0                     0.627   50  \n",
       "1                     0.351   31  \n",
       "2                     0.672   32  \n",
       "3                     0.167   21  \n",
       "4                     2.288   33  "
      ]
     },
     "execution_count": 2,
     "metadata": {},
     "output_type": "execute_result"
    }
   ],
   "source": [
    "data = pd.read_csv('diabetes.csv')\n",
    "data_copy = data.copy()\n",
    "data = data.iloc[:,:-1] # exclude target column\n",
    "features = list(data.columns.values)\n",
    "data.head()"
   ]
  },
  {
   "cell_type": "markdown",
   "metadata": {},
   "source": [
    "### 1.2. Summary Statistics"
   ]
  },
  {
   "cell_type": "code",
   "execution_count": 3,
   "metadata": {},
   "outputs": [
    {
     "data": {
      "text/html": [
       "<div>\n",
       "<style scoped>\n",
       "    .dataframe tbody tr th:only-of-type {\n",
       "        vertical-align: middle;\n",
       "    }\n",
       "\n",
       "    .dataframe tbody tr th {\n",
       "        vertical-align: top;\n",
       "    }\n",
       "\n",
       "    .dataframe thead th {\n",
       "        text-align: right;\n",
       "    }\n",
       "</style>\n",
       "<table border=\"1\" class=\"dataframe\">\n",
       "  <thead>\n",
       "    <tr style=\"text-align: right;\">\n",
       "      <th></th>\n",
       "      <th>count</th>\n",
       "      <th>mean</th>\n",
       "      <th>std</th>\n",
       "      <th>min</th>\n",
       "      <th>25%</th>\n",
       "      <th>50%</th>\n",
       "      <th>75%</th>\n",
       "      <th>max</th>\n",
       "    </tr>\n",
       "  </thead>\n",
       "  <tbody>\n",
       "    <tr>\n",
       "      <th>Pregnancies</th>\n",
       "      <td>768.0</td>\n",
       "      <td>3.85</td>\n",
       "      <td>3.37</td>\n",
       "      <td>0.00</td>\n",
       "      <td>1.00</td>\n",
       "      <td>3.00</td>\n",
       "      <td>6.00</td>\n",
       "      <td>17.00</td>\n",
       "    </tr>\n",
       "    <tr>\n",
       "      <th>Glucose</th>\n",
       "      <td>768.0</td>\n",
       "      <td>120.89</td>\n",
       "      <td>31.97</td>\n",
       "      <td>0.00</td>\n",
       "      <td>99.00</td>\n",
       "      <td>117.00</td>\n",
       "      <td>140.25</td>\n",
       "      <td>199.00</td>\n",
       "    </tr>\n",
       "    <tr>\n",
       "      <th>BloodPressure</th>\n",
       "      <td>768.0</td>\n",
       "      <td>69.11</td>\n",
       "      <td>19.36</td>\n",
       "      <td>0.00</td>\n",
       "      <td>62.00</td>\n",
       "      <td>72.00</td>\n",
       "      <td>80.00</td>\n",
       "      <td>122.00</td>\n",
       "    </tr>\n",
       "    <tr>\n",
       "      <th>SkinThickness</th>\n",
       "      <td>768.0</td>\n",
       "      <td>20.54</td>\n",
       "      <td>15.95</td>\n",
       "      <td>0.00</td>\n",
       "      <td>0.00</td>\n",
       "      <td>23.00</td>\n",
       "      <td>32.00</td>\n",
       "      <td>99.00</td>\n",
       "    </tr>\n",
       "    <tr>\n",
       "      <th>Insulin</th>\n",
       "      <td>768.0</td>\n",
       "      <td>79.80</td>\n",
       "      <td>115.24</td>\n",
       "      <td>0.00</td>\n",
       "      <td>0.00</td>\n",
       "      <td>30.50</td>\n",
       "      <td>127.25</td>\n",
       "      <td>846.00</td>\n",
       "    </tr>\n",
       "    <tr>\n",
       "      <th>BMI</th>\n",
       "      <td>768.0</td>\n",
       "      <td>31.99</td>\n",
       "      <td>7.88</td>\n",
       "      <td>0.00</td>\n",
       "      <td>27.30</td>\n",
       "      <td>32.00</td>\n",
       "      <td>36.60</td>\n",
       "      <td>67.10</td>\n",
       "    </tr>\n",
       "    <tr>\n",
       "      <th>DiabetesPedigreeFunction</th>\n",
       "      <td>768.0</td>\n",
       "      <td>0.47</td>\n",
       "      <td>0.33</td>\n",
       "      <td>0.08</td>\n",
       "      <td>0.24</td>\n",
       "      <td>0.37</td>\n",
       "      <td>0.63</td>\n",
       "      <td>2.42</td>\n",
       "    </tr>\n",
       "    <tr>\n",
       "      <th>Age</th>\n",
       "      <td>768.0</td>\n",
       "      <td>33.24</td>\n",
       "      <td>11.76</td>\n",
       "      <td>21.00</td>\n",
       "      <td>24.00</td>\n",
       "      <td>29.00</td>\n",
       "      <td>41.00</td>\n",
       "      <td>81.00</td>\n",
       "    </tr>\n",
       "  </tbody>\n",
       "</table>\n",
       "</div>"
      ],
      "text/plain": [
       "                          count    mean     std    min    25%     50%     75%  \\\n",
       "Pregnancies               768.0    3.85    3.37   0.00   1.00    3.00    6.00   \n",
       "Glucose                   768.0  120.89   31.97   0.00  99.00  117.00  140.25   \n",
       "BloodPressure             768.0   69.11   19.36   0.00  62.00   72.00   80.00   \n",
       "SkinThickness             768.0   20.54   15.95   0.00   0.00   23.00   32.00   \n",
       "Insulin                   768.0   79.80  115.24   0.00   0.00   30.50  127.25   \n",
       "BMI                       768.0   31.99    7.88   0.00  27.30   32.00   36.60   \n",
       "DiabetesPedigreeFunction  768.0    0.47    0.33   0.08   0.24    0.37    0.63   \n",
       "Age                       768.0   33.24   11.76  21.00  24.00   29.00   41.00   \n",
       "\n",
       "                             max  \n",
       "Pregnancies                17.00  \n",
       "Glucose                   199.00  \n",
       "BloodPressure             122.00  \n",
       "SkinThickness              99.00  \n",
       "Insulin                   846.00  \n",
       "BMI                        67.10  \n",
       "DiabetesPedigreeFunction    2.42  \n",
       "Age                        81.00  "
      ]
     },
     "execution_count": 3,
     "metadata": {},
     "output_type": "execute_result"
    }
   ],
   "source": [
    "# We can see that range of values vary a lot for features\n",
    "# Hence, we need to Standardize this dataset\n",
    "np.round(data.describe().transpose(),decimals=2)"
   ]
  },
  {
   "cell_type": "markdown",
   "metadata": {},
   "source": [
    "### 1.3. Frequency Distributions"
   ]
  },
  {
   "cell_type": "code",
   "execution_count": 4,
   "metadata": {},
   "outputs": [
    {
     "data": {
      "image/png": "[encoded data removed]",
      "text/plain": [
       "<Figure size 864x576 with 9 Axes>"
      ]
     },
     "metadata": {
      "needs_background": "light"
     },
     "output_type": "display_data"
    }
   ],
   "source": [
    "# Histograms\n",
    "data.hist(grid=True, figsize=(12,8), color='blue')\n",
    "plt.tight_layout()\n",
    "plt.show()"
   ]
  },
  {
   "cell_type": "markdown",
   "metadata": {},
   "source": [
    "### 1.4. Correlation Matrix"
   ]
  },
  {
   "cell_type": "code",
   "execution_count": 5,
   "metadata": {
    "scrolled": true
   },
   "outputs": [
    {
     "data": {
      "text/html": [
       "<div>\n",
       "<style scoped>\n",
       "    .dataframe tbody tr th:only-of-type {\n",
       "        vertical-align: middle;\n",
       "    }\n",
       "\n",
       "    .dataframe tbody tr th {\n",
       "        vertical-align: top;\n",
       "    }\n",
       "\n",
       "    .dataframe thead th {\n",
       "        text-align: right;\n",
       "    }\n",
       "</style>\n",
       "<table border=\"1\" class=\"dataframe\">\n",
       "  <thead>\n",
       "    <tr style=\"text-align: right;\">\n",
       "      <th></th>\n",
       "      <th>Pregnancies</th>\n",
       "      <th>Glucose</th>\n",
       "      <th>BloodPressure</th>\n",
       "      <th>SkinThickness</th>\n",
       "      <th>Insulin</th>\n",
       "      <th>BMI</th>\n",
       "      <th>DiabetesPedigreeFunction</th>\n",
       "      <th>Age</th>\n",
       "    </tr>\n",
       "  </thead>\n",
       "  <tbody>\n",
       "    <tr>\n",
       "      <th>Pregnancies</th>\n",
       "      <td>1.00</td>\n",
       "      <td>0.13</td>\n",
       "      <td>0.14</td>\n",
       "      <td>-0.08</td>\n",
       "      <td>-0.07</td>\n",
       "      <td>0.02</td>\n",
       "      <td>-0.03</td>\n",
       "      <td>0.54</td>\n",
       "    </tr>\n",
       "    <tr>\n",
       "      <th>Glucose</th>\n",
       "      <td>0.13</td>\n",
       "      <td>1.00</td>\n",
       "      <td>0.15</td>\n",
       "      <td>0.06</td>\n",
       "      <td>0.33</td>\n",
       "      <td>0.22</td>\n",
       "      <td>0.14</td>\n",
       "      <td>0.26</td>\n",
       "    </tr>\n",
       "    <tr>\n",
       "      <th>BloodPressure</th>\n",
       "      <td>0.14</td>\n",
       "      <td>0.15</td>\n",
       "      <td>1.00</td>\n",
       "      <td>0.21</td>\n",
       "      <td>0.09</td>\n",
       "      <td>0.28</td>\n",
       "      <td>0.04</td>\n",
       "      <td>0.24</td>\n",
       "    </tr>\n",
       "    <tr>\n",
       "      <th>SkinThickness</th>\n",
       "      <td>-0.08</td>\n",
       "      <td>0.06</td>\n",
       "      <td>0.21</td>\n",
       "      <td>1.00</td>\n",
       "      <td>0.44</td>\n",
       "      <td>0.39</td>\n",
       "      <td>0.18</td>\n",
       "      <td>-0.11</td>\n",
       "    </tr>\n",
       "    <tr>\n",
       "      <th>Insulin</th>\n",
       "      <td>-0.07</td>\n",
       "      <td>0.33</td>\n",
       "      <td>0.09</td>\n",
       "      <td>0.44</td>\n",
       "      <td>1.00</td>\n",
       "      <td>0.20</td>\n",
       "      <td>0.19</td>\n",
       "      <td>-0.04</td>\n",
       "    </tr>\n",
       "    <tr>\n",
       "      <th>BMI</th>\n",
       "      <td>0.02</td>\n",
       "      <td>0.22</td>\n",
       "      <td>0.28</td>\n",
       "      <td>0.39</td>\n",
       "      <td>0.20</td>\n",
       "      <td>1.00</td>\n",
       "      <td>0.14</td>\n",
       "      <td>0.04</td>\n",
       "    </tr>\n",
       "    <tr>\n",
       "      <th>DiabetesPedigreeFunction</th>\n",
       "      <td>-0.03</td>\n",
       "      <td>0.14</td>\n",
       "      <td>0.04</td>\n",
       "      <td>0.18</td>\n",
       "      <td>0.19</td>\n",
       "      <td>0.14</td>\n",
       "      <td>1.00</td>\n",
       "      <td>0.03</td>\n",
       "    </tr>\n",
       "    <tr>\n",
       "      <th>Age</th>\n",
       "      <td>0.54</td>\n",
       "      <td>0.26</td>\n",
       "      <td>0.24</td>\n",
       "      <td>-0.11</td>\n",
       "      <td>-0.04</td>\n",
       "      <td>0.04</td>\n",
       "      <td>0.03</td>\n",
       "      <td>1.00</td>\n",
       "    </tr>\n",
       "  </tbody>\n",
       "</table>\n",
       "</div>"
      ],
      "text/plain": [
       "                          Pregnancies  Glucose  BloodPressure  SkinThickness  \\\n",
       "Pregnancies                      1.00     0.13           0.14          -0.08   \n",
       "Glucose                          0.13     1.00           0.15           0.06   \n",
       "BloodPressure                    0.14     0.15           1.00           0.21   \n",
       "SkinThickness                   -0.08     0.06           0.21           1.00   \n",
       "Insulin                         -0.07     0.33           0.09           0.44   \n",
       "BMI                              0.02     0.22           0.28           0.39   \n",
       "DiabetesPedigreeFunction        -0.03     0.14           0.04           0.18   \n",
       "Age                              0.54     0.26           0.24          -0.11   \n",
       "\n",
       "                          Insulin   BMI  DiabetesPedigreeFunction   Age  \n",
       "Pregnancies                 -0.07  0.02                     -0.03  0.54  \n",
       "Glucose                      0.33  0.22                      0.14  0.26  \n",
       "BloodPressure                0.09  0.28                      0.04  0.24  \n",
       "SkinThickness                0.44  0.39                      0.18 -0.11  \n",
       "Insulin                      1.00  0.20                      0.19 -0.04  \n",
       "BMI                          0.20  1.00                      0.14  0.04  \n",
       "DiabetesPedigreeFunction     0.19  0.14                      1.00  0.03  \n",
       "Age                         -0.04  0.04                      0.03  1.00  "
      ]
     },
     "metadata": {},
     "output_type": "display_data"
    }
   ],
   "source": [
    "# Correlation matrix (data is standardized by the formula)\n",
    "colnames = features\n",
    "corm = data.corr().values\n",
    "\n",
    "display(pd.DataFrame(np.round(corm,decimals=2),index=colnames,columns=colnames))"
   ]
  },
  {
   "cell_type": "markdown",
   "metadata": {},
   "source": [
    "# 2. Check if PCA is appropriate or not"
   ]
  },
  {
   "cell_type": "markdown",
   "metadata": {},
   "source": [
    "### 2.1. Method 1 - Bartlett's Sphericity Test"
   ]
  },
  {
   "cell_type": "code",
   "execution_count": 6,
   "metadata": {},
   "outputs": [
    {
     "name": "stdout",
     "output_type": "stream",
     "text": [
      "Barlett Sphericity - Passed\n"
     ]
    }
   ],
   "source": [
    "# Check for significant correlations for Dimension Reduction to be fruitful\n",
    "from factor_analyzer import FactorAnalyzer\n",
    "from factor_analyzer.factor_analyzer import calculate_bartlett_sphericity\n",
    "\n",
    "chi_square_value, p_value = calculate_bartlett_sphericity(data)\n",
    "if (p_value <0.05): print('Barlett Sphericity - Passed')\n",
    "else: print('Barlett Sphericity - Failed!')"
   ]
  },
  {
   "cell_type": "markdown",
   "metadata": {},
   "source": [
    "### 2.2. Method 2 - KMO Test"
   ]
  },
  {
   "cell_type": "code",
   "execution_count": 7,
   "metadata": {},
   "outputs": [
    {
     "name": "stdout",
     "output_type": "stream",
     "text": [
      "\n",
      "Kaiser-Meyer-Olkin: 0.5883561051209574\n",
      "KMO - Passed\n"
     ]
    }
   ],
   "source": [
    "# Check for sampling adequacy\n",
    "from factor_analyzer.factor_analyzer import calculate_kmo\n",
    "\n",
    "kmo_all,kmo_model=calculate_kmo(data)\n",
    "print(\"\\nKaiser-Meyer-Olkin:\", kmo_model)\n",
    "if (kmo_model > 0.5): print(\"KMO - Passed\")\n",
    "else: print('KMO - Failed!')"
   ]
  },
  {
   "cell_type": "markdown",
   "metadata": {},
   "source": [
    "# 3. Standardize Data"
   ]
  },
  {
   "cell_type": "code",
   "execution_count": 8,
   "metadata": {},
   "outputs": [],
   "source": [
    "# Standardized the data\n",
    "from sklearn.preprocessing import StandardScaler\n",
    "data_std = StandardScaler().fit_transform(data) #mean=0; var=1"
   ]
  },
  {
   "cell_type": "markdown",
   "metadata": {},
   "source": [
    "# 4. Apply PCA"
   ]
  },
  {
   "cell_type": "code",
   "execution_count": 9,
   "metadata": {},
   "outputs": [],
   "source": [
    "# Run the PCA Method\n",
    "from sklearn.decomposition import PCA\n",
    "n_components = len(features)\n",
    "pca = PCA(n_components).fit(data_std)"
   ]
  },
  {
   "cell_type": "code",
   "execution_count": 10,
   "metadata": {},
   "outputs": [],
   "source": [
    "# generate PC labels:\n",
    "PCs=[]\n",
    "for l in range(1,n_components+1):\n",
    "    PCs.append(\"PC\"+str(l))"
   ]
  },
  {
   "cell_type": "markdown",
   "metadata": {},
   "source": [
    "# 5. Interpret Princliple Components (PCs)"
   ]
  },
  {
   "cell_type": "markdown",
   "metadata": {},
   "source": [
    "### 5.1. Eigenvectors"
   ]
  },
  {
   "cell_type": "code",
   "execution_count": 11,
   "metadata": {
    "scrolled": false
   },
   "outputs": [
    {
     "data": {
      "text/html": [
       "<div>\n",
       "<style scoped>\n",
       "    .dataframe tbody tr th:only-of-type {\n",
       "        vertical-align: middle;\n",
       "    }\n",
       "\n",
       "    .dataframe tbody tr th {\n",
       "        vertical-align: top;\n",
       "    }\n",
       "\n",
       "    .dataframe thead th {\n",
       "        text-align: right;\n",
       "    }\n",
       "</style>\n",
       "<table border=\"1\" class=\"dataframe\">\n",
       "  <thead>\n",
       "    <tr style=\"text-align: right;\">\n",
       "      <th></th>\n",
       "      <th>PC1</th>\n",
       "      <th>PC2</th>\n",
       "      <th>PC3</th>\n",
       "      <th>PC4</th>\n",
       "      <th>PC5</th>\n",
       "      <th>PC6</th>\n",
       "      <th>PC7</th>\n",
       "      <th>PC8</th>\n",
       "    </tr>\n",
       "  </thead>\n",
       "  <tbody>\n",
       "    <tr>\n",
       "      <th>Pregnancies</th>\n",
       "      <td>0.128</td>\n",
       "      <td>0.594</td>\n",
       "      <td>-0.013</td>\n",
       "      <td>0.081</td>\n",
       "      <td>-0.476</td>\n",
       "      <td>0.194</td>\n",
       "      <td>-0.589</td>\n",
       "      <td>0.118</td>\n",
       "    </tr>\n",
       "    <tr>\n",
       "      <th>Glucose</th>\n",
       "      <td>0.393</td>\n",
       "      <td>0.174</td>\n",
       "      <td>0.468</td>\n",
       "      <td>-0.404</td>\n",
       "      <td>0.466</td>\n",
       "      <td>0.094</td>\n",
       "      <td>-0.060</td>\n",
       "      <td>0.450</td>\n",
       "    </tr>\n",
       "    <tr>\n",
       "      <th>BloodPressure</th>\n",
       "      <td>0.360</td>\n",
       "      <td>0.184</td>\n",
       "      <td>-0.535</td>\n",
       "      <td>0.056</td>\n",
       "      <td>0.328</td>\n",
       "      <td>-0.634</td>\n",
       "      <td>-0.192</td>\n",
       "      <td>-0.011</td>\n",
       "    </tr>\n",
       "    <tr>\n",
       "      <th>SkinThickness</th>\n",
       "      <td>0.440</td>\n",
       "      <td>-0.332</td>\n",
       "      <td>-0.238</td>\n",
       "      <td>0.038</td>\n",
       "      <td>-0.488</td>\n",
       "      <td>0.010</td>\n",
       "      <td>0.282</td>\n",
       "      <td>0.566</td>\n",
       "    </tr>\n",
       "    <tr>\n",
       "      <th>Insulin</th>\n",
       "      <td>0.435</td>\n",
       "      <td>-0.251</td>\n",
       "      <td>0.337</td>\n",
       "      <td>-0.350</td>\n",
       "      <td>-0.347</td>\n",
       "      <td>-0.271</td>\n",
       "      <td>-0.132</td>\n",
       "      <td>-0.549</td>\n",
       "    </tr>\n",
       "    <tr>\n",
       "      <th>BMI</th>\n",
       "      <td>0.452</td>\n",
       "      <td>-0.101</td>\n",
       "      <td>-0.362</td>\n",
       "      <td>0.054</td>\n",
       "      <td>0.253</td>\n",
       "      <td>0.685</td>\n",
       "      <td>-0.035</td>\n",
       "      <td>-0.342</td>\n",
       "    </tr>\n",
       "    <tr>\n",
       "      <th>DiabetesPedigreeFunction</th>\n",
       "      <td>0.271</td>\n",
       "      <td>-0.122</td>\n",
       "      <td>0.433</td>\n",
       "      <td>0.834</td>\n",
       "      <td>0.120</td>\n",
       "      <td>-0.086</td>\n",
       "      <td>-0.086</td>\n",
       "      <td>-0.008</td>\n",
       "    </tr>\n",
       "    <tr>\n",
       "      <th>Age</th>\n",
       "      <td>0.198</td>\n",
       "      <td>0.621</td>\n",
       "      <td>0.075</td>\n",
       "      <td>0.071</td>\n",
       "      <td>-0.109</td>\n",
       "      <td>-0.033</td>\n",
       "      <td>0.712</td>\n",
       "      <td>-0.212</td>\n",
       "    </tr>\n",
       "  </tbody>\n",
       "</table>\n",
       "</div>"
      ],
      "text/plain": [
       "                            PC1    PC2    PC3    PC4    PC5    PC6    PC7  \\\n",
       "Pregnancies               0.128  0.594 -0.013  0.081 -0.476  0.194 -0.589   \n",
       "Glucose                   0.393  0.174  0.468 -0.404  0.466  0.094 -0.060   \n",
       "BloodPressure             0.360  0.184 -0.535  0.056  0.328 -0.634 -0.192   \n",
       "SkinThickness             0.440 -0.332 -0.238  0.038 -0.488  0.010  0.282   \n",
       "Insulin                   0.435 -0.251  0.337 -0.350 -0.347 -0.271 -0.132   \n",
       "BMI                       0.452 -0.101 -0.362  0.054  0.253  0.685 -0.035   \n",
       "DiabetesPedigreeFunction  0.271 -0.122  0.433  0.834  0.120 -0.086 -0.086   \n",
       "Age                       0.198  0.621  0.075  0.071 -0.109 -0.033  0.712   \n",
       "\n",
       "                            PC8  \n",
       "Pregnancies               0.118  \n",
       "Glucose                   0.450  \n",
       "BloodPressure            -0.011  \n",
       "SkinThickness             0.566  \n",
       "Insulin                  -0.549  \n",
       "BMI                      -0.342  \n",
       "DiabetesPedigreeFunction -0.008  \n",
       "Age                      -0.212  "
      ]
     },
     "metadata": {},
     "output_type": "display_data"
    }
   ],
   "source": [
    "# get the eigenvectors\n",
    "eigenvectors = np.round(pca.components_.transpose(),decimals=3)\n",
    "display(pd.DataFrame(eigenvectors,index=colnames,columns=PCs))\n",
    "\n",
    "# PC1 = 0.128*Pregnancies + 0.393*Glucose + 0.360*BloodPressure ...."
   ]
  },
  {
   "cell_type": "markdown",
   "metadata": {},
   "source": [
    "### 5.2. Loading Matrix"
   ]
  },
  {
   "cell_type": "code",
   "execution_count": 12,
   "metadata": {
    "scrolled": true
   },
   "outputs": [
    {
     "data": {
      "text/html": [
       "<div>\n",
       "<style scoped>\n",
       "    .dataframe tbody tr th:only-of-type {\n",
       "        vertical-align: middle;\n",
       "    }\n",
       "\n",
       "    .dataframe tbody tr th {\n",
       "        vertical-align: top;\n",
       "    }\n",
       "\n",
       "    .dataframe thead th {\n",
       "        text-align: right;\n",
       "    }\n",
       "</style>\n",
       "<table border=\"1\" class=\"dataframe\">\n",
       "  <thead>\n",
       "    <tr style=\"text-align: right;\">\n",
       "      <th></th>\n",
       "      <th>PC1</th>\n",
       "      <th>PC2</th>\n",
       "      <th>PC3</th>\n",
       "      <th>PC4</th>\n",
       "      <th>PC5</th>\n",
       "      <th>PC6</th>\n",
       "      <th>PC7</th>\n",
       "      <th>PC8</th>\n",
       "    </tr>\n",
       "  </thead>\n",
       "  <tbody>\n",
       "    <tr>\n",
       "      <th>Pregnancies</th>\n",
       "      <td>0.1854</td>\n",
       "      <td>0.7821</td>\n",
       "      <td>-0.0132</td>\n",
       "      <td>0.0758</td>\n",
       "      <td>-0.4159</td>\n",
       "      <td>0.1604</td>\n",
       "      <td>-0.3819</td>\n",
       "      <td>0.0751</td>\n",
       "    </tr>\n",
       "    <tr>\n",
       "      <th>Glucose</th>\n",
       "      <td>0.5691</td>\n",
       "      <td>0.2291</td>\n",
       "      <td>0.4752</td>\n",
       "      <td>-0.3783</td>\n",
       "      <td>0.4071</td>\n",
       "      <td>0.0777</td>\n",
       "      <td>-0.0389</td>\n",
       "      <td>0.2864</td>\n",
       "    </tr>\n",
       "    <tr>\n",
       "      <th>BloodPressure</th>\n",
       "      <td>0.5213</td>\n",
       "      <td>0.2423</td>\n",
       "      <td>-0.5432</td>\n",
       "      <td>0.0524</td>\n",
       "      <td>0.2866</td>\n",
       "      <td>-0.5242</td>\n",
       "      <td>-0.1245</td>\n",
       "      <td>-0.0070</td>\n",
       "    </tr>\n",
       "    <tr>\n",
       "      <th>SkinThickness</th>\n",
       "      <td>0.6372</td>\n",
       "      <td>-0.4371</td>\n",
       "      <td>-0.2417</td>\n",
       "      <td>0.0356</td>\n",
       "      <td>-0.4264</td>\n",
       "      <td>0.0083</td>\n",
       "      <td>0.1828</td>\n",
       "      <td>0.3602</td>\n",
       "    </tr>\n",
       "    <tr>\n",
       "      <th>Insulin</th>\n",
       "      <td>0.6299</td>\n",
       "      <td>-0.3305</td>\n",
       "      <td>0.3422</td>\n",
       "      <td>-0.3277</td>\n",
       "      <td>-0.3032</td>\n",
       "      <td>-0.2240</td>\n",
       "      <td>-0.0856</td>\n",
       "      <td>-0.3494</td>\n",
       "    </tr>\n",
       "    <tr>\n",
       "      <th>BMI</th>\n",
       "      <td>0.6546</td>\n",
       "      <td>-0.1330</td>\n",
       "      <td>-0.3676</td>\n",
       "      <td>0.0506</td>\n",
       "      <td>0.2210</td>\n",
       "      <td>0.5663</td>\n",
       "      <td>-0.0227</td>\n",
       "      <td>-0.2176</td>\n",
       "    </tr>\n",
       "    <tr>\n",
       "      <th>DiabetesPedigreeFunction</th>\n",
       "      <td>0.3924</td>\n",
       "      <td>-0.1606</td>\n",
       "      <td>0.4397</td>\n",
       "      <td>0.7809</td>\n",
       "      <td>0.1048</td>\n",
       "      <td>-0.0711</td>\n",
       "      <td>-0.0558</td>\n",
       "      <td>-0.0051</td>\n",
       "    </tr>\n",
       "    <tr>\n",
       "      <th>Age</th>\n",
       "      <td>0.2867</td>\n",
       "      <td>0.8176</td>\n",
       "      <td>0.0762</td>\n",
       "      <td>0.0665</td>\n",
       "      <td>-0.0952</td>\n",
       "      <td>-0.0273</td>\n",
       "      <td>0.4616</td>\n",
       "      <td>-0.1349</td>\n",
       "    </tr>\n",
       "  </tbody>\n",
       "</table>\n",
       "</div>"
      ],
      "text/plain": [
       "                             PC1     PC2     PC3     PC4     PC5     PC6  \\\n",
       "Pregnancies               0.1854  0.7821 -0.0132  0.0758 -0.4159  0.1604   \n",
       "Glucose                   0.5691  0.2291  0.4752 -0.3783  0.4071  0.0777   \n",
       "BloodPressure             0.5213  0.2423 -0.5432  0.0524  0.2866 -0.5242   \n",
       "SkinThickness             0.6372 -0.4371 -0.2417  0.0356 -0.4264  0.0083   \n",
       "Insulin                   0.6299 -0.3305  0.3422 -0.3277 -0.3032 -0.2240   \n",
       "BMI                       0.6546 -0.1330 -0.3676  0.0506  0.2210  0.5663   \n",
       "DiabetesPedigreeFunction  0.3924 -0.1606  0.4397  0.7809  0.1048 -0.0711   \n",
       "Age                       0.2867  0.8176  0.0762  0.0665 -0.0952 -0.0273   \n",
       "\n",
       "                             PC7     PC8  \n",
       "Pregnancies              -0.3819  0.0751  \n",
       "Glucose                  -0.0389  0.2864  \n",
       "BloodPressure            -0.1245 -0.0070  \n",
       "SkinThickness             0.1828  0.3602  \n",
       "Insulin                  -0.0856 -0.3494  \n",
       "BMI                      -0.0227 -0.2176  \n",
       "DiabetesPedigreeFunction -0.0558 -0.0051  \n",
       "Age                       0.4616 -0.1349  "
      ]
     },
     "metadata": {},
     "output_type": "display_data"
    }
   ],
   "source": [
    "# We create Loading Matrix to interpret Principle Components\n",
    "# Loading matrix can be viewed as \"correlation\" between (PC and features) and (between features).\n",
    "# get eigenvalues to calculate the loadings\n",
    "eigenvalues = pca.explained_variance_\n",
    "loadings = eigenvectors * np.sqrt(eigenvalues)\n",
    "\n",
    "display(pd.DataFrame(np.round(loadings,decimals=4),index=colnames,columns=PCs))"
   ]
  },
  {
   "cell_type": "code",
   "execution_count": 13,
   "metadata": {},
   "outputs": [],
   "source": [
    "# Example:\n",
    "# PC1 has highest correlation with SkinThickness,Insulin,BMI\n",
    "# and these features are correlated with each other."
   ]
  },
  {
   "cell_type": "markdown",
   "metadata": {},
   "source": [
    "### 5.3. Loadings Plot"
   ]
  },
  {
   "cell_type": "code",
   "execution_count": 15,
   "metadata": {},
   "outputs": [
    {
     "data": {
      "image/png": "[encoded data removed]",
      "text/plain": [
       "<Figure size 360x360 with 1 Axes>"
      ]
     },
     "metadata": {
      "needs_background": "light"
     },
     "output_type": "display_data"
    }
   ],
   "source": [
    "# Loadings Plot\n",
    "# It reveals the same info as Loading Matrix\n",
    "# Closer to 1 or -1 -> strong influence. Closer to 0 -> weak influence\n",
    "p1=1; p2=2\n",
    "coeff = loadings[:,p1-1:p2]\n",
    "var_expln = np.round(pca.explained_variance_ratio_ * 100,decimals=3)\n",
    "\n",
    "fig = plt.figure(figsize=(5,5))\n",
    "plt.xlim(-1,1)\n",
    "plt.ylim(-1,1)\n",
    "fig.suptitle('Loading Plot)',fontsize=20,weight='bold')\n",
    "plt.xlabel('PC'+str(p1)+' ('+str(var_expln[p1-1])+'%)',fontsize=16,weight='bold')\n",
    "plt.ylabel('PC'+str(p2)+' ('+str(var_expln[p2-1])+'%)',fontsize=16,weight='bold')\n",
    "\n",
    "for i in range(len(coeff[:,0])):\n",
    "    plt.arrow(0,0,coeff[i,0],coeff[i,1],color='r',\n",
    "              alpha=0.5,head_width=0.02, head_length=0.05)\n",
    "    plt.text(coeff[i,0]*1.15,coeff[i,1]*1.15,features[i],fontsize=15,\n",
    "             color='g',ha='center',va='center')\n",
    "\n",
    "circle = plt.Circle((0, 0), 0.99,  color='b', fill=False)\n",
    "ax = fig.gca(); ax.add_artist(circle)\n",
    "plt.axhline(0, color='black'); plt.axvline(0, color='black')\n",
    "plt.grid()\n",
    "plt.show()"
   ]
  },
  {
   "cell_type": "markdown",
   "metadata": {},
   "source": [
    "# 6. PC Selection"
   ]
  },
  {
   "cell_type": "markdown",
   "metadata": {},
   "source": [
    "### 6.1. Method 1 - Eigenvalues & Variance"
   ]
  },
  {
   "cell_type": "code",
   "execution_count": 16,
   "metadata": {},
   "outputs": [
    {
     "name": "stdout",
     "output_type": "stream",
     "text": [
      "Eigenvalues         : [2.097 1.733 1.031 0.877 0.763 0.684]\n",
      "% Variance Explained: [26.18  21.64  12.87  10.944  9.529  8.533]\n",
      "% Cumulative)       : [26.18  47.82  60.69  71.634 81.163 89.696]\n"
     ]
    }
   ],
   "source": [
    "npc = 6 # display\n",
    "print('Eigenvalues         :',np.round(eigenvalues[0:npc],decimals=3)) # Tells amount of info captured by each PC\n",
    "print('% Variance Explained:',var_expln[0:npc])\n",
    "print('% Cumulative)       :',np.cumsum(var_expln[0:npc]))"
   ]
  },
  {
   "cell_type": "markdown",
   "metadata": {},
   "source": [
    "### 6.2. Method 2 - Pareto Chart"
   ]
  },
  {
   "cell_type": "code",
   "execution_count": 17,
   "metadata": {},
   "outputs": [
    {
     "data": {
      "image/png": "[encoded data removed]",
      "text/plain": [
       "<Figure size 432x288 with 1 Axes>"
      ]
     },
     "metadata": {},
     "output_type": "display_data"
    }
   ],
   "source": [
    "# pareto chart\n",
    "# % Cumulative info captured with each PC\n",
    "# Take till 80% or 90%. So in this case till PC3 or PC4.\n",
    "# Although, according to industry standards threshold is only 65%.\n",
    "plt.style.use('seaborn-whitegrid')\n",
    "cumulative_var = np.cumsum(var_expln)\n",
    "plt.plot(cumulative_var,'k-o',markerfacecolor='None',markeredgecolor='k')\n",
    "plt.title('Principal Component Analysis',fontsize=12)\n",
    "plt.xlabel(\"Principal Component\",fontsize=12)\n",
    "plt.ylabel(\"Cumulative Proportion of Variance Explained\",fontsize=12)\n",
    "plt.show()"
   ]
  },
  {
   "cell_type": "markdown",
   "metadata": {},
   "source": [
    "### 6.3. Method 3 - Scree Plot"
   ]
  },
  {
   "cell_type": "code",
   "execution_count": 18,
   "metadata": {},
   "outputs": [
    {
     "data": {
      "image/png": "[encoded data removed]",
      "text/plain": [
       "<Figure size 576x360 with 1 Axes>"
      ]
     },
     "metadata": {},
     "output_type": "display_data"
    }
   ],
   "source": [
    "## scree plot\n",
    "# How info captured by each PC is declining\n",
    "# Take till elbow point. In this case PC3 or PC4\n",
    "fig = plt.figure(figsize=(8,5))\n",
    "x_axis = np.arange(n_components) + 1\n",
    "\n",
    "plt.plot(x_axis, eigenvalues, 'ro-', linewidth=2)\n",
    "plt.title('Scree Plot')\n",
    "plt.xlabel('Principal Component')\n",
    "plt.ylabel('Eigenvalue')\n",
    "plt.show()"
   ]
  },
  {
   "cell_type": "markdown",
   "metadata": {},
   "source": [
    "### 6.4. Communalites"
   ]
  },
  {
   "cell_type": "code",
   "execution_count": 19,
   "metadata": {},
   "outputs": [
    {
     "name": "stdout",
     "output_type": "stream",
     "text": [
      "                                 0\n",
      "Pregnancies               0.651915\n",
      "Glucose                   0.745273\n",
      "BloodPressure             0.628313\n",
      "SkinThickness             0.656735\n",
      "Insulin                   0.730515\n",
      "BMI                       0.583790\n",
      "DiabetesPedigreeFunction  0.982884\n",
      "Age                       0.760930\n"
     ]
    }
   ],
   "source": [
    "# compute the communilaties for the selected number of PC\n",
    "# How much info for each feature is captured by 4 PCs.\n",
    "no_pc = 4 \n",
    "\n",
    "loadings_sq = loadings*loadings #square matrix\n",
    "communality = np.sum(loadings_sq[:,0:no_pc],axis=1).tolist()\n",
    "print(pd.DataFrame(communality,index=colnames))"
   ]
  },
  {
   "cell_type": "markdown",
   "metadata": {},
   "source": [
    "# 7. Next Steps"
   ]
  },
  {
   "cell_type": "markdown",
   "metadata": {},
   "source": [
    "### 7.1. Component Scores"
   ]
  },
  {
   "cell_type": "code",
   "execution_count": 29,
   "metadata": {},
   "outputs": [
    {
     "data": {
      "text/html": [
       "<div>\n",
       "<style scoped>\n",
       "    .dataframe tbody tr th:only-of-type {\n",
       "        vertical-align: middle;\n",
       "    }\n",
       "\n",
       "    .dataframe tbody tr th {\n",
       "        vertical-align: top;\n",
       "    }\n",
       "\n",
       "    .dataframe thead th {\n",
       "        text-align: right;\n",
       "    }\n",
       "</style>\n",
       "<table border=\"1\" class=\"dataframe\">\n",
       "  <thead>\n",
       "    <tr style=\"text-align: right;\">\n",
       "      <th></th>\n",
       "      <th>PC1</th>\n",
       "      <th>PC2</th>\n",
       "      <th>PC3</th>\n",
       "      <th>PC4</th>\n",
       "    </tr>\n",
       "  </thead>\n",
       "  <tbody>\n",
       "    <tr>\n",
       "      <th>0</th>\n",
       "      <td>1.068503</td>\n",
       "      <td>1.234895</td>\n",
       "      <td>0.095930</td>\n",
       "      <td>0.496990</td>\n",
       "    </tr>\n",
       "    <tr>\n",
       "      <th>1</th>\n",
       "      <td>-1.121683</td>\n",
       "      <td>-0.733852</td>\n",
       "      <td>-0.712938</td>\n",
       "      <td>0.285056</td>\n",
       "    </tr>\n",
       "    <tr>\n",
       "      <th>2</th>\n",
       "      <td>-0.396477</td>\n",
       "      <td>1.595876</td>\n",
       "      <td>1.760678</td>\n",
       "      <td>-0.070395</td>\n",
       "    </tr>\n",
       "    <tr>\n",
       "      <th>3</th>\n",
       "      <td>-1.115781</td>\n",
       "      <td>-1.271241</td>\n",
       "      <td>-0.663729</td>\n",
       "      <td>-0.579123</td>\n",
       "    </tr>\n",
       "    <tr>\n",
       "      <th>4</th>\n",
       "      <td>2.359334</td>\n",
       "      <td>-2.184819</td>\n",
       "      <td>2.963107</td>\n",
       "      <td>4.033099</td>\n",
       "    </tr>\n",
       "    <tr>\n",
       "      <th>5</th>\n",
       "      <td>-1.435751</td>\n",
       "      <td>0.835577</td>\n",
       "      <td>-0.220332</td>\n",
       "      <td>-0.447845</td>\n",
       "    </tr>\n",
       "    <tr>\n",
       "      <th>6</th>\n",
       "      <td>-0.930176</td>\n",
       "      <td>-1.107940</td>\n",
       "      <td>-0.536578</td>\n",
       "      <td>-0.144660</td>\n",
       "    </tr>\n",
       "    <tr>\n",
       "      <th>7</th>\n",
       "      <td>-2.149806</td>\n",
       "      <td>0.855902</td>\n",
       "      <td>1.254642</td>\n",
       "      <td>-0.638269</td>\n",
       "    </tr>\n",
       "    <tr>\n",
       "      <th>8</th>\n",
       "      <td>3.297925</td>\n",
       "      <td>-0.242155</td>\n",
       "      <td>1.870861</td>\n",
       "      <td>-3.034595</td>\n",
       "    </tr>\n",
       "    <tr>\n",
       "      <th>9</th>\n",
       "      <td>-1.839850</td>\n",
       "      <td>3.206661</td>\n",
       "      <td>0.660732</td>\n",
       "      <td>-0.377021</td>\n",
       "    </tr>\n",
       "  </tbody>\n",
       "</table>\n",
       "</div>"
      ],
      "text/plain": [
       "        PC1       PC2       PC3       PC4\n",
       "0  1.068503  1.234895  0.095930  0.496990\n",
       "1 -1.121683 -0.733852 -0.712938  0.285056\n",
       "2 -0.396477  1.595876  1.760678 -0.070395\n",
       "3 -1.115781 -1.271241 -0.663729 -0.579123\n",
       "4  2.359334 -2.184819  2.963107  4.033099\n",
       "5 -1.435751  0.835577 -0.220332 -0.447845\n",
       "6 -0.930176 -1.107940 -0.536578 -0.144660\n",
       "7 -2.149806  0.855902  1.254642 -0.638269\n",
       "8  3.297925 -0.242155  1.870861 -3.034595\n",
       "9 -1.839850  3.206661  0.660732 -0.377021"
      ]
     },
     "execution_count": 29,
     "metadata": {},
     "output_type": "execute_result"
    }
   ],
   "source": [
    "# Print out the Component Scores\n",
    "PC_scores = pca.fit_transform(data_std) # PC scores for downstream analytics\n",
    "\n",
    "scores = pd.DataFrame(PC_scores[:,0:no_pc],columns=PCs[0:no_pc])\n",
    "scores.head(10)"
   ]
  },
  {
   "cell_type": "markdown",
   "metadata": {},
   "source": [
    "### 7.2. New Dataset"
   ]
  },
  {
   "cell_type": "code",
   "execution_count": 30,
   "metadata": {},
   "outputs": [
    {
     "data": {
      "text/html": [
       "<div>\n",
       "<style scoped>\n",
       "    .dataframe tbody tr th:only-of-type {\n",
       "        vertical-align: middle;\n",
       "    }\n",
       "\n",
       "    .dataframe tbody tr th {\n",
       "        vertical-align: top;\n",
       "    }\n",
       "\n",
       "    .dataframe thead th {\n",
       "        text-align: right;\n",
       "    }\n",
       "</style>\n",
       "<table border=\"1\" class=\"dataframe\">\n",
       "  <thead>\n",
       "    <tr style=\"text-align: right;\">\n",
       "      <th></th>\n",
       "      <th>PC1</th>\n",
       "      <th>PC2</th>\n",
       "      <th>PC3</th>\n",
       "      <th>PC4</th>\n",
       "      <th>Outcome</th>\n",
       "    </tr>\n",
       "  </thead>\n",
       "  <tbody>\n",
       "    <tr>\n",
       "      <th>0</th>\n",
       "      <td>1.068503</td>\n",
       "      <td>1.234895</td>\n",
       "      <td>0.095930</td>\n",
       "      <td>0.496990</td>\n",
       "      <td>1</td>\n",
       "    </tr>\n",
       "    <tr>\n",
       "      <th>1</th>\n",
       "      <td>-1.121683</td>\n",
       "      <td>-0.733852</td>\n",
       "      <td>-0.712938</td>\n",
       "      <td>0.285056</td>\n",
       "      <td>0</td>\n",
       "    </tr>\n",
       "    <tr>\n",
       "      <th>2</th>\n",
       "      <td>-0.396477</td>\n",
       "      <td>1.595876</td>\n",
       "      <td>1.760678</td>\n",
       "      <td>-0.070395</td>\n",
       "      <td>1</td>\n",
       "    </tr>\n",
       "    <tr>\n",
       "      <th>3</th>\n",
       "      <td>-1.115781</td>\n",
       "      <td>-1.271241</td>\n",
       "      <td>-0.663729</td>\n",
       "      <td>-0.579123</td>\n",
       "      <td>0</td>\n",
       "    </tr>\n",
       "    <tr>\n",
       "      <th>4</th>\n",
       "      <td>2.359334</td>\n",
       "      <td>-2.184819</td>\n",
       "      <td>2.963107</td>\n",
       "      <td>4.033099</td>\n",
       "      <td>1</td>\n",
       "    </tr>\n",
       "  </tbody>\n",
       "</table>\n",
       "</div>"
      ],
      "text/plain": [
       "        PC1       PC2       PC3       PC4  Outcome\n",
       "0  1.068503  1.234895  0.095930  0.496990        1\n",
       "1 -1.121683 -0.733852 -0.712938  0.285056        0\n",
       "2 -0.396477  1.595876  1.760678 -0.070395        1\n",
       "3 -1.115781 -1.271241 -0.663729 -0.579123        0\n",
       "4  2.359334 -2.184819  2.963107  4.033099        1"
      ]
     },
     "execution_count": 30,
     "metadata": {},
     "output_type": "execute_result"
    }
   ],
   "source": [
    "PCA_df = pd.concat([scores,data_copy['Outcome']],axis=1)\n",
    "PCA_df.head()"
   ]
  },
  {
   "cell_type": "code",
   "execution_count": 37,
   "metadata": {},
   "outputs": [],
   "source": [
    "PCA_df.to_csv('PCA_diabetes.csv',index=False)"
   ]
  },
  {
   "cell_type": "markdown",
   "metadata": {},
   "source": [
    "### 7.3. Score Plot"
   ]
  },
  {
   "cell_type": "code",
   "execution_count": 36,
   "metadata": {},
   "outputs": [
    {
     "data": {
      "image/png": "[encoded data removed]",
      "text/plain": [
       "<Figure size 640x640 with 1 Axes>"
      ]
     },
     "metadata": {},
     "output_type": "display_data"
    }
   ],
   "source": [
    "# Score Plot - scatterplot of new dataset with PC1 and PC2 \n",
    "plt.figure(num=None, figsize=(8, 8), dpi=80, facecolor='w', edgecolor='k')\n",
    "\n",
    "classes = [1, 0]\n",
    "colors = ['r', 'b']\n",
    "for clas, color in zip(classes, colors):\n",
    "    plt.scatter(scores.loc[PCA_df['Outcome'] == clas, 'PC1'], PCA_df.loc[PCA_df['Outcome'] == clas, 'PC2'], c = color)\n",
    "    \n",
    "# plt.axhline(0, color='black'); plt.axvline(0, color='black')    \n",
    "\n",
    "plt.xlabel('PC 1 ('+str(var_expln[0])+'%)', fontsize = 12)\n",
    "plt.ylabel('PC 2 ('+str(var_expln[1])+'%)', fontsize = 12)\n",
    "plt.title('Score Plot (2D PCA)', fontsize = 15)\n",
    "plt.legend(['diabetes', 'not diabetes'])\n",
    "plt.grid()"
   ]
  },
  {
   "cell_type": "markdown",
   "metadata": {},
   "source": [
    "# My Observations"
   ]
  },
  {
   "cell_type": "markdown",
   "metadata": {},
   "source": [
    "### 1. For Original Dataset (Day 1)"
   ]
  },
  {
   "cell_type": "markdown",
   "metadata": {},
   "source": [
    "|                     | Train Accuracy | Test Accuracy | AUC score |\n",
    "|---------------------|----------------|---------------|-----------|\n",
    "| Logistic Regression | 0.771           | 0.727          | 0.821      |\n",
    "| KNN                 | 0.781           | 0.762          | 0.804      |\n",
    "| Naive Bayes         | 0.779           | 0.738          | 0.796      |"
   ]
  },
  {
   "cell_type": "markdown",
   "metadata": {},
   "source": [
    "### 2. For New Dataset with 4 PCs"
   ]
  },
  {
   "cell_type": "markdown",
   "metadata": {},
   "source": [
    "|                     | Train Accuracy | Test Accuracy | AUC score |\n",
    "|---------------------|----------------|---------------|-----------|\n",
    "| Logistic Regression | 0.732          | 0.707         | 0.770     |\n",
    "| KNN                 | 0.785          | 0.719         | 0.752     |\n",
    "| Naive Bayes         | 0.738          | 0.720         | 0.758     |"
   ]
  },
  {
   "cell_type": "markdown",
   "metadata": {},
   "source": [
    "1. For KNN, training accuracy increased by 0.4% after PCA.\n",
    "2. The testing performance for all algorithms decreased after PCA.\n",
    "\n",
    "**Note:** I checked model performances with 3PCs and 5PCs as well. But there wasn't significant difference in their performance from 4PCs. <br> To sum up, Models performed better with Original dataset than with 3PCs,4PCs,5PCs dataset."
   ]
  }
 ],
 "metadata": {
  "kernelspec": {
   "display_name": "Python 3 (ipykernel)",
   "language": "python",
   "name": "python3"
  },
  "language_info": {
   "codemirror_mode": {
    "name": "ipython",
    "version": 3
   },
   "file_extension": ".py",
   "mimetype": "text/x-python",
   "name": "python",
   "nbconvert_exporter": "python",
   "pygments_lexer": "ipython3",
   "version": "3.7.0"
  }
 },
 "nbformat": 4,
 "nbformat_minor": 4
}
