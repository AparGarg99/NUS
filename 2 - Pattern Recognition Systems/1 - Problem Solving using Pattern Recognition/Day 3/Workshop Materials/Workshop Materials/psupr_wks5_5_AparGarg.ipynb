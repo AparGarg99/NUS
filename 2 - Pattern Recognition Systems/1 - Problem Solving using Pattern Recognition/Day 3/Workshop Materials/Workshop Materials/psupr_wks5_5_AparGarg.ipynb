{
 "cells": [
  {
   "cell_type": "markdown",
   "metadata": {
    "id": "CRNVzhoo1clG"
   },
   "source": [
    "## **1. Mount google drive**\n",
    "---"
   ]
  },
  {
   "cell_type": "code",
   "execution_count": 1,
   "metadata": {
    "colab": {
     "base_uri": "https://localhost:8080/"
    },
    "id": "5W39GXyk1hME",
    "outputId": "bbf80623-ed8e-40bc-9af1-04a9f8f8cc43"
   },
   "outputs": [
    {
     "name": "stdout",
     "output_type": "stream",
     "text": [
      "Mounted at /content/gdrive\n"
     ]
    }
   ],
   "source": [
    "from google.colab import drive\n",
    "drive.mount('/content/gdrive')"
   ]
  },
  {
   "cell_type": "markdown",
   "metadata": {
    "id": "dOQ-2xS_MYHi"
   },
   "source": [
    "## **2. Import the necessary libraries**\n",
    "---"
   ]
  },
  {
   "cell_type": "code",
   "execution_count": 2,
   "metadata": {
    "colab": {
     "base_uri": "https://localhost:8080/"
    },
    "id": "yoi4gWDELtek",
    "outputId": "7779a0c6-4349-447c-b26b-b98e5177de01"
   },
   "outputs": [
    {
     "name": "stdout",
     "output_type": "stream",
     "text": [
      "Versions of key libraries\n",
      "---\n",
      "tensorflow:  2.5.0\n",
      "numpy:       1.19.5\n",
      "matplotlib:  3.2.2\n",
      "sklearn:     0.22.2.post1\n"
     ]
    }
   ],
   "source": [
    "import matplotlib\n",
    "import sklearn\n",
    "import numpy as np\n",
    "import pandas as pd\n",
    "import sklearn.metrics as metrics\n",
    "import matplotlib.pyplot as plt\n",
    "import tensorflow as tf\n",
    "import os\n",
    "\n",
    "\n",
    "from tensorflow.keras.callbacks import ModelCheckpoint,CSVLogger\n",
    "from tensorflow.keras.models import Sequential\n",
    "from tensorflow.keras.layers import Dense\n",
    "from tensorflow.keras.layers import Dropout\n",
    "from tensorflow.keras.layers import Flatten\n",
    "from tensorflow.keras.layers import Conv2D\n",
    "from tensorflow.keras.layers import MaxPooling2D\n",
    "from tensorflow.keras.optimizers import Adam\n",
    "from tensorflow.keras.utils import to_categorical\n",
    "from tensorflow.keras.utils import plot_model\n",
    "\n",
    "\n",
    "\n",
    "print(\"Versions of key libraries\")\n",
    "print(\"---\")\n",
    "print(\"tensorflow: \", tf.__version__)\n",
    "print(\"numpy:      \", np.__version__)\n",
    "print(\"matplotlib: \", matplotlib.__version__)\n",
    "print(\"sklearn:    \", sklearn.__version__)"
   ]
  },
  {
   "cell_type": "code",
   "execution_count": 3,
   "metadata": {
    "colab": {
     "base_uri": "https://localhost:8080/"
    },
    "id": "jMsbBPNhv0Sx",
    "outputId": "2ab74f50-01d3-4e7c-a248-d5bef0863809"
   },
   "outputs": [
    {
     "name": "stdout",
     "output_type": "stream",
     "text": [
      "Collecting keras-tuner\n",
      "\u001b[?25l  Downloading https://files.pythonhosted.org/packages/a2/ba/c7a7cda64b67846bde66ffdaaf3199a79d4e35ab6b6f170cc1b7d235646e/keras_tuner-1.0.3-py3-none-any.whl (96kB)\n",
      "\r",
      "\u001b[K     |███▍                            | 10kB 18.5MB/s eta 0:00:01\r",
      "\u001b[K     |██████▉                         | 20kB 24.0MB/s eta 0:00:01\r",
      "\u001b[K     |██████████▏                     | 30kB 27.2MB/s eta 0:00:01\r",
      "\u001b[K     |█████████████▋                  | 40kB 29.7MB/s eta 0:00:01\r",
      "\u001b[K     |█████████████████               | 51kB 31.7MB/s eta 0:00:01\r",
      "\u001b[K     |████████████████████▍           | 61kB 29.6MB/s eta 0:00:01\r",
      "\u001b[K     |███████████████████████▊        | 71kB 30.1MB/s eta 0:00:01\r",
      "\u001b[K     |███████████████████████████▏    | 81kB 27.7MB/s eta 0:00:01\r",
      "\u001b[K     |██████████████████████████████▋ | 92kB 29.1MB/s eta 0:00:01\r",
      "\u001b[K     |████████████████████████████████| 102kB 11.4MB/s \n",
      "\u001b[?25hRequirement already satisfied: tensorboard in /usr/local/lib/python3.7/dist-packages (from keras-tuner) (2.5.0)\n",
      "Requirement already satisfied: packaging in /usr/local/lib/python3.7/dist-packages (from keras-tuner) (21.0)\n",
      "Requirement already satisfied: ipython in /usr/local/lib/python3.7/dist-packages (from keras-tuner) (5.5.0)\n",
      "Requirement already satisfied: numpy in /usr/local/lib/python3.7/dist-packages (from keras-tuner) (1.19.5)\n",
      "Requirement already satisfied: requests in /usr/local/lib/python3.7/dist-packages (from keras-tuner) (2.23.0)\n",
      "Collecting kt-legacy\n",
      "  Downloading https://files.pythonhosted.org/packages/76/c7/7ebe02ef2495b84a47dc92a4e943260b264b6546783ca23e451bcd8c09c1/kt-legacy-1.0.3.tar.gz\n",
      "Requirement already satisfied: scipy in /usr/local/lib/python3.7/dist-packages (from keras-tuner) (1.4.1)\n",
      "Requirement already satisfied: werkzeug>=0.11.15 in /usr/local/lib/python3.7/dist-packages (from tensorboard->keras-tuner) (1.0.1)\n",
      "Requirement already satisfied: protobuf>=3.6.0 in /usr/local/lib/python3.7/dist-packages (from tensorboard->keras-tuner) (3.17.3)\n",
      "Requirement already satisfied: wheel>=0.26; python_version >= \"3\" in /usr/local/lib/python3.7/dist-packages (from tensorboard->keras-tuner) (0.36.2)\n",
      "Requirement already satisfied: google-auth-oauthlib<0.5,>=0.4.1 in /usr/local/lib/python3.7/dist-packages (from tensorboard->keras-tuner) (0.4.4)\n",
      "Requirement already satisfied: markdown>=2.6.8 in /usr/local/lib/python3.7/dist-packages (from tensorboard->keras-tuner) (3.3.4)\n",
      "Requirement already satisfied: grpcio>=1.24.3 in /usr/local/lib/python3.7/dist-packages (from tensorboard->keras-tuner) (1.34.1)\n",
      "Requirement already satisfied: absl-py>=0.4 in /usr/local/lib/python3.7/dist-packages (from tensorboard->keras-tuner) (0.12.0)\n",
      "Requirement already satisfied: setuptools>=41.0.0 in /usr/local/lib/python3.7/dist-packages (from tensorboard->keras-tuner) (57.0.0)\n",
      "Requirement already satisfied: tensorboard-data-server<0.7.0,>=0.6.0 in /usr/local/lib/python3.7/dist-packages (from tensorboard->keras-tuner) (0.6.1)\n",
      "Requirement already satisfied: google-auth<2,>=1.6.3 in /usr/local/lib/python3.7/dist-packages (from tensorboard->keras-tuner) (1.32.1)\n",
      "Requirement already satisfied: tensorboard-plugin-wit>=1.6.0 in /usr/local/lib/python3.7/dist-packages (from tensorboard->keras-tuner) (1.8.0)\n",
      "Requirement already satisfied: pyparsing>=2.0.2 in /usr/local/lib/python3.7/dist-packages (from packaging->keras-tuner) (2.4.7)\n",
      "Requirement already satisfied: pickleshare in /usr/local/lib/python3.7/dist-packages (from ipython->keras-tuner) (0.7.5)\n",
      "Requirement already satisfied: simplegeneric>0.8 in /usr/local/lib/python3.7/dist-packages (from ipython->keras-tuner) (0.8.1)\n",
      "Requirement already satisfied: pexpect; sys_platform != \"win32\" in /usr/local/lib/python3.7/dist-packages (from ipython->keras-tuner) (4.8.0)\n",
      "Requirement already satisfied: traitlets>=4.2 in /usr/local/lib/python3.7/dist-packages (from ipython->keras-tuner) (5.0.5)\n",
      "Requirement already satisfied: prompt-toolkit<2.0.0,>=1.0.4 in /usr/local/lib/python3.7/dist-packages (from ipython->keras-tuner) (1.0.18)\n",
      "Requirement already satisfied: decorator in /usr/local/lib/python3.7/dist-packages (from ipython->keras-tuner) (4.4.2)\n",
      "Requirement already satisfied: pygments in /usr/local/lib/python3.7/dist-packages (from ipython->keras-tuner) (2.6.1)\n",
      "Requirement already satisfied: certifi>=2017.4.17 in /usr/local/lib/python3.7/dist-packages (from requests->keras-tuner) (2021.5.30)\n",
      "Requirement already satisfied: idna<3,>=2.5 in /usr/local/lib/python3.7/dist-packages (from requests->keras-tuner) (2.10)\n",
      "Requirement already satisfied: chardet<4,>=3.0.2 in /usr/local/lib/python3.7/dist-packages (from requests->keras-tuner) (3.0.4)\n",
      "Requirement already satisfied: urllib3!=1.25.0,!=1.25.1,<1.26,>=1.21.1 in /usr/local/lib/python3.7/dist-packages (from requests->keras-tuner) (1.24.3)\n",
      "Requirement already satisfied: six>=1.9 in /usr/local/lib/python3.7/dist-packages (from protobuf>=3.6.0->tensorboard->keras-tuner) (1.15.0)\n",
      "Requirement already satisfied: requests-oauthlib>=0.7.0 in /usr/local/lib/python3.7/dist-packages (from google-auth-oauthlib<0.5,>=0.4.1->tensorboard->keras-tuner) (1.3.0)\n",
      "Requirement already satisfied: importlib-metadata; python_version < \"3.8\" in /usr/local/lib/python3.7/dist-packages (from markdown>=2.6.8->tensorboard->keras-tuner) (4.6.1)\n",
      "Requirement already satisfied: pyasn1-modules>=0.2.1 in /usr/local/lib/python3.7/dist-packages (from google-auth<2,>=1.6.3->tensorboard->keras-tuner) (0.2.8)\n",
      "Requirement already satisfied: rsa<5,>=3.1.4; python_version >= \"3.6\" in /usr/local/lib/python3.7/dist-packages (from google-auth<2,>=1.6.3->tensorboard->keras-tuner) (4.7.2)\n",
      "Requirement already satisfied: cachetools<5.0,>=2.0.0 in /usr/local/lib/python3.7/dist-packages (from google-auth<2,>=1.6.3->tensorboard->keras-tuner) (4.2.2)\n",
      "Requirement already satisfied: ptyprocess>=0.5 in /usr/local/lib/python3.7/dist-packages (from pexpect; sys_platform != \"win32\"->ipython->keras-tuner) (0.7.0)\n",
      "Requirement already satisfied: ipython-genutils in /usr/local/lib/python3.7/dist-packages (from traitlets>=4.2->ipython->keras-tuner) (0.2.0)\n",
      "Requirement already satisfied: wcwidth in /usr/local/lib/python3.7/dist-packages (from prompt-toolkit<2.0.0,>=1.0.4->ipython->keras-tuner) (0.2.5)\n",
      "Requirement already satisfied: oauthlib>=3.0.0 in /usr/local/lib/python3.7/dist-packages (from requests-oauthlib>=0.7.0->google-auth-oauthlib<0.5,>=0.4.1->tensorboard->keras-tuner) (3.1.1)\n",
      "Requirement already satisfied: zipp>=0.5 in /usr/local/lib/python3.7/dist-packages (from importlib-metadata; python_version < \"3.8\"->markdown>=2.6.8->tensorboard->keras-tuner) (3.5.0)\n",
      "Requirement already satisfied: typing-extensions>=3.6.4; python_version < \"3.8\" in /usr/local/lib/python3.7/dist-packages (from importlib-metadata; python_version < \"3.8\"->markdown>=2.6.8->tensorboard->keras-tuner) (3.7.4.3)\n",
      "Requirement already satisfied: pyasn1<0.5.0,>=0.4.6 in /usr/local/lib/python3.7/dist-packages (from pyasn1-modules>=0.2.1->google-auth<2,>=1.6.3->tensorboard->keras-tuner) (0.4.8)\n",
      "Building wheels for collected packages: kt-legacy\n",
      "  Building wheel for kt-legacy (setup.py) ... \u001b[?25l\u001b[?25hdone\n",
      "  Created wheel for kt-legacy: filename=kt_legacy-1.0.3-cp37-none-any.whl size=9569 sha256=9c833c304f556adabf09292fe2a5d62c7142df19f2b94ee22544ace4da6b3967\n",
      "  Stored in directory: /root/.cache/pip/wheels/95/99/a8/6b116b0f69be60cc475d1cd36680f3a09f284d86655bb99d93\n",
      "Successfully built kt-legacy\n",
      "Installing collected packages: kt-legacy, keras-tuner\n",
      "Successfully installed keras-tuner-1.0.3 kt-legacy-1.0.3\n"
     ]
    },
    {
     "name": "stderr",
     "output_type": "stream",
     "text": [
      "/usr/local/lib/python3.7/dist-packages/ipykernel_launcher.py:3: DeprecationWarning: `import kerastuner` is deprecated, please use `import keras_tuner`.\n",
      "  This is separate from the ipykernel package so we can avoid doing imports until\n"
     ]
    }
   ],
   "source": [
    "!pip install keras-tuner\n",
    "from keras.utils import np_utils\n",
    "from kerastuner.tuners import RandomSearch\n",
    "import kerastuner as kt"
   ]
  },
  {
   "cell_type": "markdown",
   "metadata": {
    "id": "0amhwjZ4M2m-"
   },
   "source": [
    "## **3.Create a function to plot the japanese character correctly**\n",
    "---"
   ]
  },
  {
   "cell_type": "code",
   "execution_count": 4,
   "metadata": {
    "colab": {
     "base_uri": "https://localhost:8080/"
    },
    "id": "OFxsBB1mNXl2",
    "outputId": "b7c90961-4ec4-402c-ccfc-cd8ab7568ec7"
   },
   "outputs": [
    {
     "name": "stdout",
     "output_type": "stream",
     "text": [
      "<function grayplt at 0x7f41eeda3170>\n"
     ]
    }
   ],
   "source": [
    "def grayplt(img,title=''):\n",
    "    plt.axis('off')\n",
    "    if np.size(img.shape) == 3:\n",
    "        plt.imshow(img[:,:,0],cmap='gray',vmin=0,vmax=1)\n",
    "    else:\n",
    "        plt.imshow(img,cmap='gray',vmin=0,vmax=1)\n",
    "    plt.title(title, fontproperties=prop)\n",
    "    plt.show()\n",
    "\n",
    "print(grayplt)"
   ]
  },
  {
   "cell_type": "markdown",
   "metadata": {
    "id": "X3N41iixORPz"
   },
   "source": [
    "## **4. Setup matplotlib**\n",
    "---"
   ]
  },
  {
   "cell_type": "code",
   "execution_count": 5,
   "metadata": {
    "colab": {
     "base_uri": "https://localhost:8080/"
    },
    "id": "OyO5OsUrOYNQ",
    "outputId": "212a5c45-454f-47c4-c722-29bb4e354af4"
   },
   "outputs": [
    {
     "name": "stdout",
     "output_type": "stream",
     "text": [
      "Matplotlib setup completes.\n"
     ]
    }
   ],
   "source": [
    "                                          # Setting up the font manager, so that\n",
    "                                          # it can show japanese characters correctly\n",
    "from matplotlib import font_manager as fm\n",
    "fpath       = os.path.join(os.getcwd(), \"ipam.ttf\")\n",
    "prop        = fm.FontProperties(fname=fpath)\n",
    "\n",
    "plt.style.use('seaborn') \n",
    "plt.rcParams['ytick.right']     = True\n",
    "plt.rcParams['ytick.labelright']= True\n",
    "plt.rcParams['ytick.left']      = False\n",
    "plt.rcParams['ytick.labelleft'] = False\n",
    "plt.rcParams['figure.figsize']  = [7,7]   # Set the figure size to be 7 inch for (width,height)\n",
    "\n",
    "print(\"Matplotlib setup completes.\")"
   ]
  },
  {
   "cell_type": "markdown",
   "metadata": {
    "id": "5w2jAiKZOmgP"
   },
   "source": [
    "## **5. Prepare data for training and testing**\n",
    "---\n",
    "* Step 1: Load the dataset \n",
    "* Step 2: Check the shape and type of the data, plot a sample for observation\n",
    "* Step 3: Convert the data into float32 and rescale the values from the range of 0\\~255 into 0\\~1\n",
    "* Step 4: Retrieve the row size and the column size of each image\n",
    "* Step 5: Reshape training and testing data to be in the form of `[samples,rows,columns,channel]`. This is required by Keras framework\n",
    "* Step 6: Perform one-hot enconding on the labels\n",
    "* Step 7: Retrieve the number of classes in this problem"
   ]
  },
  {
   "cell_type": "code",
   "execution_count": 6,
   "metadata": {
    "colab": {
     "base_uri": "https://localhost:8080/",
     "height": 512
    },
    "id": "v3Ad2V0pO1TX",
    "outputId": "fdd2501c-935a-4989-d7d8-5a8f5cf3f27a"
   },
   "outputs": [
    {
     "name": "stdout",
     "output_type": "stream",
     "text": [
      "The shape of trDat is (60000, 28, 28) and the type of trDat is uint8\n",
      "The shape of tsDat is (10000, 28, 28) and the type of tsDat is uint8\n",
      "\n",
      "The shape of trLbl is (60000,) and the type of trLbl is uint8\n",
      "The shape of tsLbl is (10000,) and the type of tsLbl is uint8\n",
      "\n"
     ]
    },
    {
     "data": {
      "image/png": "[encoded data removed]",
      "text/plain": [
       "<Figure size 504x504 with 1 Axes>"
      ]
     },
     "metadata": {
      "tags": []
     },
     "output_type": "display_data"
    }
   ],
   "source": [
    "                                                                                # Step 1\n",
    "trDat       = np.load('/content/gdrive/MyDrive/iss/psupr/data/kmnist-train-imgs.npz')['arr_0']\n",
    "trLbl       = np.load('/content/gdrive/MyDrive/iss/psupr/data/kmnist-train-labels.npz')['arr_0']\n",
    "tsDat       = np.load('/content/gdrive/MyDrive/iss/psupr/data/kmnist-test-imgs.npz')['arr_0']\n",
    "tsLbl       = np.load('/content/gdrive/MyDrive/iss/psupr/data/kmnist-test-labels.npz')['arr_0']\n",
    "\n",
    "                                                                                # Step 2\n",
    "print(\"The shape of trDat is\", trDat.shape, \"and the type of trDat is\", trDat.dtype)\n",
    "print(\"The shape of tsDat is\", tsDat.shape, \"and the type of tsDat is\", tsDat.dtype)\n",
    "print(\"\")\n",
    "print(\"The shape of trLbl is\", trLbl.shape, \"and the type of trLbl is\", trLbl.dtype)\n",
    "print(\"The shape of tsLbl is\", tsLbl.shape, \"and the type of tsLbl is\", tsLbl.dtype)\n",
    "print(\"\")\n",
    "grayplt(trDat[132])\n",
    "\n",
    "                                                                                # Step 3\n",
    "trDat           = trDat.astype('float32')/255\n",
    "tsDat           = tsDat.astype('float32')/255\n",
    "\n",
    "                                                                                # Step 4\n",
    "imgrows         = trDat.shape[1]\n",
    "imgclms         = trDat.shape[2]\n",
    "\n",
    "                                                                                # Step 5\n",
    "trDat       = trDat.reshape(trDat.shape[0],\n",
    "                            imgrows,\n",
    "                            imgclms,\n",
    "                            1)\n",
    "tsDat       = tsDat.reshape(tsDat.shape[0],\n",
    "                            imgrows,\n",
    "                            imgclms,\n",
    "                            1)\n",
    "\n",
    "                                                                                # Step 6\n",
    "trLbl           = to_categorical(trLbl)\n",
    "tsLbl           = to_categorical(tsLbl)\n",
    "                               \n",
    "num_classes     = tsLbl.shape[1]                                                # Step 7"
   ]
  },
  {
   "cell_type": "markdown",
   "metadata": {
    "id": "DoP3WcoJW-jZ"
   },
   "source": [
    "## **6. Define deep learning model (to be completed)**\n",
    "___\n",
    "* Step 1: Set a name for the coming model (required for saving)\n",
    "* Step 2: Define the convolutional neural network model (to be completed)\n",
    "* Step 3: Create models for training and testing\n",
    "* Step 4: Display the summary of the model of interest \n",
    "\n",
    "**You may trial and error various structures (for input or number of channels or kernels sizes or pooling sizes) and see what happens to the performance**"
   ]
  },
  {
   "cell_type": "code",
   "execution_count": 7,
   "metadata": {
    "id": "AiU59DvIsdKA"
   },
   "outputs": [],
   "source": [
    "def create_model(hyperparam):\n",
    "\n",
    "  model = Sequential()\n",
    "\n",
    "  model.add(Conv2D(filters = hyperparam.Int('convolution_1',min_value=20, max_value=60, step=10), \n",
    "                          kernel_size = hyperparam.Choice('convolution_1', values = [3,5]),\n",
    "                          activation='relu',\n",
    "                          padding='same',\n",
    "                          input_shape=(28,28,1) ))\n",
    "            \n",
    "  model.add(MaxPooling2D(pool_size=(2, 2)))\n",
    "\n",
    "  model.add(Dropout(rate = hyperparam.Float('dropout_1',min_value=0.2, max_value=0.8, step=0.3)))\n",
    "\n",
    "  model.add(Conv2D(filters = hyperparam.Int('convolution_2',min_value=20, max_value=60, step=10), \n",
    "                          kernel_size = hyperparam.Choice('convolution_2', values = [3,5]),\n",
    "                          activation='relu',\n",
    "                   padding='same'))\n",
    "\n",
    "  model.add(MaxPooling2D(pool_size=(2, 2)))\n",
    "\n",
    "  model.add(Dropout(rate = hyperparam.Float('dropout_2',min_value=0.2, max_value=0.8, step=0.3)))\n",
    "\n",
    "  model.add(Flatten())\n",
    "\n",
    "  for i in range(hyperparam.Int('num_layers', 1, 3)):\n",
    "    model.add(Dense(units = hyperparam.Int('units_' + str(i),min_value=32,max_value=256,step=32),\n",
    "                    activation = 'relu'))\n",
    "\n",
    "  model.add(Dense(num_classes, activation='softmax'))\n",
    "\n",
    "  model.compile(optimizer = \"adam\",\n",
    "                loss = 'categorical_crossentropy',\n",
    "                metrics = ['accuracy'])\n",
    "  \n",
    "  return model"
   ]
  },
  {
   "cell_type": "code",
   "execution_count": 10,
   "metadata": {
    "colab": {
     "base_uri": "https://localhost:8080/"
    },
    "id": "SQtP3hgNy3MY",
    "outputId": "ed351cef-0056-401a-c261-d65c0f31bfbf"
   },
   "outputs": [
    {
     "name": "stdout",
     "output_type": "stream",
     "text": [
      "Trial 3 Complete [00h 18m 59s]\n",
      "val_accuracy: 0.9391999840736389\n",
      "\n",
      "Best val_accuracy So Far: 0.9462000131607056\n",
      "Total elapsed time: 00h 48m 21s\n",
      "INFO:tensorflow:Oracle triggered exit\n"
     ]
    }
   ],
   "source": [
    "tuner_search=RandomSearch(create_model,\n",
    "                       objective='val_accuracy',\n",
    "                      max_trials=3,\n",
    "                      directory='output',\n",
    "                       project_name=\"mnist\")\n",
    "\n",
    "stop_early = tf.keras.callbacks.EarlyStopping(monitor='val_loss', patience=5)\n",
    "\n",
    "tuner_search.search(trDat, trLbl, epochs = 20, validation_data=(tsDat, tsLbl), callbacks=[stop_early])"
   ]
  },
  {
   "cell_type": "code",
   "execution_count": 12,
   "metadata": {
    "colab": {
     "base_uri": "https://localhost:8080/"
    },
    "id": "xg1GQYHxq28V",
    "outputId": "870c47c7-fa9b-4af0-d3bd-15d3a59cd6a5"
   },
   "outputs": [
    {
     "name": "stdout",
     "output_type": "stream",
     "text": [
      "Search space summary\n",
      "Default search space size: 8\n",
      "convolution_1 (Int)\n",
      "{'default': None, 'conditions': [], 'min_value': 20, 'max_value': 60, 'step': 10, 'sampling': None}\n",
      "dropout_1 (Float)\n",
      "{'default': 0.2, 'conditions': [], 'min_value': 0.2, 'max_value': 0.8, 'step': 0.3, 'sampling': None}\n",
      "convolution_2 (Int)\n",
      "{'default': None, 'conditions': [], 'min_value': 20, 'max_value': 60, 'step': 10, 'sampling': None}\n",
      "dropout_2 (Float)\n",
      "{'default': 0.2, 'conditions': [], 'min_value': 0.2, 'max_value': 0.8, 'step': 0.3, 'sampling': None}\n",
      "num_layers (Int)\n",
      "{'default': None, 'conditions': [], 'min_value': 1, 'max_value': 3, 'step': 1, 'sampling': None}\n",
      "units_0 (Int)\n",
      "{'default': None, 'conditions': [], 'min_value': 32, 'max_value': 256, 'step': 32, 'sampling': None}\n",
      "units_1 (Int)\n",
      "{'default': None, 'conditions': [], 'min_value': 32, 'max_value': 256, 'step': 32, 'sampling': None}\n",
      "units_2 (Int)\n",
      "{'default': None, 'conditions': [], 'min_value': 32, 'max_value': 256, 'step': 32, 'sampling': None}\n"
     ]
    }
   ],
   "source": [
    "tuner_search.search_space_summary()"
   ]
  },
  {
   "cell_type": "code",
   "execution_count": 35,
   "metadata": {
    "colab": {
     "base_uri": "https://localhost:8080/"
    },
    "id": "9tdWeXprzFB3",
    "outputId": "68fcdd71-1a76-41b8-9b2b-d235dbdb9e79"
   },
   "outputs": [
    {
     "name": "stdout",
     "output_type": "stream",
     "text": [
      "Model: \"sequential\"\n",
      "_________________________________________________________________\n",
      "Layer (type)                 Output Shape              Param #   \n",
      "=================================================================\n",
      "conv2d (Conv2D)              (None, 28, 28, 30)        27030     \n",
      "_________________________________________________________________\n",
      "max_pooling2d (MaxPooling2D) (None, 14, 14, 30)        0         \n",
      "_________________________________________________________________\n",
      "dropout (Dropout)            (None, 14, 14, 30)        0         \n",
      "_________________________________________________________________\n",
      "conv2d_1 (Conv2D)            (None, 14, 14, 40)        1920040   \n",
      "_________________________________________________________________\n",
      "max_pooling2d_1 (MaxPooling2 (None, 7, 7, 40)          0         \n",
      "_________________________________________________________________\n",
      "dropout_1 (Dropout)          (None, 7, 7, 40)          0         \n",
      "_________________________________________________________________\n",
      "flatten (Flatten)            (None, 1960)              0         \n",
      "_________________________________________________________________\n",
      "dense (Dense)                (None, 192)               376512    \n",
      "_________________________________________________________________\n",
      "dense_1 (Dense)              (None, 64)                12352     \n",
      "_________________________________________________________________\n",
      "dense_2 (Dense)              (None, 10)                650       \n",
      "=================================================================\n",
      "Total params: 2,336,584\n",
      "Trainable params: 2,336,584\n",
      "Non-trainable params: 0\n",
      "_________________________________________________________________\n"
     ]
    }
   ],
   "source": [
    "modelname   = 'wks5_5' \n",
    "\n",
    "model = tuner_search.get_best_models(num_models=1)[0] # This is meant for training\n",
    "modelGo = tuner_search.get_best_models(num_models=1)[0] # This is used for final testing\n",
    "\n",
    "model.summary()"
   ]
  },
  {
   "cell_type": "markdown",
   "metadata": {
    "id": "DlquJEaFZxV9"
   },
   "source": [
    "## **7. Create the callbacks to be applied during training**\n",
    "---\n",
    "* Step 1: Create a callback to save the model from an epoch when validation accuracy is the highest\n",
    "* Step 2: Create a callback to save the training loss, training accuracy, validation loss and validation accuracy of each epoch into a csv file\n",
    "* Step 3: Put the two callbacks objects into a list"
   ]
  },
  {
   "cell_type": "code",
   "execution_count": 36,
   "metadata": {
    "colab": {
     "base_uri": "https://localhost:8080/"
    },
    "id": "9-a1LSCbahKy",
    "outputId": "21b5cc7d-9fa4-400c-97c6-7bbffe350f68"
   },
   "outputs": [
    {
     "name": "stdout",
     "output_type": "stream",
     "text": [
      "Callbacks created:\n",
      "<tensorflow.python.keras.callbacks.ModelCheckpoint object at 0x7f419036e790>\n",
      "<tensorflow.python.keras.callbacks.CSVLogger object at 0x7f419036eb50>\n",
      "\n",
      "Path to model: /content/gdrive/MyDrive/iss/psupr/colabwks5_5.hdf5\n",
      "Path to log:   /content/gdrive/MyDrive/iss/psupr/colabwks5_5.csv\n"
     ]
    }
   ],
   "source": [
    "                                                                                # Step 1\n",
    "folderpath      = '/content/gdrive/MyDrive/iss/psupr/colab'\n",
    "filepath        = folderpath + modelname + \".hdf5\"\n",
    "checkpoint      = ModelCheckpoint(filepath, \n",
    "                                  monitor='val_accuracy', \n",
    "                                  verbose=0, \n",
    "                                  save_best_only=True, \n",
    "                                  mode='max')\n",
    "\n",
    "csv_logger      = CSVLogger(folderpath+modelname +'.csv')                       # Step 2\n",
    "callbacks_list  = [checkpoint,csv_logger,stop_early]                                       # Step 3\n",
    "\n",
    "print(\"Callbacks created:\")\n",
    "print(callbacks_list[0])\n",
    "print(callbacks_list[1])\n",
    "print('')\n",
    "print(\"Path to model:\", filepath)\n",
    "print(\"Path to log:  \", folderpath+modelname+'.csv')"
   ]
  },
  {
   "cell_type": "markdown",
   "metadata": {
    "id": "1mKgjQsmfOBz"
   },
   "source": [
    "## **8. Train the deep learning model**\n",
    "___"
   ]
  },
  {
   "cell_type": "code",
   "execution_count": 37,
   "metadata": {
    "colab": {
     "base_uri": "https://localhost:8080/"
    },
    "id": "23lUNwpGfV0A",
    "outputId": "b2cf5292-6ac8-4afd-abbc-cab1d9c9a6ff"
   },
   "outputs": [
    {
     "name": "stdout",
     "output_type": "stream",
     "text": [
      "Epoch 1/60\n",
      "469/469 [==============================] - 30s 63ms/step - loss: 0.0971 - accuracy: 0.9723 - val_loss: 0.1846 - val_accuracy: 0.9513\n",
      "Epoch 2/60\n",
      "469/469 [==============================] - 30s 63ms/step - loss: 0.0843 - accuracy: 0.9754 - val_loss: 0.1803 - val_accuracy: 0.9515\n",
      "Epoch 3/60\n",
      "469/469 [==============================] - 30s 63ms/step - loss: 0.0834 - accuracy: 0.9750 - val_loss: 0.1833 - val_accuracy: 0.9517\n",
      "Epoch 4/60\n",
      "469/469 [==============================] - 30s 64ms/step - loss: 0.0796 - accuracy: 0.9761 - val_loss: 0.1800 - val_accuracy: 0.9506\n",
      "Epoch 5/60\n",
      "469/469 [==============================] - 30s 64ms/step - loss: 0.0791 - accuracy: 0.9766 - val_loss: 0.1843 - val_accuracy: 0.9504\n",
      "Epoch 6/60\n",
      "469/469 [==============================] - 30s 63ms/step - loss: 0.0800 - accuracy: 0.9773 - val_loss: 0.1770 - val_accuracy: 0.9519\n",
      "Epoch 7/60\n",
      "469/469 [==============================] - 30s 63ms/step - loss: 0.0765 - accuracy: 0.9775 - val_loss: 0.1759 - val_accuracy: 0.9530\n",
      "Epoch 8/60\n",
      "469/469 [==============================] - 30s 64ms/step - loss: 0.0749 - accuracy: 0.9776 - val_loss: 0.1670 - val_accuracy: 0.9563\n",
      "Epoch 9/60\n",
      "469/469 [==============================] - 30s 63ms/step - loss: 0.0734 - accuracy: 0.9780 - val_loss: 0.1621 - val_accuracy: 0.9592\n",
      "Epoch 10/60\n",
      "469/469 [==============================] - 30s 63ms/step - loss: 0.0732 - accuracy: 0.9793 - val_loss: 0.1672 - val_accuracy: 0.9560\n",
      "Epoch 11/60\n",
      "469/469 [==============================] - 30s 64ms/step - loss: 0.0706 - accuracy: 0.9791 - val_loss: 0.1689 - val_accuracy: 0.9552\n",
      "Epoch 12/60\n",
      "469/469 [==============================] - 30s 63ms/step - loss: 0.0682 - accuracy: 0.9797 - val_loss: 0.1800 - val_accuracy: 0.9526\n",
      "Epoch 13/60\n",
      "469/469 [==============================] - 30s 64ms/step - loss: 0.0682 - accuracy: 0.9799 - val_loss: 0.1704 - val_accuracy: 0.9573\n",
      "Epoch 14/60\n",
      "469/469 [==============================] - 30s 64ms/step - loss: 0.0671 - accuracy: 0.9800 - val_loss: 0.1666 - val_accuracy: 0.9574\n"
     ]
    }
   ],
   "source": [
    "history = model.fit(trDat,                            # Training data\n",
    "          trLbl,                            # Training label\n",
    "          validation_data=(tsDat, tsLbl),   # Validation data and label\n",
    "          epochs=60,                       # The amount of epochs to be trained\n",
    "          batch_size=128,                   \n",
    "          shuffle=True,                     # To shuffle the training data\n",
    "          callbacks=callbacks_list)         # Callbacks to execute the checkpoints"
   ]
  },
  {
   "cell_type": "markdown",
   "metadata": {
    "id": "TevfJTd-s0nk"
   },
   "source": [
    "## **9. Validate the deep learning model**\n",
    "---\n",
    "* Step 1: Load the trained weights and compile the model\n",
    "* Step 2: Make prediction\n"
   ]
  },
  {
   "cell_type": "code",
   "execution_count": 41,
   "metadata": {
    "colab": {
     "base_uri": "https://localhost:8080/"
    },
    "id": "2sVtWmcVtiV5",
    "outputId": "a3823e53-9871-4065-d701-03f097c597b9"
   },
   "outputs": [
    {
     "name": "stdout",
     "output_type": "stream",
     "text": [
      "WARNING:tensorflow:Unresolved object in checkpoint: (root).optimizer.iter\n",
      "WARNING:tensorflow:Unresolved object in checkpoint: (root).optimizer.beta_1\n",
      "WARNING:tensorflow:Unresolved object in checkpoint: (root).optimizer.beta_2\n",
      "WARNING:tensorflow:Unresolved object in checkpoint: (root).optimizer.decay\n",
      "WARNING:tensorflow:Unresolved object in checkpoint: (root).optimizer.learning_rate\n",
      "WARNING:tensorflow:A checkpoint was restored (e.g. tf.train.Checkpoint.restore or tf.keras.Model.load_weights) but not all checkpointed values were used. See above for specific issues. Use expect_partial() on the load status object, e.g. tf.train.Checkpoint.restore(...).expect_partial(), to silence these warnings, or use assert_consumed() to make the check explicit. See https://www.tensorflow.org/guide/checkpoint#loading_mechanics for details.\n",
      "Prediction completes.\n"
     ]
    }
   ],
   "source": [
    "                                                                                # Step 1\n",
    "modelGo.load_weights(filepath)\n",
    "modelGo.compile(loss='categorical_crossentropy', \n",
    "                optimizer='adam', \n",
    "                metrics=['accuracy'])\n",
    "\n",
    "predicts    = modelGo.predict(tsDat)                                            # Step 2\n",
    "print(\"Prediction completes.\")"
   ]
  },
  {
   "cell_type": "markdown",
   "metadata": {
    "id": "0aOCUljp5qq4"
   },
   "source": [
    "## **10. Report classification metrics**\n",
    "---\n",
    "* Step 1: Setup the label\n",
    "* Step 2: Convert label from one-hot to integer\n",
    "* Step 3: Calculate the accuracy score\n",
    "* Step 4: Generate classification report"
   ]
  },
  {
   "cell_type": "code",
   "execution_count": 42,
   "metadata": {
    "colab": {
     "base_uri": "https://localhost:8080/"
    },
    "id": "2tI4hBmk5uRh",
    "outputId": "64018ba9-7878-465c-aae6-ee4311d58230"
   },
   "outputs": [
    {
     "name": "stdout",
     "output_type": "stream",
     "text": [
      "Best accuracy (on testing dataset): 95.92%\n",
      "              precision    recall  f1-score   support\n",
      "\n",
      "         お O     0.9535    0.9640    0.9587      1000\n",
      "        き Ki     0.9623    0.9450    0.9536      1000\n",
      "        す Su     0.9553    0.9180    0.9363      1000\n",
      "       つ Tsu     0.9451    0.9810    0.9627      1000\n",
      "        な Na     0.9568    0.9530    0.9549      1000\n",
      "        は Ha     0.9845    0.9550    0.9695      1000\n",
      "        ま Ma     0.9574    0.9670    0.9622      1000\n",
      "        や Ya     0.9642    0.9690    0.9666      1000\n",
      "        れ Re     0.9502    0.9730    0.9615      1000\n",
      "        を Wo     0.9641    0.9670    0.9656      1000\n",
      "\n",
      "    accuracy                         0.9592     10000\n",
      "   macro avg     0.9593    0.9592    0.9592     10000\n",
      "weighted avg     0.9593    0.9592    0.9592     10000\n",
      "\n"
     ]
    }
   ],
   "source": [
    "                                                                                # Step 1\n",
    "labelname   = ['お O','き Ki','す Su','つ Tsu','な Na','は Ha','ま Ma','や Ya','れ Re','を Wo']\n",
    "                                                                                # Step 2\n",
    "predout     = np.argmax(predicts,axis=1)\n",
    "testout     = np.argmax(tsLbl,axis=1)\n",
    "\n",
    "testScores  = metrics.accuracy_score(testout,predout)                           # Step 3\n",
    "\n",
    "                                                                                # Step 4\n",
    "print(\"Best accuracy (on testing dataset): %.2f%%\" % (testScores*100))\n",
    "print(metrics.classification_report(testout,\n",
    "                                    predout,\n",
    "                                    target_names=labelname,\n",
    "                                    digits=4))"
   ]
  },
  {
   "cell_type": "markdown",
   "metadata": {
    "id": "gEK_4UXN6IVa"
   },
   "source": [
    "## **11. Print confusion matrix**\n",
    "---"
   ]
  },
  {
   "cell_type": "code",
   "execution_count": 44,
   "metadata": {
    "colab": {
     "base_uri": "https://localhost:8080/"
    },
    "id": "UCBJCYp26L1t",
    "outputId": "ffdddbcf-c7b0-449d-c1fa-260127964d61"
   },
   "outputs": [
    {
     "name": "stdout",
     "output_type": "stream",
     "text": [
      "[[964   3   1   0  14   1   0  10   7   0]\n",
      " [  1 945   6   0   7   0  22   3   6  10]\n",
      " [  8   2 918  34   7   5   6   5   9   6]\n",
      " [  5   0   5 981   0   3   1   2   2   1]\n",
      " [ 12   6   1   4 953   2   1   7  11   3]\n",
      " [  3   9  12   5   2 955   5   2   2   5]\n",
      " [  2   5  11   1   5   2 967   4   1   2]\n",
      " [  7   1   1   0   2   1   5 969   5   9]\n",
      " [  1   8   1  10   4   1   1   1 973   0]\n",
      " [  8   3   5   3   2   0   2   2   8 967]]\n"
     ]
    }
   ],
   "source": [
    "confusion   = metrics.confusion_matrix(testout,predout)\n",
    "print(confusion)"
   ]
  },
  {
   "cell_type": "markdown",
   "metadata": {
    "id": "2QMIDPD46UGT"
   },
   "source": [
    "## **12. Plot curves on validation loss and accuracy**\n",
    "---"
   ]
  },
  {
   "cell_type": "code",
   "execution_count": 45,
   "metadata": {
    "colab": {
     "base_uri": "https://localhost:8080/",
     "height": 480
    },
    "id": "cpriXvjK4KJt",
    "outputId": "28f79af0-5ddb-42c3-b2a4-476487628406"
   },
   "outputs": [
    {
     "data": {
      "text/html": [
       "<div>\n",
       "<style scoped>\n",
       "    .dataframe tbody tr th:only-of-type {\n",
       "        vertical-align: middle;\n",
       "    }\n",
       "\n",
       "    .dataframe tbody tr th {\n",
       "        vertical-align: top;\n",
       "    }\n",
       "\n",
       "    .dataframe thead th {\n",
       "        text-align: right;\n",
       "    }\n",
       "</style>\n",
       "<table border=\"1\" class=\"dataframe\">\n",
       "  <thead>\n",
       "    <tr style=\"text-align: right;\">\n",
       "      <th></th>\n",
       "      <th>epoch</th>\n",
       "      <th>accuracy</th>\n",
       "      <th>loss</th>\n",
       "      <th>val_accuracy</th>\n",
       "      <th>val_loss</th>\n",
       "    </tr>\n",
       "  </thead>\n",
       "  <tbody>\n",
       "    <tr>\n",
       "      <th>0</th>\n",
       "      <td>0</td>\n",
       "      <td>0.972267</td>\n",
       "      <td>0.097140</td>\n",
       "      <td>0.9513</td>\n",
       "      <td>0.184618</td>\n",
       "    </tr>\n",
       "    <tr>\n",
       "      <th>1</th>\n",
       "      <td>1</td>\n",
       "      <td>0.975450</td>\n",
       "      <td>0.084255</td>\n",
       "      <td>0.9515</td>\n",
       "      <td>0.180290</td>\n",
       "    </tr>\n",
       "    <tr>\n",
       "      <th>2</th>\n",
       "      <td>2</td>\n",
       "      <td>0.975050</td>\n",
       "      <td>0.083412</td>\n",
       "      <td>0.9517</td>\n",
       "      <td>0.183269</td>\n",
       "    </tr>\n",
       "    <tr>\n",
       "      <th>3</th>\n",
       "      <td>3</td>\n",
       "      <td>0.976067</td>\n",
       "      <td>0.079623</td>\n",
       "      <td>0.9506</td>\n",
       "      <td>0.179971</td>\n",
       "    </tr>\n",
       "    <tr>\n",
       "      <th>4</th>\n",
       "      <td>4</td>\n",
       "      <td>0.976583</td>\n",
       "      <td>0.079147</td>\n",
       "      <td>0.9504</td>\n",
       "      <td>0.184258</td>\n",
       "    </tr>\n",
       "    <tr>\n",
       "      <th>5</th>\n",
       "      <td>5</td>\n",
       "      <td>0.977267</td>\n",
       "      <td>0.079988</td>\n",
       "      <td>0.9519</td>\n",
       "      <td>0.177049</td>\n",
       "    </tr>\n",
       "    <tr>\n",
       "      <th>6</th>\n",
       "      <td>6</td>\n",
       "      <td>0.977517</td>\n",
       "      <td>0.076485</td>\n",
       "      <td>0.9530</td>\n",
       "      <td>0.175927</td>\n",
       "    </tr>\n",
       "    <tr>\n",
       "      <th>7</th>\n",
       "      <td>7</td>\n",
       "      <td>0.977550</td>\n",
       "      <td>0.074911</td>\n",
       "      <td>0.9563</td>\n",
       "      <td>0.167018</td>\n",
       "    </tr>\n",
       "    <tr>\n",
       "      <th>8</th>\n",
       "      <td>8</td>\n",
       "      <td>0.978033</td>\n",
       "      <td>0.073428</td>\n",
       "      <td>0.9592</td>\n",
       "      <td>0.162073</td>\n",
       "    </tr>\n",
       "    <tr>\n",
       "      <th>9</th>\n",
       "      <td>9</td>\n",
       "      <td>0.979283</td>\n",
       "      <td>0.073218</td>\n",
       "      <td>0.9560</td>\n",
       "      <td>0.167158</td>\n",
       "    </tr>\n",
       "    <tr>\n",
       "      <th>10</th>\n",
       "      <td>10</td>\n",
       "      <td>0.979133</td>\n",
       "      <td>0.070589</td>\n",
       "      <td>0.9552</td>\n",
       "      <td>0.168878</td>\n",
       "    </tr>\n",
       "    <tr>\n",
       "      <th>11</th>\n",
       "      <td>11</td>\n",
       "      <td>0.979733</td>\n",
       "      <td>0.068170</td>\n",
       "      <td>0.9526</td>\n",
       "      <td>0.180039</td>\n",
       "    </tr>\n",
       "    <tr>\n",
       "      <th>12</th>\n",
       "      <td>12</td>\n",
       "      <td>0.979917</td>\n",
       "      <td>0.068225</td>\n",
       "      <td>0.9573</td>\n",
       "      <td>0.170442</td>\n",
       "    </tr>\n",
       "    <tr>\n",
       "      <th>13</th>\n",
       "      <td>13</td>\n",
       "      <td>0.979967</td>\n",
       "      <td>0.067103</td>\n",
       "      <td>0.9574</td>\n",
       "      <td>0.166600</td>\n",
       "    </tr>\n",
       "  </tbody>\n",
       "</table>\n",
       "</div>"
      ],
      "text/plain": [
       "    epoch  accuracy      loss  val_accuracy  val_loss\n",
       "0       0  0.972267  0.097140        0.9513  0.184618\n",
       "1       1  0.975450  0.084255        0.9515  0.180290\n",
       "2       2  0.975050  0.083412        0.9517  0.183269\n",
       "3       3  0.976067  0.079623        0.9506  0.179971\n",
       "4       4  0.976583  0.079147        0.9504  0.184258\n",
       "5       5  0.977267  0.079988        0.9519  0.177049\n",
       "6       6  0.977517  0.076485        0.9530  0.175927\n",
       "7       7  0.977550  0.074911        0.9563  0.167018\n",
       "8       8  0.978033  0.073428        0.9592  0.162073\n",
       "9       9  0.979283  0.073218        0.9560  0.167158\n",
       "10     10  0.979133  0.070589        0.9552  0.168878\n",
       "11     11  0.979733  0.068170        0.9526  0.180039\n",
       "12     12  0.979917  0.068225        0.9573  0.170442\n",
       "13     13  0.979967  0.067103        0.9574  0.166600"
      ]
     },
     "execution_count": 45,
     "metadata": {
      "tags": []
     },
     "output_type": "execute_result"
    }
   ],
   "source": [
    "records     = pd.read_csv(folderpath+modelname +'.csv')\n",
    "records"
   ]
  },
  {
   "cell_type": "code",
   "execution_count": 46,
   "metadata": {
    "colab": {
     "base_uri": "https://localhost:8080/",
     "height": 324
    },
    "id": "AfHYwANf4UkL",
    "outputId": "8d2509b2-aa15-48fb-bfde-f83c6c242b25"
   },
   "outputs": [
    {
     "data": {
      "image/png": "[encoded data removed]",
      "text/plain": [
       "<Figure size 576x360 with 1 Axes>"
      ]
     },
     "metadata": {
      "tags": []
     },
     "output_type": "display_data"
    }
   ],
   "source": [
    "pd.DataFrame(records.iloc[:,1:]).plot(figsize=(8, 5))\n",
    "plt.grid(True)\n",
    "plt.gca().set_ylim(0, 1)\n",
    "plt.show()"
   ]
  },
  {
   "cell_type": "markdown",
   "metadata": {
    "id": "PWoTz-bLug3X"
   },
   "source": [
    "## **13. Save the model plot**\n",
    "---"
   ]
  },
  {
   "cell_type": "code",
   "execution_count": 47,
   "metadata": {
    "colab": {
     "base_uri": "https://localhost:8080/"
    },
    "id": "Tz1YfuV1ujcE",
    "outputId": "f82f2636-65b4-4527-e219-3da1a7a67413"
   },
   "outputs": [
    {
     "name": "stdout",
     "output_type": "stream",
     "text": [
      "Path to plot: /content/gdrive/MyDrive/iss/psupr/colabwks5_5_plot.png\n"
     ]
    }
   ],
   "source": [
    "plotpath  = folderpath+modelname+'_plot.png'\n",
    "plot_model(model, \n",
    "           to_file=plotpath, \n",
    "           show_shapes=True, \n",
    "           show_layer_names=False,\n",
    "           rankdir='TB')\n",
    "\n",
    "print(\"Path to plot:\", plotpath)"
   ]
  }
 ],
 "metadata": {
  "accelerator": "GPU",
  "colab": {
   "collapsed_sections": [],
   "name": "psupr_wks5_5_AparGarg.ipynb",
   "provenance": []
  },
  "kernelspec": {
   "display_name": "Python 3",
   "language": "python",
   "name": "python3"
  },
  "language_info": {
   "codemirror_mode": {
    "name": "ipython",
    "version": 3
   },
   "file_extension": ".py",
   "mimetype": "text/x-python",
   "name": "python",
   "nbconvert_exporter": "python",
   "pygments_lexer": "ipython3",
   "version": "3.8.8"
  }
 },
 "nbformat": 4,
 "nbformat_minor": 1
}
