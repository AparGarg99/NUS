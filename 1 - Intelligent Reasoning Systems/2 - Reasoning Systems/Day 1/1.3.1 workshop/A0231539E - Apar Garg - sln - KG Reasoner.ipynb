{
 "cells": [
  {
   "cell_type": "markdown",
   "metadata": {},
   "source": [
    "# [Workshop] Knowledge Graph (KG) Reasoner"
   ]
  },
  {
   "cell_type": "code",
   "execution_count": 1,
   "metadata": {},
   "outputs": [],
   "source": [
    "# setup neo4j \n",
    "# https://www.digitalocean.com/community/tutorials/how-to-install-and-configure-neo4j-on-ubuntu-20-04#:~:text=Run%20the%20following%20command%20to,%7C%20sudo%20apt%2Dkey%20add%20%2D&text=Next%2C%20add%20the%20Neo4j%204.1,.neo4j.com%20stable%204.1%22"
   ]
  },
  {
   "cell_type": "code",
   "execution_count": 2,
   "metadata": {},
   "outputs": [],
   "source": [
    "# Follow ReadMe.txt"
   ]
  },
  {
   "cell_type": "code",
   "execution_count": 3,
   "metadata": {},
   "outputs": [],
   "source": [
    "# !pip install neo4j # Graph Database\n",
    "# !pip install opennre # Open-source toolkit for relation extraction"
   ]
  },
  {
   "cell_type": "code",
   "execution_count": 4,
   "metadata": {},
   "outputs": [],
   "source": [
    "# !pip install spacy==2.3.5\n",
    "# !python -m spacy download en\n",
    "# !python -m spacy download en_core_web_lg"
   ]
  },
  {
   "cell_type": "markdown",
   "metadata": {},
   "source": [
    "# 1. Import Library"
   ]
  },
  {
   "cell_type": "code",
   "execution_count": 1,
   "metadata": {},
   "outputs": [],
   "source": [
    "from neo4j import GraphDatabase\n",
    "from neo4j.exceptions import ServiceUnavailable\n",
    "import logging\n",
    "import spacy\n",
    "import opennre\n",
    "import warnings\n",
    "warnings.filterwarnings(\"ignore\")"
   ]
  },
  {
   "cell_type": "markdown",
   "metadata": {},
   "source": [
    "# 2. Initialize working environment"
   ]
  },
  {
   "cell_type": "markdown",
   "metadata": {},
   "source": [
    "### Connect Neo4j"
   ]
  },
  {
   "cell_type": "code",
   "execution_count": 2,
   "metadata": {},
   "outputs": [],
   "source": [
    "# Initialize the graph DB and delete all the nodes and relationships\n",
    "graph = GraphDatabase.driver(\n",
    "    \"neo4j://localhost:7687\",\n",
    "#     auth=(\"neo4j\", \"7895123k\")\n",
    "    auth=(\"neo4j\", \"ai-user\")\n",
    ")"
   ]
  },
  {
   "cell_type": "code",
   "execution_count": 3,
   "metadata": {},
   "outputs": [],
   "source": [
    "query = (\n",
    "        \"MATCH (all_nodes)\"\n",
    "        \"OPTIONAL MATCH (all_nodes)-[all_rels]->()\"\n",
    "        \"DELETE all_nodes, all_rels\"\n",
    "    )\n",
    "with graph.session() as session:\n",
    "    result = session.run(query)"
   ]
  },
  {
   "cell_type": "markdown",
   "metadata": {},
   "source": [
    "### Load OpenNRE"
   ]
  },
  {
   "cell_type": "code",
   "execution_count": 4,
   "metadata": {},
   "outputs": [
    {
     "name": "stderr",
     "output_type": "stream",
     "text": [
      "2021-07-25 17:59:10,011 - root - INFO - Loading BERT pre-trained checkpoint.\n"
     ]
    }
   ],
   "source": [
    "# https://github.com/thunlp/OpenNRE\n",
    "\n",
    "# https://github.com/thunlp/OpenNRE/issues/312\n",
    "# !pip install transformers==3.4.0\n",
    "\n",
    "# For Linux - If face any OSError, delete hidden folder .opennre in home\n",
    "import transformers\n",
    "\n",
    "# model = opennre.get_model('wiki80_cnn_softmax')\n",
    "# model = opennre.get_model('wiki80_bertentity_softmax')\n",
    "# model = opennre.get_model('tacred_bert_softmax')\n",
    "# model = opennre.get_model('tacred_bertentity_softmax')\n",
    "\n",
    "model = opennre.get_model('wiki80_bert_softmax')"
   ]
  },
  {
   "cell_type": "markdown",
   "metadata": {},
   "source": [
    "# 3. Create Knowledge Graph"
   ]
  },
  {
   "cell_type": "markdown",
   "metadata": {},
   "source": [
    "## 3.1 Build KG by extracting name-entities (vertices/nodes) & relations (edges/links/predicates) from textual corpus."
   ]
  },
  {
   "cell_type": "code",
   "execution_count": 9,
   "metadata": {},
   "outputs": [
    {
     "data": {
      "text/plain": [
       "['Happy Village is located in Florida, USA.\\n',\n",
       " 'Mr. Wilson is a well-known local silversmith in Happy Village.\\n',\n",
       " 'He is very very old.\\n',\n",
       " 'When Mr. Wilson was young, he came to Happy Village to seek refuge from a war.\\n',\n",
       " 'Mr. Wilson found his wife Mary here and raised three children.\\n']"
      ]
     },
     "execution_count": 9,
     "metadata": {},
     "output_type": "execute_result"
    }
   ],
   "source": [
    "sentences = []\n",
    "\n",
    "with open(\"./corpus/Family.txt\", \"r\") as f:\n",
    "    sentence = f.readline()\n",
    "    while sentence:\n",
    "        sentences.append(sentence)\n",
    "        sentence = f.readline()\n",
    "\n",
    "sentences[0:5]"
   ]
  },
  {
   "cell_type": "code",
   "execution_count": 5,
   "metadata": {
    "scrolled": true
   },
   "outputs": [],
   "source": [
    "def create_graph(sentences):\n",
    "    nlp = spacy.load('en_core_web_lg') # !python -m spacy download en_core_web_lg\n",
    "\n",
    "    exist_ent = {}\n",
    "    exist_relationship = []\n",
    "\n",
    "    for sentence in sentences:\n",
    "        doc = nlp(sentence)\n",
    "        entities = []\n",
    "        names_of_entities = []\n",
    "\n",
    "        ######################## Extract Entities in Python ##################################\n",
    "        for ent in doc.ents:\n",
    "            if ent.label_ in ['PERSON', 'GPE', 'ORG'] and ent.text not in names_of_entities:\n",
    "    #        if ent not in entities:\n",
    "                names_of_entities.append(ent.text)\n",
    "                entities.append(ent)\n",
    "\n",
    "        ################## Create nodes in Neo4j using extracted entities ######################\n",
    "        for ent in entities:\n",
    "            if exist_ent.get(ent.text) is None:\n",
    "                exist_ent[ent.text] = ent.text\n",
    "                query = (\n",
    "                    \"MERGE (node: \"+ent.label_+\" {name: $name})\"\n",
    "                    \"RETURN node\"\n",
    "                )\n",
    "                with graph.session() as session:\n",
    "                    result = session.run(query, name=ent.text)\n",
    "                print(\"create new node with label as {0} and name as {1}\".format(ent.label_, ent.text))\n",
    "\n",
    "        for i in range(len(entities)):\n",
    "\n",
    "            ######################## Extract Relationships in Python ###########################\n",
    "\n",
    "            for j in range(i + 1, len(entities)):\n",
    "                text_i = entities[i].text\n",
    "                text_j = entities[j].text\n",
    "                loc_h = sentence.find(text_i)\n",
    "                loc_t = sentence.find(text_j)\n",
    "                result = model.infer({'text': sentence, 'h': {'pos': (loc_h, loc_h + len(text_i))},\n",
    "                                   't': {'pos': (loc_t, loc_t + len(text_j))}})\n",
    "                (rel, confidence) = result[0].replace(' ', '_'), result[1]\n",
    "\n",
    "                record = (text_i, text_j, rel, confidence)\n",
    "\n",
    "                result_rev = model.infer({'text': sentence, 'h': {'pos': (loc_t, loc_t + len(text_j))},\n",
    "                                   't': {'pos': (loc_h, loc_h + len(text_i))}})\n",
    "                (rel_rev, confidence) = result_rev[0].replace(' ', '_'), result_rev[1]\n",
    "\n",
    "                record_rev = (text_j, text_i, rel_rev, confidence)\n",
    "\n",
    "                ############## Create Relationships in Neo4j using extracted Relationships ###########\n",
    "\n",
    "                if record not in exist_relationship:\n",
    "                    exist_relationship.append(record)\n",
    "                    if record[3] > 0.8:\n",
    "                        query = (\n",
    "                            \"MATCH (n1 {name: $name1})\"\n",
    "                            \"MATCH (n2 {name: $name2})\"\n",
    "                            \"MERGE (n1) - [r:\"+record[2]+\"] -> (n2)\"\n",
    "                            \"RETURN n1, n2, r\"\n",
    "                        )\n",
    "                        with graph.session() as session:\n",
    "                            result = session.run(query, name1=exist_ent[text_i], name2=exist_ent[text_j])\n",
    "                        print(\"create new relationship {0} - {1} -> {2} with confidence of {3}\".format(record[0], record[2], record[1], record[3]))\n",
    "\n",
    "                if record_rev not in exist_relationship:\n",
    "                    exist_relationship.append(record_rev)\n",
    "                    if record_rev[3] > 0.8:\n",
    "                        query = (\n",
    "                            \"MATCH (n1 {name: $name1})\"\n",
    "                            \"MATCH (n2 {name: $name2})\"\n",
    "                            \"MERGE (n1) - [r:\"+record_rev[2]+\"] -> (n2)\"   \n",
    "                            \"RETURN n1, n2, r\"\n",
    "                        )\n",
    "\n",
    "                        with graph.session() as session:\n",
    "                            result = session.run(query, name1=exist_ent[text_j], name2=exist_ent[text_i])\n",
    "                        print(\"create new relationship {0} - {1} -> {2} with confidence of {3}\".format(record_rev[0], record_rev[2], record_rev[1], record_rev[3]))\n"
   ]
  },
  {
   "cell_type": "markdown",
   "metadata": {},
   "source": [
    "### Visualize created knowledge graph at: http://localhost:7474/browser/\n",
    "\n",
    "* Username: neo4j\n",
    "\n",
    "* Password: ai-user"
   ]
  },
  {
   "cell_type": "markdown",
   "metadata": {},
   "source": [
    "## 3.2 Extend/Expand KG by inferecing (auto-reasoning) new relations/entites using univeral rules (static knowledge / common sense).\n",
    "\n",
    "Automatic Reasoner"
   ]
  },
  {
   "cell_type": "markdown",
   "metadata": {},
   "source": [
    "### Practise graph modification:"
   ]
  },
  {
   "cell_type": "code",
   "execution_count": 12,
   "metadata": {},
   "outputs": [],
   "source": [
    "# Modify KG, e.g. Delete all link(s) from 'Happy Village' --to--> 'Wilson'\n",
    "query = (\n",
    "        \"MATCH (n1:GPE {name:'Happy Village'})\"\n",
    "        \"MATCH (n2:PERSON {name:'Wilson'})\"\n",
    "        \"MATCH (n1)-[r]->(n2)\"\n",
    "        \"DELETE r\"\n",
    ")\n",
    "\n",
    "# Execuate above query to modify neo4j db:\n",
    "with graph.session() as session:\n",
    "    results = session.run(query)"
   ]
  },
  {
   "cell_type": "code",
   "execution_count": 13,
   "metadata": {},
   "outputs": [],
   "source": [
    "# Your exercise: Modify KG, e.g. Delete all link(s) from 'Florida' --to--> 'Happy Village'\n",
    "query = (\n",
    "        \"MATCH (n1:GPE {name:'Florida'})\"\n",
    "        \"MATCH (n2:GPE {name:'Happy Village'})\"\n",
    "        \"MATCH (n1)-[r]->(n2)\"\n",
    "        \"DELETE r\"\n",
    ")\n",
    "\n",
    "# Execuate above query to modify neo4j db:\n",
    "with graph.session() as session:\n",
    "    results = session.run(query)"
   ]
  },
  {
   "cell_type": "markdown",
   "metadata": {},
   "source": [
    "### Add rule set:"
   ]
  },
  {
   "cell_type": "code",
   "execution_count": 14,
   "metadata": {},
   "outputs": [],
   "source": [
    "# Rule 1: Siblings relationship/link\n",
    "\n",
    "\n",
    "query = (\n",
    "        \"MATCH (n1:PERSON)-[r:father]->(n2:PERSON)-[r2:child]->(n3:PERSON)\"\n",
    "        \"WHERE (n1) <> (n3)\"\n",
    "        \"MERGE (n1)-[r3:sibling]->(n3)\"\n",
    "        \"MERGE (n3)-[r4:sibling]->(n1)\"\n",
    "        \"RETURN n1, n3\"\n",
    ")\n",
    "\n",
    "# Execuate above query to modify neo4j db:\n",
    "with graph.session() as session:\n",
    "    results = session.run(query)"
   ]
  },
  {
   "cell_type": "code",
   "execution_count": 15,
   "metadata": {},
   "outputs": [],
   "source": [
    "# Rule 2: Mother relationship/link\n",
    "\n",
    "query = (\n",
    "        \"MATCH (n1:PERSON)-[r:father]->(n2:PERSON)-[r2:spouse]->(n3:PERSON)\"\n",
    "        \"MERGE (n1)-[r3:mother]->(n3)\"\n",
    "        \"MERGE (n3)-[r4:child]->(n1)\"\n",
    "        \"RETURN n1, n3\"\n",
    ")\n",
    "\n",
    "# Execuate above query to modify neo4j db:\n",
    "with graph.session() as session:\n",
    "    results = session.run(query)"
   ]
  },
  {
   "cell_type": "code",
   "execution_count": 16,
   "metadata": {},
   "outputs": [],
   "source": [
    "# Rule 3: Grandfather relationship/link\n",
    "\n",
    "query = (\n",
    "        \"MATCH (n1:PERSON)-[r:father]->(n2:PERSON)-[r2:father]->(n3:PERSON)\"\n",
    "        \"MERGE (n1)-[r3:grandfather]->(n3)\"\n",
    "        \"MERGE (n3)-[r4:grandchild]->(n1)\"\n",
    "        \"RETURN n1, n3\"\n",
    ")\n",
    "\n",
    "# Execuate above query to modify neo4j db:\n",
    "with graph.session() as session:\n",
    "    results = session.run(query)"
   ]
  },
  {
   "cell_type": "markdown",
   "metadata": {},
   "source": [
    "## 3.3 Retrieve informatino by querying / reasoning over KG."
   ]
  },
  {
   "cell_type": "markdown",
   "metadata": {},
   "source": [
    "### Our query: 'Deep Thought, what's the relationship between Wilson and William?'"
   ]
  },
  {
   "cell_type": "code",
   "execution_count": 17,
   "metadata": {},
   "outputs": [
    {
     "name": "stdout",
     "output_type": "stream",
     "text": [
      "Deep Thought: Wilson has grandchild William.\n"
     ]
    }
   ],
   "source": [
    "query = (\n",
    "        \"MATCH (n1 {name:'Wilson'})-[r]->(n2 {name:'William'})\"\n",
    "        \"RETURN n1, r, n2\"\n",
    ")\n",
    "with graph.session() as session:\n",
    "    results = session.run(query)\n",
    "    for result in results:\n",
    "        print(\"Deep Thought: {0} has {1} {2}.\".format(result['n1']['name'], \n",
    "                                                           result['r'].type, \n",
    "                                                           result['n2']['name']))"
   ]
  },
  {
   "cell_type": "markdown",
   "metadata": {},
   "source": [
    "### Our query: 'Deep Thought, what's the relationship between James and Marry?'"
   ]
  },
  {
   "cell_type": "code",
   "execution_count": 18,
   "metadata": {},
   "outputs": [
    {
     "name": "stdout",
     "output_type": "stream",
     "text": [
      "Deep Thought: James has mother Mary.\n"
     ]
    }
   ],
   "source": [
    "query = (\n",
    "        \"MATCH (n1 {name:'James'})-[r]->(n2 {name:'Mary'})\"\n",
    "        \"RETURN n1, r, n2\"\n",
    ")\n",
    "with graph.session() as session:\n",
    "    results = session.run(query)\n",
    "    for result in results:\n",
    "        print(\"Deep Thought: {0} has {1} {2}.\".format(result['n1']['name'], \n",
    "                                                           result['r'].type, \n",
    "                                                           result['n2']['name']))"
   ]
  },
  {
   "cell_type": "markdown",
   "metadata": {},
   "source": [
    "# 4. Knowledge Graph [Workshop]\n",
    "\n",
    "### Ground Work:\n",
    "\n",
    "Read novel \"Animal Farm\" By author: George Orwell (pseudonym of Eric Blair) (1903-1950) http://gutenberg.net.au/ebooks01/0100011.txt\n",
    "\n",
    "\n",
    "<img src=\"https://upload.wikimedia.org/wikipedia/commons/f/fb/Animal_Farm_-_1st_edition.jpg\" width=300>"
   ]
  },
  {
   "cell_type": "markdown",
   "metadata": {},
   "source": [
    "### Task:\n",
    "Build knowledge graph for \"Animal Farm\". Then query various entities and relationships "
   ]
  },
  {
   "cell_type": "code",
   "execution_count": 31,
   "metadata": {},
   "outputs": [],
   "source": [
    "query = (\n",
    "        \"MATCH (all_nodes)\"\n",
    "        \"OPTIONAL MATCH (all_nodes)-[all_rels]->()\"\n",
    "        \"DELETE all_nodes, all_rels\"\n",
    "    )\n",
    "with graph.session() as session:\n",
    "    result = session.run(query)"
   ]
  },
  {
   "cell_type": "code",
   "execution_count": 32,
   "metadata": {},
   "outputs": [
    {
     "data": {
      "text/plain": [
       "['Title: Animal Farm \\n',\n",
       " 'Author: George Orwell (pseudonym of Eric Blair) (1903-1950)\\n',\n",
       " 'Chapter I\\n',\n",
       " 'Mr Jones, of the Manor Farm, had locked the hen-houses for the night, but was too drunk to remember to shut the pop-holes.\\n',\n",
       " 'With the ring of light from his lantern dancing from side to side, he lurched across the yard, kicked off his boots at the back door, drew himself a last glass of beer from the barrel in the scullery, and made his way up to bed, where Mrs Jones was already snoring.\\n']"
      ]
     },
     "execution_count": 32,
     "metadata": {},
     "output_type": "execute_result"
    }
   ],
   "source": [
    "sentences = []\n",
    "\n",
    "# with open(\"./corpus/Family.txt\", \"r\") as f:\n",
    "with open(\"./corpus/Animal Farm by George Orwell.txt\", \"r\") as f:\n",
    "    sentence = f.readline()\n",
    "    while sentence:\n",
    "        sentences.append(sentence)\n",
    "        sentence = f.readline()\n",
    "\n",
    "sentences[0:5]"
   ]
  },
  {
   "cell_type": "code",
   "execution_count": 33,
   "metadata": {
    "scrolled": true
   },
   "outputs": [
    {
     "name": "stdout",
     "output_type": "stream",
     "text": [
      "create new node with label as ORG and name as Animal Farm\n",
      "create new node with label as PERSON and name as George Orwell\n",
      "create new node with label as PERSON and name as Eric Blair\n",
      "create new relationship George Orwell - said_to_be_the_same_as -> Eric Blair with confidence of 0.9982545971870422\n",
      "create new relationship Eric Blair - said_to_be_the_same_as -> George Orwell with confidence of 0.9979104399681091\n",
      "create new node with label as PERSON and name as Mr Jones\n",
      "create new node with label as ORG and name as the Manor Farm\n",
      "create new relationship Mr Jones - residence -> the Manor Farm with confidence of 0.8815862536430359\n",
      "create new node with label as PERSON and name as Mrs Jones\n",
      "create new node with label as PERSON and name as Major\n",
      "create new node with label as PERSON and name as Jones\n",
      "create new node with label as PERSON and name as Willingdon Beauty\n",
      "create new node with label as ORG and name as Bluebell, Jessie\n",
      "create new node with label as ORG and name as Pincher\n",
      "create new relationship Bluebell, Jessie - sibling -> Pincher with confidence of 0.9976521134376526\n",
      "create new relationship Pincher - sibling -> Bluebell, Jessie with confidence of 0.9978209733963013\n",
      "create new node with label as PERSON and name as Muriel\n",
      "create new node with label as PERSON and name as Benjamin\n",
      "create new relationship Muriel - sibling -> Benjamin with confidence of 0.9958146214485168\n",
      "create new relationship Benjamin - sibling -> Muriel with confidence of 0.9939455389976501\n",
      "create new node with label as ORG and name as Boxer\n",
      "create new node with label as PERSON and name as Mollie\n",
      "create new node with label as PERSON and name as Moses\n",
      "create new node with label as GPE and name as England\n",
      "create new node with label as ORG and name as Clover\n",
      "create new node with label as ORG and name as Rebellion\n",
      "create new node with label as GPE and name as Ireland\n",
      "create new relationship Rebellion - participant -> Major with confidence of 0.992870032787323\n",
      "create new relationship Major - participant -> Rebellion with confidence of 0.9849368929862976\n",
      "create new node with label as PERSON and name as Napoleon\n",
      "create new relationship Napoleon - father -> Mr Jones with confidence of 0.9328893423080444\n",
      "create new node with label as GPE and name as Berkshire\n",
      "create new node with label as PERSON and name as Squealer\n",
      "create new node with label as PERSON and name as Animalism\n",
      "create new relationship Mr Jones - religion -> Animalism with confidence of 0.8955202102661133\n",
      "create new relationship Animalism - religion -> Mr Jones with confidence of 0.9071784019470215\n",
      "create new relationship Rebellion - part_of -> Animalism with confidence of 0.8621181845664978\n",
      "create new node with label as PERSON and name as Snowball\n",
      "create new relationship Snowball - participant -> Rebellion with confidence of 0.9968011379241943\n",
      "create new relationship Rebellion - participant -> Snowball with confidence of 0.9943838119506836\n",
      "create new relationship Moses - characters -> Jones with confidence of 0.8944079875946045\n",
      "create new node with label as GPE and name as Windsor\n",
      "create new node with label as PERSON and name as Willingdon\n",
      "create new relationship Mr Jones - residence -> Willingdon with confidence of 0.9837105870246887\n",
      "create new relationship Willingdon - residence -> Mr Jones with confidence of 0.9726356267929077\n",
      "create new node with label as ORG and name as the News of the World\n",
      "create new node with label as ORG and name as unfed\n",
      "create new relationship Rebellion - participant -> Jones with confidence of 0.9979023933410645\n",
      "create new relationship Jones - participant -> Rebellion with confidence of 0.9971904158592224\n",
      "create new relationship Rebellion - participant -> the Manor Farm with confidence of 0.9943008422851562\n",
      "create new relationship the Manor Farm - participant -> Rebellion with confidence of 0.9959285855293274\n",
      "create new relationship Jones - residence -> the Manor Farm with confidence of 0.9657943844795227\n",
      "create new relationship the Manor Farm - residence -> Jones with confidence of 0.8770223259925842\n",
      "create new relationship Snowball - sibling -> Napoleon with confidence of 0.9155513048171997\n",
      "create new relationship Napoleon - sibling -> Snowball with confidence of 0.9021346569061279\n",
      "create new node with label as GPE and name as Brussels\n",
      "create new node with label as GPE and name as Queen Victoria\n",
      "create new node with label as PERSON and name as Mrs Jones's\n",
      "create new relationship Napoleon - spouse -> Snowball with confidence of 0.8381072282791138\n",
      "create new node with label as PERSON and name as harder!\"--which\n",
      "create new relationship Benjamin - participant -> Rebellion with confidence of 0.9972094893455505\n",
      "create new relationship Rebellion - participant -> Benjamin with confidence of 0.9979444146156311\n",
      "create new node with label as ORG and name as flagstaff\n",
      "create new relationship Snowball - residence -> England with confidence of 0.9365116953849792\n",
      "create new node with label as ORG and name as Meeting\n",
      "create new node with label as GPE and name as carpentering\n",
      "create new node with label as ORG and name as Animal Committees\n",
      "create new node with label as ORG and name as the Egg Production Committee\n",
      "create new node with label as ORG and name as the Clean Tails League\n",
      "create new node with label as ORG and name as the Whiter Wool Movement\n",
      "create new relationship the Egg Production Committee - followed_by -> the Whiter Wool Movement with confidence of 0.8646021485328674\n",
      "create new relationship the Whiter Wool Movement - followed_by -> the Egg Production Committee with confidence of 0.8577867746353149\n",
      "create new relationship Napoleon - characters -> Snowball with confidence of 0.981620192527771\n",
      "create new relationship Snowball - characters -> Napoleon with confidence of 0.9701719284057617\n",
      "create new node with label as PERSON and name as Jessie\n",
      "create new node with label as ORG and name as Bluebell\n",
      "create new relationship Jessie - spouse -> Bluebell with confidence of 0.995808482170105\n",
      "create new relationship Bluebell - spouse -> Jessie with confidence of 0.996374785900116\n",
      "create new relationship Snowball - sibling -> Napoleon with confidence of 0.9037283658981323\n",
      "create new node with label as ORG and name as Science\n",
      "create new relationship Napoleon - participant -> Rebellion with confidence of 0.9978766441345215\n",
      "create new relationship Rebellion - participant -> Napoleon with confidence of 0.997955322265625\n",
      "create new node with label as ORG and name as Foxwood\n",
      "create new node with label as PERSON and name as Pilkington\n",
      "create new node with label as PERSON and name as Frederick\n",
      "create new relationship Frederick - sibling -> Pilkington with confidence of 0.8631727695465088\n",
      "create new relationship Pilkington - sibling -> Frederick with confidence of 0.8050646781921387\n",
      "create new node with label as ORG and name as Nature\n",
      "create new relationship Nature - field_of_work -> Pilkington with confidence of 0.888969361782074\n",
      "create new relationship Pilkington - field_of_work -> Nature with confidence of 0.978174090385437\n",
      "create new relationship Frederick - spouse -> Pilkington with confidence of 0.9749701619148254\n",
      "create new relationship Pilkington - spouse -> Frederick with confidence of 0.9618986248970032\n",
      "create new relationship Jones - residence -> Foxwood with confidence of 0.9024530649185181\n",
      "create new node with label as PERSON and name as Julius Caesar's\n",
      "create new node with label as PERSON and name as bush\n",
      "create new node with label as ORG and name as Flagstaff\n",
      "create new relationship Flagstaff - participant -> Rebellion with confidence of 0.858410656452179\n",
      "create new relationship Mollie - spouse -> Clover with confidence of 0.8880961537361145\n",
      "create new relationship Clover - spouse -> Mollie with confidence of 0.8857485055923462\n",
      "create new node with label as ORG and name as the Meetings Snowball\n",
      "create new relationship the Meetings Snowball - participant -> Napoleon with confidence of 0.9836186766624451\n",
      "create new relationship Napoleon - participant -> the Meetings Snowball with confidence of 0.9920653700828552\n",
      "create new node with label as PERSON and name as Stockbreeder\n",
      "create new node with label as ORG and name as House\n",
      "create new node with label as ORG and name as Stone\n",
      "create new relationship Napoleon - characters -> Benjamin with confidence of 0.9905030727386475\n",
      "create new relationship Benjamin - characters -> Napoleon with confidence of 0.9878005981445312\n",
      "create new node with label as ORG and name as Windmill\n"
     ]
    },
    {
     "name": "stdout",
     "output_type": "stream",
     "text": [
      "create new relationship Napoleon - sibling -> Snowball with confidence of 0.8651211261749268\n",
      "create new node with label as ORG and name as the Meeting on the following\n",
      "create new relationship Napoleon - military_rank -> Major with confidence of 0.8343890309333801\n",
      "create new node with label as ORG and name as Minimus\n",
      "create new relationship Squealer - sibling -> Minimus with confidence of 0.9815104007720947\n",
      "create new relationship Minimus - sibling -> Squealer with confidence of 0.9768145680427551\n",
      "create new relationship Snowball - characters -> Napoleon with confidence of 0.9917336702346802\n",
      "create new relationship Napoleon - characters -> Snowball with confidence of 0.993183434009552\n",
      "create new relationship Squealer - characters -> Napoleon with confidence of 0.9187507629394531\n",
      "create new relationship Napoleon - characters -> Squealer with confidence of 0.8692359924316406\n",
      "create new relationship Muriel - sibling -> Benjamin with confidence of 0.9966681599617004\n",
      "create new relationship Benjamin - sibling -> Muriel with confidence of 0.9957139492034912\n",
      "create new node with label as ORG and name as Meetings\n",
      "create new relationship Meetings - participant -> Napoleon with confidence of 0.934836745262146\n",
      "create new node with label as PERSON and name as Whymper\n",
      "create new relationship Whymper - residence -> Willingdon with confidence of 0.9803418517112732\n",
      "create new relationship Willingdon - residence -> Whymper with confidence of 0.9770492911338806\n",
      "create new node with label as GPE and name as Pinchfield\n",
      "create new relationship Frederick - sibling -> Whymper with confidence of 0.8602485656738281\n",
      "create new relationship Animal Farm - owned_by -> Napoleon with confidence of 0.9582186341285706\n",
      "create new relationship Napoleon - owned_by -> Animal Farm with confidence of 0.8430395126342773\n",
      "create new relationship Animal Farm - headquarters_location -> Foxwood with confidence of 0.8978883624076843\n",
      "create new relationship Animal Farm - owned_by -> Frederick with confidence of 0.9464693665504456\n",
      "create new relationship Animal Farm - headquarters_location -> Pinchfield with confidence of 0.9629995226860046\n",
      "create new relationship Pinchfield - headquarters_location -> Animal Farm with confidence of 0.9218066334724426\n",
      "create new relationship Napoleon - spouse -> Pilkington with confidence of 0.9883346557617188\n",
      "create new relationship Pilkington - spouse -> Napoleon with confidence of 0.9795279502868652\n",
      "create new relationship Napoleon - spouse -> Frederick with confidence of 0.9724501967430115\n",
      "create new relationship Frederick - spouse -> Napoleon with confidence of 0.9643241763114929\n",
      "create new relationship Pinchfield - owned_by -> Napoleon with confidence of 0.8017138838768005\n",
      "create new relationship Pilkington - residence -> Foxwood with confidence of 0.9926198124885559\n",
      "create new relationship Foxwood - residence -> Pilkington with confidence of 0.8405545353889465\n",
      "create new relationship Pilkington - residence -> Pinchfield with confidence of 0.9932149648666382\n",
      "create new relationship Pinchfield - residence -> Pilkington with confidence of 0.8640412092208862\n",
      "create new relationship Foxwood - owned_by -> Frederick with confidence of 0.9232974648475647\n",
      "create new relationship Foxwood - headquarters_location -> Pinchfield with confidence of 0.9781789183616638\n",
      "create new relationship Pinchfield - headquarters_location -> Foxwood with confidence of 0.9803162217140198\n",
      "create new node with label as ORG and name as Foxwood Farm\n",
      "create new relationship Snowball - residence -> Foxwood Farm with confidence of 0.9776586890220642\n",
      "create new relationship Foxwood Farm - residence -> Snowball with confidence of 0.9673264026641846\n",
      "create new relationship Squealer - characters -> Boxer with confidence of 0.9142829179763794\n",
      "create new relationship Boxer - characters -> Squealer with confidence of 0.8135290741920471\n",
      "create new node with label as PERSON and name as mangels\n",
      "create new node with label as GPE and name as Black Minorca\n",
      "create new node with label as PERSON and name as coccidiosis\n",
      "create new node with label as PERSON and name as Mr Frederick\n",
      "create new relationship Whymper - father -> Napoleon with confidence of 0.9552505016326904\n",
      "create new relationship Napoleon - father -> Whymper with confidence of 0.9505103230476379\n",
      "create new relationship Pilkington - sibling -> Mr Frederick with confidence of 0.9576641917228699\n",
      "create new relationship Mr Frederick - sibling -> Pilkington with confidence of 0.944428563117981\n",
      "create new node with label as ORG and name as Frederick, Snowball\n",
      "create new node with label as ORG and name as Pilkington, Snowball\n",
      "create new relationship Frederick, Snowball - residence -> Foxwood with confidence of 0.9954078793525696\n",
      "create new relationship Foxwood - residence -> Frederick, Snowball with confidence of 0.9928794503211975\n",
      "create new relationship Frederick, Snowball - sibling -> Pilkington, Snowball with confidence of 0.861502468585968\n",
      "create new relationship Pilkington, Snowball - sibling -> Frederick, Snowball with confidence of 0.8719860911369324\n",
      "create new relationship Pilkington, Snowball - residence -> Foxwood with confidence of 0.9359758496284485\n",
      "create new relationship Napoleon - characters -> Snowball with confidence of 0.9942276477813721\n",
      "create new relationship Snowball - characters -> Napoleon with confidence of 0.9773874878883362\n",
      "create new node with label as ORG and name as Pinchfield Farm\n",
      "create new relationship Frederick - owned_by -> Pinchfield Farm with confidence of 0.8881623148918152\n",
      "create new relationship Pinchfield Farm - owned_by -> Frederick with confidence of 0.9723560214042664\n",
      "create new relationship Napoleon - participant -> Rebellion with confidence of 0.9968149065971375\n",
      "create new relationship Rebellion - participant -> Napoleon with confidence of 0.9976569414138794\n",
      "create new relationship Squealer - participant -> Rebellion with confidence of 0.9943570494651794\n",
      "create new relationship Rebellion - participant -> Squealer with confidence of 0.9966468214988708\n",
      "create new relationship Snowball - participant -> Rebellion with confidence of 0.9968522191047668\n",
      "create new relationship Rebellion - participant -> Snowball with confidence of 0.9976522326469421\n",
      "create new relationship Jones - participant -> Rebellion with confidence of 0.9960656762123108\n",
      "create new relationship Rebellion - participant -> Jones with confidence of 0.9973686933517456\n",
      "create new relationship Snowball - characters -> Animal Farm with confidence of 0.9688396453857422\n",
      "create new relationship Animal Farm - characters -> Snowball with confidence of 0.9841743111610413\n",
      "create new relationship Snowball - characters -> Frederick with confidence of 0.9659662246704102\n",
      "create new relationship Frederick - characters -> Snowball with confidence of 0.9902389049530029\n",
      "create new relationship Animal Farm - owned_by -> Frederick with confidence of 0.9930015802383423\n",
      "create new relationship Frederick - owned_by -> Animal Farm with confidence of 0.9925764203071594\n",
      "create new relationship Snowball - characters -> Napoleon with confidence of 0.991224467754364\n",
      "create new relationship Napoleon - characters -> Snowball with confidence of 0.9872305989265442\n",
      "create new relationship Muriel - sibling -> Benjamin with confidence of 0.9953755140304565\n",
      "create new relationship Benjamin - sibling -> Muriel with confidence of 0.9962213039398193\n",
      "create new node with label as ORG and name as Beasts of England'\n",
      "create new relationship Beasts of England' - part_of -> Rebellion with confidence of 0.974185049533844\n",
      "create new relationship Rebellion - part_of -> Beasts of England' with confidence of 0.9839351773262024\n",
      "create new node with label as ORG and name as Crown Derby\n",
      "create new relationship Squealer - characters -> Napoleon with confidence of 0.9100648164749146\n",
      "create new relationship Napoleon - characters -> Squealer with confidence of 0.9574565291404724\n",
      "create new relationship Whymper - father -> Napoleon with confidence of 0.8714809417724609\n",
      "create new relationship Frederick - spouse -> Pilkington with confidence of 0.8960999846458435\n",
      "create new relationship Pilkington - spouse -> Frederick with confidence of 0.919478178024292\n",
      "create new relationship Frederick - participant -> Animal Farm with confidence of 0.9704836010932922\n",
      "create new relationship Animal Farm - participant -> Frederick with confidence of 0.9893648624420166\n"
     ]
    },
    {
     "name": "stdout",
     "output_type": "stream",
     "text": [
      "create new relationship Snowball - characters -> Napoleon with confidence of 0.9986172914505005\n",
      "create new relationship Napoleon - characters -> Snowball with confidence of 0.99822598695755\n",
      "create new relationship Napoleon - spouse -> Pilkington with confidence of 0.9059435725212097\n",
      "create new relationship Napoleon - owned_by -> Animal Farm with confidence of 0.9893791079521179\n",
      "create new relationship Animal Farm - owned_by -> Napoleon with confidence of 0.9967494010925293\n",
      "create new relationship Napoleon - owned_by -> Foxwood with confidence of 0.9954119324684143\n",
      "create new relationship Foxwood - owned_by -> Napoleon with confidence of 0.997226893901825\n",
      "create new relationship Pilkington - owned_by -> Animal Farm with confidence of 0.8273995518684387\n",
      "create new relationship Animal Farm - owned_by -> Pilkington with confidence of 0.9819629192352295\n",
      "create new relationship Pilkington - owned_by -> Foxwood with confidence of 0.9708229303359985\n",
      "create new relationship Foxwood - owned_by -> Pilkington with confidence of 0.9861380457878113\n",
      "create new relationship Animal Farm - subsidiary -> Foxwood with confidence of 0.8252272009849548\n",
      "create new relationship Napoleon - spouse -> Pilkington with confidence of 0.9964176416397095\n",
      "create new relationship Pilkington - spouse -> Napoleon with confidence of 0.9962953925132751\n",
      "create new relationship Napoleon - work_location -> Whymper with confidence of 0.9607434272766113\n",
      "create new relationship Pilkington - work_location -> Whymper with confidence of 0.9757030606269836\n",
      "create new relationship Whymper - work_location -> Pilkington with confidence of 0.8818528056144714\n",
      "create new relationship Pilkington - sibling -> Frederick with confidence of 0.9698977470397949\n",
      "create new relationship Frederick - sibling -> Pilkington with confidence of 0.9673269391059875\n",
      "create new relationship Frederick - owned_by -> Animal Farm with confidence of 0.9941393136978149\n",
      "create new relationship Animal Farm - owned_by -> Frederick with confidence of 0.9942576885223389\n",
      "create new relationship Squealer - characters -> Napoleon with confidence of 0.8149183988571167\n",
      "create new relationship Rebellion - location -> Foxwood with confidence of 0.9481561779975891\n",
      "create new relationship Foxwood - location -> Rebellion with confidence of 0.8591965436935425\n",
      "create new relationship Rebellion - participant -> Frederick with confidence of 0.9976803064346313\n",
      "create new relationship Frederick - participant -> Rebellion with confidence of 0.99613356590271\n",
      "create new relationship Rebellion - participant -> Snowball with confidence of 0.9976060390472412\n",
      "create new relationship Snowball - participant -> Rebellion with confidence of 0.9973942041397095\n",
      "create new relationship Snowball - residence -> Foxwood with confidence of 0.9562104940414429\n",
      "create new relationship Frederick - characters -> Snowball with confidence of 0.9948409199714661\n",
      "create new relationship Snowball - characters -> Frederick with confidence of 0.9938092827796936\n",
      "create new node with label as PERSON and name as Napoleon Mill\n",
      "create new relationship Napoleon - owned_by -> Napoleon Mill with confidence of 0.9928089380264282\n",
      "create new relationship Napoleon Mill - owned_by -> Napoleon with confidence of 0.9946894645690918\n",
      "create new node with label as ORG and name as Frederick's\n",
      "create new relationship Pilkington - spouse -> Napoleon with confidence of 0.8113160729408264\n",
      "create new relationship Frederick - spouse -> Pilkington with confidence of 0.8435190320014954\n",
      "create new relationship Napoleon - spouse -> Frederick with confidence of 0.9300240874290466\n",
      "create new relationship Pinchfield Farm - location -> Animal Farm with confidence of 0.9801409840583801\n",
      "create new relationship Animal Farm - location -> Pinchfield Farm with confidence of 0.9822787046432495\n",
      "create new relationship Frederick - said_to_be_the_same_as -> Pilkington with confidence of 0.9134486317634583\n",
      "create new relationship Pilkington - said_to_be_the_same_as -> Frederick with confidence of 0.9144147038459778\n",
      "create new relationship Snowball - residence -> Pinchfield Farm with confidence of 0.9825641512870789\n",
      "create new relationship Pinchfield Farm - residence -> Snowball with confidence of 0.9681567549705505\n",
      "create new relationship Snowball - residence -> Foxwood with confidence of 0.9890630841255188\n",
      "create new relationship Foxwood - residence -> Snowball with confidence of 0.9804279208183289\n",
      "create new relationship Snowball - residence -> Pilkington with confidence of 0.9336456060409546\n",
      "create new relationship Pinchfield Farm - owned_by -> Pilkington with confidence of 0.8860576152801514\n",
      "create new relationship Pilkington - owned_by -> Pinchfield Farm with confidence of 0.8631979823112488\n",
      "create new node with label as GPE and name as china\n",
      "create new relationship Frederick - father -> Napoleon with confidence of 0.9177719354629517\n",
      "create new relationship Foxwood - residence -> Pilkington with confidence of 0.9764508008956909\n",
      "create new relationship Pilkington - residence -> Foxwood with confidence of 0.9761403799057007\n",
      "create new relationship Napoleon - sibling -> Boxer with confidence of 0.9945974349975586\n",
      "create new relationship Boxer - sibling -> Napoleon with confidence of 0.990041196346283\n",
      "create new node with label as ORG and name as Courage\n",
      "create new relationship Boxer - spouse -> Jessie with confidence of 0.9012824296951294\n",
      "create new relationship Bluebell - characters -> Boxer with confidence of 0.8461591005325317\n",
      "create new relationship Jessie - spouse -> Bluebell with confidence of 0.8521848917007446\n",
      "create new relationship Bluebell - spouse -> Jessie with confidence of 0.864933431148529\n",
      "create new relationship Snowball - characters -> Napoleon with confidence of 0.950896680355072\n",
      "create new relationship Napoleon - characters -> Snowball with confidence of 0.9517107605934143\n",
      "create new relationship Napoleon - work_location -> Willingdon with confidence of 0.9819748997688293\n",
      "create new relationship Willingdon - work_location -> Napoleon with confidence of 0.8514419794082642\n",
      "create new relationship Squealer - movement -> Animalism with confidence of 0.9675986170768738\n",
      "create new relationship Animalism - movement -> Squealer with confidence of 0.9799796342849731\n",
      "create new relationship Squealer - characters -> Jones with confidence of 0.803541362285614\n",
      "create new relationship Jones - characters -> Squealer with confidence of 0.8132443428039551\n",
      "create new relationship Napoleon - field_of_work -> Animal Farm with confidence of 0.8926493525505066\n",
      "create new relationship Snowball - characters -> Jones with confidence of 0.9800100922584534\n",
      "create new relationship Jones - characters -> Snowball with confidence of 0.9817012548446655\n",
      "create new relationship Napoleon - characters -> Snowball with confidence of 0.8938487768173218\n",
      "create new node with label as PERSON and name as raven\n",
      "create new node with label as PERSON and name as Sugarcandy Mountain\n",
      "create new relationship Willingdon - residence -> Napoleon with confidence of 0.8457722067832947\n",
      "create new relationship Boxer - residence -> Willingdon with confidence of 0.8457876443862915\n",
      "create new relationship Mollie - sibling -> Snowball with confidence of 0.9959384202957153\n",
      "create new relationship Snowball - sibling -> Mollie with confidence of 0.9948975443840027\n",
      "create new relationship Squealer - characters -> Boxer with confidence of 0.9309762716293335\n",
      "create new relationship Boxer - characters -> Squealer with confidence of 0.8213997483253479\n",
      "create new relationship Benjamin - spouse -> Clover with confidence of 0.9956249594688416\n",
      "create new relationship Clover - spouse -> Benjamin with confidence of 0.9927648901939392\n",
      "create new node with label as PERSON and name as Alfred Simmonds\n",
      "create new node with label as PERSON and name as Horse Slaughterer\n",
      "create new node with label as ORG and name as Glue Boiler\n",
      "create new relationship Alfred Simmonds - occupation -> Horse Slaughterer with confidence of 0.9871199131011963\n",
      "create new relationship Horse Slaughterer - occupation -> Alfred Simmonds with confidence of 0.9668987989425659\n",
      "create new relationship Alfred Simmonds - occupation -> Glue Boiler with confidence of 0.9275959134101868\n",
      "create new relationship Alfred Simmonds - residence -> Willingdon with confidence of 0.9934437274932861\n",
      "create new relationship Willingdon - residence -> Alfred Simmonds with confidence of 0.9769440293312073\n"
     ]
    },
    {
     "name": "stdout",
     "output_type": "stream",
     "text": [
      "create new relationship Willingdon - manufacturer -> Glue Boiler with confidence of 0.9843706488609314\n",
      "create new node with label as ORG and name as Kennels Supplied\n",
      "create new relationship Boxer - characters -> Napoleon with confidence of 0.8605455756187439\n",
      "create new relationship Napoleon - characters -> Boxer with confidence of 0.8998172879219055\n",
      "create new relationship Rebellion - participant -> Benjamin with confidence of 0.9977999329566956\n",
      "create new relationship Benjamin - participant -> Rebellion with confidence of 0.9968400001525879\n",
      "create new relationship Rebellion - participant -> Moses with confidence of 0.9966009259223938\n",
      "create new relationship Moses - participant -> Rebellion with confidence of 0.9945344924926758\n",
      "create new relationship Rebellion - participant -> raven with confidence of 0.997183620929718\n",
      "create new relationship raven - participant -> Rebellion with confidence of 0.9964698553085327\n",
      "create new relationship Benjamin - sibling -> Moses with confidence of 0.9975346326828003\n",
      "create new relationship Moses - sibling -> Benjamin with confidence of 0.9964655637741089\n",
      "create new relationship Muriel - sibling -> Bluebell, Jessie with confidence of 0.9926652312278748\n",
      "create new relationship Bluebell, Jessie - sibling -> Muriel with confidence of 0.8896300196647644\n",
      "create new relationship Muriel - sibling -> Pincher with confidence of 0.9401073455810547\n",
      "create new relationship Bluebell, Jessie - sibling -> Pincher with confidence of 0.9971747398376465\n",
      "create new relationship Pincher - sibling -> Bluebell, Jessie with confidence of 0.9971101880073547\n",
      "create new node with label as PERSON and name as B.\n",
      "create new relationship Napoleon - movement -> Animalism with confidence of 0.9936356544494629\n",
      "create new relationship Animalism - movement -> Napoleon with confidence of 0.992048442363739\n",
      "create new node with label as GPE and name as The Republic of the Animals\n",
      "create new relationship The Republic of the Animals - country_of_origin -> England with confidence of 0.867034912109375\n",
      "create new node with label as PERSON and name as John Bull'\n",
      "create new node with label as ORG and name as the 'Daily Mirror'\n",
      "create new relationship Pilkington - residence -> Foxwood with confidence of 0.9337620139122009\n",
      "create new relationship Pilkington - notable_work -> Animal Farm with confidence of 0.9714917540550232\n",
      "create new relationship Animal Farm - notable_work -> Pilkington with confidence of 0.9807772040367126\n",
      "create new relationship Napoleon - notable_work -> Animal Farm with confidence of 0.8724893927574158\n",
      "create new node with label as ORG and name as The Manor Farm\n",
      "create new relationship Napoleon - spouse -> Pilkington with confidence of 0.8817910552024841\n",
      "create new relationship Pilkington - spouse -> Napoleon with confidence of 0.8719800710678101\n"
     ]
    }
   ],
   "source": [
    "# Construct knowledge graph\n",
    "\n",
    "create_graph(sentences)"
   ]
  },
  {
   "cell_type": "code",
   "execution_count": 34,
   "metadata": {},
   "outputs": [],
   "source": [
    "#  Sample and observe the generated relationships, are they reasonable? \n",
    "# Can you optimize/ modify some relationshps, e.g. many suspicious ‘spouse’ relationships?\n",
    "\n",
    "################## Delete relationships #####################\n",
    "\n",
    "for rel in ['spouse','father','characters','religion','sibling','said_to_be_the_same_as','followed_by','residence']:\n",
    "    query = (\n",
    "            \"MATCH (n) - [r:\"+rel+\"] -> ()\"\n",
    "            \"DELETE r\"\n",
    "    )\n",
    "\n",
    "    with graph.session() as session:\n",
    "        results = session.run(query)\n",
    "    \n",
    "    \n",
    "#################### Delete specific relationships ###############\n",
    "\n",
    "# Rebellion-participant->\n",
    "query = (\n",
    "        \"MATCH (n {name:'Rebellion'})-[r:participant]->()\"\n",
    "        \"DELETE r\"\n",
    ")\n",
    "\n",
    "with graph.session() as session:\n",
    "    results = session.run(query)\n",
    "\n",
    "# the Manor Farm-participant->\n",
    "query = (\n",
    "        \"MATCH (n {name:'the Manor Farm'})-[r:participant]->()\"\n",
    "        \"DELETE r\"\n",
    ")\n",
    "\n",
    "with graph.session() as session:\n",
    "    results = session.run(query)\n",
    "\n",
    "   \n",
    "    \n",
    "############################# Delete nodes #######################\n",
    "for node in ['Jones','Animal Farm']:\n",
    "    query = (\n",
    "            \"MATCH (n {name:'\"+node+\"'})-[r]-()\"\n",
    "            \"DELETE n,r\"\n",
    "    )\n",
    "\n",
    "    with graph.session() as session:\n",
    "        results = session.run(query)\n",
    "    \n",
    "    \n",
    "    \n",
    "########################## Add relationships ######################\n",
    "\n",
    "# spouse link b/w Mr. Jones and Mrs. Jones\n",
    "\n",
    "query = (\n",
    "        \"MATCH (n1 {name:'Mr Jones'})\"\n",
    "        \"MATCH (n2 {name:'Mrs Jones'})\"\n",
    "        \"MERGE (n1)-[r1:spouse]->(n2)\"\n",
    "        \"MERGE (n2)-[r2:spouse]->(n1)\"\n",
    "        \"RETURN n1, n2,r1,r2\"\n",
    ")\n",
    "\n",
    "with graph.session() as session:\n",
    "    results = session.run(query)\n",
    "    \n",
    "# common_goal link b/w pig ‘Snowball’ and horse ‘Boxer’\n",
    "\n",
    "query = (\n",
    "        \"MATCH (n1 {name:'Snowball'})\"\n",
    "        \"MATCH (n2 {name:'Boxer'})\"\n",
    "        \"MERGE (n1)-[r1:common_goal]->(n2)\"\n",
    "        \"MERGE (n2)-[r2:common_goal]->(n1)\"\n",
    "        \"RETURN n1, n2,r1,r2\"\n",
    ")\n",
    "\n",
    "with graph.session() as session:\n",
    "    results = session.run(query)\n",
    "    \n",
    "# Animals and people -lives_in-> Manor Farm\n",
    "# Note: Some people/nodes like 'Eric Blair' amd 'George Orwell' are also taken into account using the query below. I haven't separated/deleted them for now.\n",
    "# So kindly assume nodes like these are not considered in the relationship created below.\n",
    "# Also note that some animals are extracted as 'ORG' by OPENNRE. So they won't be taken into account as well.\n",
    "\n",
    "query = (\n",
    "        \"MATCH (n1:PERSON)\"\n",
    "        \"MATCH (n2 {name:'the Manor Farm'})\"\n",
    "        \"MERGE (n1)-[r1:lives_in]->(n2)\"\n",
    "        \"RETURN n1,n2,r1\"\n",
    ")\n",
    "\n",
    "with graph.session() as session:\n",
    "    results = session.run(query)\n",
    "    \n",
    "# Boxer -lives_in-> Manor Farm\n",
    "query = (\n",
    "        \"MATCH (n1 {name:'Boxer'})\"\n",
    "        \"MATCH (n2 {name:'the Manor Farm'})\"\n",
    "        \"MERGE (n1)-[r1:lives_in]->(n2)\"\n",
    "        \"RETURN n1,n2,r1\"\n",
    ")\n",
    "\n",
    "with graph.session() as session:\n",
    "    results = session.run(query)\n",
    "    \n",
    "# Manor Farm -> is_located_in -> England\n",
    "\n",
    "query = (\n",
    "        \"MATCH (n1 {name:'the Manor Farm'})\"\n",
    "        \"MATCH (n2 {name:'England'})\"\n",
    "        \"MERGE (n1)-[r1:is_located_in]->(n2)\"\n",
    "        \"RETURN n1,n2,r1\"\n",
    ")\n",
    "\n",
    "with graph.session() as session:\n",
    "    results = session.run(query)\n",
    "    \n",
    "# Benjamin and Boxer talked to each other\n",
    "\n",
    "query = (\n",
    "        \"MATCH (n1 {name:'Benjamin'})\"\n",
    "        \"MATCH (n2 {name:'Boxer'})\"\n",
    "        \"MERGE (n1)-[r1:talked]->(n2)\"\n",
    "        \"MERGE (n2)-[r2:talked]->(n1)\"\n",
    "        \"RETURN n1,n2,r1,r2\"\n",
    ")\n",
    "\n",
    "with graph.session() as session:\n",
    "    results = session.run(query)"
   ]
  },
  {
   "cell_type": "code",
   "execution_count": 35,
   "metadata": {},
   "outputs": [],
   "source": [
    "# two reasonable inference rules to extend/modify the Animal Farm KG\n",
    "\n",
    "\n",
    "# Rule 1 - Mr. Jones -lives_in-> Manor Farm -> is_located_in -> England = Mr. Jones -belongs_to-> England\n",
    "# Note: 'the Manor Farm' was extracted as a 'ORG' by OPENNRE. For now I haven't changed the label to 'GPE' and kept it same.\n",
    " \n",
    "query = (\n",
    "        \"MATCH (n1:PERSON)-[r:lives_in]->(n2:ORG)-[r2:is_located_in]->(n3:GPE)\"\n",
    "        \"MERGE (n1)-[r3:belongs_to]->(n3)\"\n",
    "        \"RETURN n1, n3\"\n",
    ")\n",
    "\n",
    "with graph.session() as session:\n",
    "    results = session.run(query)\n",
    "    \n",
    "# If anyone lived in Manor Farm and talked -> they are friends (Boxer and Benjamin)\n",
    "# Note: Boxer was extracted as a 'ORG' by OPENNRE. For now I haven't changed the label to 'PERSON' and kept it same.\n",
    "\n",
    "query = (\n",
    "        \"MATCH (n1:PERSON)-[r1:talked]-(n2:ORG)\"\n",
    "    \"MATCH (n2)-[r5:talked]->(n1)\"\n",
    "    \n",
    "        \"MATCH (n1)-[r2:lives_in]->(n3:ORG)\"\n",
    "        \"MATCH (n2)-[r3:lives_in]->(n3)\"\n",
    "    \n",
    "        \"MERGE (n1)-[r4:friends]-(n2)\"\n",
    "     \"MERGE (n2)-[r6:friends]->(n1)\"\n",
    "    \n",
    "        \"RETURN n1, n2\"\n",
    ")\n",
    "\n",
    "# Execuate above query to modify neo4j db:\n",
    "with graph.session() as session:\n",
    "    results = session.run(query)"
   ]
  },
  {
   "cell_type": "code",
   "execution_count": 36,
   "metadata": {},
   "outputs": [
    {
     "name": "stdout",
     "output_type": "stream",
     "text": [
      "Deep Thought: Snowball is common_goal Boxer.\n"
     ]
    }
   ],
   "source": [
    "# what is the relationship between pig ‘Snowball’ and horse ‘Boxer’\n",
    "\n",
    "\n",
    "query = (\n",
    "        \"MATCH (n1 {name:'Snowball'})-[r]->(n2 {name:'Boxer'})\"\n",
    "        \"RETURN n1, r, n2\"\n",
    ")\n",
    "with graph.session() as session:\n",
    "    results = session.run(query)\n",
    "    for result in results:\n",
    "        print(\"Deep Thought: {0} is {1} {2}.\".format(result['n1']['name'], \n",
    "                                                           result['r'].type, \n",
    "                                                           result['n2']['name']))"
   ]
  },
  {
   "cell_type": "markdown",
   "metadata": {},
   "source": [
    "---"
   ]
  },
  {
   "cell_type": "code",
   "execution_count": null,
   "metadata": {},
   "outputs": [],
   "source": [
    "query = (\n",
    "        \"MATCH (n1 {name:'Napoleon'})-[r]->(n2 {name:'Animal Farm'})\"\n",
    "        \"RETURN n1, r, n2\"\n",
    ")\n",
    "with graph.session() as session:\n",
    "    results = session.run(query)\n",
    "    for result in results:\n",
    "        print(\"Deep Thought: {0} is {1} {2}.\".format(result['n1']['name'], \n",
    "                                                           result['r'].type, \n",
    "                                                           result['n2']['name']))"
   ]
  },
  {
   "cell_type": "code",
   "execution_count": null,
   "metadata": {},
   "outputs": [],
   "source": [
    "query = (\n",
    "        \"MATCH (n1 {name:'Napoleon'})-[r]->(n2 {name:'Snowball'})\"\n",
    "        \"RETURN n1, r, n2\"\n",
    ")\n",
    "with graph.session() as session:\n",
    "    results = session.run(query)\n",
    "    for result in results:\n",
    "        print(\"Deep Thought: {0} has {1} {2}.\".format(result['n1']['name'], \n",
    "                                                           result['r'].type, \n",
    "                                                           result['n2']['name']))"
   ]
  },
  {
   "cell_type": "code",
   "execution_count": null,
   "metadata": {
    "scrolled": true
   },
   "outputs": [],
   "source": [
    "query = (\n",
    "        \"MATCH (n1 {name:'Rebellion'})-[r]->(n2)\"\n",
    "        \"RETURN n1, r, n2\"\n",
    ")\n",
    "with graph.session() as session:\n",
    "    results = session.run(query)\n",
    "    for result in results:\n",
    "        print(\"Deep Thought: {0} has {1} {2}.\".format(result['n1']['name'], \n",
    "                                                           result['r'].type, \n",
    "                                                           result['n2']['name']))"
   ]
  },
  {
   "cell_type": "markdown",
   "metadata": {},
   "source": [
    "# References\n",
    "\n",
    "* SpaCy: Named Entity Recognition:https://spacy.io/api/annotation#named-entities\n",
    "* OpenNRE: Relation Extraction: https://github.com/thunlp/OpenNRE#what-is-relation-extraction"
   ]
  },
  {
   "cell_type": "markdown",
   "metadata": {},
   "source": [
    "---"
   ]
  }
 ],
 "metadata": {
  "kernelspec": {
   "display_name": "Python 3",
   "language": "python",
   "name": "python3"
  },
  "language_info": {
   "codemirror_mode": {
    "name": "ipython",
    "version": 3
   },
   "file_extension": ".py",
   "mimetype": "text/x-python",
   "name": "python",
   "nbconvert_exporter": "python",
   "pygments_lexer": "ipython3",
   "version": "3.8.8"
  }
 },
 "nbformat": 4,
 "nbformat_minor": 4
}
