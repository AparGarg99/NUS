{
 "cells": [
  {
   "cell_type": "code",
   "execution_count": 1,
   "id": "c7838ee1",
   "metadata": {},
   "outputs": [],
   "source": [
    "from ortools.constraint_solver import pywrapcp\n",
    "import numpy as np\n",
    "import pandas as pd\n",
    "import matplotlib.pyplot as plt"
   ]
  },
  {
   "cell_type": "code",
   "execution_count": 2,
   "id": "d0bd2549",
   "metadata": {},
   "outputs": [],
   "source": [
    "def main(N=8):\n",
    "    # We create our solver.\n",
    "    solver = pywrapcp.Solver(\"N-queens\")\n",
    "\n",
    "    # We should now declare our queens' coordinates as variables.\n",
    "    # We want our variables to be in range of 0..N.\n",
    "    # For that we are going to use solver.IntVar.\n",
    "    # Lets create and name them q0, q1 .. q(N-1) since we have N queens.\n",
    "    queens = [solver.IntVar(0, N - 1, \"q%i\" % i) for i in range(N)]\n",
    "\n",
    "    # Time to add our constraints to our solver.\n",
    "    # We have 2 constraints. We have to ensure that no two queens are:\n",
    "    #  1- On the same column: No two values of the array can be the same.\n",
    "    #  2- On the same diagonal: The values plus(and minus) the indices should be all different.\n",
    "    # \"solver.AllDifferent\" enforces a set of variables to take distinct values\n",
    "    solver.Add(solver.AllDifferent(queens))\n",
    "    solver.Add(solver.AllDifferent([queens[i] + i for i in range(N)]))\n",
    "    solver.Add(solver.AllDifferent([queens[i] - i for i in range(N)]))\n",
    "\n",
    "    # Using the \"solver.Phase\", we tell the solver what to solve.\n",
    "    tree = solver.Phase(queens,\n",
    "                        solver.INT_VAR_SIMPLE,\n",
    "                        solver.INT_VALUE_SIMPLE)\n",
    "\n",
    "    # After creating the search tree we can now begin our search\n",
    "    solver.NewSearch(tree)\n",
    "    solution_count = 0\n",
    "    \n",
    "    # We can print our solutions while iterating over them as:\n",
    "    while solver.NextSolution():\n",
    "        solution_count += 1\n",
    "        solution = [queens[i].Value() for i in range(N)]\n",
    "        print (\"Solution %d:\" % solution_count, solution)\n",
    "        df = pd.DataFrame(np.zeros((len(solution),len(solution)), dtype=int))\n",
    "        for i in range(len(solution)):\n",
    "            df.iloc[i,solution[i]] = '*'\n",
    "        print(df)\n",
    "        \n",
    "       \n",
    "    d[N]=solution_count\n",
    "    print(d)\n",
    "\n",
    "    # We have reached the end of our search\n",
    "    # Documentation says:\n",
    "    # It is just better practice to finish the search with the method EndSearch\n",
    "    solver.EndSearch()"
   ]
  },
  {
   "cell_type": "code",
   "execution_count": 3,
   "id": "4b27cd79",
   "metadata": {},
   "outputs": [
    {
     "name": "stdout",
     "output_type": "stream",
     "text": [
      "Solution 1: [1, 3, 0, 2]\n",
      "   0  1  2  3\n",
      "0  0  *  0  0\n",
      "1  0  0  0  *\n",
      "2  *  0  0  0\n",
      "3  0  0  *  0\n",
      "Solution 2: [2, 0, 3, 1]\n",
      "   0  1  2  3\n",
      "0  0  0  *  0\n",
      "1  *  0  0  0\n",
      "2  0  0  0  *\n",
      "3  0  *  0  0\n",
      "{4: 2}\n"
     ]
    }
   ],
   "source": [
    "d={} \n",
    "main(N=4)"
   ]
  },
  {
   "cell_type": "code",
   "execution_count": 4,
   "id": "4c3ddef3",
   "metadata": {},
   "outputs": [],
   "source": [
    "def main(N=8):\n",
    "    # We create our solver.\n",
    "    solver = pywrapcp.Solver(\"N-queens\")\n",
    "    \n",
    "    queens = [solver.IntVar(0, N - 1, \"q%i\" % i) for i in range(N)]\n",
    "\n",
    "\n",
    "    solver.Add(solver.AllDifferent(queens))\n",
    "    solver.Add(solver.AllDifferent([queens[i] + i for i in range(N)]))\n",
    "    solver.Add(solver.AllDifferent([queens[i] - i for i in range(N)]))\n",
    "\n",
    "    tree = solver.Phase(queens,\n",
    "                        solver.INT_VAR_SIMPLE,\n",
    "                        solver.INT_VALUE_SIMPLE)\n",
    "    \n",
    "    solver.NewSearch(tree)\n",
    "    solution_count = 0\n",
    "    \n",
    "   \n",
    "    while solver.NextSolution():\n",
    "        solution_count += 1\n",
    "        solution = [queens[i].Value() for i in range(N)]\n",
    "          \n",
    "    d[N]=solution_count\n",
    "\n",
    "    # We have reached the end of our search\n",
    "    # Documentation says:\n",
    "    # It is just better practice to finish the search with the method EndSearch\n",
    "    solver.EndSearch()\n",
    "    \n",
    "    return d"
   ]
  },
  {
   "cell_type": "code",
   "execution_count": 5,
   "id": "fd057ed3",
   "metadata": {},
   "outputs": [],
   "source": [
    "d={}\n",
    "for i in range(4,11):\n",
    "    d=main(N=i)"
   ]
  },
  {
   "cell_type": "code",
   "execution_count": 6,
   "id": "b30d30ac",
   "metadata": {},
   "outputs": [
    {
     "data": {
      "text/plain": [
       "{4: 2, 5: 10, 6: 4, 7: 40, 8: 92, 9: 352, 10: 724}"
      ]
     },
     "execution_count": 6,
     "metadata": {},
     "output_type": "execute_result"
    }
   ],
   "source": [
    "d"
   ]
  },
  {
   "cell_type": "code",
   "execution_count": 7,
   "id": "78455dca",
   "metadata": {},
   "outputs": [
    {
     "data": {
      "image/png": "[encoded data removed]",
      "text/plain": [
       "<Figure size 432x288 with 1 Axes>"
      ]
     },
     "metadata": {
      "needs_background": "light"
     },
     "output_type": "display_data"
    }
   ],
   "source": [
    "plt.plot(d.keys(),d.values())\n",
    "plt.xlabel('Board Value (N)')\n",
    "plt.ylabel('No. of solutions')\n",
    "plt.show()"
   ]
  },
  {
   "cell_type": "code",
   "execution_count": null,
   "id": "ed6ee055",
   "metadata": {},
   "outputs": [],
   "source": [
    "# Compare results. What is the exponential growth?\n",
    "\n",
    "# I believe the question is asking to calculate the percentage change in the number of solutions from 4 to 8.\n",
    "# percentage change = ((new-old)/old)*100 = ((92-2)/2)*100 = 4500%\n",
    "\n",
    "# Note: If the growth rate was constant throughout, we could have calculated the exponential growth rate using formula:  new = old * (1 + r)^t"
   ]
  },
  {
   "cell_type": "code",
   "execution_count": null,
   "id": "c6727b34",
   "metadata": {},
   "outputs": [],
   "source": [
    "# Q. Is there a large difference? Why?\n",
    "\n",
    "# A. Yes, there is a large difference because no. of permutations to place queens without breaking the 3 constraints increases from 4*4 to 8*8 grid."
   ]
  }
 ],
 "metadata": {
  "kernelspec": {
   "display_name": "Python 3",
   "language": "python",
   "name": "python3"
  },
  "language_info": {
   "codemirror_mode": {
    "name": "ipython",
    "version": 3
   },
   "file_extension": ".py",
   "mimetype": "text/x-python",
   "name": "python",
   "nbconvert_exporter": "python",
   "pygments_lexer": "ipython3",
   "version": "3.8.8"
  }
 },
 "nbformat": 4,
 "nbformat_minor": 5
}
