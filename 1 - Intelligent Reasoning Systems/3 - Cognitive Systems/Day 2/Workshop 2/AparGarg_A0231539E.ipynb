{
  "nbformat": 4,
  "nbformat_minor": 0,
  "metadata": {
    "kernelspec": {
      "display_name": "Python 3",
      "language": "python",
      "name": "python3"
    },
    "language_info": {
      "codemirror_mode": {
        "name": "ipython",
        "version": 3
      },
      "file_extension": ".py",
      "mimetype": "text/x-python",
      "name": "python",
      "nbconvert_exporter": "python",
      "pygments_lexer": "ipython3",
      "version": "3.6.8"
    },
    "colab": {
      "name": "wk_speech_recognition_v202107.ipynb",
      "provenance": [],
      "collapsed_sections": []
    },
    "accelerator": "GPU"
  },
  "cells": [
    {
      "cell_type": "markdown",
      "metadata": {
        "id": "qJvuAWLLbpZl"
      },
      "source": [
        "# Workshop: Speech cognitive system\n",
        "\n",
        "Course: Cognitive Systems\n",
        "\n",
        "Website: https://www.iss.nus.edu.sg/executive-education/course/detail/cognitive--systems/artificial-intelligence\n",
        "\n",
        "Contact: Tian Jing\n",
        "\n",
        "email: tianjing@nus.edu.sg\n",
        "\n",
        "## Objective\n",
        "\n",
        "In this workshop, we will need to perform following task\n",
        "- Build a HMM-based speech recognition system\n",
        "\n",
        "## Reference\n",
        "\n",
        "- An isolated word recognition. Prateek Joshi, Python Machine Learning Cookbook, Packt Publishing, 2016, Code available at https://github.com/PacktPublishing/Python-Machine-Learning-Cookbook\n",
        "\n",
        "- A spoken DIGIT dataset, https://www.kaggle.com/divyanshu99/spoken-digit-dataset\n",
        "\n",
        "## Submission guideline\n",
        "\n",
        "Once you finish your workshop, rename your .ipynb file to your name, and submit your .ipynb file into LumiNUS."
      ]
    },
    {
      "cell_type": "markdown",
      "metadata": {
        "id": "kRAauL9bGjnk"
      },
      "source": [
        "# Import Libraries"
      ]
    },
    {
      "cell_type": "code",
      "metadata": {
        "id": "Dwj9NlESb71c",
        "colab": {
          "base_uri": "https://localhost:8080/"
        },
        "outputId": "4d2c2d23-8a07-44f8-dd77-7029b8487c49"
      },
      "source": [
        "# Installation (only for Google Colab)\n",
        "!pip install python_speech_features==0.6 hmmlearn==0.2.1"
      ],
      "execution_count": 1,
      "outputs": [
        {
          "output_type": "stream",
          "text": [
            "Collecting python_speech_features==0.6\n",
            "  Downloading python_speech_features-0.6.tar.gz (5.6 kB)\n",
            "Collecting hmmlearn==0.2.1\n",
            "  Downloading hmmlearn-0.2.1.tar.gz (150 kB)\n",
            "\u001b[K     |████████████████████████████████| 150 kB 5.2 MB/s \n",
            "\u001b[?25hRequirement already satisfied: numpy in /usr/local/lib/python3.7/dist-packages (from hmmlearn==0.2.1) (1.19.5)\n",
            "Requirement already satisfied: scikit-learn>=0.16 in /usr/local/lib/python3.7/dist-packages (from hmmlearn==0.2.1) (0.22.2.post1)\n",
            "Requirement already satisfied: scipy>=0.17.0 in /usr/local/lib/python3.7/dist-packages (from scikit-learn>=0.16->hmmlearn==0.2.1) (1.4.1)\n",
            "Requirement already satisfied: joblib>=0.11 in /usr/local/lib/python3.7/dist-packages (from scikit-learn>=0.16->hmmlearn==0.2.1) (1.0.1)\n",
            "Building wheels for collected packages: python-speech-features, hmmlearn\n",
            "  Building wheel for python-speech-features (setup.py) ... \u001b[?25l\u001b[?25hdone\n",
            "  Created wheel for python-speech-features: filename=python_speech_features-0.6-py3-none-any.whl size=5888 sha256=8e2f5d3cfc7721b2634de76efaffaa0a1796f614cc9fe46745e13bf8e17e9b72\n",
            "  Stored in directory: /root/.cache/pip/wheels/b0/0e/94/28cd6afa3cd5998a63eef99fe31777acd7d758f59cf24839eb\n",
            "  Building wheel for hmmlearn (setup.py) ... \u001b[?25l\u001b[?25hdone\n",
            "  Created wheel for hmmlearn: filename=hmmlearn-0.2.1-cp37-cp37m-linux_x86_64.whl size=358156 sha256=a5c7fbdb8e3db10b5ce9540ffeb658165c378d9a3e34bdcfd2f27113b1c9a3c2\n",
            "  Stored in directory: /root/.cache/pip/wheels/18/dd/3d/bd306b50cf55ee60f0d30c7142e5cbac9c27c43dbe748a9f89\n",
            "Successfully built python-speech-features hmmlearn\n",
            "Installing collected packages: python-speech-features, hmmlearn\n",
            "Successfully installed hmmlearn-0.2.1 python-speech-features-0.6\n"
          ],
          "name": "stdout"
        }
      ]
    },
    {
      "cell_type": "code",
      "metadata": {
        "scrolled": true,
        "id": "JQSpNEHNbpZo"
      },
      "source": [
        "import numpy as np\n",
        "from scipy.io import wavfile\n",
        "from google.colab import drive\n",
        "import os \n",
        "from hmmlearn import hmm\n",
        "from python_speech_features import mfcc\n",
        "import matplotlib.pyplot as plt\n",
        "%matplotlib inline"
      ],
      "execution_count": 2,
      "outputs": []
    },
    {
      "cell_type": "code",
      "metadata": {
        "id": "WLE3wY9vco_-",
        "colab": {
          "base_uri": "https://localhost:8080/"
        },
        "outputId": "a821bf8e-3bd6-49a0-f680-c3b0feb853c5"
      },
      "source": [
        "drive.mount('/content/gdrive')\n",
        "os.chdir('/content/gdrive/My Drive/iss/CGS')\n",
        "!ls"
      ],
      "execution_count": 3,
      "outputs": [
        {
          "output_type": "stream",
          "text": [
            "Mounted at /content/gdrive\n",
            "data\n"
          ],
          "name": "stdout"
        }
      ]
    },
    {
      "cell_type": "markdown",
      "metadata": {
        "id": "XVxjGxMWgDN-"
      },
      "source": [
        "# Training"
      ]
    },
    {
      "cell_type": "code",
      "metadata": {
        "id": "tPlYveN9bpZr"
      },
      "source": [
        "# Class to handle all HMM related processing\n",
        "class HMMTrainer(object):\n",
        "    def __init__(self, model_name='GaussianHMM', n_components=4, cov_type='diag', n_iter=1000):\n",
        "        self.model_name = model_name\n",
        "        self.n_components = n_components\n",
        "        self.cov_type = cov_type\n",
        "        self.n_iter = n_iter\n",
        "        self.models = []\n",
        "\n",
        "        # WRITE YOUR OWN CODE\n",
        "        self.model = hmm.GaussianHMM(n_components=self.n_components, covariance_type=self.cov_type, n_iter=self.n_iter)\n",
        "\n",
        "    # X is a 2D numpy array where each row is 13D\n",
        "    def train(self, X):\n",
        "        np.seterr(all='ignore')\n",
        "        self.models.append(self.model.fit(X))\n",
        "\n",
        "    # Run the model on input data\n",
        "    def get_score(self, input_data):\n",
        "        return self.model.score(input_data)\n",
        "    \n",
        "    def display_info(self):\n",
        "        print(\"transmat_\", self.model.transmat_)\n",
        "        print(\"n_features\", self.model.n_features)\n",
        "        \n",
        "    def predict_state(self, input_data):\n",
        "        return self.model.predict(input_data)\n"
      ],
      "execution_count": 4,
      "outputs": []
    },
    {
      "cell_type": "code",
      "metadata": {
        "id": "V0j1zqwDbpZt",
        "colab": {
          "base_uri": "https://localhost:8080/"
        },
        "outputId": "5ad593e8-c694-491d-ce09-96a7178ba15d"
      },
      "source": [
        "# Build an HMM model\n",
        "input_folder = \"data\"\n",
        "\n",
        "hmm_models = []\n",
        "# Parse the input directory\n",
        "for dirname in os.listdir(input_folder):\n",
        "    # Get the name of the subfolder \n",
        "    subfolder = input_folder + '/' + dirname\n",
        "\n",
        "    # Extract the class label\n",
        "    label = dirname\n",
        "\n",
        "    # Initialize variables\n",
        "    X = np.array([])\n",
        "    y_words = []\n",
        "\n",
        "    # Iterate through the audio files (leaving 1 file for testing in each class)\n",
        "    for filename in os.listdir(subfolder):\n",
        "        if not filename.endswith('.wav'):\n",
        "            continue\n",
        "        # Read the input file\n",
        "        filepath = subfolder + '/' + filename\n",
        "        print(\"Process the file: %s\" % filepath)\n",
        "        sampling_freq, audio = wavfile.read(filepath)\n",
        "            \n",
        "        # Extract MFCC features\n",
        "        mfcc_features = mfcc(audio, sampling_freq)\n",
        "\n",
        "        # Append to the variable X\n",
        "        if len(X) == 0:\n",
        "            X = mfcc_features\n",
        "        else:\n",
        "            X = np.append(X, mfcc_features, axis=0)\n",
        "            \n",
        "    # Append the label\n",
        "    y_words.append(label)\n",
        "\n",
        "    # Train and save HMM model\n",
        "    hmm_trainer = HMMTrainer(n_components=4)\n",
        "    hmm_trainer.train(X)\n",
        "    hmm_models.append((hmm_trainer, label))\n",
        "    hmm_trainer = None"
      ],
      "execution_count": 5,
      "outputs": [
        {
          "output_type": "stream",
          "text": [
            "Process the file: data/banana/banana09.wav\n",
            "Process the file: data/banana/banana12.wav\n",
            "Process the file: data/banana/banana04.wav\n",
            "Process the file: data/banana/banana02.wav\n",
            "Process the file: data/banana/banana07.wav\n",
            "Process the file: data/banana/banana14.wav\n",
            "Process the file: data/banana/banana15.wav\n",
            "Process the file: data/banana/banana03.wav\n",
            "Process the file: data/banana/banana06.wav\n",
            "Process the file: data/banana/banana13.wav\n",
            "Process the file: data/banana/banana11.wav\n",
            "Process the file: data/banana/banana08.wav\n",
            "Process the file: data/banana/banana10.wav\n",
            "Process the file: data/banana/banana01.wav\n",
            "Process the file: data/banana/banana05.wav\n",
            "Process the file: data/apple/apple12.wav\n",
            "Process the file: data/apple/apple02.wav\n",
            "Process the file: data/apple/apple10.wav\n",
            "Process the file: data/apple/apple05.wav\n",
            "Process the file: data/apple/apple04.wav\n",
            "Process the file: data/apple/apple07.wav\n",
            "Process the file: data/apple/apple08.wav\n",
            "Process the file: data/apple/apple11.wav\n",
            "Process the file: data/apple/apple15.wav\n",
            "Process the file: data/apple/apple14.wav\n",
            "Process the file: data/apple/apple01.wav\n",
            "Process the file: data/apple/apple09.wav\n",
            "Process the file: data/apple/apple13.wav\n",
            "Process the file: data/apple/apple03.wav\n",
            "Process the file: data/apple/apple06.wav\n",
            "Process the file: data/orange/orange09.wav\n",
            "Process the file: data/orange/orange01.wav\n",
            "Process the file: data/orange/orange02.wav\n",
            "Process the file: data/orange/orange15.wav\n",
            "Process the file: data/orange/orange14.wav\n",
            "Process the file: data/orange/orange07.wav\n",
            "Process the file: data/orange/orange05.wav\n",
            "Process the file: data/orange/orange04.wav\n",
            "Process the file: data/orange/orange10.wav\n",
            "Process the file: data/orange/orange08.wav\n",
            "Process the file: data/orange/orange06.wav\n",
            "Process the file: data/orange/orange13.wav\n",
            "Process the file: data/orange/orange11.wav\n",
            "Process the file: data/orange/orange12.wav\n",
            "Process the file: data/orange/orange03.wav\n",
            "Process the file: data/pineapple/pineapple07.wav\n",
            "Process the file: data/pineapple/pineapple09.wav\n",
            "Process the file: data/pineapple/pineapple10.wav\n",
            "Process the file: data/pineapple/pineapple03.wav\n",
            "Process the file: data/pineapple/pineapple06.wav\n",
            "Process the file: data/pineapple/pineapple13.wav\n",
            "Process the file: data/pineapple/pineapple02.wav\n",
            "Process the file: data/pineapple/pineapple15.wav\n",
            "Process the file: data/pineapple/pineapple08.wav\n",
            "Process the file: data/pineapple/pineapple14.wav\n",
            "Process the file: data/pineapple/pineapple05.wav\n",
            "Process the file: data/pineapple/pineapple04.wav\n",
            "Process the file: data/pineapple/pineapple12.wav\n",
            "Process the file: data/pineapple/pineapple11.wav\n",
            "Process the file: data/pineapple/pineapple01.wav\n",
            "Process the file: data/kiwi/kiwi15.wav\n",
            "Process the file: data/kiwi/kiwi09.wav\n",
            "Process the file: data/kiwi/kiwi03.wav\n",
            "Process the file: data/kiwi/kiwi07.wav\n",
            "Process the file: data/kiwi/kiwi06.wav\n",
            "Process the file: data/kiwi/kiwi12.wav\n",
            "Process the file: data/kiwi/kiwi10.wav\n",
            "Process the file: data/kiwi/kiwi11.wav\n",
            "Process the file: data/kiwi/kiwi05.wav\n",
            "Process the file: data/kiwi/kiwi14.wav\n",
            "Process the file: data/kiwi/kiwi04.wav\n",
            "Process the file: data/kiwi/kiwi13.wav\n",
            "Process the file: data/kiwi/kiwi08.wav\n",
            "Process the file: data/kiwi/kiwi02.wav\n",
            "Process the file: data/kiwi/kiwi01.wav\n",
            "Process the file: data/peach/peach10.wav\n",
            "Process the file: data/peach/peach03.wav\n",
            "Process the file: data/peach/peach12.wav\n",
            "Process the file: data/peach/peach04.wav\n",
            "Process the file: data/peach/peach07.wav\n",
            "Process the file: data/peach/peach11.wav\n",
            "Process the file: data/peach/peach08.wav\n",
            "Process the file: data/peach/peach06.wav\n",
            "Process the file: data/peach/peach15.wav\n",
            "Process the file: data/peach/peach14.wav\n",
            "Process the file: data/peach/peach05.wav\n",
            "Process the file: data/peach/peach01.wav\n",
            "Process the file: data/peach/peach09.wav\n",
            "Process the file: data/peach/peach02.wav\n",
            "Process the file: data/peach/peach13.wav\n",
            "Process the file: data/lime/lime03.wav\n",
            "Process the file: data/lime/lime15.wav\n",
            "Process the file: data/lime/lime05.wav\n",
            "Process the file: data/lime/lime04.wav\n",
            "Process the file: data/lime/lime07.wav\n",
            "Process the file: data/lime/lime01.wav\n",
            "Process the file: data/lime/lime12.wav\n",
            "Process the file: data/lime/lime08.wav\n",
            "Process the file: data/lime/lime10.wav\n",
            "Process the file: data/lime/lime14.wav\n",
            "Process the file: data/lime/lime09.wav\n",
            "Process the file: data/lime/lime02.wav\n",
            "Process the file: data/lime/lime11.wav\n",
            "Process the file: data/lime/lime13.wav\n",
            "Process the file: data/lime/lime06.wav\n"
          ],
          "name": "stdout"
        }
      ]
    },
    {
      "cell_type": "code",
      "metadata": {
        "id": "d_5dKQacbpZw",
        "colab": {
          "base_uri": "https://localhost:8080/"
        },
        "outputId": "0904802c-2fd8-483e-df0a-8361a2effd7d"
      },
      "source": [
        "# Display the state transition probability matrix of the HMM model\n",
        "\n",
        "hmm_model, label = hmm_models[0]\n",
        "hmm_model.display_info()"
      ],
      "execution_count": 6,
      "outputs": [
        {
          "output_type": "stream",
          "text": [
            "transmat_ [[7.65456969e-01 9.08178054e-03 5.87156471e-02 1.66745603e-01]\n",
            " [1.00007268e-01 8.84772008e-01 1.30811203e-07 1.52205937e-02]\n",
            " [5.69203853e-02 1.28506175e-10 9.30022437e-01 1.30571780e-02]\n",
            " [1.34494110e-01 6.56205221e-02 8.06822203e-03 7.91817146e-01]]\n",
            "n_features 13\n"
          ],
          "name": "stdout"
        }
      ]
    },
    {
      "cell_type": "markdown",
      "metadata": {
        "id": "XBT9318bgHAs"
      },
      "source": [
        "# Testing"
      ]
    },
    {
      "cell_type": "code",
      "metadata": {
        "id": "TB96toS8bpZ5"
      },
      "source": [
        "def testing(test_file_name):\n",
        "  # Step 1: Select test audio file\n",
        "  sampling_freq, audio = wavfile.read(test_file_name)\n",
        "\n",
        "  # Plot audio file\n",
        "  # plt.figure(figsize=(20,5))\n",
        "  plt.figure()\n",
        "  plt.plot(audio)\n",
        "  plt.xlabel('Signal index')\n",
        "  plt.ylabel('Amplitude')\n",
        "  plt.show()\n",
        "\n",
        "  # Step 2: Extract MFCC features\n",
        "  mfcc_features = mfcc(audio, sampling_freq)\n",
        "\n",
        "  # Plot MFCCs\n",
        "  #plt.figure(figsize=(20,10))\n",
        "  plt.figure()\n",
        "  plt.imshow(mfcc_features.T)\n",
        "  plt.title('MFCC ' + test_file_name)\n",
        "\n",
        "  max_score = None\n",
        "  output_label = None\n",
        "\n",
        "  # Step 3: Iterate through all HMM models and pick the one with the highest score\n",
        "  for item in hmm_models:\n",
        "      hmm_model, label = item\n",
        "      score = hmm_model.get_score(mfcc_features)\n",
        "      if max_score is None:\n",
        "          max_score = score\n",
        "          output_label = label\n",
        "\n",
        "      if score > max_score:\n",
        "          max_score = score\n",
        "          output_label = label\n",
        "\n",
        "  # Print the output\n",
        "  print('Process file: %s, Predicted: %s, Score: %.4f' % (test_file_name, output_label, max_score))\n"
      ],
      "execution_count": 14,
      "outputs": []
    },
    {
      "cell_type": "code",
      "metadata": {
        "colab": {
          "base_uri": "https://localhost:8080/",
          "height": 475
        },
        "id": "UvIUVO32f4YP",
        "outputId": "e60ad130-f6d4-4fea-d92f-084e0f2c57c0"
      },
      "source": [
        "testing('data/apple/apple01.wav')"
      ],
      "execution_count": 15,
      "outputs": [
        {
          "output_type": "display_data",
          "data": {
            "image/png": "[encoded data removed]",
            "text/plain": [
              "<Figure size 432x288 with 1 Axes>"
            ]
          },
          "metadata": {
            "tags": [],
            "needs_background": "light"
          }
        },
        {
          "output_type": "stream",
          "text": [
            "Process file: data/apple/apple01.wav, Predicted: apple, Score: -1387.3199\n"
          ],
          "name": "stdout"
        },
        {
          "output_type": "display_data",
          "data": {
            "image/png": "[encoded data removed]",
            "text/plain": [
              "<Figure size 432x288 with 1 Axes>"
            ]
          },
          "metadata": {
            "tags": [],
            "needs_background": "light"
          }
        }
      ]
    },
    {
      "cell_type": "markdown",
      "metadata": {
        "id": "rrW8fPKbbpZ7"
      },
      "source": [
        "$\\color{red}{\\text{Q1. Complete following code to perform HMM-based audio recognition.}}$\n",
        "\n",
        "Tasks\n",
        "- Apply the pre-trained HMM model to perform audio recognition\n",
        "- Evaluate the audio recognition performance by changing HMM model configuration\n",
        "\n",
        "Reference\n",
        "- HMMLearn, https://hmmlearn.readthedocs.io/en/latest/tutorial.html\n",
        "- Python_speech_features,\n",
        "https://python-speech-features.readthedocs.io/en/latest/"
      ]
    },
    {
      "cell_type": "code",
      "metadata": {
        "id": "k191GRs9bpZ7",
        "colab": {
          "base_uri": "https://localhost:8080/",
          "height": 425
        },
        "outputId": "e7963f28-af44-4b73-a6b7-1a6e722fd1e1"
      },
      "source": [
        "# Apply HMM model with n_components=4 and covariance_type='diag'\n",
        "\n",
        "testing('data/pineapple/pineapple15.wav')"
      ],
      "execution_count": 16,
      "outputs": [
        {
          "output_type": "display_data",
          "data": {
            "image/png": "[encoded data removed]",
            "text/plain": [
              "<Figure size 432x288 with 1 Axes>"
            ]
          },
          "metadata": {
            "tags": [],
            "needs_background": "light"
          }
        },
        {
          "output_type": "stream",
          "text": [
            "Process file: data/pineapple/pineapple15.wav, Predicted: pineapple, Score: -2560.0186\n"
          ],
          "name": "stdout"
        },
        {
          "output_type": "display_data",
          "data": {
            "image/png": "[encoded data removed]",
            "text/plain": [
              "<Figure size 432x288 with 1 Axes>"
            ]
          },
          "metadata": {
            "tags": [],
            "needs_background": "light"
          }
        }
      ]
    },
    {
      "cell_type": "code",
      "metadata": {
        "colab": {
          "base_uri": "https://localhost:8080/"
        },
        "id": "kLBDTf3vs1n1",
        "outputId": "9478c9c1-a6d2-443e-d077-0e3c597c7f73"
      },
      "source": [
        "# Build an HMM model with n_components=3 and covariance_type='full'\n",
        "\n",
        "hmm_models = []\n",
        "# Parse the input directory\n",
        "for dirname in os.listdir(input_folder):\n",
        "    # Get the name of the subfolder \n",
        "    subfolder = input_folder + '/' + dirname\n",
        "\n",
        "    # Extract the class label\n",
        "    label = dirname\n",
        "\n",
        "    # Initialize variables\n",
        "    X = np.array([])\n",
        "    y_words = []\n",
        "\n",
        "    # Iterate through the audio files (leaving 1 file for testing in each class)\n",
        "    for filename in os.listdir(subfolder):\n",
        "        if not filename.endswith('.wav'):\n",
        "            continue\n",
        "        # Read the input file\n",
        "        filepath = subfolder + '/' + filename\n",
        "        print(\"Process the file: %s\" % filepath)\n",
        "        sampling_freq, audio = wavfile.read(filepath)\n",
        "            \n",
        "        # Extract MFCC features\n",
        "        mfcc_features = mfcc(audio, sampling_freq)\n",
        "\n",
        "        # Append to the variable X\n",
        "        if len(X) == 0:\n",
        "            X = mfcc_features\n",
        "        else:\n",
        "            X = np.append(X, mfcc_features, axis=0)\n",
        "            \n",
        "    # Append the label\n",
        "    y_words.append(label)\n",
        "\n",
        "    # Train and save HMM model\n",
        "    hmm_trainer = HMMTrainer(n_components=3, cov_type=\"full\")\n",
        "    hmm_trainer.train(X)\n",
        "    hmm_models.append((hmm_trainer, label))\n",
        "    hmm_trainer = None"
      ],
      "execution_count": 17,
      "outputs": [
        {
          "output_type": "stream",
          "text": [
            "Process the file: data/banana/banana09.wav\n",
            "Process the file: data/banana/banana12.wav\n",
            "Process the file: data/banana/banana04.wav\n",
            "Process the file: data/banana/banana02.wav\n",
            "Process the file: data/banana/banana07.wav\n",
            "Process the file: data/banana/banana14.wav\n",
            "Process the file: data/banana/banana15.wav\n",
            "Process the file: data/banana/banana03.wav\n",
            "Process the file: data/banana/banana06.wav\n",
            "Process the file: data/banana/banana13.wav\n",
            "Process the file: data/banana/banana11.wav\n",
            "Process the file: data/banana/banana08.wav\n",
            "Process the file: data/banana/banana10.wav\n",
            "Process the file: data/banana/banana01.wav\n",
            "Process the file: data/banana/banana05.wav\n",
            "Process the file: data/apple/apple12.wav\n",
            "Process the file: data/apple/apple02.wav\n",
            "Process the file: data/apple/apple10.wav\n",
            "Process the file: data/apple/apple05.wav\n",
            "Process the file: data/apple/apple04.wav\n",
            "Process the file: data/apple/apple07.wav\n",
            "Process the file: data/apple/apple08.wav\n",
            "Process the file: data/apple/apple11.wav\n",
            "Process the file: data/apple/apple15.wav\n",
            "Process the file: data/apple/apple14.wav\n",
            "Process the file: data/apple/apple01.wav\n",
            "Process the file: data/apple/apple09.wav\n",
            "Process the file: data/apple/apple13.wav\n",
            "Process the file: data/apple/apple03.wav\n",
            "Process the file: data/apple/apple06.wav\n",
            "Process the file: data/orange/orange09.wav\n",
            "Process the file: data/orange/orange01.wav\n",
            "Process the file: data/orange/orange02.wav\n",
            "Process the file: data/orange/orange15.wav\n",
            "Process the file: data/orange/orange14.wav\n",
            "Process the file: data/orange/orange07.wav\n",
            "Process the file: data/orange/orange05.wav\n",
            "Process the file: data/orange/orange04.wav\n",
            "Process the file: data/orange/orange10.wav\n",
            "Process the file: data/orange/orange08.wav\n",
            "Process the file: data/orange/orange06.wav\n",
            "Process the file: data/orange/orange13.wav\n",
            "Process the file: data/orange/orange11.wav\n",
            "Process the file: data/orange/orange12.wav\n",
            "Process the file: data/orange/orange03.wav\n",
            "Process the file: data/pineapple/pineapple07.wav\n",
            "Process the file: data/pineapple/pineapple09.wav\n",
            "Process the file: data/pineapple/pineapple10.wav\n",
            "Process the file: data/pineapple/pineapple03.wav\n",
            "Process the file: data/pineapple/pineapple06.wav\n",
            "Process the file: data/pineapple/pineapple13.wav\n",
            "Process the file: data/pineapple/pineapple02.wav\n",
            "Process the file: data/pineapple/pineapple15.wav\n",
            "Process the file: data/pineapple/pineapple08.wav\n",
            "Process the file: data/pineapple/pineapple14.wav\n",
            "Process the file: data/pineapple/pineapple05.wav\n",
            "Process the file: data/pineapple/pineapple04.wav\n",
            "Process the file: data/pineapple/pineapple12.wav\n",
            "Process the file: data/pineapple/pineapple11.wav\n",
            "Process the file: data/pineapple/pineapple01.wav\n",
            "Process the file: data/kiwi/kiwi15.wav\n",
            "Process the file: data/kiwi/kiwi09.wav\n",
            "Process the file: data/kiwi/kiwi03.wav\n",
            "Process the file: data/kiwi/kiwi07.wav\n",
            "Process the file: data/kiwi/kiwi06.wav\n",
            "Process the file: data/kiwi/kiwi12.wav\n",
            "Process the file: data/kiwi/kiwi10.wav\n",
            "Process the file: data/kiwi/kiwi11.wav\n",
            "Process the file: data/kiwi/kiwi05.wav\n",
            "Process the file: data/kiwi/kiwi14.wav\n",
            "Process the file: data/kiwi/kiwi04.wav\n",
            "Process the file: data/kiwi/kiwi13.wav\n",
            "Process the file: data/kiwi/kiwi08.wav\n",
            "Process the file: data/kiwi/kiwi02.wav\n",
            "Process the file: data/kiwi/kiwi01.wav\n",
            "Process the file: data/peach/peach10.wav\n",
            "Process the file: data/peach/peach03.wav\n",
            "Process the file: data/peach/peach12.wav\n",
            "Process the file: data/peach/peach04.wav\n",
            "Process the file: data/peach/peach07.wav\n",
            "Process the file: data/peach/peach11.wav\n",
            "Process the file: data/peach/peach08.wav\n",
            "Process the file: data/peach/peach06.wav\n",
            "Process the file: data/peach/peach15.wav\n",
            "Process the file: data/peach/peach14.wav\n",
            "Process the file: data/peach/peach05.wav\n",
            "Process the file: data/peach/peach01.wav\n",
            "Process the file: data/peach/peach09.wav\n",
            "Process the file: data/peach/peach02.wav\n",
            "Process the file: data/peach/peach13.wav\n",
            "Process the file: data/lime/lime03.wav\n",
            "Process the file: data/lime/lime15.wav\n",
            "Process the file: data/lime/lime05.wav\n",
            "Process the file: data/lime/lime04.wav\n",
            "Process the file: data/lime/lime07.wav\n",
            "Process the file: data/lime/lime01.wav\n",
            "Process the file: data/lime/lime12.wav\n",
            "Process the file: data/lime/lime08.wav\n",
            "Process the file: data/lime/lime10.wav\n",
            "Process the file: data/lime/lime14.wav\n",
            "Process the file: data/lime/lime09.wav\n",
            "Process the file: data/lime/lime02.wav\n",
            "Process the file: data/lime/lime11.wav\n",
            "Process the file: data/lime/lime13.wav\n",
            "Process the file: data/lime/lime06.wav\n"
          ],
          "name": "stdout"
        }
      ]
    },
    {
      "cell_type": "code",
      "metadata": {
        "colab": {
          "base_uri": "https://localhost:8080/"
        },
        "id": "hLUC0L8fuYg8",
        "outputId": "a88c9681-fc6c-4cc6-a0dd-5f924b736b3e"
      },
      "source": [
        "# Display the state transition probability matrix of the HMM model\n",
        "\n",
        "hmm_model, label = hmm_models[0]\n",
        "hmm_model.display_info()"
      ],
      "execution_count": 19,
      "outputs": [
        {
          "output_type": "stream",
          "text": [
            "transmat_ [[0.88689978 0.0862162  0.02688402]\n",
            " [0.05562099 0.86838169 0.07599732]\n",
            " [0.00598177 0.06802711 0.92599112]]\n",
            "n_features 13\n"
          ],
          "name": "stdout"
        }
      ]
    },
    {
      "cell_type": "code",
      "metadata": {
        "colab": {
          "base_uri": "https://localhost:8080/",
          "height": 425
        },
        "id": "ARdwNHdatNh8",
        "outputId": "36ab64e5-a613-4db2-d69a-c20dcd610a53"
      },
      "source": [
        "# Apply HMM model with n_components=3 and covariance_type='full'\n",
        "\n",
        "\n",
        "testing('data/pineapple/pineapple15.wav')"
      ],
      "execution_count": 18,
      "outputs": [
        {
          "output_type": "display_data",
          "data": {
            "image/png": "[encoded data removed]",
            "text/plain": [
              "<Figure size 432x288 with 1 Axes>"
            ]
          },
          "metadata": {
            "tags": [],
            "needs_background": "light"
          }
        },
        {
          "output_type": "stream",
          "text": [
            "Process file: data/pineapple/pineapple15.wav, Predicted: pineapple, Score: -2486.2582\n"
          ],
          "name": "stdout"
        },
        {
          "output_type": "display_data",
          "data": {
            "image/png": "[encoded data removed]",
            "text/plain": [
              "<Figure size 432x288 with 1 Axes>"
            ]
          },
          "metadata": {
            "tags": [],
            "needs_background": "light"
          }
        }
      ]
    },
    {
      "cell_type": "markdown",
      "metadata": {
        "id": "D2tUvMlAbpZ9"
      },
      "source": [
        "$\\color{red}{\\text{Q2. What is strength and limitation of the HMM-based speech recognition system (single word command recognition) developed in this workshop?}}$"
      ]
    },
    {
      "cell_type": "code",
      "metadata": {
        "id": "_NaUsJUbbpZ-"
      },
      "source": [
        "# Provide your answer to Question 2 here\n",
        "\n",
        "# Strength\n",
        "# 1. This technique is fast because there are lesser no. of trainable parameters unlike Neural Networks which have huge no. of trainable parameters.\n",
        "# 2. High accuracy in recognizing single word command because there are 7 models and each model needs to check only one word.\n",
        "\n",
        "# Limitation\n",
        "# 1. It will fail to detect any word which is not among these 7 words.\n",
        "# 2. This technique is not efficient. We are creating a separate model for each word/class."
      ],
      "execution_count": null,
      "outputs": []
    },
    {
      "cell_type": "markdown",
      "metadata": {
        "id": "7K0F-I23bpaA"
      },
      "source": [
        "**Once you finish your workshop, rename your .ipynb file to your name, and submit your .ipynb file into LumiNUS.**\n",
        "\n",
        "Have a nice day!"
      ]
    }
  ]
}