{
 "cells": [
  {
   "cell_type": "markdown",
   "metadata": {},
   "source": [
    "# 0. Installation (one time job)"
   ]
  },
  {
   "cell_type": "code",
   "execution_count": 1,
   "metadata": {},
   "outputs": [],
   "source": [
    "#!pip install scikit-learn==0.23.1"
   ]
  },
  {
   "cell_type": "code",
   "execution_count": 2,
   "metadata": {
    "scrolled": false
   },
   "outputs": [
    {
     "name": "stdout",
     "output_type": "stream",
     "text": [
      "Requirement already satisfied: openpyxl in /home/apar/anaconda3/envs/day2/lib/python3.6/site-packages (3.0.7)\r\n",
      "Requirement already satisfied: et-xmlfile in /home/apar/anaconda3/envs/day2/lib/python3.6/site-packages (from openpyxl) (1.1.0)\r\n"
     ]
    }
   ],
   "source": [
    "# xlrd no longer support xlsx - https://stackoverflow.com/questions/65254535/xlrd-biffh-xlrderror-excel-xlsx-file-not-supported\n",
    "!pip install openpyxl"
   ]
  },
  {
   "cell_type": "markdown",
   "metadata": {},
   "source": [
    "# 1. Import Library"
   ]
  },
  {
   "cell_type": "code",
   "execution_count": 3,
   "metadata": {},
   "outputs": [],
   "source": [
    "import pandas as pd\n",
    "from sklearn.feature_extraction.text import TfidfVectorizer, CountVectorizer\n",
    "from sklearn.decomposition import LatentDirichletAllocation\n",
    "from TextPreprocessing import text_preprocessing"
   ]
  },
  {
   "cell_type": "markdown",
   "metadata": {},
   "source": [
    "# 2. Check Data"
   ]
  },
  {
   "cell_type": "code",
   "execution_count": 4,
   "metadata": {
    "scrolled": true
   },
   "outputs": [
    {
     "data": {
      "text/html": [
       "<div>\n",
       "<style scoped>\n",
       "    .dataframe tbody tr th:only-of-type {\n",
       "        vertical-align: middle;\n",
       "    }\n",
       "\n",
       "    .dataframe tbody tr th {\n",
       "        vertical-align: top;\n",
       "    }\n",
       "\n",
       "    .dataframe thead th {\n",
       "        text-align: right;\n",
       "    }\n",
       "</style>\n",
       "<table border=\"1\" class=\"dataframe\">\n",
       "  <thead>\n",
       "    <tr style=\"text-align: right;\">\n",
       "      <th></th>\n",
       "      <th>sn</th>\n",
       "      <th>Question</th>\n",
       "      <th>Long_Answer</th>\n",
       "      <th>Short_Answer</th>\n",
       "      <th>Source</th>\n",
       "      <th>Remarks</th>\n",
       "    </tr>\n",
       "  </thead>\n",
       "  <tbody>\n",
       "    <tr>\n",
       "      <th>0</th>\n",
       "      <td>1</td>\n",
       "      <td>What are Autism Spectrum Disorders (ASD)?</td>\n",
       "      <td>ASD refers to a wide spectrum of neurodevelopm...</td>\n",
       "      <td>NaN</td>\n",
       "      <td>http://birchtreecenter.org/learn/autism</td>\n",
       "      <td>NaN</td>\n",
       "    </tr>\n",
       "    <tr>\n",
       "      <th>1</th>\n",
       "      <td>2</td>\n",
       "      <td>How common is autism?</td>\n",
       "      <td>According to a 2020 report commissioned by the...</td>\n",
       "      <td>NaN</td>\n",
       "      <td>http://birchtreecenter.org/learn/autism</td>\n",
       "      <td>NaN</td>\n",
       "    </tr>\n",
       "    <tr>\n",
       "      <th>2</th>\n",
       "      <td>3</td>\n",
       "      <td>What causes autism? Can it be cured?</td>\n",
       "      <td>The causes of this complex disorder remain unc...</td>\n",
       "      <td>NaN</td>\n",
       "      <td>http://birchtreecenter.org/learn/autism</td>\n",
       "      <td>NaN</td>\n",
       "    </tr>\n",
       "    <tr>\n",
       "      <th>3</th>\n",
       "      <td>4</td>\n",
       "      <td>Why doesn’t intervention center refer to its s...</td>\n",
       "      <td>Our students are children or youth who are cha...</td>\n",
       "      <td>NaN</td>\n",
       "      <td>http://birchtreecenter.org/learn/autism</td>\n",
       "      <td>NaN</td>\n",
       "    </tr>\n",
       "    <tr>\n",
       "      <th>4</th>\n",
       "      <td>5</td>\n",
       "      <td>What are the types of Autism Spectrum Disorders?</td>\n",
       "      <td>Autistic Disorder; Asperger Syndrome; Pervasiv...</td>\n",
       "      <td>NaN</td>\n",
       "      <td>http://dhss.alaska.gov/dph/wcfh/Pages/autism/s...</td>\n",
       "      <td>NaN</td>\n",
       "    </tr>\n",
       "  </tbody>\n",
       "</table>\n",
       "</div>"
      ],
      "text/plain": [
       "   sn                                           Question  \\\n",
       "0   1          What are Autism Spectrum Disorders (ASD)?   \n",
       "1   2                              How common is autism?   \n",
       "2   3               What causes autism? Can it be cured?   \n",
       "3   4  Why doesn’t intervention center refer to its s...   \n",
       "4   5   What are the types of Autism Spectrum Disorders?   \n",
       "\n",
       "                                         Long_Answer  Short_Answer  \\\n",
       "0  ASD refers to a wide spectrum of neurodevelopm...           NaN   \n",
       "1  According to a 2020 report commissioned by the...           NaN   \n",
       "2  The causes of this complex disorder remain unc...           NaN   \n",
       "3  Our students are children or youth who are cha...           NaN   \n",
       "4  Autistic Disorder; Asperger Syndrome; Pervasiv...           NaN   \n",
       "\n",
       "                                              Source  Remarks  \n",
       "0            http://birchtreecenter.org/learn/autism      NaN  \n",
       "1            http://birchtreecenter.org/learn/autism      NaN  \n",
       "2            http://birchtreecenter.org/learn/autism      NaN  \n",
       "3            http://birchtreecenter.org/learn/autism      NaN  \n",
       "4  http://dhss.alaska.gov/dph/wcfh/Pages/autism/s...      NaN  "
      ]
     },
     "execution_count": 4,
     "metadata": {},
     "output_type": "execute_result"
    }
   ],
   "source": [
    "# Read data\n",
    "pd.set_option('display.max_columns', None)\n",
    "\n",
    "# data = pd.read_excel('./ASD FAQ KB v001.xlsx', sheet_name='FAQ')\n",
    "data = pd.read_excel('./ASD FAQ KB v001.xlsx', sheet_name='FAQ', engine='openpyxl')\n",
    "\n",
    "data.head()"
   ]
  },
  {
   "cell_type": "code",
   "execution_count": 5,
   "metadata": {},
   "outputs": [
    {
     "name": "stdout",
     "output_type": "stream",
     "text": [
      "(226, 6)\n"
     ]
    }
   ],
   "source": [
    "print(data.shape)"
   ]
  },
  {
   "cell_type": "markdown",
   "metadata": {},
   "source": [
    "# 3. Data Preprocessing"
   ]
  },
  {
   "cell_type": "code",
   "execution_count": 6,
   "metadata": {},
   "outputs": [
    {
     "name": "stdout",
     "output_type": "stream",
     "text": [
      "(226, 2753)\n"
     ]
    }
   ],
   "source": [
    "# Select long_answer from the data\n",
    "long_answer = data.get('Long_Answer')\n",
    "\n",
    "# Preprocess the long_answer\n",
    "long_answer = long_answer.map(lambda x: ' '.join(text_preprocessing(x)))\n",
    "\n",
    "# Vectorize the answers (one-hot)\n",
    "sparse_vectorizer = CountVectorizer(strip_accents = 'unicode')\n",
    "sparse_vectors = sparse_vectorizer.fit_transform(long_answer)\n",
    "\n",
    "# (226, 2753)\n",
    "print(sparse_vectors.shape)"
   ]
  },
  {
   "cell_type": "markdown",
   "metadata": {},
   "source": [
    "# 4. Build Topic Model using LDA"
   ]
  },
  {
   "cell_type": "code",
   "execution_count": 7,
   "metadata": {},
   "outputs": [
    {
     "data": {
      "text/plain": [
       "LatentDirichletAllocation(learning_method='online', max_iter=1000,\n",
       "                          n_components=4, random_state=0)"
      ]
     },
     "execution_count": 7,
     "metadata": {},
     "output_type": "execute_result"
    }
   ],
   "source": [
    "# Your super power to define number of topics\n",
    "n_topics = 4\n",
    "\n",
    "# Run LDA to generate topics/clusters\n",
    "lda = LatentDirichletAllocation(n_components=n_topics, max_iter=1000,\n",
    "                                learning_method='online',\n",
    "                                random_state=0)\n",
    "\n",
    "lda.fit(sparse_vectors)"
   ]
  },
  {
   "cell_type": "markdown",
   "metadata": {},
   "source": [
    "# 5. Display the resulting topics/clusters of ASD FAQ's Long_Answer field"
   ]
  },
  {
   "cell_type": "code",
   "execution_count": 8,
   "metadata": {},
   "outputs": [],
   "source": [
    "# Print the top-n key words\n",
    "def print_top_words(model, feature_names, n_top_words):\n",
    "    for topic_idx, topic in enumerate(model.components_):\n",
    "        print(\"Topic #%d:\" % topic_idx)\n",
    "        print(\" \".join([feature_names[i] for i in topic.argsort()[:-n_top_words - 1:-1]]))\n",
    "    print()"
   ]
  },
  {
   "cell_type": "code",
   "execution_count": 9,
   "metadata": {},
   "outputs": [
    {
     "name": "stdout",
     "output_type": "stream",
     "text": [
      "Topic 1\n",
      "autism disorder asd child may spectrum people behavior social cause\n",
      "\n",
      "Topic 2\n",
      "child autism may treatment intervention diagnosis early help parent therapy\n",
      "\n",
      "Topic 3\n",
      "institute national autism tel information health disorder fax behavior md\n",
      "\n",
      "Topic 4\n",
      "ability assessment behaviour concern specific characteristic academic ot memory diet\n",
      "\n"
     ]
    }
   ],
   "source": [
    "# Show the first n_top_words key words\n",
    "n_top_words = 10\n",
    "feature_names = sparse_vectorizer.get_feature_names()\n",
    "\n",
    "for i, topic in enumerate(lda.components_):\n",
    "    print('Topic {num}'.format(num=i+1))\n",
    "    print(\" \".join([feature_names[i] for i in topic.argsort()[:-n_top_words - 1:-1]]))\n",
    "    print()"
   ]
  },
  {
   "cell_type": "code",
   "execution_count": 13,
   "metadata": {
    "scrolled": false
   },
   "outputs": [
    {
     "name": "stdout",
     "output_type": "stream",
     "text": [
      "Belongs to Topic:  1\n",
      "---------------\n",
      "Question:  What are Autism Spectrum Disorders (ASD)?\n",
      "Answer:  ASD refers to a wide spectrum of neurodevelopmental disorders that affect communication, behavior, and social interaction. Children with ASD have delayed or absent communication skills and may demonstrate repetitive or idiosyncratic use of language. They often have underdeveloped play skills and may engage in repetitive behaviors or adhere to rigid routines. For more information about the warning signs for autism, visit the U.S. Centers for Disease Control and Prevention website at www.cdc.gov/actearly.\n",
      "\n",
      "--------------------------------------------------\n",
      "Question:  How common is autism?\n",
      "Answer:  According to a 2020 report commissioned by the U.S. Centers for Disease Control and Prevention, approximately one in 54 American children has been diagnosed with autism or a closely related neurodevelopmental disorder—a dramatic increase over the past decade.\n",
      "\n",
      "--------------------------------------------------\n",
      "Question:  What causes autism? Can it be cured?\n",
      "Answer:  The causes of this complex disorder remain uncertain. Instructional methods such as Applied Behavior Analysis have proven effective in helping individuals with autism learn to overcome many of the challenges that autism presents. These interventions have proven particularly effective when started during the first several years of a child’s life.\n",
      "\n",
      "--------------------------------------------------\n",
      "Question:  Why doesn’t intervention center refer to its students as “autistic”?\n",
      "Answer:  Our students are children or youth who are challenged by autism—but not defined by it. “Oh, he’s autistic!” is quite different than “Oh, that’s Charlie; he has autism.” That’s why we encourage everyone to refer to our students as “children and youth with autism.”\n",
      "\n",
      "--------------------------------------------------\n",
      "Question:  What are the types of Autism Spectrum Disorders?\n",
      "Answer:  Autistic Disorder; Asperger Syndrome; Pervasive Developmental Disorder – Not Otherwise Specified;. There are three types of autism spectrum disorders: Autistic Disorder: This is sometimes called “classic” autism. It is what most people think of when hearing the word “autism”. People with autistic disorder usually have significant language delays, social and communication challenges, and unusual behaviors and interests. Many people with autistic disorder also have intellectual disability. Asperger Syndrome: People with Asperger syndrome usually have milder symptoms of autistic disorder. They might have social challenges and unusual behaviors and interests. However, they typically do not have problems with language or intellectual disability. Pervasive Developmental Disorder – Not Otherwise Specified: This is sometimes called “atypical autism,” or PDD-NOS. People who meet some of the criteria for autistic disorder or Asperger syndrome, but not all, may be diagnosed with atypical autism. These people usually have fewer and milder symptoms than those with autistic disorder. The symptoms might cause only social and communication challenges.\n",
      "\n",
      "--------------------------------------------------\n",
      "****************************************************************************************************\n",
      "Belongs to Topic:  2\n",
      "---------------\n",
      "Question:  How are autism spectrum disorders diagnosed?\n",
      "Answer:  Until recently, general pediatricians sometimes hesitated to screen for autism before age three. Parents often suspect a problem as early as 12 to 18 months. Go with your gut feeling, even if your pediatrician recommends you “wait and see.” Language and “hearing” concerns are the most usual first signs. [] If you have concerns about your child, please read this information from First Signs, especially the Red Flags. If your child is not developing language or is losing language, seems not to “hear you\" most of the time, or does not share interest in activities or objects with you, you should have your child evaluated by a specialist. Specialists can diagnose most children with ASDs by 18 months old - and the earlier the diagnosis, the sooner you can start treatment. Take your child to a developmental and behavioral pediatrician, pediatric psychiatrist, pediatric neurologist or pediatric psychologist. They are experts in diagnosing autism, and can help you figure out the best treatment plan. An alternative to seeing a specialist is to go to your school system. Ask your state’s early intervention system or school system in writing for an evaluation of your child. They are required to provide it, at no cost to you. The purpose of an evaluation is to find out why your child is not meeting their developmental milestones. A team of professionals will work with you to evaluate your child. If they do not find a problem, and you continue to believe there is a problem, you can ask the school system to pay for an Independent Educational Evaluation (IEE). There are strict rules about this, and they may not agree with your request. You can also choose to have your child tested again privately, and pay for it yourself. But check with your school district first to make sure they will accept the private test results. By law, the school system must consider the results of the second evaluation when deciding if your child qualifies for special services. [] Tips for your child's developmental assessment, from Zero to Three, is a guide for parents who are concerned about their baby's, toddler's or preschooler's development and learning. It will help you prepare for an evaluation, and know what to expect. [] Basics for Parents: Your Child’s Evaluation explains what parents of school-aged kids need to know about the evaluation process. \n",
      "\n",
      "--------------------------------------------------\n",
      "Question:  What treatments are there for autism?\n",
      "Answer:  There is no single best treatment for all children with ASD. The most important point is to start treatment as early and intensively as possible! If you are concerned about your child's development, check out First Signs, a website with information and resources for early identification and intervention for children with developmental delays and disorders. There is no cure for autism, but early and intensive treatment can help children with autism improve their behavior, communication and social skills. Treatment may include support and facilitation, behavior modification, educational therapy, and medicine. Every state has an early intervention program and you will want to get your child enrolled as soon as possible. If you live in Michigan, your doctor may refer you to the Early On Program in your local school district. (Outside Michigan, you can find your state's early intervention services through the NICHCY website.) Early On (and all states' early intervention programs) offer many different services and will help set up an individualized program for your family. It is called an Individual Family Service Plan (IFSB). [] Read all about finding help for babies, toddlers, and preschoolers. [\"Finding Help for Young Children with Disabilities (Birth-5)\"]. You can get this information in plain text, PDF, or in Spanish. It is most important to start treatment as early as possible, and make sure it involves intensive, one-on-one interaction with your child. The National Research Council's Committee on Educational Interventions for Children with Autism has published Educating Children with Autism. It is a comprehensive report from a committee of experts from many different fields who reviewed current research and policy. They have created a \"map\" to guide the education of young children (birth to age eight) with autistic spectrum disorders. A section entitled \"Characteristics of Effective Interventions,\" on page 6 of the Executive Summary of the report, states3 \"The consensus across programs is generally strong concerning the need for: early entry into an intervention program; active engagement in intensive instructional programming for the equivalent of a full school day, including services that may be offered in different sites, for a minimum of 5 days a week with full-year programming; use of planned teaching opportunities, organized around relatively brief periods of time for the youngest children (e.g. 15- to 20-minute intervals); sufficient amounts of adult attention in one-to-one or very small group instruction to meet individualized goals. Overall, effective programs are more similar than different in terms of levels of organization, staffing, ongoing monitoring, and the use of certain techniques, such as discrete trial, incidental learning, and structured teaching periods. However, there are real differences in philosophy and practice that provide a range of alternatives for parents and school systems.\" You can go online to read the full report from the National Academy Commission on Behavioral and Social Sciences and Education, Educating Children with Autism. Before you make decisions regarding your child’s treatment, gather information and learn as much as you can about treatment programs in your area. Base your decision upon your child’s needs. The National Institute of Mental Health offers a list of questions parents can ask when making these important decisions.\n",
      "\n",
      "--------------------------------------------------\n",
      "Question:  What kinds of intensive, interaction-based therapies are available?\n",
      "Answer:  While we do not endorse any particular interaction-based treatment program, we want you to be aware of some of the options. Some of the treatment programs that focus on working intensively and one-on-one with children are: [] Applied Behavior Analysis (ABA) ABA is a broad set of principles and guidelines that is often used as a framework for treating autism. ABA is a one-on-one, intensive, structured teaching program based on the ideas of behavior modification and involving reinforced practice of different skills. You may also hear it called Discrete Trial Therapy (or DTT). Other terms associated with ABA are: functional communication training, incidental teaching, script/script fading, self-management, shaping, behavior chaining, errorless learning, functional assessment, reinforcement systems and activity schedules. Each word in the name “Applied Behavior Analysis” is important: [] “Applied” means that you are trying cause positive change in socially significant behaviors. [] “Behavior” changes over time are observed and measured. [] “Analysis” refers to the way the evidence is collected and evaluated to show how an intervention caused a behavior change. [] Lovaas Therapy The Lovaas Model of Applied Behavior Analysis is a specific ABA treatment method developed by Ivar Lovaas. For more information, visit his website. [] Developmental, Individual-Difference, Relationship-Based (DIR) Therapy DIR—also called Floortime or the Greenspan Method—is based more on relationships than behavior modification. The Interdisciplinary Council on Developmental and Learning Disorders (founded by Stanley Greenspan) has information about the DIR/Floortime model. You can also visit The Floortime Foundation to learn more. [] Augmentative and Alternative Communication (AAC) This augmentative communication glossary will help you learn the terms. AAC can use strategies like the Picture Exchange Communication System (PECS) and sign language.\n",
      "\n",
      "--------------------------------------------------\n",
      "Question:  What about alternative treatments?\n",
      "Answer:  You may hear about new or alternative treatments that people are talking about. You may also read online about treatments that claim to “cure” autism. Before starting your child on one of these, talk about it with your child's doctor or health care provider. Many \"treatments\" that are marketed to parents of children with autism are very expensive, may harm you child, and are not based on sound research. Beware of treatments that claim to have a miracle \"cure\" for autism. Do not let alternative or complementary treatments infringe in any way on intensive, behaviorally structured treatment programs, such as those described in the section above. We know beyond a doubt that intensive, active engagement in a therapeutic program helps young children on the autism spectrum develop skills. [] Take a look at these red flags and rules of thumb for evaluating treatments. [] Read the American Academy of Pediatrics Policy Statement on Auditory Integration Training (AIT) and Facilitated Communication (FC) [] The Association for Science in Autism Treatment offers brief research summaries for both widely-accepted and “alternative” therapies. \n",
      "\n",
      "--------------------------------------------------\n",
      "Question:  What is special education?\n",
      "Answer:  Special education means “educational programming designed specifically for the individual.” If your school-aged child qualifies for special education, they will have an Individualized Education Program (IEP) designed just for them. [] Here is a helpful overview of the special education process. [] Find out all about the process on this comprehensive page from the US Department of Education. You can also download the information in Word or PDF format. [] Find out how to help create a useful IEP for your child. [] Help your child take part in making their own IEP with these two resources from NICHCY: A Student’s Guide to the IEP and Helping Students Develop Their IEP. [] Empower yourself to be a great advocate for your child at IEP meetings. Use this Pop-Up IEP from Hands and Voices, (a support group for families of children who are deaf or hard of hearing) to find out some of the common hurdles that may surface during the meeting and how to deal with them. Some of the pop-ups apply more to kids with deafness/hard-of-hearing, but most will be helpful. [] The team of people helping your child may include many different kinds of teachers, therapists and paraprofessionals. Here are descriptions of some of the different kinds of service providers who may work with your child. [] Pass this on to your child’s teacher: Teaching Students with Autism. \n",
      "\n",
      "--------------------------------------------------\n",
      "****************************************************************************************************\n",
      "Belongs to Topic:  3\n",
      "---------------\n",
      "Question:  What are Pervasive Developmental Disorders (PDD)?\n",
      "Answer:  This fact sheet provides a brief overview and resource list. [] From the Center for Disease Control and Prevention (CDC): Frequently asked questions—general information about ASDs. \n",
      "\n",
      "--------------------------------------------------\n",
      "Question:  Who is qualified to provide ABA services?\n",
      "Answer:  The person who supervises the implementation of an ABA program should be a \"behavior analyst.\" There is a Behavior Analyst Certification Board® (BACB®) and the criteria for becoming a Board Certified Behavior Analyst® or BCBA® are listed at www.bacb.com (see the consumer information section, click on \"Standards for becoming a BCBA or BCABA®\"). This certification process is relatively new and if a person were to meet the academic and experiential . requirements to sit for the BACB's certification exam then such persons might be seen as having the appropriate background for supervising a program in Applied Behavior Analysis. In brief, a professional would need a Master's or PhD in a human service discipline such as psychology, education, or special education and they should have a number of graduate courses specifically in behavior analysis. Another necessary qualification is substantial relevant supervised experience in working with persons with autism. Beyond that, a BCBA or BCABA must remain abreast of developments in the field by obtaining a minimum of 36 hours of continuing education across every 3 years.\n",
      "\n",
      "--------------------------------------------------\n",
      "Question:  Where can I get more information?\n",
      "Answer:  For more information on neurological disorders or research programs funded by the National Institute of Neurological Disorders and Stroke, contact the Institute's Brain Resources and Information Network (BRAIN) at: BRAIN P.O. Box 5801 Bethesda, MD 20824 800-352-9424 Information also is available from the following organizations: Centers for Disease Control and Prevention (CDC) U.S. Department of Health and Human Services 1600 Clifton Road Atlanta, GA 30333 inquiry@cdc.gov Tel: 800-311-3435; 404-639-3311; 404-639-3543 National Institute of Child Health and Human Development (NICHD) National Institutes of Health, DHHS 31 Center Drive, Rm. 2A32 MSC 2425 Bethesda, MD 20892-2425 Tel: 301-496-5133 Fax: 301-496-7101 National Institute on Deafness and Other Communication Disorders (NIDCD) National Institutes of Health, DHHS 31 Center Drive, MSC 2320 Bethesda, MD 20892-2320 nidcdinfo@nidcd.nih.gov Tel: 301-496-7243; 800-241-1044; 800-241-1055 (TTY) National Institute of Environmental Health Sciences (NIEHS) National Institutes of Health, DHHS 111 T.W. Alexander Drive Research Triangle Park, NC 27709 webcenter@niehs.nih.gov Tel: 919-541-3345 National Institute of Mental Health (NIMH) National Institutes of Health, DHHS 6001 Executive Blvd. Rm. 8184, MSC 9663 Bethesda, MD 20892-9663 nimhinfo@nih.gov Tel: 301-443-4513; 866-415-8051; 301-443-8431 (TTY) Fax: 301-443-4279 Association for Science in Autism Treatment P.O. Box 1447 Hoboken, NJ 07030 info@asatonline.org Autism National Committee (AUTCOM) P.O. Box 429 Forest Knolls, CA 94933 Autism Network International (ANI) P.O. Box 35448 Syracuse, NY 13235-5448 jisincla@syr.edu Autism Research Institute (ARI) 4182 Adams Avenue San Diego, CA 92116 Tel: 619-281-7165; 866-366-3361 Fax: 619-563-6840 Autism Science Foundation 28 West 39th Street Suite 502 New York, NY 10018 contactus@autismsciencefoundation.org Tel: 212-391-3913 Fax: 212-228-3557 Autism Society of America 4340 East-West Highway Suite 350 Bethesda, MD 20814 Tel: 301-657-0881; 800-3AUTISM (328-8476) Fax: 301-657-0869 Autism Speaks, Inc. 1 East 33rd Street 4th Floor New York, NY 10016 contactus@autismspeaks.org Tel: 212-252-8584; 888-288-4762 Fax: 212-252-8676 MAAP Services for Autism, Asperger Syndrome, and PDD P.O. Box 524 Crown Point, IN 46308 info@aspergersyndrome.org Tel: 219-662-1311 Fax: 219-662-1315 \"Autism Spectrum Disorder Fact Sheet\", NINDS, Publication date September 2015. NIH Publication No. 15-1877 Back to Autism Spectrum Disorder Information Page See a list of all NINDS disorders Publicaciones en Español Autismo top Prepared by: Office of Communications and Public Liaison National Institute of Neurological Disorders and Stroke National Institutes of Health Bethesda, MD 20892 NINDS health-related material is provided for information purposes only and does not necessarily represent endorsement by or an official position of the National Institute of Neurological Disorders and Stroke or any other Federal agency. Advice on the treatment or care of an individual patient should be obtained through consultation with a physician who has examined that patient or is familiar with that patient's medical history. All NINDS-prepared information is in the public domain and may be freely copied. Credit to the NINDS or the NIH is appreciated.\n",
      "\n",
      "--------------------------------------------------\n",
      "****************************************************************************************************\n",
      "Belongs to Topic:  4\n",
      "---------------\n"
     ]
    },
    {
     "name": "stdout",
     "output_type": "stream",
     "text": [
      "Question:  What are the clinical issues that should be assessed in adult ASD?\n",
      "Answer:  When a person is referred for an ASD assessment, the assessor looks not only at the specific characteristics of the ASD, but also considers features of other alternative or concurrent disorders. Psychologists will review history and current behaviours and concerns, as well as administer a variety of measures to determine a diagnosis. Specific concerns to be addressed in adult assessment may include: [] Intellectual/Cognitive ability: . assesses intellectual abilities; specifically, verbal and perceptual processing abilities; [] Academic ability: provides information about individual academic achievement overall, and identifies areas of academic strengths and challenges; [] Memory and attention: examines ability to remember or recognize information in short- and long- term memory, as well as working memory, and determines an individual’s ability to attend; [] Functional or Life-skills: assessment of functional abilities or daily living skills, with suggestions for areas in need of development; [] Executive Functioning: examines ability to plan, initiate, organize activities and tasks, self-monitor, and regulate behaviour and emotion; [] Mental Health: assessment of anxiety and depression relative to age and gender-matched peers, other mental health concerns such as obsessive and compulsive behaviours, and ability to identify and express emotions; [] Sensory Concerns: to gather information about sensory seeking and avoiding behaviours and specific sensory-related behaviours or concerns (and may result in referral for an occupational therapy (OT) consultation); [] Disorder-specific characteristics: assessing characteristics of specific neuro-developmental disorders such as Asperger’s Disorder, Autistic Disorder, or Attention Deficit Hyperactivity Disorder (ADHD).\n",
      "\n",
      "--------------------------------------------------\n",
      "****************************************************************************************************\n"
     ]
    }
   ],
   "source": [
    "for j in range(1,5):\n",
    "    print(\"Belongs to Topic: \", j)\n",
    "    print('-'*15)\n",
    "    count = 0\n",
    "    for i in range(data.shape[0]):\n",
    "        if(lda.transform(sparse_vectors[i]).argmax()+1 ==j):\n",
    "            print(\"Question: \", data.iloc[i,1])\n",
    "            print(\"Answer: \", data.iloc[i,2])\n",
    "            print()\n",
    "            print('-'*50)\n",
    "            count+=1\n",
    "            if(count==5):\n",
    "                break\n",
    "    print('*'*100)"
   ]
  },
  {
   "cell_type": "markdown",
   "metadata": {},
   "source": [
    "# 6. Interpret the identified topics (using top 10 words)"
   ]
  },
  {
   "cell_type": "markdown",
   "metadata": {},
   "source": [
    "### Topic 1 is about: Introduction/Overview of ASD. What happens in ASD.\n",
    "\n",
    "\n",
    "### Topic 2 is about: Treatment of ASD\n",
    "\n",
    "\n",
    "### Topic 3 is about: More/Other/Related/Indirect info to ASD\n",
    "\n",
    "\n",
    "### Topic 4 is about: Assessment/Check for ASD"
   ]
  }
 ],
 "metadata": {
  "kernelspec": {
   "display_name": "Python 3",
   "language": "python",
   "name": "python3"
  },
  "language_info": {
   "codemirror_mode": {
    "name": "ipython",
    "version": 3
   },
   "file_extension": ".py",
   "mimetype": "text/x-python",
   "name": "python",
   "nbconvert_exporter": "python",
   "pygments_lexer": "ipython3",
   "version": "3.6.13"
  }
 },
 "nbformat": 4,
 "nbformat_minor": 4
}
