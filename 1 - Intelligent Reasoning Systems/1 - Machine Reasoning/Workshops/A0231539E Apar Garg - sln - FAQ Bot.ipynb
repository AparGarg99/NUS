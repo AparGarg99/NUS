{
 "cells": [
  {
   "cell_type": "markdown",
   "metadata": {},
   "source": [
    "# 0. Installation (one time job)"
   ]
  },
  {
   "cell_type": "code",
   "execution_count": 1,
   "metadata": {},
   "outputs": [
    {
     "name": "stdout",
     "output_type": "stream",
     "text": [
      "Collecting git+git://github.com/gunthercox/ChatterBot.git@master\n",
      "  Cloning git://github.com/gunthercox/ChatterBot.git (to revision master) to /tmp/pip-req-build-eaz2xnk7\n",
      "  Running command git clone -q git://github.com/gunthercox/ChatterBot.git /tmp/pip-req-build-eaz2xnk7\n",
      "Collecting mathparse<0.2,>=0.1\n",
      "  Downloading mathparse-0.1.2-py3-none-any.whl (7.2 kB)\n",
      "Requirement already satisfied: python-dateutil<2.9,>=2.8 in /home/apar/anaconda3/envs/day2/lib/python3.6/site-packages (from ChatterBot==1.1.0a7) (2.8.1)\n",
      "Collecting sqlalchemy<1.4,>=1.3\n",
      "  Downloading SQLAlchemy-1.3.24-cp36-cp36m-manylinux2010_x86_64.whl (1.3 MB)\n",
      "\u001b[K     |████████████████████████████████| 1.3 MB 2.2 MB/s eta 0:00:01\n",
      "\u001b[?25hRequirement already satisfied: pytz in /home/apar/anaconda3/envs/day2/lib/python3.6/site-packages (from ChatterBot==1.1.0a7) (2021.1)\n",
      "Requirement already satisfied: six>=1.5 in /home/apar/anaconda3/envs/day2/lib/python3.6/site-packages (from python-dateutil<2.9,>=2.8->ChatterBot==1.1.0a7) (1.16.0)\n",
      "Building wheels for collected packages: ChatterBot\n",
      "  Building wheel for ChatterBot (setup.py) ... \u001b[?25ldone\n",
      "\u001b[?25h  Created wheel for ChatterBot: filename=ChatterBot-1.1.0a7-py2.py3-none-any.whl size=63715 sha256=c1d68cba4fcd736473174160ce99fc8984d4dacdd523e1f76a6a1e6bd86d934b\n",
      "  Stored in directory: /tmp/pip-ephem-wheel-cache-pzs1_soy/wheels/cb/73/ce/3fdd8d4bf061ff926911abf09b9ce689c84849ff6427c0841c\n",
      "Successfully built ChatterBot\n",
      "Installing collected packages: sqlalchemy, mathparse, ChatterBot\n",
      "Successfully installed ChatterBot-1.1.0a7 mathparse-0.1.2 sqlalchemy-1.3.24\n"
     ]
    }
   ],
   "source": [
    "# !pip install git+git://github.com/gunthercox/ChatterBot.git@master\n",
    "# !pip install -U spacy==2.1.3\n",
    "# !python -m spacy link en_core_web_sm en\n",
    "# !pip3 install pyyaml"
   ]
  },
  {
   "cell_type": "markdown",
   "metadata": {},
   "source": [
    "# 1. Import Library"
   ]
  },
  {
   "cell_type": "code",
   "execution_count": 9,
   "metadata": {},
   "outputs": [],
   "source": [
    "from chatterbot import ChatBot\n",
    "from chatterbot.trainers import ChatterBotCorpusTrainer\n",
    "from chatterbot.trainers import ListTrainer\n",
    "import pandas as pd\n",
    "import spacy"
   ]
  },
  {
   "cell_type": "markdown",
   "metadata": {},
   "source": [
    "# 2. Basic Usage"
   ]
  },
  {
   "cell_type": "markdown",
   "metadata": {},
   "source": [
    "# 2.1. Create a chatter bot called chatbot"
   ]
  },
  {
   "cell_type": "code",
   "execution_count": 10,
   "metadata": {},
   "outputs": [],
   "source": [
    "nlp = spacy.load(\"en\")"
   ]
  },
  {
   "cell_type": "code",
   "execution_count": 3,
   "metadata": {
    "scrolled": true
   },
   "outputs": [],
   "source": [
    "chatbot = ChatBot('chatbot')"
   ]
  },
  {
   "cell_type": "markdown",
   "metadata": {},
   "source": [
    "# 2.2. Build chatterbot trainer"
   ]
  },
  {
   "cell_type": "code",
   "execution_count": 9,
   "metadata": {},
   "outputs": [],
   "source": [
    "# Since chatbot has no knowledge now, we create a new trainer for chatbot\n",
    "# There are several ways to train the chatbot. You can explore them in 'chatterbot.trainers'\n",
    "# ChatterBotCorpusTrainer is one of the trainer classes\n",
    "trainer = ChatterBotCorpusTrainer(chatbot)"
   ]
  },
  {
   "cell_type": "code",
   "execution_count": 14,
   "metadata": {
    "scrolled": false
   },
   "outputs": [
    {
     "name": "stdout",
     "output_type": "stream",
     "text": [
      "Training greetings.yml: [####################] 100%\n"
     ]
    }
   ],
   "source": [
    "# Train the chatbot based on the english corpus.\n",
    "# The corpus is given by the Chatterbot package.\n",
    "# You can also create your own corpus.\n",
    "# Once you train the chatbot with this corpus, annotate the below line with '#' preventing from duplicate training\n",
    "trainer.train(\"chatterbot.corpus.english.greetings\")"
   ]
  },
  {
   "cell_type": "markdown",
   "metadata": {},
   "source": [
    "# 2.3. Simple example"
   ]
  },
  {
   "cell_type": "code",
   "execution_count": 15,
   "metadata": {},
   "outputs": [
    {
     "name": "stdout",
     "output_type": "stream",
     "text": [
      "Hello\n"
     ]
    }
   ],
   "source": [
    "# Get a response to an input statement\n",
    "# If you try to present same questions with several times, you may get different answers. How can it get that?\n",
    "response = chatbot.get_response(\"Hi\")\n",
    "print(response)"
   ]
  },
  {
   "cell_type": "markdown",
   "metadata": {},
   "source": [
    "# 3. Create New Conversation for Chatterbot"
   ]
  },
  {
   "cell_type": "code",
   "execution_count": 16,
   "metadata": {},
   "outputs": [
    {
     "name": "stdout",
     "output_type": "stream",
     "text": [
      "What's up?\n"
     ]
    }
   ],
   "source": [
    "# Let's see what happens when you ask the chatbot -- Is Sam a good guy?\n",
    "response = chatbot.get_response(\"Is Sam a good guy?\")\n",
    "print(response)"
   ]
  },
  {
   "cell_type": "code",
   "execution_count": 17,
   "metadata": {},
   "outputs": [
    {
     "name": "stdout",
     "output_type": "stream",
     "text": [
      "List Trainer: [####################] 100%\n"
     ]
    }
   ],
   "source": [
    "# It seemly gives a irrelevant answer for the question. Could you figure out why?\n",
    "# That's because in the greeting corpus, no any conversation about if Sam is a good guy.\n",
    "# So we need to train the chatbot again!\n",
    "# This time we use the ListTrainer to train one conversation\n",
    "\n",
    "trainer = ListTrainer(chatbot)\n",
    "train_list = [\n",
    "    \"Is Sam a good guy?\",\n",
    "    \"Certainly Yes!\",\n",
    "    \"Does Sam wear glasses?\",\n",
    "    \"Yes\"\n",
    "]\n",
    "trainer.train(train_list)"
   ]
  },
  {
   "cell_type": "code",
   "execution_count": 18,
   "metadata": {},
   "outputs": [
    {
     "name": "stdout",
     "output_type": "stream",
     "text": [
      "Certainly Yes!\n"
     ]
    }
   ],
   "source": [
    "# Let's see what happens this time\n",
    "response = chatbot.get_response(\"Is Sam a good guy?\")\n",
    "print(response)"
   ]
  },
  {
   "cell_type": "markdown",
   "metadata": {},
   "source": [
    "# 4. Solve a Math Problem by Chatterbot"
   ]
  },
  {
   "cell_type": "markdown",
   "metadata": {},
   "source": [
    "# 4.1. Add the math logic_adapters into the attribute 'logic_adapters'"
   ]
  },
  {
   "cell_type": "code",
   "execution_count": 19,
   "metadata": {},
   "outputs": [],
   "source": [
    "chatbot = ChatBot('chatbot',\n",
    "                  logic_adapters=[\n",
    "                      'chatterbot.logic.BestMatch',\n",
    "                      'chatterbot.logic.MathematicalEvaluation'\n",
    "                  ])"
   ]
  },
  {
   "cell_type": "markdown",
   "metadata": {},
   "source": [
    "# 4.2. Ask a math question"
   ]
  },
  {
   "cell_type": "code",
   "execution_count": 20,
   "metadata": {},
   "outputs": [
    {
     "name": "stdout",
     "output_type": "stream",
     "text": [
      "1 * 1 + 2 - 3 / 5 = 2.4\n"
     ]
    }
   ],
   "source": [
    "# There are several logic_adapters in the chatterbot.logic package. Try explore for more.\n",
    "response = chatbot.get_response(\"1 * 1 + 2 - 3 / 5?\")\n",
    "print(response)"
   ]
  },
  {
   "cell_type": "markdown",
   "metadata": {},
   "source": [
    "# 5. Train an ASD FAQ Bot based on Q&A conversation pairs in ASD FAQ KB v001.xlsx"
   ]
  },
  {
   "cell_type": "markdown",
   "metadata": {},
   "source": [
    "# 5.1. Create a ListTrainer for training"
   ]
  },
  {
   "cell_type": "code",
   "execution_count": 21,
   "metadata": {},
   "outputs": [],
   "source": [
    "trainer = ListTrainer(chatbot)"
   ]
  },
  {
   "cell_type": "markdown",
   "metadata": {},
   "source": [
    "# 5.2. Load dataset"
   ]
  },
  {
   "cell_type": "code",
   "execution_count": 22,
   "metadata": {},
   "outputs": [
    {
     "name": "stdout",
     "output_type": "stream",
     "text": [
      "Number of Q&A Pairs is : 226\n"
     ]
    }
   ],
   "source": [
    "data = pd.read_excel('./ASD FAQ KB v001.xlsx', sheet_name='FAQ', engine='openpyxl')\n",
    "question = data.get('Question')\n",
    "answer = data.get('Long_Answer')\n",
    "print(\"Number of Q&A Pairs is :\", len(data))"
   ]
  },
  {
   "cell_type": "markdown",
   "metadata": {},
   "source": [
    "# 5.3. Iteratively learning/storing the question and answer (into Sqlite DB)"
   ]
  },
  {
   "cell_type": "markdown",
   "metadata": {},
   "source": [
    "### Prepare training Q&A pairs as python list:"
   ]
  },
  {
   "cell_type": "code",
   "execution_count": 28,
   "metadata": {},
   "outputs": [
    {
     "data": {
      "text/plain": [
       "['What are Autism Spectrum Disorders (ASD)?',\n",
       " 'ASD refers to a wide spectrum of neurodevelopmental disorders that affect communication, behavior, and social interaction. Children with ASD have delayed or absent communication skills and may demonstrate repetitive or idiosyncratic use of language. They often have underdeveloped play skills and may engage in repetitive behaviors or adhere to rigid routines. For more information about the warning signs for autism, visit the U.S. Centers for Disease Control and Prevention website at www.cdc.gov/actearly.',\n",
       " 'How common is autism?',\n",
       " 'According to a 2020 report commissioned by the U.S. Centers for Disease Control and Prevention, approximately one in 54 American children has been diagnosed with autism or a closely related neurodevelopmental disorder—a dramatic increase over the past decade.',\n",
       " 'What causes autism? Can it be cured?',\n",
       " 'The causes of this complex disorder remain uncertain. Instructional methods such as Applied Behavior Analysis have proven effective in helping individuals with autism learn to overcome many of the challenges that autism presents. These interventions have proven particularly effective when started during the first several years of a child’s life.']"
      ]
     },
     "execution_count": 28,
     "metadata": {},
     "output_type": "execute_result"
    }
   ],
   "source": [
    "train_list = []\n",
    "for i in range(len(question)):\n",
    "    train_list.append(question[i])\n",
    "    train_list.append(answer[i])\n",
    "\n",
    "train_list[0:6] # Display first few Q&A in list form:"
   ]
  },
  {
   "cell_type": "markdown",
   "metadata": {},
   "source": [
    "### Training/Learning:"
   ]
  },
  {
   "cell_type": "code",
   "execution_count": 30,
   "metadata": {},
   "outputs": [
    {
     "name": "stdout",
     "output_type": "stream",
     "text": [
      "List Trainer: [####################] 100%\n"
     ]
    }
   ],
   "source": [
    "trainer.train(train_list)"
   ]
  },
  {
   "cell_type": "markdown",
   "metadata": {},
   "source": [
    "### Now user can interact with our trained/learnt ASD FAQ Bot"
   ]
  },
  {
   "cell_type": "code",
   "execution_count": 22,
   "metadata": {
    "scrolled": true
   },
   "outputs": [
    {
     "name": "stdout",
     "output_type": "stream",
     "text": [
      "Autism spectrum disorder (ASD) refers to a group of complex neurodevelopment disorders characterized by repetitive and characteristic patterns of behavior and difficulties with social communication and interaction. The symptoms are present from early childhood and affect daily functioning. The term “spectrum” refers to the wide range of symptoms, skills, and levels of disability in functioning that can occur in people with ASD. Some children and adults with ASD are fully able to perform all activities of daily living while others require substantial support to perform basic activities. The Diagnostic and Statistical Manual of Mental Disorders (DSM-5, published in 2013) includes Asperger syndrome, childhood disintegrative disorder, and pervasive developmental disorders not otherwise specified (PDD-NOS) as part of ASD rather than as separate disorders. A diagnosis of ASD includes an assessment of intellectual disability and language impairment. ASD occurs in every racial and ethnic group, and across all socioeconomic levels. However, boys are significantly more likely to develop ASD than girls. The latest analysis from the Centers for Disease Control and Prevention estimates that 1 in 68 children has ASD.\n"
     ]
    }
   ],
   "source": [
    "response = chatbot.get_response(\"What is autism spectrum disorder?\")\n",
    "print(response)"
   ]
  },
  {
   "cell_type": "code",
   "execution_count": 23,
   "metadata": {
    "scrolled": true
   },
   "outputs": [
    {
     "name": "stdout",
     "output_type": "stream",
     "text": [
      "The Center for Disease Control and Prevention’s (CDC) Autism and Developmental Disabilities Monitoring (ADDM) Network released data in 2007 that found about 1 in 150 8-year-old children in the areas of the United States they monitor had an ASD1 For more on the numbers: Prevalence of ASDs, from the CDC. Autism occurs throughout the world in families of all racial, ethnic and social backgrounds. Boys are four times more likely to have autism than girls2. The MIND Institute in California found that the number of cases of autism is on the rise. This is probably a national trend.\n"
     ]
    }
   ],
   "source": [
    "response = chatbot.get_response(\"How common is autism spectrum disorder?\")\n",
    "print(response)"
   ]
  },
  {
   "cell_type": "markdown",
   "metadata": {},
   "source": [
    "# 6 Workshop"
   ]
  },
  {
   "cell_type": "markdown",
   "metadata": {},
   "source": [
    "# 6.1. Supervised learning chatterbot"
   ]
  },
  {
   "cell_type": "code",
   "execution_count": 11,
   "metadata": {},
   "outputs": [
    {
     "name": "stdout",
     "output_type": "stream",
     "text": [
      "Training ai.yml: [####################] 100%\n",
      "Training botprofile.yml: [####################] 100%\n",
      "Training computers.yml: [####################] 100%\n",
      "Training conversations.yml: [####################] 100%\n",
      "Training emotion.yml: [####################] 100%\n",
      "Training food.yml: [####################] 100%\n",
      "Training gossip.yml: [####################] 100%\n",
      "Training greetings.yml: [####################] 100%\n",
      "Training health.yml: [####################] 100%\n",
      "Training history.yml: [####################] 100%\n",
      "Training humor.yml: [####################] 100%\n",
      "Training literature.yml: [####################] 100%\n",
      "Training money.yml: [####################] 100%\n",
      "Training movies.yml: [####################] 100%\n",
      "Training politics.yml: [####################] 100%\n",
      "Training psychology.yml: [####################] 100%\n",
      "Training science.yml: [####################] 100%\n",
      "Training sports.yml: [####################] 100%\n",
      "Training trivia.yml: [####################] 100%\n"
     ]
    }
   ],
   "source": [
    "# Build a supervised learning chatterbot\n",
    "# Requirement: Every time the FAQ bot responses, the user need to provide feedback on \n",
    "# whether the answer is good or not.\n",
    "#     If good, FAQ bot learns (stores) the response.\n",
    "#     If not good, user inputs a new answer for the learning bot to learn.\n",
    "\n",
    "learning_bot = ChatBot('Supervised Learning Bot New')\n",
    "trainer = ChatterBotCorpusTrainer(learning_bot)\n",
    "trainer.train(\"chatterbot.corpus.english\")"
   ]
  },
  {
   "cell_type": "code",
   "execution_count": 14,
   "metadata": {},
   "outputs": [
    {
     "name": "stdout",
     "output_type": "stream",
     "text": [
      "User: Hi\n",
      "Bot: Hello\n",
      "Bot: Is my response satisfactory?(y/n): y\n",
      "Bot: Do you have any more questions?(y/n): y\n",
      "User: Is Captain America stronger or Hulk?\n",
      "Bot: I work on all kinds of computers, Mac, IBM or UNIX. it doesn't matter to me.\n",
      "Bot: Is my response satisfactory?(y/n): n\n",
      "Bot: Sorry for the inconvenience !!\n",
      "Bot: What should have been my response?\n",
      "User: Hulk\n",
      "List Trainer: [####################] 100%\n",
      "Bot: Do you have any more questions?(y/n): y\n",
      "User: Is Captain America stronger or Hulk?\n",
      "Bot: Hulk\n",
      "Bot: Is my response satisfactory?(y/n): y\n",
      "Bot: Do you have any more questions?(y/n): n\n"
     ]
    }
   ],
   "source": [
    "# =========code start==========\n",
    "key = True\n",
    "trainer = ListTrainer(learning_bot)\n",
    "while(key):\n",
    "    user = input('User: ')\n",
    "    response = chatbot.get_response(user)\n",
    "    print(\"Bot:\",response)\n",
    "    feedback = input('Bot: Is my response satisfactory?(y/n): ')\n",
    "    \n",
    "    if(feedback=='n'):\n",
    "        print(\"Bot: Sorry for the inconvenience !!\")\n",
    "        print(\"Bot: What should have been my response?\")\n",
    "        user_response = input(\"User: \")\n",
    "        train_list=[user,user_response]\n",
    "        trainer.train(train_list)\n",
    "        \n",
    "    check = input(\"Bot: Do you have any more questions?(y/n): \")\n",
    "    \n",
    "    if(check=='n'):\n",
    "        key=False\n",
    "# =========code end============"
   ]
  }
 ],
 "metadata": {
  "kernelspec": {
   "display_name": "Python 3",
   "language": "python",
   "name": "python3"
  },
  "language_info": {
   "codemirror_mode": {
    "name": "ipython",
    "version": 3
   },
   "file_extension": ".py",
   "mimetype": "text/x-python",
   "name": "python",
   "nbconvert_exporter": "python",
   "pygments_lexer": "ipython3",
   "version": "3.6.13"
  }
 },
 "nbformat": 4,
 "nbformat_minor": 4
}
