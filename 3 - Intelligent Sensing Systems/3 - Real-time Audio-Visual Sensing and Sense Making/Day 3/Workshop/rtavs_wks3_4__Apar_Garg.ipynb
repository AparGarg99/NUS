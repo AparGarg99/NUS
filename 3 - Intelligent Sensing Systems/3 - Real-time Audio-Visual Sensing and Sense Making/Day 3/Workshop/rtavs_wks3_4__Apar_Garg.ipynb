{
 "cells": [
  {
   "cell_type": "markdown",
   "metadata": {
    "id": "CRNVzhoo1clG"
   },
   "source": [
    "## **1. Mount google drive**\n",
    "---"
   ]
  },
  {
   "cell_type": "code",
   "execution_count": 2,
   "metadata": {
    "colab": {
     "base_uri": "https://localhost:8080/"
    },
    "id": "5W39GXyk1hME",
    "outputId": "7e5dc85f-540b-461e-b8df-3e5bffe92951"
   },
   "outputs": [
    {
     "name": "stdout",
     "output_type": "stream",
     "text": [
      "Mounted at /content/gdrive\n"
     ]
    }
   ],
   "source": [
    "from google.colab import drive\n",
    "drive.mount('/content/gdrive')"
   ]
  },
  {
   "cell_type": "markdown",
   "metadata": {
    "id": "dOQ-2xS_MYHi"
   },
   "source": [
    "## **2. Import the libraries**\n",
    "---"
   ]
  },
  {
   "cell_type": "code",
   "execution_count": 3,
   "metadata": {
    "colab": {
     "base_uri": "https://localhost:8080/"
    },
    "id": "yoi4gWDELtek",
    "outputId": "6d8ade6b-9825-40b6-bdec-332cacd350d1"
   },
   "outputs": [
    {
     "name": "stdout",
     "output_type": "stream",
     "text": [
      "Versions of key libraries\n",
      "---\n",
      "tensorflow: 2.6.0\n",
      "numpy:      1.19.5\n",
      "matplotlib: 3.2.2\n",
      "pandas    : 1.1.5\n",
      "librosa   : 0.8.1\n",
      "sklearn   : 0.22.2.post1\n"
     ]
    }
   ],
   "source": [
    "import sys\n",
    "import os\n",
    "import matplotlib\n",
    "import librosa\n",
    "import timeit\n",
    "import sklearn\n",
    "import numpy as np\n",
    "import pandas as pd\n",
    "import matplotlib.pyplot as plt\n",
    "import tensorflow as tf\n",
    "import zipfile\n",
    "import sklearn.metrics as metrics\n",
    "\n",
    "from IPython.display import clear_output\n",
    "from scipy.io import wavfile\n",
    "from sklearn.preprocessing import LabelEncoder\n",
    "from sklearn.model_selection import train_test_split\n",
    "\n",
    "from tensorflow.keras.callbacks import ModelCheckpoint,CSVLogger\n",
    "from tensorflow.keras.models import Model\n",
    "from tensorflow.keras.layers import Input\n",
    "from tensorflow.keras.layers import Dense\n",
    "from tensorflow.keras.layers import Dropout\n",
    "from tensorflow.keras.layers import Flatten\n",
    "from tensorflow.keras.layers import Conv2D\n",
    "from tensorflow.keras.layers import MaxPooling2D\n",
    "from tensorflow.keras.utils import to_categorical\n",
    "from tensorflow.keras.utils import plot_model\n",
    "\n",
    "print(\"Versions of key libraries\")\n",
    "print(\"---\")\n",
    "print(\"tensorflow:\", tf.__version__)\n",
    "print(\"numpy:     \", np.__version__)\n",
    "print(\"matplotlib:\", matplotlib.__version__)\n",
    "print(\"pandas    :\", pd.__version__)\n",
    "print(\"librosa   :\", librosa.__version__)\n",
    "print(\"sklearn   :\", sklearn.__version__)\n"
   ]
  },
  {
   "cell_type": "markdown",
   "metadata": {
    "id": "sZwvCLifbBgF"
   },
   "source": [
    "## **3. Copy data.zip from google drive to local directory**\n",
    "---"
   ]
  },
  {
   "cell_type": "code",
   "execution_count": 4,
   "metadata": {
    "colab": {
     "base_uri": "https://localhost:8080/"
    },
    "id": "pfcZin1ubRWt",
    "outputId": "3f12a947-a892-4194-c6b1-1e5f90f9ffe5"
   },
   "outputs": [
    {
     "name": "stdout",
     "output_type": "stream",
     "text": [
      "Copy speechsub.zip from google drive to local directory ...\n",
      "Unzip speechsub.zip ...\n",
      "Unzip completes.\n"
     ]
    }
   ],
   "source": [
    "print(\"Copy speechsub.zip from google drive to local directory ...\")\n",
    "zipSrc  = zipfile.ZipFile(\"/content/gdrive/My Drive/iss/RTAVS/audio/data/speechsub.zip\", 'r')\n",
    "\n",
    "print(\"Unzip speechsub.zip ...\")\n",
    "zipSrc.extractall(\"/content\")\n",
    "\n",
    "zipSrc.close()\n",
    "print(\"Unzip completes.\")"
   ]
  },
  {
   "cell_type": "markdown",
   "metadata": {
    "id": "uaRMTv68fEIc"
   },
   "source": [
    "## **4. Change working directory to /content/**\n",
    "---"
   ]
  },
  {
   "cell_type": "code",
   "execution_count": 5,
   "metadata": {
    "colab": {
     "base_uri": "https://localhost:8080/",
     "height": 52
    },
    "id": "236fltUAeHMA",
    "outputId": "6d443f17-6888-414d-f4f7-84a89f2c7100"
   },
   "outputs": [
    {
     "name": "stdout",
     "output_type": "stream",
     "text": [
      "Current working directory:\n"
     ]
    },
    {
     "data": {
      "application/vnd.google.colaboratory.intrinsic+json": {
       "type": "string"
      },
      "text/plain": [
       "'/content'"
      ]
     },
     "execution_count": 5,
     "metadata": {},
     "output_type": "execute_result"
    }
   ],
   "source": [
    "os.chdir('/content/')\n",
    "print(\"Current working directory:\")\n",
    "os.getcwd()"
   ]
  },
  {
   "cell_type": "markdown",
   "metadata": {
    "id": "GGKe5-RloBpr"
   },
   "source": [
    "## **5. Setup matplotlib**\n",
    "---"
   ]
  },
  {
   "cell_type": "code",
   "execution_count": 6,
   "metadata": {
    "colab": {
     "base_uri": "https://localhost:8080/"
    },
    "id": "YW_wUGJcoMZz",
    "outputId": "d449c088-7cb2-444a-99af-2d95f72c6e87"
   },
   "outputs": [
    {
     "name": "stdout",
     "output_type": "stream",
     "text": [
      "Matplotlib setup completes.\n"
     ]
    }
   ],
   "source": [
    "plt.style.use('seaborn')                   # if want to use the default style, set 'classic'\n",
    "plt.rcParams['ytick.right']     = True\n",
    "plt.rcParams['ytick.labelright']= True\n",
    "plt.rcParams['ytick.left']      = False\n",
    "plt.rcParams['ytick.labelleft'] = False\n",
    "plt.rcParams['figure.figsize']  = [7,7]   # Set the figure size to be 7 inch for (width,height)\n",
    "\n",
    "print(\"Matplotlib setup completes.\")"
   ]
  },
  {
   "cell_type": "markdown",
   "metadata": {
    "id": "P__Mxo328iRj"
   },
   "source": [
    "## **6. Prepare the dataset (to be completed)**\n",
    "---\n"
   ]
  },
  {
   "cell_type": "code",
   "execution_count": 7,
   "metadata": {
    "colab": {
     "base_uri": "https://localhost:8080/"
    },
    "id": "Lo-shotn8zv-",
    "outputId": "78f67403-d368-4389-f92a-1190e233ccd5"
   },
   "outputs": [
    {
     "name": "stdout",
     "output_type": "stream",
     "text": [
      "Checking progress: 23682 records\n",
      "Time taken       :  35.72 minutes\n",
      "Expected duration: 35.72 minutes\n",
      "\n"
     ]
    }
   ],
   "source": [
    "# type your code below\n",
    "audioPth    = 'speechsub'\n",
    "allRecords  = []\n",
    "allLabels   = []\n",
    "\n",
    "labels      = [\"go\",\n",
    "               \"stop\",\n",
    "               \"yes\", \n",
    "               \"no\", \n",
    "               \"up\", \n",
    "               \"down\", \n",
    "               \"left\", \n",
    "               \"right\", \n",
    "               \"on\", \n",
    "               \"off\"]                                                                            # Step 2\n",
    "\n",
    "totalRecords= 0\n",
    "numOfRecords= []\n",
    "for lbl in labels:\n",
    "                                                                                # Step 3\n",
    "    pth     = os.path.join(audioPth,lbl)\n",
    "    records = [f for f in os.listdir(pth) if f.endswith('.wav')]\n",
    "    \n",
    "    numOfRecords.append(len(records))                                           # Step 4\n",
    "    totalRecords    = totalRecords+len(records)\n",
    "\n",
    "\n",
    "\n",
    "resmpRate   = 8000\n",
    "inputLength = 8000\n",
    "fftSize = 512\n",
    "\n",
    "                                                                                # Step 3\n",
    "start       = timeit.default_timer()\n",
    "run         = 1\n",
    "\n",
    "for lbl in labels:\n",
    "                                                                                # Step 4\n",
    "    pth     = os.path.join(audioPth,lbl)\n",
    "    #print(pth)\n",
    "    records = [f for f in os.listdir(pth) if f.endswith('.wav')]\n",
    "\n",
    "    for rcd in records:\n",
    "        #print(rcd)                                                                        # Step 5\n",
    "        (smp,smpR)  = librosa.load(os.path.join(pth,rcd),sr=16000)\n",
    "        smp         = librosa.resample(smp,\n",
    "                                       smpR, \n",
    "                                       resmpRate) \n",
    "        smpMfcc = librosa.feature.mfcc(y=smp,sr=resmpRate,n_mfcc=32)\n",
    "        smpMfcc = sklearn.preprocessing.scale(smpMfcc,axis=1)\n",
    "                                                                              # Step 6\n",
    "        if (len(smp)==inputLength): \n",
    "          allRecords.append(smpMfcc)\n",
    "          allLabels.append(lbl)                                                                       # Step 7\n",
    "        clear_output(wait=True)\n",
    "        stop    = timeit.default_timer()\n",
    "\n",
    "        if (run/totalRecords) < 0.05:\n",
    "            timeExpected  = \"Calculating ...\"\n",
    "        else:\n",
    "            timeNow       = timeit.default_timer()\n",
    "            timeExpected  = np.round((timeNow-start)/run*totalRecords/60,2)\n",
    "\n",
    "        print(\"Checking progress:\", run ,\"records\")   \n",
    "        print(\"Time taken       : \", np.round((stop-start)/60,2), \"minutes\")\n",
    "        print(\"Expected duration:\", timeExpected, \"minutes\")\n",
    "        print('')\n",
    "\n",
    "        run     = run+1"
   ]
  },
  {
   "cell_type": "code",
   "execution_count": 8,
   "metadata": {
    "colab": {
     "base_uri": "https://localhost:8080/"
    },
    "id": "kjeDbBq2vG6e",
    "outputId": "5d256d22-8af2-46d7-c6d7-5cb36736f10d"
   },
   "outputs": [
    {
     "name": "stdout",
     "output_type": "stream",
     "text": [
      "The shape of allRecords is (21312, 32, 32) and the data type is float32\n",
      "The shape of allLabels is (21312,)\n"
     ]
    }
   ],
   "source": [
    "allRecords = np.array(allRecords)  \n",
    "allLabels = np.array(allLabels)\n",
    "print(\"The shape of allRecords is\", allRecords.shape, \"and the data type is\", allRecords.dtype)\n",
    "print(\"The shape of allLabels is\", allLabels.shape)"
   ]
  },
  {
   "cell_type": "markdown",
   "metadata": {
    "id": "m4LRb2KdAd3B"
   },
   "source": [
    "## **7. Prepare the labels**\n",
    "---\n",
    "* Step 1: Create label encoder\n",
    "* Step 2: Generate the labels\n",
    "* Step 3: Extract the mapping between numbers and labels\n",
    "* Step 4: Convert each item in `classes` to string\n",
    "* Step 5: Perform one-hot encoding"
   ]
  },
  {
   "cell_type": "code",
   "execution_count": 9,
   "metadata": {
    "colab": {
     "base_uri": "https://localhost:8080/"
    },
    "id": "0ivhBQ7hAk14",
    "outputId": "38f0306c-8cfd-413c-ae91-fd0831d46f63"
   },
   "outputs": [
    {
     "name": "stdout",
     "output_type": "stream",
     "text": [
      "['down', 'go', 'left', 'no', 'off', 'on', 'right', 'stop', 'up', 'yes']\n"
     ]
    }
   ],
   "source": [
    "le      = LabelEncoder()                                                        # Step 1\n",
    "lbls    = le.fit_transform(allLabels)                                           # Step 2\n",
    "classes = list(le.classes_)                                                     # Step 3\n",
    "classes = [str(c) for c in classes]                                             # Step 4\n",
    "lbls    = to_categorical(lbls,num_classes=len(classes))                         # Step 5\n",
    "\n",
    "print(classes)"
   ]
  },
  {
   "cell_type": "markdown",
   "metadata": {
    "id": "kzDTk6tyEz8O"
   },
   "source": [
    "## **8. Split the dataset into training and testing set**\n",
    "---"
   ]
  },
  {
   "cell_type": "code",
   "execution_count": 10,
   "metadata": {
    "colab": {
     "base_uri": "https://localhost:8080/"
    },
    "id": "-5OrwYrDE6PJ",
    "outputId": "704af655-c8e0-40ba-f98c-79bc9d85567c"
   },
   "outputs": [
    {
     "name": "stdout",
     "output_type": "stream",
     "text": [
      "The shape of trDat is (17049, 32, 32)\n",
      "The shape of vlDat is (4263, 32, 32)\n"
     ]
    }
   ],
   "source": [
    "(trDat,\n",
    " vlDat,\n",
    " trLbl, \n",
    " vlLbl) = train_test_split(allRecords,\n",
    "                           lbls,\n",
    "                           stratify=lbls,\n",
    "                           test_size=0.2,\n",
    "                           random_state=229,\n",
    "                           shuffle=True)\n",
    " \n",
    "print(\"The shape of trDat is\", trDat.shape)\n",
    "print(\"The shape of vlDat is\", vlDat.shape)"
   ]
  },
  {
   "cell_type": "markdown",
   "metadata": {
    "id": "XWFGf_hjFA1L"
   },
   "source": [
    "## **9. Define deep learning model (to be completed)**\n",
    "---\n",
    "* Step 1: Set a name for the coming model (required for saving)\n",
    "* Step 2: Define the convolutional neural network model (to be completed)\n",
    "* Step 3: Create models for training and testing\n",
    "* Step 4: Display the summary of the model of interest "
   ]
  },
  {
   "cell_type": "code",
   "execution_count": 12,
   "metadata": {
    "colab": {
     "base_uri": "https://localhost:8080/"
    },
    "id": "gXK9w3H6FFnP",
    "outputId": "bf816273-b842-453e-b84d-e3db539b4b38"
   },
   "outputs": [
    {
     "name": "stdout",
     "output_type": "stream",
     "text": [
      "Model: \"model\"\n",
      "_________________________________________________________________\n",
      "Layer (type)                 Output Shape              Param #   \n",
      "=================================================================\n",
      "input_2 (InputLayer)         [(None, 32, 32, 1)]       0         \n",
      "_________________________________________________________________\n",
      "conv2d_1 (Conv2D)            (None, 30, 30, 32)        320       \n",
      "_________________________________________________________________\n",
      "max_pooling2d (MaxPooling2D) (None, 15, 15, 32)        0         \n",
      "_________________________________________________________________\n",
      "dropout (Dropout)            (None, 15, 15, 32)        0         \n",
      "_________________________________________________________________\n",
      "conv2d_2 (Conv2D)            (None, 13, 13, 64)        18496     \n",
      "_________________________________________________________________\n",
      "max_pooling2d_1 (MaxPooling2 (None, 6, 6, 64)          0         \n",
      "_________________________________________________________________\n",
      "dropout_1 (Dropout)          (None, 6, 6, 64)          0         \n",
      "_________________________________________________________________\n",
      "conv2d_3 (Conv2D)            (None, 4, 4, 128)         73856     \n",
      "_________________________________________________________________\n",
      "max_pooling2d_2 (MaxPooling2 (None, 2, 2, 128)         0         \n",
      "_________________________________________________________________\n",
      "dropout_2 (Dropout)          (None, 2, 2, 128)         0         \n",
      "_________________________________________________________________\n",
      "flatten (Flatten)            (None, 512)               0         \n",
      "_________________________________________________________________\n",
      "dense (Dense)                (None, 128)               65664     \n",
      "_________________________________________________________________\n",
      "dropout_3 (Dropout)          (None, 128)               0         \n",
      "_________________________________________________________________\n",
      "dense_1 (Dense)              (None, 64)                8256      \n",
      "_________________________________________________________________\n",
      "dropout_4 (Dropout)          (None, 64)                0         \n",
      "_________________________________________________________________\n",
      "dense_2 (Dense)              (None, 10)                650       \n",
      "=================================================================\n",
      "Total params: 167,242\n",
      "Trainable params: 167,242\n",
      "Non-trainable params: 0\n",
      "_________________________________________________________________\n"
     ]
    }
   ],
   "source": [
    "modelname    = 'speechRV2'                                                      # Step 1\n",
    "\n",
    "                                                                                # Step 2\n",
    "def createModel(row,col):\n",
    "    ipt = Input(shape=(row,col,1))\n",
    "    x = Conv2D(32,(3,3), padding='valid', activation='relu')(ipt)\n",
    "    x = MaxPooling2D((2,2))(x)\n",
    "    x = Dropout(0.25)(x)\n",
    " \n",
    "    x = Conv2D(64,(3,3), padding='valid', activation='relu')(x)\n",
    "    x = MaxPooling2D((2,2))(x)\n",
    "    x = Dropout(0.25)(x)\n",
    "    \n",
    "    x = Conv2D(128,(3,3), padding='valid', activation='relu')(x)\n",
    "    x = MaxPooling2D((2,2))(x)\n",
    "    x = Dropout(0.25)(x)\n",
    "\n",
    "    x = Flatten()(x)\n",
    "    x = Dense(128, activation='relu')(x)\n",
    "    x = Dropout(0.25)(x)\n",
    "    x = Dense(64, activation='relu')(x)\n",
    "    x = Dropout(0.25)(x)\n",
    "    x = Dense(len(classes), activation='softmax')(x)\n",
    "    model = Model(ipt, x)\n",
    "    model.compile(loss='categorical_crossentropy', optimizer='adam', metrics=['accuracy']) \n",
    "    return model\n",
    "\n",
    "nrow = trDat.shape[1]\n",
    "ncol = trDat.shape[2]                                                                           # Step 3\n",
    "model       = createModel(nrow,ncol) # This is meant for training\n",
    "modelGo     = createModel(nrow,ncol) # This is used for final testing\n",
    "\n",
    "model.summary()                                                                 # Step 4\n"
   ]
  },
  {
   "cell_type": "markdown",
   "metadata": {
    "id": "q8tAEGCNFMzH"
   },
   "source": [
    "## **10. Create callbacks**\n",
    "---\n",
    "* Step 1: Create a callback to save the model from an epoch when validation accuracy is the highest\n",
    "* Step 2: Create a callback to save the training loss, training accuracy, validation loss and validation accuracy of each epoch into a csv file\n",
    "* Step 3: Put the two callbacks objects into a list"
   ]
  },
  {
   "cell_type": "code",
   "execution_count": 13,
   "metadata": {
    "colab": {
     "base_uri": "https://localhost:8080/"
    },
    "id": "3Yq2ekx9FS5h",
    "outputId": "beeba72b-c464-4e4c-ef5e-341c635d5422"
   },
   "outputs": [
    {
     "name": "stdout",
     "output_type": "stream",
     "text": [
      "Callbacks created:\n",
      "<keras.callbacks.ModelCheckpoint object at 0x7f154c9574d0>\n",
      "<keras.callbacks.CSVLogger object at 0x7f154c957850>\n",
      "\n",
      "Path to model: /content/gdrive/My Drive/iss/rtavs/colab/speechRV2.hdf5\n",
      "Path to log:   /content/gdrive/My Drive/iss/rtavs/colab/speechRV2.csv\n"
     ]
    }
   ],
   "source": [
    "                                                                                # Step 1\n",
    "folderpath      = '/content/gdrive/My Drive/iss/rtavs/colab/'\n",
    "filepath        = folderpath + modelname + \".hdf5\"\n",
    "checkpoint      = ModelCheckpoint(filepath, \n",
    "                                  monitor='val_accuracy', \n",
    "                                  verbose=0, \n",
    "                                  save_best_only=True, \n",
    "                                  mode='max')\n",
    "\n",
    "csv_logger      = CSVLogger(folderpath+modelname +'.csv')                       # Step 2\n",
    "callbacks_list  = [checkpoint,csv_logger]                                       # Step 3\n",
    "\n",
    "print(\"Callbacks created:\")\n",
    "print(callbacks_list[0])\n",
    "print(callbacks_list[1])\n",
    "print('')\n",
    "print(\"Path to model:\", filepath)\n",
    "print(\"Path to log:  \", folderpath+modelname+'.csv')"
   ]
  },
  {
   "cell_type": "markdown",
   "metadata": {
    "id": "WTUa7kDfadKS"
   },
   "source": [
    "## **11. Train the deep learning model**\n",
    "---"
   ]
  },
  {
   "cell_type": "code",
   "execution_count": 14,
   "metadata": {
    "colab": {
     "base_uri": "https://localhost:8080/"
    },
    "id": "uWz269T5ag-L",
    "outputId": "6a08fbf1-a499-4ef3-95fa-676e68d0b3d9"
   },
   "outputs": [
    {
     "name": "stdout",
     "output_type": "stream",
     "text": [
      "Epoch 1/250\n",
      "533/533 [==============================] - 28s 51ms/step - loss: 2.1040 - accuracy: 0.1952 - val_loss: 1.2992 - val_accuracy: 0.5311\n",
      "Epoch 2/250\n",
      "533/533 [==============================] - 27s 50ms/step - loss: 1.1514 - accuracy: 0.5765 - val_loss: 0.6821 - val_accuracy: 0.7640\n",
      "Epoch 3/250\n",
      "533/533 [==============================] - 27s 50ms/step - loss: 0.8584 - accuracy: 0.6985 - val_loss: 0.5954 - val_accuracy: 0.8008\n",
      "Epoch 4/250\n",
      "533/533 [==============================] - 27s 51ms/step - loss: 0.7357 - accuracy: 0.7453 - val_loss: 0.5260 - val_accuracy: 0.8191\n",
      "Epoch 5/250\n",
      "533/533 [==============================] - 27s 51ms/step - loss: 0.6606 - accuracy: 0.7773 - val_loss: 0.4535 - val_accuracy: 0.8485\n",
      "Epoch 6/250\n",
      "533/533 [==============================] - 27s 50ms/step - loss: 0.6313 - accuracy: 0.7858 - val_loss: 0.4362 - val_accuracy: 0.8515\n",
      "Epoch 7/250\n",
      "533/533 [==============================] - 26s 50ms/step - loss: 0.5881 - accuracy: 0.8022 - val_loss: 0.4077 - val_accuracy: 0.8698\n",
      "Epoch 8/250\n",
      "533/533 [==============================] - 27s 50ms/step - loss: 0.5599 - accuracy: 0.8128 - val_loss: 0.3761 - val_accuracy: 0.8738\n",
      "Epoch 9/250\n",
      "533/533 [==============================] - 26s 49ms/step - loss: 0.5324 - accuracy: 0.8235 - val_loss: 0.3880 - val_accuracy: 0.8684\n",
      "Epoch 10/250\n",
      "533/533 [==============================] - 26s 49ms/step - loss: 0.5151 - accuracy: 0.8309 - val_loss: 0.3695 - val_accuracy: 0.8776\n",
      "Epoch 11/250\n",
      "533/533 [==============================] - 26s 49ms/step - loss: 0.5071 - accuracy: 0.8322 - val_loss: 0.3542 - val_accuracy: 0.8841\n",
      "Epoch 12/250\n",
      "533/533 [==============================] - 26s 49ms/step - loss: 0.4926 - accuracy: 0.8342 - val_loss: 0.3411 - val_accuracy: 0.8890\n",
      "Epoch 13/250\n",
      "533/533 [==============================] - 26s 49ms/step - loss: 0.4763 - accuracy: 0.8385 - val_loss: 0.3563 - val_accuracy: 0.8806\n",
      "Epoch 14/250\n",
      "533/533 [==============================] - 26s 49ms/step - loss: 0.4748 - accuracy: 0.8435 - val_loss: 0.3258 - val_accuracy: 0.8860\n",
      "Epoch 15/250\n",
      "533/533 [==============================] - 26s 49ms/step - loss: 0.4654 - accuracy: 0.8447 - val_loss: 0.3270 - val_accuracy: 0.8895\n",
      "Epoch 16/250\n",
      "533/533 [==============================] - 26s 49ms/step - loss: 0.4513 - accuracy: 0.8511 - val_loss: 0.3189 - val_accuracy: 0.8855\n",
      "Epoch 17/250\n",
      "533/533 [==============================] - 26s 49ms/step - loss: 0.4390 - accuracy: 0.8540 - val_loss: 0.3212 - val_accuracy: 0.8860\n",
      "Epoch 18/250\n",
      "533/533 [==============================] - 26s 49ms/step - loss: 0.4352 - accuracy: 0.8560 - val_loss: 0.3187 - val_accuracy: 0.8919\n",
      "Epoch 19/250\n",
      "533/533 [==============================] - 26s 49ms/step - loss: 0.4345 - accuracy: 0.8541 - val_loss: 0.3213 - val_accuracy: 0.8909\n",
      "Epoch 20/250\n",
      "533/533 [==============================] - 27s 50ms/step - loss: 0.4236 - accuracy: 0.8601 - val_loss: 0.3044 - val_accuracy: 0.8907\n",
      "Epoch 21/250\n",
      "533/533 [==============================] - 26s 50ms/step - loss: 0.4219 - accuracy: 0.8605 - val_loss: 0.3063 - val_accuracy: 0.8958\n",
      "Epoch 22/250\n",
      "533/533 [==============================] - 26s 49ms/step - loss: 0.4110 - accuracy: 0.8650 - val_loss: 0.3057 - val_accuracy: 0.8949\n",
      "Epoch 23/250\n",
      "533/533 [==============================] - 26s 49ms/step - loss: 0.4073 - accuracy: 0.8642 - val_loss: 0.3063 - val_accuracy: 0.8951\n",
      "Epoch 24/250\n",
      "533/533 [==============================] - 26s 49ms/step - loss: 0.4100 - accuracy: 0.8641 - val_loss: 0.2979 - val_accuracy: 0.8947\n",
      "Epoch 25/250\n",
      "533/533 [==============================] - 27s 50ms/step - loss: 0.4022 - accuracy: 0.8654 - val_loss: 0.3039 - val_accuracy: 0.8942\n",
      "Epoch 26/250\n",
      "533/533 [==============================] - 27s 51ms/step - loss: 0.3883 - accuracy: 0.8701 - val_loss: 0.3196 - val_accuracy: 0.8909\n",
      "Epoch 27/250\n",
      "533/533 [==============================] - 26s 49ms/step - loss: 0.3880 - accuracy: 0.8690 - val_loss: 0.2945 - val_accuracy: 0.8949\n",
      "Epoch 28/250\n",
      "533/533 [==============================] - 26s 50ms/step - loss: 0.3796 - accuracy: 0.8737 - val_loss: 0.2992 - val_accuracy: 0.8963\n",
      "Epoch 29/250\n",
      "533/533 [==============================] - 27s 50ms/step - loss: 0.3715 - accuracy: 0.8753 - val_loss: 0.2945 - val_accuracy: 0.9003\n",
      "Epoch 30/250\n",
      "533/533 [==============================] - 27s 50ms/step - loss: 0.3712 - accuracy: 0.8739 - val_loss: 0.2989 - val_accuracy: 0.8947\n",
      "Epoch 31/250\n",
      "533/533 [==============================] - 27s 50ms/step - loss: 0.3674 - accuracy: 0.8765 - val_loss: 0.2910 - val_accuracy: 0.8980\n",
      "Epoch 32/250\n",
      "533/533 [==============================] - 26s 50ms/step - loss: 0.3639 - accuracy: 0.8816 - val_loss: 0.3096 - val_accuracy: 0.8991\n",
      "Epoch 33/250\n",
      "533/533 [==============================] - 27s 50ms/step - loss: 0.3643 - accuracy: 0.8782 - val_loss: 0.2803 - val_accuracy: 0.9034\n",
      "Epoch 34/250\n",
      "533/533 [==============================] - 27s 50ms/step - loss: 0.3628 - accuracy: 0.8819 - val_loss: 0.2877 - val_accuracy: 0.8977\n",
      "Epoch 35/250\n",
      "533/533 [==============================] - 27s 50ms/step - loss: 0.3509 - accuracy: 0.8818 - val_loss: 0.2968 - val_accuracy: 0.9041\n",
      "Epoch 36/250\n",
      "533/533 [==============================] - 27s 50ms/step - loss: 0.3605 - accuracy: 0.8775 - val_loss: 0.2984 - val_accuracy: 0.8980\n",
      "Epoch 37/250\n",
      "533/533 [==============================] - 27s 51ms/step - loss: 0.3475 - accuracy: 0.8832 - val_loss: 0.2740 - val_accuracy: 0.9052\n",
      "Epoch 38/250\n",
      "533/533 [==============================] - 27s 50ms/step - loss: 0.3579 - accuracy: 0.8827 - val_loss: 0.2730 - val_accuracy: 0.9080\n",
      "Epoch 39/250\n",
      "533/533 [==============================] - 27s 50ms/step - loss: 0.3451 - accuracy: 0.8823 - val_loss: 0.2767 - val_accuracy: 0.9076\n",
      "Epoch 40/250\n",
      "533/533 [==============================] - 27s 50ms/step - loss: 0.3437 - accuracy: 0.8870 - val_loss: 0.2931 - val_accuracy: 0.8980\n",
      "Epoch 41/250\n",
      "533/533 [==============================] - 27s 50ms/step - loss: 0.3377 - accuracy: 0.8847 - val_loss: 0.2780 - val_accuracy: 0.9034\n",
      "Epoch 42/250\n",
      "533/533 [==============================] - 27s 50ms/step - loss: 0.3346 - accuracy: 0.8900 - val_loss: 0.2747 - val_accuracy: 0.9076\n",
      "Epoch 43/250\n",
      "533/533 [==============================] - 27s 50ms/step - loss: 0.3372 - accuracy: 0.8879 - val_loss: 0.2686 - val_accuracy: 0.9062\n",
      "Epoch 44/250\n",
      "533/533 [==============================] - 26s 50ms/step - loss: 0.3349 - accuracy: 0.8874 - val_loss: 0.2764 - val_accuracy: 0.9034\n",
      "Epoch 45/250\n",
      "533/533 [==============================] - 26s 49ms/step - loss: 0.3356 - accuracy: 0.8892 - val_loss: 0.2617 - val_accuracy: 0.9141\n",
      "Epoch 46/250\n",
      "533/533 [==============================] - 26s 49ms/step - loss: 0.3202 - accuracy: 0.8927 - val_loss: 0.2764 - val_accuracy: 0.9085\n",
      "Epoch 47/250\n",
      "533/533 [==============================] - 27s 50ms/step - loss: 0.3244 - accuracy: 0.8910 - val_loss: 0.2889 - val_accuracy: 0.9057\n",
      "Epoch 48/250\n",
      "533/533 [==============================] - 26s 49ms/step - loss: 0.3212 - accuracy: 0.8930 - val_loss: 0.2662 - val_accuracy: 0.9109\n",
      "Epoch 49/250\n",
      "533/533 [==============================] - 26s 49ms/step - loss: 0.3150 - accuracy: 0.8956 - val_loss: 0.2652 - val_accuracy: 0.9059\n",
      "Epoch 50/250\n",
      "533/533 [==============================] - 26s 49ms/step - loss: 0.3168 - accuracy: 0.8927 - val_loss: 0.2704 - val_accuracy: 0.9076\n",
      "Epoch 51/250\n",
      "533/533 [==============================] - 26s 49ms/step - loss: 0.3156 - accuracy: 0.8937 - val_loss: 0.2772 - val_accuracy: 0.9055\n",
      "Epoch 52/250\n",
      "533/533 [==============================] - 26s 49ms/step - loss: 0.3284 - accuracy: 0.8904 - val_loss: 0.2762 - val_accuracy: 0.9048\n",
      "Epoch 53/250\n",
      "533/533 [==============================] - 26s 49ms/step - loss: 0.3126 - accuracy: 0.8970 - val_loss: 0.2581 - val_accuracy: 0.9125\n",
      "Epoch 54/250\n",
      "533/533 [==============================] - 26s 49ms/step - loss: 0.3061 - accuracy: 0.8982 - val_loss: 0.2744 - val_accuracy: 0.9087\n",
      "Epoch 55/250\n",
      "533/533 [==============================] - 26s 49ms/step - loss: 0.3064 - accuracy: 0.9003 - val_loss: 0.2678 - val_accuracy: 0.9078\n",
      "Epoch 56/250\n",
      "533/533 [==============================] - 26s 50ms/step - loss: 0.2998 - accuracy: 0.9016 - val_loss: 0.2579 - val_accuracy: 0.9137\n",
      "Epoch 57/250\n",
      "533/533 [==============================] - 27s 50ms/step - loss: 0.3053 - accuracy: 0.8976 - val_loss: 0.2635 - val_accuracy: 0.9120\n",
      "Epoch 58/250\n",
      "533/533 [==============================] - 26s 50ms/step - loss: 0.2959 - accuracy: 0.9030 - val_loss: 0.2697 - val_accuracy: 0.9102\n",
      "Epoch 59/250\n",
      "533/533 [==============================] - 26s 50ms/step - loss: 0.2936 - accuracy: 0.9022 - val_loss: 0.2740 - val_accuracy: 0.9102\n",
      "Epoch 60/250\n",
      "533/533 [==============================] - 26s 50ms/step - loss: 0.2918 - accuracy: 0.9039 - val_loss: 0.2734 - val_accuracy: 0.9045\n",
      "Epoch 61/250\n",
      "533/533 [==============================] - 27s 50ms/step - loss: 0.2929 - accuracy: 0.9019 - val_loss: 0.2640 - val_accuracy: 0.9111\n",
      "Epoch 62/250\n",
      "533/533 [==============================] - 27s 50ms/step - loss: 0.2910 - accuracy: 0.9030 - val_loss: 0.2634 - val_accuracy: 0.9116\n",
      "Epoch 63/250\n",
      "533/533 [==============================] - 27s 50ms/step - loss: 0.2931 - accuracy: 0.9033 - val_loss: 0.2665 - val_accuracy: 0.9102\n",
      "Epoch 64/250\n",
      "533/533 [==============================] - 26s 50ms/step - loss: 0.2893 - accuracy: 0.9036 - val_loss: 0.2537 - val_accuracy: 0.9139\n",
      "Epoch 65/250\n",
      "533/533 [==============================] - 27s 50ms/step - loss: 0.2820 - accuracy: 0.9066 - val_loss: 0.2571 - val_accuracy: 0.9146\n",
      "Epoch 66/250\n",
      "533/533 [==============================] - 27s 50ms/step - loss: 0.2876 - accuracy: 0.9045 - val_loss: 0.2600 - val_accuracy: 0.9069\n",
      "Epoch 67/250\n",
      "533/533 [==============================] - 27s 50ms/step - loss: 0.2784 - accuracy: 0.9068 - val_loss: 0.2605 - val_accuracy: 0.9104\n",
      "Epoch 68/250\n",
      "533/533 [==============================] - 26s 50ms/step - loss: 0.2772 - accuracy: 0.9079 - val_loss: 0.2503 - val_accuracy: 0.9139\n",
      "Epoch 69/250\n",
      "533/533 [==============================] - 26s 50ms/step - loss: 0.2842 - accuracy: 0.9054 - val_loss: 0.2610 - val_accuracy: 0.9139\n",
      "Epoch 70/250\n",
      "533/533 [==============================] - 27s 50ms/step - loss: 0.2859 - accuracy: 0.9077 - val_loss: 0.2492 - val_accuracy: 0.9146\n",
      "Epoch 71/250\n",
      "533/533 [==============================] - 26s 50ms/step - loss: 0.2825 - accuracy: 0.9064 - val_loss: 0.2450 - val_accuracy: 0.9214\n",
      "Epoch 72/250\n",
      "533/533 [==============================] - 26s 50ms/step - loss: 0.2751 - accuracy: 0.9084 - val_loss: 0.2444 - val_accuracy: 0.9188\n",
      "Epoch 73/250\n",
      "533/533 [==============================] - 27s 50ms/step - loss: 0.2739 - accuracy: 0.9079 - val_loss: 0.2533 - val_accuracy: 0.9125\n",
      "Epoch 74/250\n",
      "533/533 [==============================] - 26s 50ms/step - loss: 0.2593 - accuracy: 0.9130 - val_loss: 0.2508 - val_accuracy: 0.9158\n",
      "Epoch 75/250\n",
      "533/533 [==============================] - 27s 50ms/step - loss: 0.2711 - accuracy: 0.9121 - val_loss: 0.2538 - val_accuracy: 0.9125\n",
      "Epoch 76/250\n",
      "533/533 [==============================] - 26s 50ms/step - loss: 0.2708 - accuracy: 0.9104 - val_loss: 0.2602 - val_accuracy: 0.9148\n",
      "Epoch 77/250\n",
      "533/533 [==============================] - 26s 50ms/step - loss: 0.2765 - accuracy: 0.9096 - val_loss: 0.2407 - val_accuracy: 0.9181\n",
      "Epoch 78/250\n",
      "533/533 [==============================] - 27s 50ms/step - loss: 0.2650 - accuracy: 0.9094 - val_loss: 0.2514 - val_accuracy: 0.9198\n",
      "Epoch 79/250\n",
      "533/533 [==============================] - 27s 50ms/step - loss: 0.2750 - accuracy: 0.9118 - val_loss: 0.2577 - val_accuracy: 0.9118\n",
      "Epoch 80/250\n",
      "533/533 [==============================] - 27s 50ms/step - loss: 0.2598 - accuracy: 0.9133 - val_loss: 0.2417 - val_accuracy: 0.9153\n",
      "Epoch 81/250\n",
      "533/533 [==============================] - 26s 50ms/step - loss: 0.2563 - accuracy: 0.9141 - val_loss: 0.2837 - val_accuracy: 0.9052\n",
      "Epoch 82/250\n",
      "533/533 [==============================] - 26s 49ms/step - loss: 0.2687 - accuracy: 0.9124 - val_loss: 0.2628 - val_accuracy: 0.9160\n",
      "Epoch 83/250\n",
      "533/533 [==============================] - 27s 50ms/step - loss: 0.2583 - accuracy: 0.9140 - val_loss: 0.2516 - val_accuracy: 0.9118\n",
      "Epoch 84/250\n",
      "533/533 [==============================] - 27s 50ms/step - loss: 0.2644 - accuracy: 0.9136 - val_loss: 0.2595 - val_accuracy: 0.9153\n",
      "Epoch 85/250\n",
      "533/533 [==============================] - 27s 50ms/step - loss: 0.2610 - accuracy: 0.9131 - val_loss: 0.2664 - val_accuracy: 0.9125\n",
      "Epoch 86/250\n",
      "533/533 [==============================] - 26s 50ms/step - loss: 0.2610 - accuracy: 0.9136 - val_loss: 0.2728 - val_accuracy: 0.9062\n",
      "Epoch 87/250\n",
      "533/533 [==============================] - 26s 50ms/step - loss: 0.2522 - accuracy: 0.9152 - val_loss: 0.2651 - val_accuracy: 0.9106\n",
      "Epoch 88/250\n",
      "533/533 [==============================] - 27s 50ms/step - loss: 0.2438 - accuracy: 0.9187 - val_loss: 0.2519 - val_accuracy: 0.9127\n",
      "Epoch 89/250\n",
      "533/533 [==============================] - 27s 50ms/step - loss: 0.2584 - accuracy: 0.9158 - val_loss: 0.2555 - val_accuracy: 0.9134\n",
      "Epoch 90/250\n",
      "533/533 [==============================] - 27s 50ms/step - loss: 0.2588 - accuracy: 0.9129 - val_loss: 0.2504 - val_accuracy: 0.9158\n",
      "Epoch 91/250\n",
      "533/533 [==============================] - 27s 50ms/step - loss: 0.2571 - accuracy: 0.9142 - val_loss: 0.2511 - val_accuracy: 0.9141\n",
      "Epoch 92/250\n",
      "533/533 [==============================] - 26s 50ms/step - loss: 0.2516 - accuracy: 0.9178 - val_loss: 0.2574 - val_accuracy: 0.9137\n",
      "Epoch 93/250\n",
      "533/533 [==============================] - 27s 50ms/step - loss: 0.2451 - accuracy: 0.9187 - val_loss: 0.2558 - val_accuracy: 0.9153\n",
      "Epoch 94/250\n",
      "533/533 [==============================] - 27s 50ms/step - loss: 0.2576 - accuracy: 0.9163 - val_loss: 0.2477 - val_accuracy: 0.9146\n",
      "Epoch 95/250\n",
      "533/533 [==============================] - 27s 50ms/step - loss: 0.2417 - accuracy: 0.9193 - val_loss: 0.2524 - val_accuracy: 0.9177\n",
      "Epoch 96/250\n",
      "533/533 [==============================] - 27s 50ms/step - loss: 0.2527 - accuracy: 0.9173 - val_loss: 0.2643 - val_accuracy: 0.9106\n",
      "Epoch 97/250\n",
      "533/533 [==============================] - 27s 51ms/step - loss: 0.2564 - accuracy: 0.9175 - val_loss: 0.2646 - val_accuracy: 0.9160\n",
      "Epoch 98/250\n",
      "533/533 [==============================] - 27s 50ms/step - loss: 0.2429 - accuracy: 0.9211 - val_loss: 0.2675 - val_accuracy: 0.9132\n",
      "Epoch 99/250\n",
      "533/533 [==============================] - 27s 50ms/step - loss: 0.2444 - accuracy: 0.9202 - val_loss: 0.2578 - val_accuracy: 0.9148\n",
      "Epoch 100/250\n",
      "533/533 [==============================] - 27s 50ms/step - loss: 0.2507 - accuracy: 0.9186 - val_loss: 0.2536 - val_accuracy: 0.9132\n",
      "Epoch 101/250\n",
      "533/533 [==============================] - 27s 50ms/step - loss: 0.2393 - accuracy: 0.9213 - val_loss: 0.2658 - val_accuracy: 0.9120\n",
      "Epoch 102/250\n",
      "533/533 [==============================] - 27s 50ms/step - loss: 0.2430 - accuracy: 0.9201 - val_loss: 0.2570 - val_accuracy: 0.9144\n",
      "Epoch 103/250\n",
      "533/533 [==============================] - 27s 51ms/step - loss: 0.2474 - accuracy: 0.9179 - val_loss: 0.2658 - val_accuracy: 0.9141\n",
      "Epoch 104/250\n",
      "533/533 [==============================] - 27s 50ms/step - loss: 0.2432 - accuracy: 0.9211 - val_loss: 0.2644 - val_accuracy: 0.9123\n",
      "Epoch 105/250\n",
      "533/533 [==============================] - 27s 51ms/step - loss: 0.2333 - accuracy: 0.9258 - val_loss: 0.2627 - val_accuracy: 0.9127\n",
      "Epoch 106/250\n",
      "533/533 [==============================] - 27s 51ms/step - loss: 0.2406 - accuracy: 0.9220 - val_loss: 0.2600 - val_accuracy: 0.9102\n",
      "Epoch 107/250\n",
      "533/533 [==============================] - 27s 50ms/step - loss: 0.2456 - accuracy: 0.9197 - val_loss: 0.2529 - val_accuracy: 0.9186\n",
      "Epoch 108/250\n",
      "533/533 [==============================] - 27s 51ms/step - loss: 0.2412 - accuracy: 0.9222 - val_loss: 0.2568 - val_accuracy: 0.9153\n",
      "Epoch 109/250\n",
      "533/533 [==============================] - 27s 50ms/step - loss: 0.2366 - accuracy: 0.9206 - val_loss: 0.2716 - val_accuracy: 0.9106\n",
      "Epoch 110/250\n",
      "533/533 [==============================] - 27s 50ms/step - loss: 0.2383 - accuracy: 0.9223 - val_loss: 0.2591 - val_accuracy: 0.9158\n",
      "Epoch 111/250\n",
      "533/533 [==============================] - 27s 50ms/step - loss: 0.2392 - accuracy: 0.9218 - val_loss: 0.2628 - val_accuracy: 0.9156\n",
      "Epoch 112/250\n",
      "533/533 [==============================] - 27s 50ms/step - loss: 0.2340 - accuracy: 0.9236 - val_loss: 0.2638 - val_accuracy: 0.9113\n",
      "Epoch 113/250\n",
      "533/533 [==============================] - 27s 50ms/step - loss: 0.2445 - accuracy: 0.9215 - val_loss: 0.2585 - val_accuracy: 0.9160\n",
      "Epoch 114/250\n",
      "533/533 [==============================] - 27s 50ms/step - loss: 0.2364 - accuracy: 0.9211 - val_loss: 0.2628 - val_accuracy: 0.9156\n",
      "Epoch 115/250\n",
      "533/533 [==============================] - 27s 50ms/step - loss: 0.2381 - accuracy: 0.9235 - val_loss: 0.2679 - val_accuracy: 0.9144\n",
      "Epoch 116/250\n",
      "533/533 [==============================] - 27s 51ms/step - loss: 0.2425 - accuracy: 0.9219 - val_loss: 0.2699 - val_accuracy: 0.9118\n",
      "Epoch 117/250\n",
      "533/533 [==============================] - 27s 50ms/step - loss: 0.2294 - accuracy: 0.9241 - val_loss: 0.2708 - val_accuracy: 0.9160\n",
      "Epoch 118/250\n",
      "533/533 [==============================] - 27s 50ms/step - loss: 0.2381 - accuracy: 0.9212 - val_loss: 0.2498 - val_accuracy: 0.9172\n",
      "Epoch 119/250\n",
      "533/533 [==============================] - 27s 51ms/step - loss: 0.2363 - accuracy: 0.9232 - val_loss: 0.2554 - val_accuracy: 0.9132\n",
      "Epoch 120/250\n",
      "533/533 [==============================] - 27s 51ms/step - loss: 0.2381 - accuracy: 0.9221 - val_loss: 0.2636 - val_accuracy: 0.9179\n",
      "Epoch 121/250\n",
      "533/533 [==============================] - 27s 51ms/step - loss: 0.2337 - accuracy: 0.9237 - val_loss: 0.2582 - val_accuracy: 0.9170\n",
      "Epoch 122/250\n",
      "533/533 [==============================] - 27s 50ms/step - loss: 0.2319 - accuracy: 0.9250 - val_loss: 0.2566 - val_accuracy: 0.9188\n",
      "Epoch 123/250\n",
      "533/533 [==============================] - 27s 51ms/step - loss: 0.2220 - accuracy: 0.9241 - val_loss: 0.2751 - val_accuracy: 0.9078\n",
      "Epoch 124/250\n",
      "533/533 [==============================] - 27s 50ms/step - loss: 0.2374 - accuracy: 0.9226 - val_loss: 0.2559 - val_accuracy: 0.9160\n",
      "Epoch 125/250\n",
      "533/533 [==============================] - 27s 50ms/step - loss: 0.2289 - accuracy: 0.9243 - val_loss: 0.2659 - val_accuracy: 0.9123\n",
      "Epoch 126/250\n",
      "533/533 [==============================] - 27s 50ms/step - loss: 0.2369 - accuracy: 0.9230 - val_loss: 0.2742 - val_accuracy: 0.9092\n",
      "Epoch 127/250\n",
      "533/533 [==============================] - 27s 51ms/step - loss: 0.2336 - accuracy: 0.9240 - val_loss: 0.2623 - val_accuracy: 0.9078\n",
      "Epoch 128/250\n",
      "533/533 [==============================] - 27s 50ms/step - loss: 0.2319 - accuracy: 0.9247 - val_loss: 0.2495 - val_accuracy: 0.9165\n",
      "Epoch 129/250\n",
      "533/533 [==============================] - 27s 50ms/step - loss: 0.2279 - accuracy: 0.9281 - val_loss: 0.2496 - val_accuracy: 0.9170\n",
      "Epoch 130/250\n",
      "533/533 [==============================] - 27s 50ms/step - loss: 0.2373 - accuracy: 0.9233 - val_loss: 0.2491 - val_accuracy: 0.9158\n",
      "Epoch 131/250\n",
      "533/533 [==============================] - 27s 50ms/step - loss: 0.2221 - accuracy: 0.9288 - val_loss: 0.2525 - val_accuracy: 0.9172\n",
      "Epoch 132/250\n",
      "533/533 [==============================] - 27s 50ms/step - loss: 0.2321 - accuracy: 0.9240 - val_loss: 0.2561 - val_accuracy: 0.9209\n",
      "Epoch 133/250\n",
      "533/533 [==============================] - 27s 51ms/step - loss: 0.2365 - accuracy: 0.9269 - val_loss: 0.2522 - val_accuracy: 0.9188\n",
      "Epoch 134/250\n",
      "533/533 [==============================] - 27s 50ms/step - loss: 0.2209 - accuracy: 0.9292 - val_loss: 0.2630 - val_accuracy: 0.9123\n",
      "Epoch 135/250\n",
      "533/533 [==============================] - 27s 50ms/step - loss: 0.2261 - accuracy: 0.9281 - val_loss: 0.2569 - val_accuracy: 0.9205\n",
      "Epoch 136/250\n",
      "533/533 [==============================] - 27s 50ms/step - loss: 0.2265 - accuracy: 0.9268 - val_loss: 0.2563 - val_accuracy: 0.9163\n",
      "Epoch 137/250\n",
      "533/533 [==============================] - 27s 50ms/step - loss: 0.2236 - accuracy: 0.9253 - val_loss: 0.2487 - val_accuracy: 0.9156\n",
      "Epoch 138/250\n",
      "533/533 [==============================] - 27s 50ms/step - loss: 0.2200 - accuracy: 0.9292 - val_loss: 0.2608 - val_accuracy: 0.9141\n",
      "Epoch 139/250\n",
      "533/533 [==============================] - 27s 50ms/step - loss: 0.2199 - accuracy: 0.9289 - val_loss: 0.2610 - val_accuracy: 0.9156\n",
      "Epoch 140/250\n",
      "533/533 [==============================] - 27s 50ms/step - loss: 0.2239 - accuracy: 0.9282 - val_loss: 0.2515 - val_accuracy: 0.9186\n",
      "Epoch 141/250\n",
      "533/533 [==============================] - 27s 50ms/step - loss: 0.2280 - accuracy: 0.9277 - val_loss: 0.2556 - val_accuracy: 0.9167\n",
      "Epoch 142/250\n",
      "533/533 [==============================] - 27s 51ms/step - loss: 0.2214 - accuracy: 0.9291 - val_loss: 0.2437 - val_accuracy: 0.9221\n",
      "Epoch 143/250\n",
      "533/533 [==============================] - 27s 51ms/step - loss: 0.2133 - accuracy: 0.9274 - val_loss: 0.2498 - val_accuracy: 0.9209\n",
      "Epoch 144/250\n",
      "533/533 [==============================] - 27s 51ms/step - loss: 0.2220 - accuracy: 0.9287 - val_loss: 0.2713 - val_accuracy: 0.9137\n",
      "Epoch 145/250\n",
      "533/533 [==============================] - 27s 51ms/step - loss: 0.2223 - accuracy: 0.9283 - val_loss: 0.2626 - val_accuracy: 0.9195\n",
      "Epoch 146/250\n",
      "533/533 [==============================] - 27s 51ms/step - loss: 0.2161 - accuracy: 0.9298 - val_loss: 0.2732 - val_accuracy: 0.9120\n",
      "Epoch 147/250\n",
      "533/533 [==============================] - 27s 50ms/step - loss: 0.2186 - accuracy: 0.9297 - val_loss: 0.2638 - val_accuracy: 0.9226\n",
      "Epoch 148/250\n",
      "533/533 [==============================] - 27s 51ms/step - loss: 0.2261 - accuracy: 0.9266 - val_loss: 0.2572 - val_accuracy: 0.9177\n",
      "Epoch 149/250\n",
      "533/533 [==============================] - 27s 51ms/step - loss: 0.2193 - accuracy: 0.9291 - val_loss: 0.2516 - val_accuracy: 0.9202\n",
      "Epoch 150/250\n",
      "533/533 [==============================] - 27s 51ms/step - loss: 0.2199 - accuracy: 0.9292 - val_loss: 0.2722 - val_accuracy: 0.9132\n",
      "Epoch 151/250\n",
      "533/533 [==============================] - 27s 51ms/step - loss: 0.2295 - accuracy: 0.9267 - val_loss: 0.2701 - val_accuracy: 0.9158\n",
      "Epoch 152/250\n",
      "533/533 [==============================] - 27s 51ms/step - loss: 0.2194 - accuracy: 0.9303 - val_loss: 0.2549 - val_accuracy: 0.9158\n",
      "Epoch 153/250\n",
      "533/533 [==============================] - 27s 51ms/step - loss: 0.2234 - accuracy: 0.9285 - val_loss: 0.2694 - val_accuracy: 0.9127\n",
      "Epoch 154/250\n",
      "533/533 [==============================] - 27s 51ms/step - loss: 0.2185 - accuracy: 0.9300 - val_loss: 0.2687 - val_accuracy: 0.9134\n",
      "Epoch 155/250\n",
      "533/533 [==============================] - 28s 53ms/step - loss: 0.2190 - accuracy: 0.9290 - val_loss: 0.2581 - val_accuracy: 0.9165\n",
      "Epoch 156/250\n",
      "533/533 [==============================] - 28s 52ms/step - loss: 0.2284 - accuracy: 0.9274 - val_loss: 0.2658 - val_accuracy: 0.9146\n",
      "Epoch 157/250\n",
      "533/533 [==============================] - 28s 52ms/step - loss: 0.2133 - accuracy: 0.9307 - val_loss: 0.2645 - val_accuracy: 0.9167\n",
      "Epoch 158/250\n",
      "533/533 [==============================] - 28s 53ms/step - loss: 0.2210 - accuracy: 0.9299 - val_loss: 0.2494 - val_accuracy: 0.9205\n",
      "Epoch 159/250\n",
      "533/533 [==============================] - 29s 54ms/step - loss: 0.2140 - accuracy: 0.9300 - val_loss: 0.2918 - val_accuracy: 0.9141\n",
      "Epoch 160/250\n",
      "533/533 [==============================] - 28s 52ms/step - loss: 0.2149 - accuracy: 0.9308 - val_loss: 0.2601 - val_accuracy: 0.9144\n",
      "Epoch 161/250\n",
      "533/533 [==============================] - 28s 53ms/step - loss: 0.2222 - accuracy: 0.9275 - val_loss: 0.2687 - val_accuracy: 0.9174\n",
      "Epoch 162/250\n",
      "533/533 [==============================] - 28s 52ms/step - loss: 0.2267 - accuracy: 0.9269 - val_loss: 0.2568 - val_accuracy: 0.9146\n",
      "Epoch 163/250\n",
      "533/533 [==============================] - 28s 52ms/step - loss: 0.2174 - accuracy: 0.9312 - val_loss: 0.2577 - val_accuracy: 0.9214\n",
      "Epoch 164/250\n",
      "533/533 [==============================] - 28s 53ms/step - loss: 0.2178 - accuracy: 0.9287 - val_loss: 0.2557 - val_accuracy: 0.9163\n",
      "Epoch 165/250\n",
      "533/533 [==============================] - 28s 52ms/step - loss: 0.2079 - accuracy: 0.9318 - val_loss: 0.2694 - val_accuracy: 0.9165\n",
      "Epoch 166/250\n",
      "533/533 [==============================] - 27s 51ms/step - loss: 0.2168 - accuracy: 0.9321 - val_loss: 0.2528 - val_accuracy: 0.9205\n",
      "Epoch 167/250\n",
      "533/533 [==============================] - 27s 51ms/step - loss: 0.2131 - accuracy: 0.9327 - val_loss: 0.2597 - val_accuracy: 0.9202\n",
      "Epoch 168/250\n",
      "533/533 [==============================] - 29s 54ms/step - loss: 0.2064 - accuracy: 0.9328 - val_loss: 0.2662 - val_accuracy: 0.9172\n",
      "Epoch 169/250\n",
      "533/533 [==============================] - 28s 52ms/step - loss: 0.2215 - accuracy: 0.9302 - val_loss: 0.2644 - val_accuracy: 0.9170\n",
      "Epoch 170/250\n",
      "533/533 [==============================] - 28s 53ms/step - loss: 0.2094 - accuracy: 0.9328 - val_loss: 0.2600 - val_accuracy: 0.9172\n",
      "Epoch 171/250\n",
      "533/533 [==============================] - 29s 54ms/step - loss: 0.2171 - accuracy: 0.9320 - val_loss: 0.2572 - val_accuracy: 0.9193\n",
      "Epoch 172/250\n",
      "533/533 [==============================] - 29s 55ms/step - loss: 0.2137 - accuracy: 0.9314 - val_loss: 0.2505 - val_accuracy: 0.9174\n",
      "Epoch 173/250\n",
      "533/533 [==============================] - 28s 53ms/step - loss: 0.2127 - accuracy: 0.9331 - val_loss: 0.2634 - val_accuracy: 0.9151\n",
      "Epoch 174/250\n",
      "533/533 [==============================] - 28s 52ms/step - loss: 0.2054 - accuracy: 0.9344 - val_loss: 0.2766 - val_accuracy: 0.9134\n",
      "Epoch 175/250\n",
      "533/533 [==============================] - 28s 52ms/step - loss: 0.2112 - accuracy: 0.9338 - val_loss: 0.2612 - val_accuracy: 0.9184\n",
      "Epoch 176/250\n",
      "533/533 [==============================] - 28s 53ms/step - loss: 0.2043 - accuracy: 0.9346 - val_loss: 0.2826 - val_accuracy: 0.9158\n",
      "Epoch 177/250\n",
      "533/533 [==============================] - 28s 52ms/step - loss: 0.2181 - accuracy: 0.9287 - val_loss: 0.2623 - val_accuracy: 0.9174\n",
      "Epoch 178/250\n",
      "533/533 [==============================] - 28s 52ms/step - loss: 0.2113 - accuracy: 0.9314 - val_loss: 0.2612 - val_accuracy: 0.9181\n",
      "Epoch 179/250\n",
      "533/533 [==============================] - 28s 52ms/step - loss: 0.2043 - accuracy: 0.9340 - val_loss: 0.2612 - val_accuracy: 0.9172\n",
      "Epoch 180/250\n",
      "533/533 [==============================] - 28s 52ms/step - loss: 0.2204 - accuracy: 0.9290 - val_loss: 0.2759 - val_accuracy: 0.9153\n",
      "Epoch 181/250\n",
      "533/533 [==============================] - 28s 52ms/step - loss: 0.2045 - accuracy: 0.9377 - val_loss: 0.2717 - val_accuracy: 0.9167\n",
      "Epoch 182/250\n",
      "533/533 [==============================] - 27s 51ms/step - loss: 0.2157 - accuracy: 0.9286 - val_loss: 0.2687 - val_accuracy: 0.9200\n",
      "Epoch 183/250\n",
      "533/533 [==============================] - 27s 52ms/step - loss: 0.2119 - accuracy: 0.9351 - val_loss: 0.2570 - val_accuracy: 0.9179\n",
      "Epoch 184/250\n",
      "533/533 [==============================] - 28s 52ms/step - loss: 0.2133 - accuracy: 0.9344 - val_loss: 0.2710 - val_accuracy: 0.9144\n",
      "Epoch 185/250\n",
      "533/533 [==============================] - 28s 52ms/step - loss: 0.2099 - accuracy: 0.9324 - val_loss: 0.2609 - val_accuracy: 0.9165\n",
      "Epoch 186/250\n",
      "533/533 [==============================] - 27s 51ms/step - loss: 0.2113 - accuracy: 0.9324 - val_loss: 0.2686 - val_accuracy: 0.9127\n",
      "Epoch 187/250\n",
      "533/533 [==============================] - 28s 53ms/step - loss: 0.2082 - accuracy: 0.9351 - val_loss: 0.2606 - val_accuracy: 0.9238\n",
      "Epoch 188/250\n",
      "533/533 [==============================] - 28s 52ms/step - loss: 0.2106 - accuracy: 0.9344 - val_loss: 0.2578 - val_accuracy: 0.9165\n",
      "Epoch 189/250\n",
      "533/533 [==============================] - 28s 52ms/step - loss: 0.2026 - accuracy: 0.9342 - val_loss: 0.2747 - val_accuracy: 0.9177\n",
      "Epoch 190/250\n",
      "533/533 [==============================] - 28s 52ms/step - loss: 0.2086 - accuracy: 0.9361 - val_loss: 0.2589 - val_accuracy: 0.9214\n",
      "Epoch 191/250\n",
      "533/533 [==============================] - 28s 53ms/step - loss: 0.2030 - accuracy: 0.9351 - val_loss: 0.2790 - val_accuracy: 0.9148\n",
      "Epoch 192/250\n",
      "533/533 [==============================] - 27s 51ms/step - loss: 0.2060 - accuracy: 0.9352 - val_loss: 0.2507 - val_accuracy: 0.9224\n",
      "Epoch 193/250\n",
      "533/533 [==============================] - 27s 51ms/step - loss: 0.2027 - accuracy: 0.9362 - val_loss: 0.2625 - val_accuracy: 0.9167\n",
      "Epoch 194/250\n",
      "533/533 [==============================] - 28s 52ms/step - loss: 0.2074 - accuracy: 0.9344 - val_loss: 0.2713 - val_accuracy: 0.9141\n",
      "Epoch 195/250\n",
      "533/533 [==============================] - 27s 52ms/step - loss: 0.1993 - accuracy: 0.9358 - val_loss: 0.2621 - val_accuracy: 0.9179\n",
      "Epoch 196/250\n",
      "533/533 [==============================] - 27s 52ms/step - loss: 0.2016 - accuracy: 0.9352 - val_loss: 0.2775 - val_accuracy: 0.9130\n",
      "Epoch 197/250\n",
      "533/533 [==============================] - 27s 51ms/step - loss: 0.2050 - accuracy: 0.9382 - val_loss: 0.2621 - val_accuracy: 0.9172\n",
      "Epoch 198/250\n",
      "533/533 [==============================] - 27s 51ms/step - loss: 0.2051 - accuracy: 0.9363 - val_loss: 0.2745 - val_accuracy: 0.9165\n",
      "Epoch 199/250\n",
      "533/533 [==============================] - 27s 51ms/step - loss: 0.2039 - accuracy: 0.9347 - val_loss: 0.2743 - val_accuracy: 0.9184\n",
      "Epoch 200/250\n",
      "533/533 [==============================] - 27s 51ms/step - loss: 0.1935 - accuracy: 0.9369 - val_loss: 0.2705 - val_accuracy: 0.9188\n",
      "Epoch 201/250\n",
      "533/533 [==============================] - 27s 51ms/step - loss: 0.2025 - accuracy: 0.9358 - val_loss: 0.2616 - val_accuracy: 0.9144\n",
      "Epoch 202/250\n",
      "533/533 [==============================] - 27s 52ms/step - loss: 0.2016 - accuracy: 0.9377 - val_loss: 0.2608 - val_accuracy: 0.9193\n",
      "Epoch 203/250\n",
      "533/533 [==============================] - 27s 51ms/step - loss: 0.2116 - accuracy: 0.9348 - val_loss: 0.2699 - val_accuracy: 0.9148\n",
      "Epoch 204/250\n",
      "533/533 [==============================] - 27s 51ms/step - loss: 0.2059 - accuracy: 0.9347 - val_loss: 0.2668 - val_accuracy: 0.9137\n",
      "Epoch 205/250\n",
      "533/533 [==============================] - 27s 51ms/step - loss: 0.2071 - accuracy: 0.9362 - val_loss: 0.2698 - val_accuracy: 0.9188\n",
      "Epoch 206/250\n",
      "533/533 [==============================] - 27s 51ms/step - loss: 0.2078 - accuracy: 0.9355 - val_loss: 0.2618 - val_accuracy: 0.9167\n",
      "Epoch 207/250\n",
      "533/533 [==============================] - 28s 53ms/step - loss: 0.2067 - accuracy: 0.9351 - val_loss: 0.2606 - val_accuracy: 0.9148\n",
      "Epoch 208/250\n",
      "533/533 [==============================] - 27s 51ms/step - loss: 0.1976 - accuracy: 0.9378 - val_loss: 0.2686 - val_accuracy: 0.9139\n",
      "Epoch 209/250\n",
      "533/533 [==============================] - 27s 52ms/step - loss: 0.2057 - accuracy: 0.9344 - val_loss: 0.2649 - val_accuracy: 0.9158\n",
      "Epoch 210/250\n",
      "533/533 [==============================] - 27s 51ms/step - loss: 0.2013 - accuracy: 0.9364 - val_loss: 0.2536 - val_accuracy: 0.9207\n",
      "Epoch 211/250\n",
      "533/533 [==============================] - 27s 51ms/step - loss: 0.2005 - accuracy: 0.9363 - val_loss: 0.2525 - val_accuracy: 0.9212\n",
      "Epoch 212/250\n",
      "533/533 [==============================] - 27s 51ms/step - loss: 0.2000 - accuracy: 0.9365 - val_loss: 0.2570 - val_accuracy: 0.9188\n",
      "Epoch 213/250\n",
      "533/533 [==============================] - 27s 51ms/step - loss: 0.1961 - accuracy: 0.9388 - val_loss: 0.2591 - val_accuracy: 0.9144\n",
      "Epoch 214/250\n",
      "533/533 [==============================] - 27s 51ms/step - loss: 0.1995 - accuracy: 0.9358 - val_loss: 0.2625 - val_accuracy: 0.9207\n",
      "Epoch 215/250\n",
      "533/533 [==============================] - 27s 51ms/step - loss: 0.1996 - accuracy: 0.9368 - val_loss: 0.2640 - val_accuracy: 0.9160\n",
      "Epoch 216/250\n",
      "533/533 [==============================] - 28s 52ms/step - loss: 0.1985 - accuracy: 0.9378 - val_loss: 0.2675 - val_accuracy: 0.9160\n",
      "Epoch 217/250\n",
      "533/533 [==============================] - 27s 51ms/step - loss: 0.1878 - accuracy: 0.9402 - val_loss: 0.2534 - val_accuracy: 0.9200\n",
      "Epoch 218/250\n",
      "533/533 [==============================] - 27s 51ms/step - loss: 0.1856 - accuracy: 0.9412 - val_loss: 0.2717 - val_accuracy: 0.9195\n",
      "Epoch 219/250\n",
      "533/533 [==============================] - 27s 51ms/step - loss: 0.1882 - accuracy: 0.9419 - val_loss: 0.2857 - val_accuracy: 0.9141\n",
      "Epoch 220/250\n",
      "533/533 [==============================] - 27s 52ms/step - loss: 0.1940 - accuracy: 0.9369 - val_loss: 0.2678 - val_accuracy: 0.9170\n",
      "Epoch 221/250\n",
      "533/533 [==============================] - 27s 51ms/step - loss: 0.1955 - accuracy: 0.9394 - val_loss: 0.2727 - val_accuracy: 0.9109\n",
      "Epoch 222/250\n",
      "533/533 [==============================] - 27s 51ms/step - loss: 0.1990 - accuracy: 0.9396 - val_loss: 0.2720 - val_accuracy: 0.9109\n",
      "Epoch 223/250\n",
      "533/533 [==============================] - 27s 51ms/step - loss: 0.1953 - accuracy: 0.9409 - val_loss: 0.2722 - val_accuracy: 0.9174\n",
      "Epoch 224/250\n",
      "533/533 [==============================] - 28s 52ms/step - loss: 0.1982 - accuracy: 0.9363 - val_loss: 0.2751 - val_accuracy: 0.9151\n",
      "Epoch 225/250\n",
      "533/533 [==============================] - 28s 52ms/step - loss: 0.1890 - accuracy: 0.9398 - val_loss: 0.2680 - val_accuracy: 0.9179\n",
      "Epoch 226/250\n",
      "533/533 [==============================] - 28s 52ms/step - loss: 0.1974 - accuracy: 0.9383 - val_loss: 0.2802 - val_accuracy: 0.9156\n",
      "Epoch 227/250\n",
      "533/533 [==============================] - 28s 52ms/step - loss: 0.1947 - accuracy: 0.9378 - val_loss: 0.2647 - val_accuracy: 0.9156\n",
      "Epoch 228/250\n",
      "533/533 [==============================] - 28s 53ms/step - loss: 0.1980 - accuracy: 0.9399 - val_loss: 0.2665 - val_accuracy: 0.9212\n",
      "Epoch 229/250\n",
      "533/533 [==============================] - 28s 52ms/step - loss: 0.1977 - accuracy: 0.9391 - val_loss: 0.2692 - val_accuracy: 0.9165\n",
      "Epoch 230/250\n",
      "533/533 [==============================] - 28s 52ms/step - loss: 0.1931 - accuracy: 0.9377 - val_loss: 0.2705 - val_accuracy: 0.9146\n",
      "Epoch 231/250\n",
      "533/533 [==============================] - 27s 52ms/step - loss: 0.1964 - accuracy: 0.9374 - val_loss: 0.2584 - val_accuracy: 0.9158\n",
      "Epoch 232/250\n",
      "533/533 [==============================] - 27s 51ms/step - loss: 0.1998 - accuracy: 0.9375 - val_loss: 0.2625 - val_accuracy: 0.9184\n",
      "Epoch 233/250\n",
      "533/533 [==============================] - 28s 52ms/step - loss: 0.1987 - accuracy: 0.9375 - val_loss: 0.2692 - val_accuracy: 0.9156\n",
      "Epoch 234/250\n",
      "533/533 [==============================] - 27s 52ms/step - loss: 0.1949 - accuracy: 0.9379 - val_loss: 0.2609 - val_accuracy: 0.9202\n",
      "Epoch 235/250\n",
      "533/533 [==============================] - 28s 52ms/step - loss: 0.1846 - accuracy: 0.9439 - val_loss: 0.2906 - val_accuracy: 0.9167\n",
      "Epoch 236/250\n",
      "533/533 [==============================] - 27s 51ms/step - loss: 0.1850 - accuracy: 0.9428 - val_loss: 0.2771 - val_accuracy: 0.9179\n",
      "Epoch 237/250\n",
      "533/533 [==============================] - 28s 52ms/step - loss: 0.1974 - accuracy: 0.9390 - val_loss: 0.2771 - val_accuracy: 0.9127\n",
      "Epoch 238/250\n",
      "533/533 [==============================] - 27s 52ms/step - loss: 0.1980 - accuracy: 0.9394 - val_loss: 0.2727 - val_accuracy: 0.9163\n",
      "Epoch 239/250\n",
      "533/533 [==============================] - 28s 52ms/step - loss: 0.1949 - accuracy: 0.9393 - val_loss: 0.2559 - val_accuracy: 0.9172\n",
      "Epoch 240/250\n",
      "533/533 [==============================] - 28s 52ms/step - loss: 0.1930 - accuracy: 0.9385 - val_loss: 0.2653 - val_accuracy: 0.9170\n",
      "Epoch 241/250\n",
      "533/533 [==============================] - 27s 52ms/step - loss: 0.1954 - accuracy: 0.9408 - val_loss: 0.2612 - val_accuracy: 0.9209\n",
      "Epoch 242/250\n",
      "533/533 [==============================] - 28s 52ms/step - loss: 0.2014 - accuracy: 0.9398 - val_loss: 0.2624 - val_accuracy: 0.9172\n",
      "Epoch 243/250\n",
      "533/533 [==============================] - 27s 51ms/step - loss: 0.1925 - accuracy: 0.9399 - val_loss: 0.2725 - val_accuracy: 0.9181\n",
      "Epoch 244/250\n",
      "533/533 [==============================] - 28s 52ms/step - loss: 0.1993 - accuracy: 0.9368 - val_loss: 0.2709 - val_accuracy: 0.9202\n",
      "Epoch 245/250\n",
      "533/533 [==============================] - 27s 51ms/step - loss: 0.1905 - accuracy: 0.9377 - val_loss: 0.2729 - val_accuracy: 0.9160\n",
      "Epoch 246/250\n",
      "533/533 [==============================] - 28s 52ms/step - loss: 0.1950 - accuracy: 0.9394 - val_loss: 0.2601 - val_accuracy: 0.9179\n",
      "Epoch 247/250\n",
      "533/533 [==============================] - 28s 52ms/step - loss: 0.1931 - accuracy: 0.9403 - val_loss: 0.2694 - val_accuracy: 0.9177\n",
      "Epoch 248/250\n",
      "533/533 [==============================] - 27s 51ms/step - loss: 0.1860 - accuracy: 0.9429 - val_loss: 0.2860 - val_accuracy: 0.9156\n",
      "Epoch 249/250\n",
      "533/533 [==============================] - 28s 52ms/step - loss: 0.1967 - accuracy: 0.9382 - val_loss: 0.2779 - val_accuracy: 0.9127\n",
      "Epoch 250/250\n",
      "533/533 [==============================] - 28s 52ms/step - loss: 0.1852 - accuracy: 0.9425 - val_loss: 0.3009 - val_accuracy: 0.9141\n"
     ]
    },
    {
     "data": {
      "text/plain": [
       "<keras.callbacks.History at 0x7f154c957510>"
      ]
     },
     "execution_count": 14,
     "metadata": {},
     "output_type": "execute_result"
    }
   ],
   "source": [
    "model.fit(trDat, \n",
    "          trLbl, \n",
    "          validation_data=(vlDat, vlLbl), \n",
    "          epochs=250, \n",
    "          batch_size=32,\n",
    "          shuffle=True,\n",
    "          callbacks=callbacks_list)"
   ]
  },
  {
   "cell_type": "markdown",
   "metadata": {
    "id": "m0FHohmSa5V-"
   },
   "source": [
    "## **12. Validate the deep learning model**\n",
    "---\n",
    "* Step 1: Load the trained weights and compile the model\n",
    "* Step 2: Make prediction"
   ]
  },
  {
   "cell_type": "code",
   "execution_count": 15,
   "metadata": {
    "colab": {
     "base_uri": "https://localhost:8080/"
    },
    "id": "879Jj4b4a6zq",
    "outputId": "fda26bbe-05bf-41f1-e689-f8cbee006387"
   },
   "outputs": [
    {
     "name": "stdout",
     "output_type": "stream",
     "text": [
      "Prediction completes.\n"
     ]
    }
   ],
   "source": [
    "                                                                                # Step 1\n",
    "modelGo.load_weights(filepath)\n",
    "modelGo.compile(loss='categorical_crossentropy', \n",
    "                optimizer='adam', \n",
    "                metrics=['accuracy'])\n",
    "\n",
    "predicts    = modelGo.predict(vlDat)                                            # Step 2\n",
    "print(\"Prediction completes.\")"
   ]
  },
  {
   "cell_type": "markdown",
   "metadata": {
    "id": "9NpnAoMSbPUl"
   },
   "source": [
    "## **13. Report classification metrics**\n",
    "---\n",
    "* Step 1: Convert label from one-hot to integer\n",
    "* Step 2: Calculate the accuracy score\n",
    "* Step 3: Generate classification report"
   ]
  },
  {
   "cell_type": "code",
   "execution_count": 16,
   "metadata": {
    "colab": {
     "base_uri": "https://localhost:8080/"
    },
    "id": "kNMXgWhfbTRA",
    "outputId": "dc5708c6-136e-4678-9408-7f85b54ef769"
   },
   "outputs": [
    {
     "name": "stdout",
     "output_type": "stream",
     "text": [
      "Best accuracy (on testing dataset): 92.38%\n",
      "              precision    recall  f1-score   support\n",
      "\n",
      "        down     0.9550    0.9372    0.9460       430\n",
      "          go     0.8899    0.9048    0.8973       420\n",
      "        left     0.9372    0.9307    0.9340       433\n",
      "          no     0.9320    0.8810    0.9058       420\n",
      "         off     0.8839    0.8695    0.8766       429\n",
      "          on     0.9132    0.9501    0.9313       421\n",
      "       right     0.9626    0.9559    0.9593       431\n",
      "        stop     0.9310    0.9609    0.9457       435\n",
      "          up     0.8687    0.8835    0.8761       412\n",
      "         yes     0.9629    0.9606    0.9618       432\n",
      "\n",
      "    accuracy                         0.9238      4263\n",
      "   macro avg     0.9236    0.9234    0.9234      4263\n",
      "weighted avg     0.9240    0.9238    0.9237      4263\n",
      "\n"
     ]
    }
   ],
   "source": [
    "                                                                                # Step 1\n",
    "predout     = np.argmax(predicts,axis=1)\n",
    "testout     = np.argmax(vlLbl,axis=1)\n",
    "\n",
    "testScores  = metrics.accuracy_score(testout,predout)                           # Step 2\n",
    "\n",
    "                                                                                # Step 3\n",
    "print(\"Best accuracy (on testing dataset): %.2f%%\" % (testScores*100))\n",
    "print(metrics.classification_report(testout,\n",
    "                                    predout,\n",
    "                                    target_names=classes,\n",
    "                                    digits=4))"
   ]
  },
  {
   "cell_type": "markdown",
   "metadata": {
    "id": "lg-5uaMFbdFy"
   },
   "source": [
    "## **14. Print confusion matrix**\n",
    "---"
   ]
  },
  {
   "cell_type": "code",
   "execution_count": 17,
   "metadata": {
    "colab": {
     "base_uri": "https://localhost:8080/"
    },
    "id": "vjMtQtZcbf1P",
    "outputId": "dd730617-0d9a-4e4b-b4d0-a78a1c79d00e"
   },
   "outputs": [
    {
     "name": "stdout",
     "output_type": "stream",
     "text": [
      "[[403   7   1   6   0   5   0   2   5   1]\n",
      " [  7 380   1  14   5   3   1   2   4   3]\n",
      " [  1   0 403   0   3   1   9   3   4   9]\n",
      " [  6  29   4 370   2   0   1   4   3   1]\n",
      " [  1   3   3   3 373  16   3   3  24   0]\n",
      " [  0   2   3   0  10 400   0   0   5   1]\n",
      " [  1   2   5   0   2   6 412   1   2   0]\n",
      " [  1   2   1   2   5   2   0 418   4   0]\n",
      " [  0   0   5   1  21   5   1  14 364   1]\n",
      " [  2   2   4   1   1   0   1   2   4 415]]\n"
     ]
    }
   ],
   "source": [
    "confusion   = metrics.confusion_matrix(testout,predout)\n",
    "print(confusion)"
   ]
  },
  {
   "cell_type": "markdown",
   "metadata": {
    "id": "x2q9lWqwbkhe"
   },
   "source": [
    "## **15. Plot curves on validation loss and accuracy**\n",
    "---"
   ]
  },
  {
   "cell_type": "code",
   "execution_count": 18,
   "metadata": {
    "colab": {
     "base_uri": "https://localhost:8080/",
     "height": 443
    },
    "id": "P-xmexFDbnLo",
    "outputId": "6779ed27-7123-44e2-d96a-a7f1e0f2e855"
   },
   "outputs": [
    {
     "data": {
      "image/png": "[encoded data removed]",
      "text/plain": [
       "<Figure size 504x504 with 2 Axes>"
      ]
     },
     "metadata": {},
     "output_type": "display_data"
    }
   ],
   "source": [
    "records     = pd.read_csv(folderpath+modelname +'.csv')\n",
    "plt.figure()\n",
    "plt.subplot(211)\n",
    "plt.plot(records['val_loss'], label=\"validation\")\n",
    "plt.plot(records['loss'],label=\"training\")\n",
    "plt.yticks([0.00,0.50,1.00,1.50])\n",
    "plt.title('Loss value',fontsize=12)\n",
    "\n",
    "ax          = plt.gca()\n",
    "ax.set_xticklabels([])\n",
    "\n",
    "plt.subplot(212)\n",
    "plt.plot(records['val_accuracy'],label=\"validation\")\n",
    "plt.plot(records['accuracy'],label=\"training\")\n",
    "plt.yticks([0.5,0.6,0.7,0.8])\n",
    "plt.title('Accuracy',fontsize=12)\n",
    "ax.legend()\n",
    "plt.show()"
   ]
  },
  {
   "cell_type": "markdown",
   "metadata": {
    "id": "YAAQ4qBDb8y6"
   },
   "source": [
    "## **16. Save the model plot**\n",
    "---"
   ]
  },
  {
   "cell_type": "code",
   "execution_count": 19,
   "metadata": {
    "colab": {
     "base_uri": "https://localhost:8080/"
    },
    "id": "J4nf2DuCcAc3",
    "outputId": "41cec271-8727-4cba-f25e-4f5dec1e3cce"
   },
   "outputs": [
    {
     "name": "stdout",
     "output_type": "stream",
     "text": [
      "Path to plot: /content/gdrive/My Drive/iss/rtavs/colab/speechRV2_plot.png\n"
     ]
    }
   ],
   "source": [
    "plotpath  = folderpath+modelname+'_plot.png'\n",
    "plot_model(model, \n",
    "           to_file=plotpath, \n",
    "           show_shapes=True, \n",
    "           show_layer_names=False,\n",
    "           rankdir='TB')\n",
    "\n",
    "print(\"Path to plot:\", plotpath)"
   ]
  },
  {
   "cell_type": "markdown",
   "metadata": {
    "id": "KxLGv2q61bwp"
   },
   "source": [
    "## **17. Create a function to make prediction on a wavefile**\n",
    "---"
   ]
  },
  {
   "cell_type": "code",
   "execution_count": 20,
   "metadata": {
    "colab": {
     "base_uri": "https://localhost:8080/"
    },
    "id": "Q4lLdpE51hiK",
    "outputId": "d4bd91a4-6d88-48eb-87de-5c2c2582b618"
   },
   "outputs": [
    {
     "name": "stdout",
     "output_type": "stream",
     "text": [
      "The command predicted from '/content/gdrive/My Drive/iss/RTAVS/audio/data/voice01.wav' is 'right'.\n"
     ]
    },
    {
     "name": "stderr",
     "output_type": "stream",
     "text": [
      "/usr/local/lib/python3.7/dist-packages/sklearn/preprocessing/_data.py:173: UserWarning: Numerical issues were encountered when centering the data and might not be solved. Dataset may contain too large values. You may need to prescale your features.\n",
      "  warnings.warn(\"Numerical issues were encountered \"\n",
      "/usr/local/lib/python3.7/dist-packages/sklearn/preprocessing/_data.py:190: UserWarning: Numerical issues were encountered when scaling the data and might not be solved. The standard deviation of the data is probably very close to 0. \n",
      "  warnings.warn(\"Numerical issues were encountered \"\n"
     ]
    }
   ],
   "source": [
    "def commandPred(file):\n",
    "    (smp,smpR)  = librosa.load(file,sr=16000)\n",
    "    smpMfcc     = librosa.feature.mfcc(y=smp,\n",
    "                                       sr=16000,\n",
    "                                       n_mfcc=32)\n",
    "    smpMfcc     = sklearn.preprocessing.scale(smpMfcc,axis=1)\n",
    "                                                 # The output size is (32,32)                                       \n",
    "\n",
    "    smpMfcc     = np.expand_dims(smpMfcc,axis=0) # The output size is (1,32,32)\n",
    "    smpMfcc     = np.expand_dims(smpMfcc,axis=3) # The output size is (1,32,32,1)\n",
    "    pred        = modelGo.predict(smpMfcc)\n",
    "    pred        = np.argmax(pred,axis=1)\n",
    "    \n",
    "    return classes[pred[0]]\n",
    "\n",
    "\n",
    "# ............................................................................\n",
    "    \n",
    "wfile       = '/content/gdrive/My Drive/iss/RTAVS/audio/data/voice01.wav'\n",
    "pred        = commandPred(wfile)\n",
    "print(\"The command predicted from '%s' is '%s'.\" % (wfile,pred) )"
   ]
  }
 ],
 "metadata": {
  "accelerator": "GPU",
  "colab": {
   "collapsed_sections": [],
   "name": "rtavs-wks3-4-_Gopan_Ravikumar_Girija_.ipynb",
   "provenance": [],
   "toc_visible": true
  },
  "kernelspec": {
   "display_name": "Python 3",
   "language": "python",
   "name": "python3"
  },
  "language_info": {
   "codemirror_mode": {
    "name": "ipython",
    "version": 3
   },
   "file_extension": ".py",
   "mimetype": "text/x-python",
   "name": "python",
   "nbconvert_exporter": "python",
   "pygments_lexer": "ipython3",
   "version": "3.8.8"
  }
 },
 "nbformat": 4,
 "nbformat_minor": 1
}
