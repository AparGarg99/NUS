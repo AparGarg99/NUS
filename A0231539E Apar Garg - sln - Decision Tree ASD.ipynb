{
 "cells": [
  {
   "cell_type": "markdown",
   "metadata": {},
   "source": [
    "# [Workshop] Knowledge Discoervy by Decision Tree"
   ]
  },
  {
   "cell_type": "markdown",
   "metadata": {},
   "source": [
    "# 0. Installation (one time job)"
   ]
  },
  {
   "cell_type": "code",
   "execution_count": 1,
   "metadata": {},
   "outputs": [],
   "source": [
    "# !pip install scikit-learn==0.23.1\n",
    "# !pip install pandas\n",
    "# !pip install matplotlib"
   ]
  },
  {
   "cell_type": "markdown",
   "metadata": {},
   "source": [
    "# 1. Import Library"
   ]
  },
  {
   "cell_type": "code",
   "execution_count": 2,
   "metadata": {},
   "outputs": [],
   "source": [
    "import numpy as np\n",
    "import pandas as pd\n",
    "import matplotlib.pyplot as plt\n",
    "from sklearn.model_selection import train_test_split\n",
    "from sklearn.preprocessing import StandardScaler\n",
    "from sklearn.tree import DecisionTreeClassifier\n",
    "from sklearn.tree import DecisionTreeRegressor\n",
    "import graphviz\n",
    "from sklearn.tree import plot_tree, export_graphviz\n",
    "from sklearn import tree"
   ]
  },
  {
   "cell_type": "markdown",
   "metadata": {},
   "source": [
    "# 2. Import ASD Data"
   ]
  },
  {
   "cell_type": "code",
   "execution_count": 3,
   "metadata": {},
   "outputs": [
    {
     "data": {
      "text/html": [
       "<div>\n",
       "<style scoped>\n",
       "    .dataframe tbody tr th:only-of-type {\n",
       "        vertical-align: middle;\n",
       "    }\n",
       "\n",
       "    .dataframe tbody tr th {\n",
       "        vertical-align: top;\n",
       "    }\n",
       "\n",
       "    .dataframe thead th {\n",
       "        text-align: right;\n",
       "    }\n",
       "</style>\n",
       "<table border=\"1\" class=\"dataframe\">\n",
       "  <thead>\n",
       "    <tr style=\"text-align: right;\">\n",
       "      <th></th>\n",
       "      <th>Case_No</th>\n",
       "      <th>A1</th>\n",
       "      <th>A2</th>\n",
       "      <th>A3</th>\n",
       "      <th>A4</th>\n",
       "      <th>A5</th>\n",
       "      <th>A6</th>\n",
       "      <th>A7</th>\n",
       "      <th>A8</th>\n",
       "      <th>A9</th>\n",
       "      <th>A10</th>\n",
       "      <th>Age_Mons</th>\n",
       "      <th>Qchat-10-Score</th>\n",
       "      <th>Sex</th>\n",
       "      <th>Ethnicity</th>\n",
       "      <th>Jaundice</th>\n",
       "      <th>Family_mem_with_ASD</th>\n",
       "      <th>Who completed the test</th>\n",
       "      <th>Class/ASD Traits</th>\n",
       "    </tr>\n",
       "  </thead>\n",
       "  <tbody>\n",
       "    <tr>\n",
       "      <th>0</th>\n",
       "      <td>1</td>\n",
       "      <td>0</td>\n",
       "      <td>0</td>\n",
       "      <td>0</td>\n",
       "      <td>0</td>\n",
       "      <td>0</td>\n",
       "      <td>0</td>\n",
       "      <td>1</td>\n",
       "      <td>1</td>\n",
       "      <td>0</td>\n",
       "      <td>1</td>\n",
       "      <td>28</td>\n",
       "      <td>3</td>\n",
       "      <td>f</td>\n",
       "      <td>middle eastern</td>\n",
       "      <td>yes</td>\n",
       "      <td>no</td>\n",
       "      <td>family member</td>\n",
       "      <td>No</td>\n",
       "    </tr>\n",
       "    <tr>\n",
       "      <th>1</th>\n",
       "      <td>2</td>\n",
       "      <td>1</td>\n",
       "      <td>1</td>\n",
       "      <td>0</td>\n",
       "      <td>0</td>\n",
       "      <td>0</td>\n",
       "      <td>1</td>\n",
       "      <td>1</td>\n",
       "      <td>0</td>\n",
       "      <td>0</td>\n",
       "      <td>0</td>\n",
       "      <td>36</td>\n",
       "      <td>4</td>\n",
       "      <td>m</td>\n",
       "      <td>White European</td>\n",
       "      <td>yes</td>\n",
       "      <td>no</td>\n",
       "      <td>family member</td>\n",
       "      <td>Yes</td>\n",
       "    </tr>\n",
       "    <tr>\n",
       "      <th>2</th>\n",
       "      <td>3</td>\n",
       "      <td>1</td>\n",
       "      <td>0</td>\n",
       "      <td>0</td>\n",
       "      <td>0</td>\n",
       "      <td>0</td>\n",
       "      <td>0</td>\n",
       "      <td>1</td>\n",
       "      <td>1</td>\n",
       "      <td>0</td>\n",
       "      <td>1</td>\n",
       "      <td>36</td>\n",
       "      <td>4</td>\n",
       "      <td>m</td>\n",
       "      <td>middle eastern</td>\n",
       "      <td>yes</td>\n",
       "      <td>no</td>\n",
       "      <td>family member</td>\n",
       "      <td>Yes</td>\n",
       "    </tr>\n",
       "    <tr>\n",
       "      <th>3</th>\n",
       "      <td>4</td>\n",
       "      <td>1</td>\n",
       "      <td>1</td>\n",
       "      <td>1</td>\n",
       "      <td>1</td>\n",
       "      <td>1</td>\n",
       "      <td>1</td>\n",
       "      <td>1</td>\n",
       "      <td>1</td>\n",
       "      <td>1</td>\n",
       "      <td>1</td>\n",
       "      <td>24</td>\n",
       "      <td>10</td>\n",
       "      <td>m</td>\n",
       "      <td>Hispanic</td>\n",
       "      <td>no</td>\n",
       "      <td>no</td>\n",
       "      <td>family member</td>\n",
       "      <td>Yes</td>\n",
       "    </tr>\n",
       "    <tr>\n",
       "      <th>4</th>\n",
       "      <td>5</td>\n",
       "      <td>1</td>\n",
       "      <td>1</td>\n",
       "      <td>0</td>\n",
       "      <td>1</td>\n",
       "      <td>1</td>\n",
       "      <td>1</td>\n",
       "      <td>1</td>\n",
       "      <td>1</td>\n",
       "      <td>1</td>\n",
       "      <td>1</td>\n",
       "      <td>20</td>\n",
       "      <td>9</td>\n",
       "      <td>f</td>\n",
       "      <td>White European</td>\n",
       "      <td>no</td>\n",
       "      <td>yes</td>\n",
       "      <td>family member</td>\n",
       "      <td>Yes</td>\n",
       "    </tr>\n",
       "  </tbody>\n",
       "</table>\n",
       "</div>"
      ],
      "text/plain": [
       "   Case_No  A1  A2  A3  A4  A5  A6  A7  A8  A9  A10  Age_Mons  Qchat-10-Score  \\\n",
       "0        1   0   0   0   0   0   0   1   1   0    1        28               3   \n",
       "1        2   1   1   0   0   0   1   1   0   0    0        36               4   \n",
       "2        3   1   0   0   0   0   0   1   1   0    1        36               4   \n",
       "3        4   1   1   1   1   1   1   1   1   1    1        24              10   \n",
       "4        5   1   1   0   1   1   1   1   1   1    1        20               9   \n",
       "\n",
       "  Sex       Ethnicity Jaundice Family_mem_with_ASD Who completed the test  \\\n",
       "0   f  middle eastern      yes                  no          family member   \n",
       "1   m  White European      yes                  no          family member   \n",
       "2   m  middle eastern      yes                  no          family member   \n",
       "3   m        Hispanic       no                  no          family member   \n",
       "4   f  White European       no                 yes          family member   \n",
       "\n",
       "  Class/ASD Traits   \n",
       "0                No  \n",
       "1               Yes  \n",
       "2               Yes  \n",
       "3               Yes  \n",
       "4               Yes  "
      ]
     },
     "execution_count": 3,
     "metadata": {},
     "output_type": "execute_result"
    }
   ],
   "source": [
    "# Read data\n",
    "ASD_data = pd.read_csv('./Toddler Autism dataset.csv')\n",
    "ASD_data.head()"
   ]
  },
  {
   "cell_type": "code",
   "execution_count": 4,
   "metadata": {},
   "outputs": [
    {
     "data": {
      "text/html": [
       "<div>\n",
       "<style scoped>\n",
       "    .dataframe tbody tr th:only-of-type {\n",
       "        vertical-align: middle;\n",
       "    }\n",
       "\n",
       "    .dataframe tbody tr th {\n",
       "        vertical-align: top;\n",
       "    }\n",
       "\n",
       "    .dataframe thead th {\n",
       "        text-align: right;\n",
       "    }\n",
       "</style>\n",
       "<table border=\"1\" class=\"dataframe\">\n",
       "  <thead>\n",
       "    <tr style=\"text-align: right;\">\n",
       "      <th></th>\n",
       "      <th>Case_No</th>\n",
       "      <th>A1</th>\n",
       "      <th>A2</th>\n",
       "      <th>A3</th>\n",
       "      <th>A4</th>\n",
       "      <th>A5</th>\n",
       "      <th>A6</th>\n",
       "      <th>A7</th>\n",
       "      <th>A8</th>\n",
       "      <th>A9</th>\n",
       "      <th>A10</th>\n",
       "      <th>Age_Mons</th>\n",
       "      <th>Qchat_10_Score</th>\n",
       "      <th>Sex</th>\n",
       "      <th>Ethnicity</th>\n",
       "      <th>Jaundice</th>\n",
       "      <th>Family_mem_with_ASD</th>\n",
       "      <th>Who_completed_the_test</th>\n",
       "      <th>Class_ASD_Traits_</th>\n",
       "    </tr>\n",
       "  </thead>\n",
       "  <tbody>\n",
       "    <tr>\n",
       "      <th>0</th>\n",
       "      <td>1</td>\n",
       "      <td>0</td>\n",
       "      <td>0</td>\n",
       "      <td>0</td>\n",
       "      <td>0</td>\n",
       "      <td>0</td>\n",
       "      <td>0</td>\n",
       "      <td>1</td>\n",
       "      <td>1</td>\n",
       "      <td>0</td>\n",
       "      <td>1</td>\n",
       "      <td>28</td>\n",
       "      <td>3</td>\n",
       "      <td>f</td>\n",
       "      <td>middle eastern</td>\n",
       "      <td>yes</td>\n",
       "      <td>no</td>\n",
       "      <td>family member</td>\n",
       "      <td>No</td>\n",
       "    </tr>\n",
       "    <tr>\n",
       "      <th>1</th>\n",
       "      <td>2</td>\n",
       "      <td>1</td>\n",
       "      <td>1</td>\n",
       "      <td>0</td>\n",
       "      <td>0</td>\n",
       "      <td>0</td>\n",
       "      <td>1</td>\n",
       "      <td>1</td>\n",
       "      <td>0</td>\n",
       "      <td>0</td>\n",
       "      <td>0</td>\n",
       "      <td>36</td>\n",
       "      <td>4</td>\n",
       "      <td>m</td>\n",
       "      <td>White European</td>\n",
       "      <td>yes</td>\n",
       "      <td>no</td>\n",
       "      <td>family member</td>\n",
       "      <td>Yes</td>\n",
       "    </tr>\n",
       "    <tr>\n",
       "      <th>2</th>\n",
       "      <td>3</td>\n",
       "      <td>1</td>\n",
       "      <td>0</td>\n",
       "      <td>0</td>\n",
       "      <td>0</td>\n",
       "      <td>0</td>\n",
       "      <td>0</td>\n",
       "      <td>1</td>\n",
       "      <td>1</td>\n",
       "      <td>0</td>\n",
       "      <td>1</td>\n",
       "      <td>36</td>\n",
       "      <td>4</td>\n",
       "      <td>m</td>\n",
       "      <td>middle eastern</td>\n",
       "      <td>yes</td>\n",
       "      <td>no</td>\n",
       "      <td>family member</td>\n",
       "      <td>Yes</td>\n",
       "    </tr>\n",
       "    <tr>\n",
       "      <th>3</th>\n",
       "      <td>4</td>\n",
       "      <td>1</td>\n",
       "      <td>1</td>\n",
       "      <td>1</td>\n",
       "      <td>1</td>\n",
       "      <td>1</td>\n",
       "      <td>1</td>\n",
       "      <td>1</td>\n",
       "      <td>1</td>\n",
       "      <td>1</td>\n",
       "      <td>1</td>\n",
       "      <td>24</td>\n",
       "      <td>10</td>\n",
       "      <td>m</td>\n",
       "      <td>Hispanic</td>\n",
       "      <td>no</td>\n",
       "      <td>no</td>\n",
       "      <td>family member</td>\n",
       "      <td>Yes</td>\n",
       "    </tr>\n",
       "    <tr>\n",
       "      <th>4</th>\n",
       "      <td>5</td>\n",
       "      <td>1</td>\n",
       "      <td>1</td>\n",
       "      <td>0</td>\n",
       "      <td>1</td>\n",
       "      <td>1</td>\n",
       "      <td>1</td>\n",
       "      <td>1</td>\n",
       "      <td>1</td>\n",
       "      <td>1</td>\n",
       "      <td>1</td>\n",
       "      <td>20</td>\n",
       "      <td>9</td>\n",
       "      <td>f</td>\n",
       "      <td>White European</td>\n",
       "      <td>no</td>\n",
       "      <td>yes</td>\n",
       "      <td>family member</td>\n",
       "      <td>Yes</td>\n",
       "    </tr>\n",
       "  </tbody>\n",
       "</table>\n",
       "</div>"
      ],
      "text/plain": [
       "   Case_No  A1  A2  A3  A4  A5  A6  A7  A8  A9  A10  Age_Mons  Qchat_10_Score  \\\n",
       "0        1   0   0   0   0   0   0   1   1   0    1        28               3   \n",
       "1        2   1   1   0   0   0   1   1   0   0    0        36               4   \n",
       "2        3   1   0   0   0   0   0   1   1   0    1        36               4   \n",
       "3        4   1   1   1   1   1   1   1   1   1    1        24              10   \n",
       "4        5   1   1   0   1   1   1   1   1   1    1        20               9   \n",
       "\n",
       "  Sex       Ethnicity Jaundice Family_mem_with_ASD Who_completed_the_test  \\\n",
       "0   f  middle eastern      yes                  no          family member   \n",
       "1   m  White European      yes                  no          family member   \n",
       "2   m  middle eastern      yes                  no          family member   \n",
       "3   m        Hispanic       no                  no          family member   \n",
       "4   f  White European       no                 yes          family member   \n",
       "\n",
       "  Class_ASD_Traits_  \n",
       "0                No  \n",
       "1               Yes  \n",
       "2               Yes  \n",
       "3               Yes  \n",
       "4               Yes  "
      ]
     },
     "execution_count": 4,
     "metadata": {},
     "output_type": "execute_result"
    }
   ],
   "source": [
    "# Replace special \n",
    "ASD_data.columns=ASD_data.columns.str.replace('-','_')\n",
    "ASD_data.columns=ASD_data.columns.str.replace('/','_')\n",
    "ASD_data.columns=ASD_data.columns.str.replace(' ','_')\n",
    "ASD_data.head()"
   ]
  },
  {
   "cell_type": "code",
   "execution_count": 5,
   "metadata": {},
   "outputs": [
    {
     "data": {
      "text/plain": [
       "(1054, 19)"
      ]
     },
     "execution_count": 5,
     "metadata": {},
     "output_type": "execute_result"
    }
   ],
   "source": [
    "# observing the shape of the data\n",
    "ASD_data.shape"
   ]
  },
  {
   "cell_type": "markdown",
   "metadata": {},
   "source": [
    "# 3. Data Preprocessing"
   ]
  },
  {
   "cell_type": "markdown",
   "metadata": {},
   "source": [
    "## 3.1. Choose appropriate features "
   ]
  },
  {
   "cell_type": "code",
   "execution_count": 6,
   "metadata": {},
   "outputs": [],
   "source": [
    "Sex = pd.Categorical(pd.Categorical(ASD_data['Sex']).codes)\n",
    "Ethnicity = pd.Categorical(pd.Categorical(ASD_data['Ethnicity']).codes)\n",
    "Jaundice = pd.Categorical(pd.Categorical(ASD_data['Jaundice']).codes)\n",
    "Family_mem_with_ASD = pd.Categorical(pd.Categorical(ASD_data['Family_mem_with_ASD']).codes)\n",
    "Class_ASD_Traits_ = pd.Categorical(pd.Categorical(ASD_data['Class_ASD_Traits_']).codes)\n",
    "\n",
    "ASD_data['Sex'] = Sex\n",
    "ASD_data['Ethnicity'] = Ethnicity\n",
    "ASD_data['Jaundice'] = Jaundice\n",
    "ASD_data['Family_mem_with_ASD'] = Family_mem_with_ASD\n",
    "ASD_data['Class_ASD_Traits_'] = Class_ASD_Traits_\n",
    "\n",
    "# Check the data and think why we drop these variables?\n",
    "# X = ASD_data.drop(['Case_No', 'Who_completed_the_test', 'Score', 'ASD_Traits', 'A1', 'A2', 'A3', 'A4', 'A5', 'A6', 'A7', 'A8', 'A9', 'A10'], axis=1)\n",
    "X = ASD_data.drop(['Case_No', 'Who_completed_the_test', 'Qchat_10_Score', 'Class_ASD_Traits_'], axis=1)"
   ]
  },
  {
   "cell_type": "code",
   "execution_count": 7,
   "metadata": {},
   "outputs": [
    {
     "data": {
      "text/plain": [
       "Index(['A1', 'A2', 'A3', 'A4', 'A5', 'A6', 'A7', 'A8', 'A9', 'A10', 'Age_Mons',\n",
       "       'Sex', 'Ethnicity', 'Jaundice', 'Family_mem_with_ASD'],\n",
       "      dtype='object')"
      ]
     },
     "execution_count": 7,
     "metadata": {},
     "output_type": "execute_result"
    }
   ],
   "source": [
    "X.columns"
   ]
  },
  {
   "cell_type": "markdown",
   "metadata": {},
   "source": [
    "## 3.2 Choose target"
   ]
  },
  {
   "cell_type": "code",
   "execution_count": 8,
   "metadata": {},
   "outputs": [],
   "source": [
    "Y_classification = ASD_data.Class_ASD_Traits_"
   ]
  },
  {
   "cell_type": "markdown",
   "metadata": {},
   "source": [
    "# 4. Build Classification Tree"
   ]
  },
  {
   "cell_type": "markdown",
   "metadata": {},
   "source": [
    "## 4.1 Split the dataset into training set and test set"
   ]
  },
  {
   "cell_type": "code",
   "execution_count": 9,
   "metadata": {},
   "outputs": [
    {
     "name": "stdout",
     "output_type": "stream",
     "text": [
      "(702, 15)\n",
      "(352, 15)\n"
     ]
    }
   ],
   "source": [
    "X_train, X_test, y_train, y_test = train_test_split(X, Y_classification, test_size=1 / 3, random_state=42,\n",
    "                                                    stratify=Y_classification)\n",
    "print(X_train.shape)\n",
    "print(X_test.shape)"
   ]
  },
  {
   "cell_type": "code",
   "execution_count": 10,
   "metadata": {},
   "outputs": [
    {
     "data": {
      "text/html": [
       "<div>\n",
       "<style scoped>\n",
       "    .dataframe tbody tr th:only-of-type {\n",
       "        vertical-align: middle;\n",
       "    }\n",
       "\n",
       "    .dataframe tbody tr th {\n",
       "        vertical-align: top;\n",
       "    }\n",
       "\n",
       "    .dataframe thead th {\n",
       "        text-align: right;\n",
       "    }\n",
       "</style>\n",
       "<table border=\"1\" class=\"dataframe\">\n",
       "  <thead>\n",
       "    <tr style=\"text-align: right;\">\n",
       "      <th></th>\n",
       "      <th>A1</th>\n",
       "      <th>A2</th>\n",
       "      <th>A3</th>\n",
       "      <th>A4</th>\n",
       "      <th>A5</th>\n",
       "      <th>A6</th>\n",
       "      <th>A7</th>\n",
       "      <th>A8</th>\n",
       "      <th>A9</th>\n",
       "      <th>A10</th>\n",
       "      <th>Age_Mons</th>\n",
       "      <th>Sex</th>\n",
       "      <th>Ethnicity</th>\n",
       "      <th>Jaundice</th>\n",
       "      <th>Family_mem_with_ASD</th>\n",
       "    </tr>\n",
       "  </thead>\n",
       "  <tbody>\n",
       "    <tr>\n",
       "      <th>89</th>\n",
       "      <td>1</td>\n",
       "      <td>1</td>\n",
       "      <td>1</td>\n",
       "      <td>1</td>\n",
       "      <td>1</td>\n",
       "      <td>1</td>\n",
       "      <td>1</td>\n",
       "      <td>1</td>\n",
       "      <td>1</td>\n",
       "      <td>0</td>\n",
       "      <td>34</td>\n",
       "      <td>1</td>\n",
       "      <td>6</td>\n",
       "      <td>0</td>\n",
       "      <td>0</td>\n",
       "    </tr>\n",
       "    <tr>\n",
       "      <th>388</th>\n",
       "      <td>0</td>\n",
       "      <td>0</td>\n",
       "      <td>0</td>\n",
       "      <td>0</td>\n",
       "      <td>1</td>\n",
       "      <td>0</td>\n",
       "      <td>1</td>\n",
       "      <td>0</td>\n",
       "      <td>0</td>\n",
       "      <td>1</td>\n",
       "      <td>36</td>\n",
       "      <td>1</td>\n",
       "      <td>6</td>\n",
       "      <td>1</td>\n",
       "      <td>0</td>\n",
       "    </tr>\n",
       "    <tr>\n",
       "      <th>198</th>\n",
       "      <td>1</td>\n",
       "      <td>0</td>\n",
       "      <td>1</td>\n",
       "      <td>1</td>\n",
       "      <td>1</td>\n",
       "      <td>1</td>\n",
       "      <td>1</td>\n",
       "      <td>0</td>\n",
       "      <td>1</td>\n",
       "      <td>1</td>\n",
       "      <td>20</td>\n",
       "      <td>1</td>\n",
       "      <td>6</td>\n",
       "      <td>0</td>\n",
       "      <td>0</td>\n",
       "    </tr>\n",
       "    <tr>\n",
       "      <th>323</th>\n",
       "      <td>1</td>\n",
       "      <td>1</td>\n",
       "      <td>1</td>\n",
       "      <td>1</td>\n",
       "      <td>1</td>\n",
       "      <td>1</td>\n",
       "      <td>1</td>\n",
       "      <td>1</td>\n",
       "      <td>1</td>\n",
       "      <td>1</td>\n",
       "      <td>32</td>\n",
       "      <td>1</td>\n",
       "      <td>5</td>\n",
       "      <td>1</td>\n",
       "      <td>0</td>\n",
       "    </tr>\n",
       "    <tr>\n",
       "      <th>298</th>\n",
       "      <td>1</td>\n",
       "      <td>1</td>\n",
       "      <td>1</td>\n",
       "      <td>1</td>\n",
       "      <td>1</td>\n",
       "      <td>1</td>\n",
       "      <td>1</td>\n",
       "      <td>0</td>\n",
       "      <td>1</td>\n",
       "      <td>1</td>\n",
       "      <td>17</td>\n",
       "      <td>1</td>\n",
       "      <td>0</td>\n",
       "      <td>1</td>\n",
       "      <td>1</td>\n",
       "    </tr>\n",
       "  </tbody>\n",
       "</table>\n",
       "</div>"
      ],
      "text/plain": [
       "     A1  A2  A3  A4  A5  A6  A7  A8  A9  A10  Age_Mons Sex Ethnicity Jaundice  \\\n",
       "89    1   1   1   1   1   1   1   1   1    0        34   1         6        0   \n",
       "388   0   0   0   0   1   0   1   0   0    1        36   1         6        1   \n",
       "198   1   0   1   1   1   1   1   0   1    1        20   1         6        0   \n",
       "323   1   1   1   1   1   1   1   1   1    1        32   1         5        1   \n",
       "298   1   1   1   1   1   1   1   0   1    1        17   1         0        1   \n",
       "\n",
       "    Family_mem_with_ASD  \n",
       "89                    0  \n",
       "388                   0  \n",
       "198                   0  \n",
       "323                   0  \n",
       "298                   1  "
      ]
     },
     "execution_count": 10,
     "metadata": {},
     "output_type": "execute_result"
    }
   ],
   "source": [
    "X_train.head()"
   ]
  },
  {
   "cell_type": "code",
   "execution_count": 11,
   "metadata": {},
   "outputs": [
    {
     "data": {
      "text/plain": [
       "89     1\n",
       "388    0\n",
       "198    1\n",
       "323    1\n",
       "298    1\n",
       "Name: Class_ASD_Traits_, dtype: category\n",
       "Categories (2, int64): [0, 1]"
      ]
     },
     "execution_count": 11,
     "metadata": {},
     "output_type": "execute_result"
    }
   ],
   "source": [
    "y_train.head()"
   ]
  },
  {
   "cell_type": "markdown",
   "metadata": {},
   "source": [
    "## 4.2 Build classification tree"
   ]
  },
  {
   "cell_type": "code",
   "execution_count": 12,
   "metadata": {},
   "outputs": [
    {
     "name": "stdout",
     "output_type": "stream",
     "text": [
      "Accuracy on training set: 0.996\n",
      "Accuracy on test set: 0.932\n"
     ]
    },
    {
     "data": {
      "text/plain": [
       "DecisionTreeClassifier(max_depth=8, random_state=0)"
      ]
     },
     "execution_count": 12,
     "metadata": {},
     "output_type": "execute_result"
    }
   ],
   "source": [
    "dt = DecisionTreeClassifier(criterion='gini',random_state=0,max_depth=8)\n",
    "dt.fit(X_train, y_train)\n",
    "\n",
    "print(\"Accuracy on training set: {:.3f}\".format(dt.score(X_train, y_train)))\n",
    "print(\"Accuracy on test set: {:.3f}\".format(dt.score(X_test, y_test)))\n",
    "dt"
   ]
  },
  {
   "cell_type": "code",
   "execution_count": 13,
   "metadata": {},
   "outputs": [],
   "source": [
    "dot_data = export_graphviz(dt, out_file=None, \n",
    "                      feature_names=X.columns,  \n",
    "                      class_names=['Not ASD', 'ASD'], # \"0\": Not ASD ; \"1\": ASD\n",
    "                      filled=True, rounded=True,  \n",
    "                      special_characters=True)  \n",
    "graph = graphviz.Source(dot_data)"
   ]
  },
  {
   "cell_type": "code",
   "execution_count": 14,
   "metadata": {},
   "outputs": [],
   "source": [
    "graph.render(\"tree_rules_image\", view=True)\n",
    "f = open(\"tree_rules.txt\",\"w+\")\n",
    "f.write(dot_data)\n",
    "f.close()"
   ]
  },
  {
   "cell_type": "code",
   "execution_count": 15,
   "metadata": {},
   "outputs": [],
   "source": [
    "# # Visualize the tree\n",
    "# from IPython.display import display\n",
    "# display(graph)"
   ]
  },
  {
   "cell_type": "markdown",
   "metadata": {},
   "source": [
    "# 6. Extract all the rules (Decsion Tree's level = 8) from the classification tree"
   ]
  },
  {
   "cell_type": "code",
   "execution_count": null,
   "metadata": {},
   "outputs": [],
   "source": [
    "# if (A5 > 0.5) and (A6 > 0.5) and (A9 > 0.5) then class: 1 \n",
    "# if (A5 <= 0.5) and (A7 <= 0.5) and (A9 <= 0.5) and (A2 <= 0.5) and (A3 <= 0.5) then class: 0 \n",
    "# if (A5 <= 0.5) and (A7 > 0.5) and (A1 > 0.5) and (A6 > 0.5) and (Family_mem_with_ASD <= 0.5) then class: 1 \n",
    "# if (A5 > 0.5) and (A6 <= 0.5) and (A4 > 0.5) and (Age_Mons > 13.0) then class: 1 \n",
    "# if (A5 > 0.5) and (A6 > 0.5) and (A9 <= 0.5) and (A1 > 0.5) then class: 1 \n",
    "# if (A5 <= 0.5) and (A7 > 0.5) and (A1 <= 0.5) and (A4 <= 0.5) and (A8 <= 0.5) then class: 0 \n",
    "# if (A5 <= 0.5) and (A7 > 0.5) and (A1 > 0.5) and (A6 <= 0.5) and (A2 > 0.5) and (Ethnicity > 0.5) then class: 1 \n",
    "# if (A5 > 0.5) and (A6 > 0.5) and (A9 <= 0.5) and (A1 <= 0.5) and (A8 > 0.5) then class: 1 \n",
    "# if (A5 <= 0.5) and (A7 <= 0.5) and (A9 <= 0.5) and (A2 <= 0.5) and (A3 > 0.5) and (A8 <= 0.5) then class: 0 \n",
    "# if (A5 > 0.5) and (A6 <= 0.5) and (A4 <= 0.5) and (A8 > 0.5) and (Ethnicity > 2.5) then class: 1 \n",
    "# if (A5 <= 0.5) and (A7 <= 0.5) and (A9 <= 0.5) and (A2 > 0.5) and (A8 <= 0.5) and (A6 <= 0.5) and (Ethnicity > 3.0) then class: 0 \n",
    "# if (A5 > 0.5) and (A6 <= 0.5) and (A4 <= 0.5) and (A8 <= 0.5) and (A2 <= 0.5) and (Ethnicity > 4.0) and (Age_Mons > 15.5) then class: 0 \n",
    "# if (A5 <= 0.5) and (A7 > 0.5) and (A1 <= 0.5) and (A4 > 0.5) and (A3 > 0.5) then class: 1 \n",
    "# if (A5 <= 0.5) and (A7 > 0.5) and (A1 > 0.5) and (A6 <= 0.5) and (A2 <= 0.5) and (A8 <= 0.5) and (A3 <= 0.5) and (Jaundice <= 0.5) then class: 0 \n",
    "# if (A5 <= 0.5) and (A7 > 0.5) and (A1 <= 0.5) and (A4 <= 0.5) and (A8 > 0.5) and (A2 <= 0.5) and (A6 <= 0.5) then class: 0 \n",
    "# if (A5 <= 0.5) and (A7 <= 0.5) and (A9 > 0.5) and (A2 <= 0.5) and (A8 <= 0.5) and (A3 <= 0.5) then class: 0 \n",
    "# if (A5 <= 0.5) and (A7 > 0.5) and (A1 > 0.5) and (A6 > 0.5) and (Family_mem_with_ASD > 0.5) and (A2 > 0.5) then class: 1 \n",
    "# if (A5 <= 0.5) and (A7 <= 0.5) and (A9 > 0.5) and (A2 > 0.5) then class: 1 \n",
    "# if (A5 <= 0.5) and (A7 > 0.5) and (A1 <= 0.5) and (A4 > 0.5) and (A3 <= 0.5) and (A8 > 0.5) and (Ethnicity > 2.5) then class: 1\n",
    "# if (A5 > 0.5) and (A6 > 0.5) and (A9 <= 0.5) and (A1 <= 0.5) and (A8 <= 0.5) and (A4 > 0.5) then class: 1 \n",
    "# if (A5 > 0.5) and (A6 <= 0.5) and (A4 <= 0.5) and (A8 <= 0.5) and (A2 > 0.5) and (A1 > 0.5) then class: 1 \n",
    "# if (A5 <= 0.5) and (A7 <= 0.5) and (A9 <= 0.5) and (A2 > 0.5) and (A8 > 0.5) and (A10 > 0.5) then class: 1 \n",
    "# if (A5 <= 0.5) and (A7 > 0.5) and (A1 > 0.5) and (A6 <= 0.5) and (A2 <= 0.5) and (A8 > 0.5) then class: 1 \n",
    "# if (A5 > 0.5) and (A6 > 0.5) and (A9 <= 0.5) and (A1 <= 0.5) and (A8 <= 0.5) and (A4 <= 0.5) and (A10 <= 0.5) then class: 0 \n",
    "# if (A5 <= 0.5) and (A7 <= 0.5) and (A9 > 0.5) and (A2 <= 0.5) and (A8 > 0.5) then class: 1 \n",
    "# if (A5 > 0.5) and (A6 <= 0.5) and (A4 > 0.5) and (Age_Mons <= 13.0) and (A9 > 0.5) then class: 1 \n",
    "# if (A5 <= 0.5) and (A7 > 0.5) and (A1 <= 0.5) and (A4 <= 0.5) and (A8 > 0.5) and (A2 <= 0.5) and (A6 > 0.5) and (Age_Mons > 18.0) then class: 1 \n",
    "# if (A5 <= 0.5) and (A7 > 0.5) and (A1 <= 0.5) and (A4 > 0.5) and (A3 <= 0.5) and (A8 <= 0.5) and (A2 <= 0.5) and (A6 <= 0.5) then class: 0 \n",
    "# if (A5 <= 0.5) and (A7 > 0.5) and (A1 <= 0.5) and (A4 <= 0.5) and (A8 > 0.5) and (A2 > 0.5) then class: 1 \n",
    "# if (A5 <= 0.5) and (A7 <= 0.5) and (A9 <= 0.5) and (A2 <= 0.5) and (A3 > 0.5) and (A8 > 0.5) then class: 1 \n",
    "# if (A5 <= 0.5) and (A7 > 0.5) and (A1 <= 0.5) and (A4 > 0.5) and (A3 <= 0.5) and (A8 <= 0.5) and (A2 <= 0.5) and (A6 > 0.5) then class: 1 \n",
    "# if (A5 <= 0.5) and (A7 > 0.5) and (A1 > 0.5) and (A6 <= 0.5) and (A2 <= 0.5) and (A8 <= 0.5) and (A3 <= 0.5) and (Jaundice > 0.5) then class: 1 \n",
    "# if (A5 <= 0.5) and (A7 <= 0.5) and (A9 > 0.5) and (A2 <= 0.5) and (A8 <= 0.5) and (A3 > 0.5) and (Age_Mons > 19.0) and (Sex > 0.5) then class: 0 \n",
    "# if (A5 <= 0.5) and (A7 > 0.5) and (A1 > 0.5) and (A6 <= 0.5) and (A2 > 0.5) and (Ethnicity <= 0.5) and (A10 > 0.5) then class: 1 \n",
    "# if (A5 > 0.5) and (A6 <= 0.5) and (A4 <= 0.5) and (A8 > 0.5) and (Ethnicity <= 2.5) and (A2 > 0.5) then class: 1 \n",
    "# if (A5 <= 0.5) and (A7 <= 0.5) and (A9 <= 0.5) and (A2 > 0.5) and (A8 <= 0.5) and (A6 > 0.5) and (A10 > 0.5) then class: 1 \n",
    "# if (A5 <= 0.5) and (A7 <= 0.5) and (A9 > 0.5) and (A2 <= 0.5) and (A8 <= 0.5) and (A3 > 0.5) and (Age_Mons <= 19.0) then class: 1 \n",
    "# if (A5 <= 0.5) and (A7 <= 0.5) and (A9 <= 0.5) and (A2 > 0.5) and (A8 <= 0.5) and (A6 > 0.5) and (A10 <= 0.5) then class: 0 \n",
    "# if (A5 > 0.5) and (A6 <= 0.5) and (A4 <= 0.5) and (A8 <= 0.5) and (A2 <= 0.5) and (Ethnicity > 4.0) and (Age_Mons <= 15.5) and (Jaundice <= 0.5) then class: 0 \n",
    "# if (A5 > 0.5) and (A6 <= 0.5) and (A4 <= 0.5) and (A8 <= 0.5) and (A2 > 0.5) and (A1 <= 0.5) and (A7 <= 0.5) then class: 0 \n",
    "# if (A5 <= 0.5) and (A7 > 0.5) and (A1 > 0.5) and (A6 <= 0.5) and (A2 <= 0.5) and (A8 <= 0.5) and (A3 > 0.5) then class: 1 \n",
    "# if (A5 <= 0.5) and (A7 <= 0.5) and (A9 <= 0.5) and (A2 > 0.5) and (A8 > 0.5) and (A10 <= 0.5) and (A3 <= 0.5) then class: 0 \n",
    "# if (A5 > 0.5) and (A6 <= 0.5) and (A4 <= 0.5) and (A8 <= 0.5) and (A2 <= 0.5) and (Ethnicity > 4.0) and (Age_Mons <= 15.5) and (Jaundice > 0.5) then class: 1 \n",
    "# if (A5 <= 0.5) and (A7 <= 0.5) and (A9 <= 0.5) and (A2 > 0.5) and (A8 <= 0.5) and (A6 <= 0.5) and (Ethnicity <= 3.0) and (A4 > 0.5) then class: 1 \n",
    "# if (A5 <= 0.5) and (A7 <= 0.5) and (A9 <= 0.5) and (A2 > 0.5) and (A8 <= 0.5) and (A6 <= 0.5) and (Ethnicity <= 3.0) and (A4 <= 0.5) then class: 0 \n",
    "# if (A5 > 0.5) and (A6 > 0.5) and (A9 <= 0.5) and (A1 <= 0.5) and (A8 <= 0.5) and (A4 <= 0.5) and (A10 > 0.5) then class: 1 \n",
    "# if (A5 > 0.5) and (A6 <= 0.5) and (A4 > 0.5) and (Age_Mons <= 13.0) and (A9 <= 0.5) then class: 0 \n",
    "# if (A5 <= 0.5) and (A7 <= 0.5) and (A9 > 0.5) and (A2 <= 0.5) and (A8 <= 0.5) and (A3 > 0.5) and (Age_Mons > 19.0) and (Sex <= 0.5) then class: 1 \n",
    "# if (A5 <= 0.5) and (A7 <= 0.5) and (A9 <= 0.5) and (A2 > 0.5) and (A8 > 0.5) and (A10 <= 0.5) and (A3 > 0.5) then class: 1 \n",
    "# if (A5 > 0.5) and (A6 <= 0.5) and (A4 <= 0.5) and (A8 <= 0.5) and (A2 <= 0.5) and (Ethnicity <= 4.0) then class: 1 \n",
    "# if (A5 <= 0.5) and (A7 > 0.5) and (A1 > 0.5) and (A6 > 0.5) and (Family_mem_with_ASD > 0.5) and (A2 <= 0.5) then class: 0 \n",
    "# if (A5 > 0.5) and (A6 <= 0.5) and (A4 <= 0.5) and (A8 > 0.5) and (Ethnicity <= 2.5) and (A2 <= 0.5) then class: 0 \n",
    "# if (A5 <= 0.5) and (A7 > 0.5) and (A1 <= 0.5) and (A4 <= 0.5) and (A8 > 0.5) and (A2 <= 0.5) and (A6 > 0.5) and (Age_Mons <= 18.0) then class: 0 \n",
    "# if (A5 <= 0.5) and (A7 > 0.5) and (A1 > 0.5) and (A6 <= 0.5) and (A2 > 0.5) and (Ethnicity <= 0.5) and (A10 <= 0.5) then class: 0 \n",
    "# if (A5 <= 0.5) and (A7 > 0.5) and (A1 <= 0.5) and (A4 > 0.5) and (A3 <= 0.5) and (A8 <= 0.5) and (A2 > 0.5) then class: 1 \n",
    "# if (A5 <= 0.5) and (A7 > 0.5) and (A1 <= 0.5) and (A4 > 0.5) and (A3 <= 0.5) and (A8 > 0.5) and (Ethnicity <= 2.5) then class: 0 \n",
    "# if (A5 > 0.5) and (A6 <= 0.5) and (A4 <= 0.5) and (A8 <= 0.5) and (A2 > 0.5) and (A1 <= 0.5) and (A7 > 0.5) then class: 1 "
   ]
  }
 ],
 "metadata": {
  "kernelspec": {
   "display_name": "Python 3",
   "language": "python",
   "name": "python3"
  },
  "language_info": {
   "codemirror_mode": {
    "name": "ipython",
    "version": 3
   },
   "file_extension": ".py",
   "mimetype": "text/x-python",
   "name": "python",
   "nbconvert_exporter": "python",
   "pygments_lexer": "ipython3",
   "version": "3.6.13"
  }
 },
 "nbformat": 4,
 "nbformat_minor": 4
}
